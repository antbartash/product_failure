{
  "cells": [
    {
      "cell_type": "markdown",
      "metadata": {
        "id": "view-in-github",
        "colab_type": "text"
      },
      "source": [
        "<a href=\"https://colab.research.google.com/github/antbartash/product_failure/blob/main/catboost.ipynb\" target=\"_parent\"><img src=\"https://colab.research.google.com/assets/colab-badge.svg\" alt=\"Open In Colab\"/></a>"
      ]
    },
    {
      "cell_type": "markdown",
      "metadata": {
        "id": "1doFq6Vkpv3C"
      },
      "source": [
        "# Loading libraries and data <br>\n",
        "Since CatBoost supports missing values for numerical features, we don't need to fill them ourselves. CatBoost requires missing values to be filled for categorical features, but the dataset contains missing values only for numerical features. Also decision trees are fine with not-scaled features and KNN is not needed, so StandardScaler won't be applied"
      ]
    },
    {
      "cell_type": "code",
      "source": [
        "# in case of catboost is not installed or the notebook is run on Google Colab\n",
        "# pip install catboost"
      ],
      "metadata": {
        "colab": {
          "base_uri": "https://localhost:8080/"
        },
        "id": "ZeXE_o0Bp2s_",
        "outputId": "9798ecdd-c913-4132-e8a4-2aa97b9b5e10"
      },
      "execution_count": 2,
      "outputs": [
        {
          "output_type": "stream",
          "name": "stdout",
          "text": [
            "Looking in indexes: https://pypi.org/simple, https://us-python.pkg.dev/colab-wheels/public/simple/\n",
            "Collecting catboost\n",
            "  Downloading catboost-1.0.6-cp37-none-manylinux1_x86_64.whl (76.6 MB)\n",
            "\u001b[K     |████████████████████████████████| 76.6 MB 80 kB/s \n",
            "\u001b[?25hRequirement already satisfied: scipy in /usr/local/lib/python3.7/dist-packages (from catboost) (1.7.3)\n",
            "Requirement already satisfied: six in /usr/local/lib/python3.7/dist-packages (from catboost) (1.15.0)\n",
            "Requirement already satisfied: plotly in /usr/local/lib/python3.7/dist-packages (from catboost) (5.5.0)\n",
            "Requirement already satisfied: numpy>=1.16.0 in /usr/local/lib/python3.7/dist-packages (from catboost) (1.21.6)\n",
            "Requirement already satisfied: matplotlib in /usr/local/lib/python3.7/dist-packages (from catboost) (3.2.2)\n",
            "Requirement already satisfied: pandas>=0.24.0 in /usr/local/lib/python3.7/dist-packages (from catboost) (1.3.5)\n",
            "Requirement already satisfied: graphviz in /usr/local/lib/python3.7/dist-packages (from catboost) (0.10.1)\n",
            "Requirement already satisfied: pytz>=2017.3 in /usr/local/lib/python3.7/dist-packages (from pandas>=0.24.0->catboost) (2022.2.1)\n",
            "Requirement already satisfied: python-dateutil>=2.7.3 in /usr/local/lib/python3.7/dist-packages (from pandas>=0.24.0->catboost) (2.8.2)\n",
            "Requirement already satisfied: pyparsing!=2.0.4,!=2.1.2,!=2.1.6,>=2.0.1 in /usr/local/lib/python3.7/dist-packages (from matplotlib->catboost) (3.0.9)\n",
            "Requirement already satisfied: cycler>=0.10 in /usr/local/lib/python3.7/dist-packages (from matplotlib->catboost) (0.11.0)\n",
            "Requirement already satisfied: kiwisolver>=1.0.1 in /usr/local/lib/python3.7/dist-packages (from matplotlib->catboost) (1.4.4)\n",
            "Requirement already satisfied: typing-extensions in /usr/local/lib/python3.7/dist-packages (from kiwisolver>=1.0.1->matplotlib->catboost) (4.1.1)\n",
            "Requirement already satisfied: tenacity>=6.2.0 in /usr/local/lib/python3.7/dist-packages (from plotly->catboost) (8.0.1)\n",
            "Installing collected packages: catboost\n",
            "Successfully installed catboost-1.0.6\n"
          ]
        }
      ]
    },
    {
      "cell_type": "code",
      "execution_count": 35,
      "metadata": {
        "id": "Eebc2VqNpv3M"
      },
      "outputs": [],
      "source": [
        "import numpy as np\n",
        "import pandas as pd\n",
        "import matplotlib.pyplot as plt\n",
        "from catboost import CatBoostClassifier, CatBoost\n",
        "from sklearn.model_selection import RandomizedSearchCV, GridSearchCV\n",
        "from sklearn.metrics import roc_auc_score\n",
        "from scipy.stats import uniform, randint"
      ]
    },
    {
      "cell_type": "code",
      "source": [
        "from google.colab import drive\n",
        "drive.mount('/content/drive')"
      ],
      "metadata": {
        "colab": {
          "base_uri": "https://localhost:8080/"
        },
        "id": "J2nx1NqXqFdB",
        "outputId": "4fce65a5-3158-4696-bb8c-ccf6d04ca3d8"
      },
      "execution_count": 4,
      "outputs": [
        {
          "output_type": "stream",
          "name": "stdout",
          "text": [
            "Mounted at /content/drive\n"
          ]
        }
      ]
    },
    {
      "cell_type": "code",
      "execution_count": 6,
      "metadata": {
        "id": "4oHNQLacpv3P"
      },
      "outputs": [],
      "source": [
        "X_train = pd.read_csv('drive/MyDrive/product_failure/data/X_train.csv', index_col=0)\n",
        "X_test = pd.read_csv('drive/MyDrive/product_failure/data/X_test.csv', index_col=0)\n",
        "y_train = pd.read_csv('drive/MyDrive/product_failure/data/y_train.csv', index_col=0)\n",
        "y_test = pd.read_csv('drive/MyDrive/product_failure/data/y_test.csv', index_col=0)"
      ]
    },
    {
      "cell_type": "markdown",
      "metadata": {
        "id": "uMKiW9dppv3Q"
      },
      "source": [
        "Check first 5 observations and data shapes to make sure that the data was read correctly"
      ]
    },
    {
      "cell_type": "code",
      "execution_count": 7,
      "metadata": {
        "colab": {
          "base_uri": "https://localhost:8080/",
          "height": 299
        },
        "id": "EtXQMdgUpv3R",
        "outputId": "1645744c-23b6-413b-d47d-f8e979528b50"
      },
      "outputs": [
        {
          "output_type": "execute_result",
          "data": {
            "text/plain": [
              "      product_code  loading attribute_0 attribute_1  attribute_2  attribute_3  \\\n",
              "1630             A   107.53  material_7  material_8            9            5   \n",
              "18030            D   128.99  material_7  material_5            6            6   \n",
              "26078            E   128.33  material_7  material_6            6            9   \n",
              "19823            D   125.21  material_7  material_5            6            6   \n",
              "15788            C   106.12  material_7  material_8            5            8   \n",
              "\n",
              "       measurement_0  measurement_1  measurement_2  measurement_3  ...  \\\n",
              "1630              16              2              4            NaN  ...   \n",
              "18030              3              9              5         17.242  ...   \n",
              "26078              4             16              5         16.094  ...   \n",
              "19823             11              9              6         16.677  ...   \n",
              "15788              5              6              6         16.963  ...   \n",
              "\n",
              "       measurement_11  measurement_12  measurement_13  measurement_14  \\\n",
              "1630           18.014          14.962          16.743          14.487   \n",
              "18030          18.873          11.384          15.002             NaN   \n",
              "26078          19.696          10.480          15.294          16.715   \n",
              "19823          21.130          13.625          15.095          15.394   \n",
              "15788          17.362          10.523          15.199          17.476   \n",
              "\n",
              "       measurement_15  measurement_16  measurement_17  measurement_0_grouped  \\\n",
              "1630           14.351          15.737         705.885           (13.0, 29.0]   \n",
              "18030          19.237             NaN         841.809          (-0.001, 3.0]   \n",
              "26078          15.292          15.861         632.835             (3.0, 4.0]   \n",
              "19823          12.846          19.156         643.322            (9.0, 11.0]   \n",
              "15788             NaN          15.472         545.206             (4.0, 5.0]   \n",
              "\n",
              "       measurement_1_grouped  measurement_2_grouped  \n",
              "1630           (-0.001, 4.0]             (3.0, 4.0]  \n",
              "18030             (7.0, 9.0]             (4.0, 5.0]  \n",
              "26078           (13.0, 29.0]             (4.0, 5.0]  \n",
              "19823             (7.0, 9.0]             (5.0, 6.0]  \n",
              "15788             (4.0, 6.0]             (5.0, 6.0]  \n",
              "\n",
              "[5 rows x 27 columns]"
            ],
            "text/html": [
              "\n",
              "  <div id=\"df-ddc4436d-7524-45be-b2e1-216a45d91aaa\">\n",
              "    <div class=\"colab-df-container\">\n",
              "      <div>\n",
              "<style scoped>\n",
              "    .dataframe tbody tr th:only-of-type {\n",
              "        vertical-align: middle;\n",
              "    }\n",
              "\n",
              "    .dataframe tbody tr th {\n",
              "        vertical-align: top;\n",
              "    }\n",
              "\n",
              "    .dataframe thead th {\n",
              "        text-align: right;\n",
              "    }\n",
              "</style>\n",
              "<table border=\"1\" class=\"dataframe\">\n",
              "  <thead>\n",
              "    <tr style=\"text-align: right;\">\n",
              "      <th></th>\n",
              "      <th>product_code</th>\n",
              "      <th>loading</th>\n",
              "      <th>attribute_0</th>\n",
              "      <th>attribute_1</th>\n",
              "      <th>attribute_2</th>\n",
              "      <th>attribute_3</th>\n",
              "      <th>measurement_0</th>\n",
              "      <th>measurement_1</th>\n",
              "      <th>measurement_2</th>\n",
              "      <th>measurement_3</th>\n",
              "      <th>...</th>\n",
              "      <th>measurement_11</th>\n",
              "      <th>measurement_12</th>\n",
              "      <th>measurement_13</th>\n",
              "      <th>measurement_14</th>\n",
              "      <th>measurement_15</th>\n",
              "      <th>measurement_16</th>\n",
              "      <th>measurement_17</th>\n",
              "      <th>measurement_0_grouped</th>\n",
              "      <th>measurement_1_grouped</th>\n",
              "      <th>measurement_2_grouped</th>\n",
              "    </tr>\n",
              "  </thead>\n",
              "  <tbody>\n",
              "    <tr>\n",
              "      <th>1630</th>\n",
              "      <td>A</td>\n",
              "      <td>107.53</td>\n",
              "      <td>material_7</td>\n",
              "      <td>material_8</td>\n",
              "      <td>9</td>\n",
              "      <td>5</td>\n",
              "      <td>16</td>\n",
              "      <td>2</td>\n",
              "      <td>4</td>\n",
              "      <td>NaN</td>\n",
              "      <td>...</td>\n",
              "      <td>18.014</td>\n",
              "      <td>14.962</td>\n",
              "      <td>16.743</td>\n",
              "      <td>14.487</td>\n",
              "      <td>14.351</td>\n",
              "      <td>15.737</td>\n",
              "      <td>705.885</td>\n",
              "      <td>(13.0, 29.0]</td>\n",
              "      <td>(-0.001, 4.0]</td>\n",
              "      <td>(3.0, 4.0]</td>\n",
              "    </tr>\n",
              "    <tr>\n",
              "      <th>18030</th>\n",
              "      <td>D</td>\n",
              "      <td>128.99</td>\n",
              "      <td>material_7</td>\n",
              "      <td>material_5</td>\n",
              "      <td>6</td>\n",
              "      <td>6</td>\n",
              "      <td>3</td>\n",
              "      <td>9</td>\n",
              "      <td>5</td>\n",
              "      <td>17.242</td>\n",
              "      <td>...</td>\n",
              "      <td>18.873</td>\n",
              "      <td>11.384</td>\n",
              "      <td>15.002</td>\n",
              "      <td>NaN</td>\n",
              "      <td>19.237</td>\n",
              "      <td>NaN</td>\n",
              "      <td>841.809</td>\n",
              "      <td>(-0.001, 3.0]</td>\n",
              "      <td>(7.0, 9.0]</td>\n",
              "      <td>(4.0, 5.0]</td>\n",
              "    </tr>\n",
              "    <tr>\n",
              "      <th>26078</th>\n",
              "      <td>E</td>\n",
              "      <td>128.33</td>\n",
              "      <td>material_7</td>\n",
              "      <td>material_6</td>\n",
              "      <td>6</td>\n",
              "      <td>9</td>\n",
              "      <td>4</td>\n",
              "      <td>16</td>\n",
              "      <td>5</td>\n",
              "      <td>16.094</td>\n",
              "      <td>...</td>\n",
              "      <td>19.696</td>\n",
              "      <td>10.480</td>\n",
              "      <td>15.294</td>\n",
              "      <td>16.715</td>\n",
              "      <td>15.292</td>\n",
              "      <td>15.861</td>\n",
              "      <td>632.835</td>\n",
              "      <td>(3.0, 4.0]</td>\n",
              "      <td>(13.0, 29.0]</td>\n",
              "      <td>(4.0, 5.0]</td>\n",
              "    </tr>\n",
              "    <tr>\n",
              "      <th>19823</th>\n",
              "      <td>D</td>\n",
              "      <td>125.21</td>\n",
              "      <td>material_7</td>\n",
              "      <td>material_5</td>\n",
              "      <td>6</td>\n",
              "      <td>6</td>\n",
              "      <td>11</td>\n",
              "      <td>9</td>\n",
              "      <td>6</td>\n",
              "      <td>16.677</td>\n",
              "      <td>...</td>\n",
              "      <td>21.130</td>\n",
              "      <td>13.625</td>\n",
              "      <td>15.095</td>\n",
              "      <td>15.394</td>\n",
              "      <td>12.846</td>\n",
              "      <td>19.156</td>\n",
              "      <td>643.322</td>\n",
              "      <td>(9.0, 11.0]</td>\n",
              "      <td>(7.0, 9.0]</td>\n",
              "      <td>(5.0, 6.0]</td>\n",
              "    </tr>\n",
              "    <tr>\n",
              "      <th>15788</th>\n",
              "      <td>C</td>\n",
              "      <td>106.12</td>\n",
              "      <td>material_7</td>\n",
              "      <td>material_8</td>\n",
              "      <td>5</td>\n",
              "      <td>8</td>\n",
              "      <td>5</td>\n",
              "      <td>6</td>\n",
              "      <td>6</td>\n",
              "      <td>16.963</td>\n",
              "      <td>...</td>\n",
              "      <td>17.362</td>\n",
              "      <td>10.523</td>\n",
              "      <td>15.199</td>\n",
              "      <td>17.476</td>\n",
              "      <td>NaN</td>\n",
              "      <td>15.472</td>\n",
              "      <td>545.206</td>\n",
              "      <td>(4.0, 5.0]</td>\n",
              "      <td>(4.0, 6.0]</td>\n",
              "      <td>(5.0, 6.0]</td>\n",
              "    </tr>\n",
              "  </tbody>\n",
              "</table>\n",
              "<p>5 rows × 27 columns</p>\n",
              "</div>\n",
              "      <button class=\"colab-df-convert\" onclick=\"convertToInteractive('df-ddc4436d-7524-45be-b2e1-216a45d91aaa')\"\n",
              "              title=\"Convert this dataframe to an interactive table.\"\n",
              "              style=\"display:none;\">\n",
              "        \n",
              "  <svg xmlns=\"http://www.w3.org/2000/svg\" height=\"24px\"viewBox=\"0 0 24 24\"\n",
              "       width=\"24px\">\n",
              "    <path d=\"M0 0h24v24H0V0z\" fill=\"none\"/>\n",
              "    <path d=\"M18.56 5.44l.94 2.06.94-2.06 2.06-.94-2.06-.94-.94-2.06-.94 2.06-2.06.94zm-11 1L8.5 8.5l.94-2.06 2.06-.94-2.06-.94L8.5 2.5l-.94 2.06-2.06.94zm10 10l.94 2.06.94-2.06 2.06-.94-2.06-.94-.94-2.06-.94 2.06-2.06.94z\"/><path d=\"M17.41 7.96l-1.37-1.37c-.4-.4-.92-.59-1.43-.59-.52 0-1.04.2-1.43.59L10.3 9.45l-7.72 7.72c-.78.78-.78 2.05 0 2.83L4 21.41c.39.39.9.59 1.41.59.51 0 1.02-.2 1.41-.59l7.78-7.78 2.81-2.81c.8-.78.8-2.07 0-2.86zM5.41 20L4 18.59l7.72-7.72 1.47 1.35L5.41 20z\"/>\n",
              "  </svg>\n",
              "      </button>\n",
              "      \n",
              "  <style>\n",
              "    .colab-df-container {\n",
              "      display:flex;\n",
              "      flex-wrap:wrap;\n",
              "      gap: 12px;\n",
              "    }\n",
              "\n",
              "    .colab-df-convert {\n",
              "      background-color: #E8F0FE;\n",
              "      border: none;\n",
              "      border-radius: 50%;\n",
              "      cursor: pointer;\n",
              "      display: none;\n",
              "      fill: #1967D2;\n",
              "      height: 32px;\n",
              "      padding: 0 0 0 0;\n",
              "      width: 32px;\n",
              "    }\n",
              "\n",
              "    .colab-df-convert:hover {\n",
              "      background-color: #E2EBFA;\n",
              "      box-shadow: 0px 1px 2px rgba(60, 64, 67, 0.3), 0px 1px 3px 1px rgba(60, 64, 67, 0.15);\n",
              "      fill: #174EA6;\n",
              "    }\n",
              "\n",
              "    [theme=dark] .colab-df-convert {\n",
              "      background-color: #3B4455;\n",
              "      fill: #D2E3FC;\n",
              "    }\n",
              "\n",
              "    [theme=dark] .colab-df-convert:hover {\n",
              "      background-color: #434B5C;\n",
              "      box-shadow: 0px 1px 3px 1px rgba(0, 0, 0, 0.15);\n",
              "      filter: drop-shadow(0px 1px 2px rgba(0, 0, 0, 0.3));\n",
              "      fill: #FFFFFF;\n",
              "    }\n",
              "  </style>\n",
              "\n",
              "      <script>\n",
              "        const buttonEl =\n",
              "          document.querySelector('#df-ddc4436d-7524-45be-b2e1-216a45d91aaa button.colab-df-convert');\n",
              "        buttonEl.style.display =\n",
              "          google.colab.kernel.accessAllowed ? 'block' : 'none';\n",
              "\n",
              "        async function convertToInteractive(key) {\n",
              "          const element = document.querySelector('#df-ddc4436d-7524-45be-b2e1-216a45d91aaa');\n",
              "          const dataTable =\n",
              "            await google.colab.kernel.invokeFunction('convertToInteractive',\n",
              "                                                     [key], {});\n",
              "          if (!dataTable) return;\n",
              "\n",
              "          const docLinkHtml = 'Like what you see? Visit the ' +\n",
              "            '<a target=\"_blank\" href=https://colab.research.google.com/notebooks/data_table.ipynb>data table notebook</a>'\n",
              "            + ' to learn more about interactive tables.';\n",
              "          element.innerHTML = '';\n",
              "          dataTable['output_type'] = 'display_data';\n",
              "          await google.colab.output.renderOutput(dataTable, element);\n",
              "          const docLink = document.createElement('div');\n",
              "          docLink.innerHTML = docLinkHtml;\n",
              "          element.appendChild(docLink);\n",
              "        }\n",
              "      </script>\n",
              "    </div>\n",
              "  </div>\n",
              "  "
            ]
          },
          "metadata": {},
          "execution_count": 7
        }
      ],
      "source": [
        "X_train.head()"
      ]
    },
    {
      "cell_type": "code",
      "execution_count": 8,
      "metadata": {
        "colab": {
          "base_uri": "https://localhost:8080/"
        },
        "id": "pmLsYvNbpv3T",
        "outputId": "b4494b9d-520d-4c49-9b26-5fd4b3464354"
      },
      "outputs": [
        {
          "output_type": "stream",
          "name": "stdout",
          "text": [
            "X_train.shape:  (19927, 27)\n",
            "y_train.shape:  (19927, 1)\n",
            "X_test.shape:  (6643, 27)\n",
            "y_test.shape: (6643, 1)\n"
          ]
        }
      ],
      "source": [
        "print(\"X_train.shape: \", X_train.shape)\n",
        "print(\"y_train.shape: \", y_train.shape)\n",
        "print(\"X_test.shape: \", X_test.shape)\n",
        "print(\"y_test.shape:\", y_test.shape)"
      ]
    },
    {
      "cell_type": "code",
      "execution_count": 9,
      "metadata": {
        "colab": {
          "base_uri": "https://localhost:8080/"
        },
        "id": "oCJRyFJgpv3U",
        "outputId": "4c7194e7-52a9-4ba8-b0fd-01347b5ef784"
      },
      "outputs": [
        {
          "output_type": "stream",
          "name": "stdout",
          "text": [
            "y_train.shape:  (19927,)\n",
            "y_test.shape: (6643,)\n"
          ]
        }
      ],
      "source": [
        "y_train = np.ravel(y_train)\n",
        "y_test = np.ravel(y_test)\n",
        "\n",
        "print(\"y_train.shape: \", y_train.shape)\n",
        "print(\"y_test.shape:\", y_test.shape)"
      ]
    },
    {
      "cell_type": "markdown",
      "metadata": {
        "id": "PiL0Mt0Xpv3W"
      },
      "source": [
        "# Baseline model <br>\n",
        "Build a baseline CatBoost model and evaluate its performance on train and test sets. For performance evaluation AUC and logloss will be used"
      ]
    },
    {
      "cell_type": "code",
      "execution_count": 33,
      "metadata": {
        "id": "DRt1L58Jpv3Y"
      },
      "outputs": [],
      "source": [
        "# index of categorical features for a CatBoost model\n",
        "cat_features_index = [0, 2, 3, 4, 5, 24, 25, 26]"
      ]
    },
    {
      "cell_type": "code",
      "execution_count": null,
      "metadata": {
        "colab": {
          "referenced_widgets": [
            "dcbbca57b6644296b426b2a7db434fc1"
          ]
        },
        "id": "Ie0uIp-epv3Z",
        "outputId": "e4583959-b8c9-4f84-eb94-0bc15860e0ec"
      },
      "outputs": [
        {
          "data": {
            "application/vnd.jupyter.widget-view+json": {
              "model_id": "dcbbca57b6644296b426b2a7db434fc1",
              "version_major": 2,
              "version_minor": 0
            },
            "text/plain": [
              "MetricVisualizer(layout=Layout(align_self='stretch', height='500px'))"
            ]
          },
          "metadata": {},
          "output_type": "display_data"
        },
        {
          "name": "stdout",
          "output_type": "stream",
          "text": [
            "Learning rate set to 0.066355\n",
            "0:\tlearn: 0.6678232\ttest: 0.6680307\tbest: 0.6680307 (0)\ttotal: 295ms\tremaining: 4m 54s\n",
            "100:\tlearn: 0.4966931\ttest: 0.5091784\tbest: 0.5090023 (68)\ttotal: 12.1s\tremaining: 1m 47s\n",
            "200:\tlearn: 0.4761336\ttest: 0.5094809\tbest: 0.5089225 (122)\ttotal: 25s\tremaining: 1m 39s\n",
            "Stopped by overfitting detector  (100 iterations wait)\n",
            "\n",
            "bestTest = 0.5089224834\n",
            "bestIteration = 122\n",
            "\n",
            "Shrink model to first 123 iterations.\n"
          ]
        },
        {
          "data": {
            "text/plain": [
              "<catboost.core.CatBoostClassifier at 0x20ea40f39d0>"
            ]
          },
          "execution_count": 7,
          "metadata": {},
          "output_type": "execute_result"
        }
      ],
      "source": [
        "model_baseline = CatBoostClassifier(iterations=1000, custom_metric='AUC',\n",
        "                                    random_state=42)\n",
        "model_baseline.fit(X_train, y_train, cat_features=cat_features_index,\n",
        "                   early_stopping_rounds=100, eval_set=(X_test, y_test),\n",
        "                   verbose=100, plot=True)"
      ]
    },
    {
      "cell_type": "markdown",
      "source": [
        "![image.png](data:image/png;base64,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)"
      ],
      "metadata": {
        "id": "tHxwcLrYqi2g"
      }
    },
    {
      "cell_type": "markdown",
      "metadata": {
        "id": "oJsr5Y5Npv3b"
      },
      "source": [
        "Based on the result above, we can conclude that for the default values of model parameters, AUC achives the maximum for the test set at the 50th iteration, and starts to fall after that. To tune parameters values catboost randomized_search() method will be used"
      ]
    },
    {
      "cell_type": "markdown",
      "metadata": {
        "id": "ZlMB3_V_pv3c"
      },
      "source": [
        "# Tuning parameters values <br>"
      ]
    },
    {
      "cell_type": "markdown",
      "metadata": {
        "id": "U2n53SW2pv3c"
      },
      "source": [
        "Round 1"
      ]
    },
    {
      "cell_type": "code",
      "execution_count": 36,
      "metadata": {
        "id": "Co2xKYMxpv3d"
      },
      "outputs": [],
      "source": [
        "model = CatBoostClassifier(cat_features=cat_features_index,\n",
        "                           eval_metric='AUC:hints=skip_train~false',\n",
        "                           custom_metric='AUC:hints=skip_train~false', \n",
        "                           early_stopping_rounds=250,\n",
        "                           random_state=42,\n",
        "                           verbose=False)"
      ]
    },
    {
      "cell_type": "code",
      "execution_count": 39,
      "metadata": {
        "colab": {
          "base_uri": "https://localhost:8080/",
          "height": 1000
        },
        "id": "DrGZCTXBpv3d",
        "outputId": "673257ff-d8b7-4863-8c33-eb3d8edbd27e"
      },
      "outputs": [
        {
          "output_type": "stream",
          "name": "stdout",
          "text": [
            "Fitting 5 folds for each of 200 candidates, totalling 1000 fits\n",
            "[CV] END bagging_temperature=3, depth=8, iterations=910, l2_leaf_reg=10, random_strength=7; total time= 1.1min\n",
            "[CV] END bagging_temperature=3, depth=8, iterations=910, l2_leaf_reg=10, random_strength=7; total time=  59.0s\n",
            "[CV] END bagging_temperature=3, depth=8, iterations=910, l2_leaf_reg=10, random_strength=7; total time=  59.3s\n",
            "[CV] END bagging_temperature=3, depth=8, iterations=910, l2_leaf_reg=10, random_strength=7; total time= 1.0min\n",
            "[CV] END bagging_temperature=3, depth=8, iterations=910, l2_leaf_reg=10, random_strength=7; total time=  57.1s\n",
            "[CV] END bagging_temperature=5, depth=10, iterations=70, l2_leaf_reg=10, random_strength=3; total time=   6.8s\n",
            "[CV] END bagging_temperature=5, depth=10, iterations=70, l2_leaf_reg=10, random_strength=3; total time=   6.2s\n",
            "[CV] END bagging_temperature=5, depth=10, iterations=70, l2_leaf_reg=10, random_strength=3; total time=   5.7s\n",
            "[CV] END bagging_temperature=5, depth=10, iterations=70, l2_leaf_reg=10, random_strength=3; total time=   5.6s\n",
            "[CV] END bagging_temperature=5, depth=10, iterations=70, l2_leaf_reg=10, random_strength=3; total time=   5.6s\n",
            "[CV] END bagging_temperature=3, depth=6, iterations=508, l2_leaf_reg=15, random_strength=0; total time=  23.0s\n",
            "[CV] END bagging_temperature=3, depth=6, iterations=508, l2_leaf_reg=15, random_strength=0; total time=  21.2s\n",
            "[CV] END bagging_temperature=3, depth=6, iterations=508, l2_leaf_reg=15, random_strength=0; total time=  23.1s\n",
            "[CV] END bagging_temperature=3, depth=6, iterations=508, l2_leaf_reg=15, random_strength=0; total time=  23.3s\n",
            "[CV] END bagging_temperature=3, depth=6, iterations=508, l2_leaf_reg=15, random_strength=0; total time=  20.7s\n",
            "[CV] END bagging_temperature=5, depth=6, iterations=711, l2_leaf_reg=0, random_strength=3; total time=  25.8s\n",
            "[CV] END bagging_temperature=5, depth=6, iterations=711, l2_leaf_reg=0, random_strength=3; total time=  25.1s\n",
            "[CV] END bagging_temperature=5, depth=6, iterations=711, l2_leaf_reg=0, random_strength=3; total time=  26.3s\n",
            "[CV] END bagging_temperature=5, depth=6, iterations=711, l2_leaf_reg=0, random_strength=3; total time=  25.0s\n",
            "[CV] END bagging_temperature=5, depth=6, iterations=711, l2_leaf_reg=0, random_strength=3; total time=  25.3s\n",
            "[CV] END bagging_temperature=5, depth=8, iterations=463, l2_leaf_reg=5, random_strength=3; total time=  26.2s\n",
            "[CV] END bagging_temperature=5, depth=8, iterations=463, l2_leaf_reg=5, random_strength=3; total time=  26.4s\n",
            "[CV] END bagging_temperature=5, depth=8, iterations=463, l2_leaf_reg=5, random_strength=3; total time=  25.4s\n",
            "[CV] END bagging_temperature=5, depth=8, iterations=463, l2_leaf_reg=5, random_strength=3; total time=  26.4s\n",
            "[CV] END bagging_temperature=5, depth=8, iterations=463, l2_leaf_reg=5, random_strength=3; total time=  26.5s\n",
            "[CV] END bagging_temperature=5, depth=8, iterations=326, l2_leaf_reg=0, random_strength=10; total time=  12.7s\n",
            "[CV] END bagging_temperature=5, depth=8, iterations=326, l2_leaf_reg=0, random_strength=10; total time=  11.8s\n",
            "[CV] END bagging_temperature=5, depth=8, iterations=326, l2_leaf_reg=0, random_strength=10; total time=  11.3s\n",
            "[CV] END bagging_temperature=5, depth=8, iterations=326, l2_leaf_reg=0, random_strength=10; total time=  11.1s\n",
            "[CV] END bagging_temperature=5, depth=8, iterations=326, l2_leaf_reg=0, random_strength=10; total time=  10.3s\n",
            "[CV] END bagging_temperature=1, depth=10, iterations=797, l2_leaf_reg=0, random_strength=0; total time= 2.1min\n",
            "[CV] END bagging_temperature=1, depth=10, iterations=797, l2_leaf_reg=0, random_strength=0; total time= 2.0min\n",
            "[CV] END bagging_temperature=1, depth=10, iterations=797, l2_leaf_reg=0, random_strength=0; total time= 2.0min\n",
            "[CV] END bagging_temperature=1, depth=10, iterations=797, l2_leaf_reg=0, random_strength=0; total time= 2.0min\n",
            "[CV] END bagging_temperature=1, depth=10, iterations=797, l2_leaf_reg=0, random_strength=0; total time= 2.0min\n",
            "[CV] END bagging_temperature=3, depth=6, iterations=560, l2_leaf_reg=5, random_strength=10; total time=  18.2s\n",
            "[CV] END bagging_temperature=3, depth=6, iterations=560, l2_leaf_reg=5, random_strength=10; total time=  17.8s\n",
            "[CV] END bagging_temperature=3, depth=6, iterations=560, l2_leaf_reg=5, random_strength=10; total time=  17.3s\n",
            "[CV] END bagging_temperature=3, depth=6, iterations=560, l2_leaf_reg=5, random_strength=10; total time=  16.6s\n",
            "[CV] END bagging_temperature=3, depth=6, iterations=560, l2_leaf_reg=5, random_strength=10; total time=  16.7s\n",
            "[CV] END bagging_temperature=5, depth=8, iterations=832, l2_leaf_reg=5, random_strength=3; total time=  59.3s\n",
            "[CV] END bagging_temperature=5, depth=8, iterations=832, l2_leaf_reg=5, random_strength=3; total time=  59.3s\n",
            "[CV] END bagging_temperature=5, depth=8, iterations=832, l2_leaf_reg=5, random_strength=3; total time=  57.1s\n",
            "[CV] END bagging_temperature=5, depth=8, iterations=832, l2_leaf_reg=5, random_strength=3; total time=  58.5s\n",
            "[CV] END bagging_temperature=5, depth=8, iterations=832, l2_leaf_reg=5, random_strength=3; total time=  57.7s\n",
            "[CV] END bagging_temperature=3, depth=6, iterations=925, l2_leaf_reg=10, random_strength=10; total time=  32.0s\n",
            "[CV] END bagging_temperature=3, depth=6, iterations=925, l2_leaf_reg=10, random_strength=10; total time=  32.3s\n",
            "[CV] END bagging_temperature=3, depth=6, iterations=925, l2_leaf_reg=10, random_strength=10; total time=  33.4s\n",
            "[CV] END bagging_temperature=3, depth=6, iterations=925, l2_leaf_reg=10, random_strength=10; total time=  34.9s\n",
            "[CV] END bagging_temperature=3, depth=6, iterations=925, l2_leaf_reg=10, random_strength=10; total time=  31.4s\n",
            "[CV] END bagging_temperature=5, depth=1, iterations=180, l2_leaf_reg=0, random_strength=7; total time=   1.8s\n",
            "[CV] END bagging_temperature=5, depth=1, iterations=180, l2_leaf_reg=0, random_strength=7; total time=   1.8s\n",
            "[CV] END bagging_temperature=5, depth=1, iterations=180, l2_leaf_reg=0, random_strength=7; total time=   1.8s\n",
            "[CV] END bagging_temperature=5, depth=1, iterations=180, l2_leaf_reg=0, random_strength=7; total time=   1.9s\n",
            "[CV] END bagging_temperature=5, depth=1, iterations=180, l2_leaf_reg=0, random_strength=7; total time=   1.9s\n",
            "[CV] END bagging_temperature=3, depth=10, iterations=890, l2_leaf_reg=10, random_strength=3; total time= 1.8min\n",
            "[CV] END bagging_temperature=3, depth=10, iterations=890, l2_leaf_reg=10, random_strength=3; total time= 1.8min\n",
            "[CV] END bagging_temperature=3, depth=10, iterations=890, l2_leaf_reg=10, random_strength=3; total time= 1.8min\n",
            "[CV] END bagging_temperature=3, depth=10, iterations=890, l2_leaf_reg=10, random_strength=3; total time= 1.7min\n",
            "[CV] END bagging_temperature=3, depth=10, iterations=890, l2_leaf_reg=10, random_strength=3; total time= 1.8min\n",
            "[CV] END bagging_temperature=5, depth=1, iterations=365, l2_leaf_reg=5, random_strength=3; total time=   3.7s\n",
            "[CV] END bagging_temperature=5, depth=1, iterations=365, l2_leaf_reg=5, random_strength=3; total time=   3.6s\n",
            "[CV] END bagging_temperature=5, depth=1, iterations=365, l2_leaf_reg=5, random_strength=3; total time=   3.7s\n",
            "[CV] END bagging_temperature=5, depth=1, iterations=365, l2_leaf_reg=5, random_strength=3; total time=   3.7s\n",
            "[CV] END bagging_temperature=5, depth=1, iterations=365, l2_leaf_reg=5, random_strength=3; total time=   3.7s\n",
            "[CV] END bagging_temperature=1, depth=1, iterations=395, l2_leaf_reg=0, random_strength=3; total time=   3.9s\n",
            "[CV] END bagging_temperature=1, depth=1, iterations=395, l2_leaf_reg=0, random_strength=3; total time=   3.9s\n",
            "[CV] END bagging_temperature=1, depth=1, iterations=395, l2_leaf_reg=0, random_strength=3; total time=   3.9s\n",
            "[CV] END bagging_temperature=1, depth=1, iterations=395, l2_leaf_reg=0, random_strength=3; total time=   3.8s\n",
            "[CV] END bagging_temperature=1, depth=1, iterations=395, l2_leaf_reg=0, random_strength=3; total time=   3.9s\n",
            "[CV] END bagging_temperature=5, depth=8, iterations=416, l2_leaf_reg=15, random_strength=7; total time=  18.5s\n",
            "[CV] END bagging_temperature=5, depth=8, iterations=416, l2_leaf_reg=15, random_strength=7; total time=  19.9s\n",
            "[CV] END bagging_temperature=5, depth=8, iterations=416, l2_leaf_reg=15, random_strength=7; total time=  18.9s\n",
            "[CV] END bagging_temperature=5, depth=8, iterations=416, l2_leaf_reg=15, random_strength=7; total time=  16.5s\n",
            "[CV] END bagging_temperature=5, depth=8, iterations=416, l2_leaf_reg=15, random_strength=7; total time=  19.7s\n",
            "[CV] END bagging_temperature=5, depth=10, iterations=825, l2_leaf_reg=10, random_strength=7; total time= 1.4min\n",
            "[CV] END bagging_temperature=5, depth=10, iterations=825, l2_leaf_reg=10, random_strength=7; total time= 1.5min\n"
          ]
        },
        {
          "output_type": "error",
          "ename": "KeyboardInterrupt",
          "evalue": "ignored",
          "traceback": [
            "\u001b[0;31m---------------------------------------------------------------------------\u001b[0m",
            "\u001b[0;31mKeyboardInterrupt\u001b[0m                         Traceback (most recent call last)",
            "\u001b[0;32m<ipython-input-39-d1b97300bbd8>\u001b[0m in \u001b[0;36m<module>\u001b[0;34m\u001b[0m\n\u001b[1;32m     10\u001b[0m                          \u001b[0mcv\u001b[0m\u001b[0;34m=\u001b[0m\u001b[0;36m5\u001b[0m\u001b[0;34m,\u001b[0m \u001b[0mn_iter\u001b[0m\u001b[0;34m=\u001b[0m\u001b[0;36m200\u001b[0m\u001b[0;34m,\u001b[0m\u001b[0;34m\u001b[0m\u001b[0;34m\u001b[0m\u001b[0m\n\u001b[1;32m     11\u001b[0m                          random_state=42, verbose=2)\n\u001b[0;32m---> 12\u001b[0;31m \u001b[0mclf\u001b[0m\u001b[0;34m.\u001b[0m\u001b[0mfit\u001b[0m\u001b[0;34m(\u001b[0m\u001b[0mX_train\u001b[0m\u001b[0;34m,\u001b[0m \u001b[0my_train\u001b[0m\u001b[0;34m)\u001b[0m\u001b[0;34m\u001b[0m\u001b[0;34m\u001b[0m\u001b[0m\n\u001b[0m\u001b[1;32m     13\u001b[0m \u001b[0;34m\u001b[0m\u001b[0m\n",
            "\u001b[0;32m/usr/local/lib/python3.7/dist-packages/sklearn/model_selection/_search.py\u001b[0m in \u001b[0;36mfit\u001b[0;34m(self, X, y, groups, **fit_params)\u001b[0m\n\u001b[1;32m    889\u001b[0m                 \u001b[0;32mreturn\u001b[0m \u001b[0mresults\u001b[0m\u001b[0;34m\u001b[0m\u001b[0;34m\u001b[0m\u001b[0m\n\u001b[1;32m    890\u001b[0m \u001b[0;34m\u001b[0m\u001b[0m\n\u001b[0;32m--> 891\u001b[0;31m             \u001b[0mself\u001b[0m\u001b[0;34m.\u001b[0m\u001b[0m_run_search\u001b[0m\u001b[0;34m(\u001b[0m\u001b[0mevaluate_candidates\u001b[0m\u001b[0;34m)\u001b[0m\u001b[0;34m\u001b[0m\u001b[0;34m\u001b[0m\u001b[0m\n\u001b[0m\u001b[1;32m    892\u001b[0m \u001b[0;34m\u001b[0m\u001b[0m\n\u001b[1;32m    893\u001b[0m             \u001b[0;31m# multimetric is determined here because in the case of a callable\u001b[0m\u001b[0;34m\u001b[0m\u001b[0;34m\u001b[0m\u001b[0;34m\u001b[0m\u001b[0m\n",
            "\u001b[0;32m/usr/local/lib/python3.7/dist-packages/sklearn/model_selection/_search.py\u001b[0m in \u001b[0;36m_run_search\u001b[0;34m(self, evaluate_candidates)\u001b[0m\n\u001b[1;32m   1766\u001b[0m         evaluate_candidates(\n\u001b[1;32m   1767\u001b[0m             ParameterSampler(\n\u001b[0;32m-> 1768\u001b[0;31m                 \u001b[0mself\u001b[0m\u001b[0;34m.\u001b[0m\u001b[0mparam_distributions\u001b[0m\u001b[0;34m,\u001b[0m \u001b[0mself\u001b[0m\u001b[0;34m.\u001b[0m\u001b[0mn_iter\u001b[0m\u001b[0;34m,\u001b[0m \u001b[0mrandom_state\u001b[0m\u001b[0;34m=\u001b[0m\u001b[0mself\u001b[0m\u001b[0;34m.\u001b[0m\u001b[0mrandom_state\u001b[0m\u001b[0;34m\u001b[0m\u001b[0;34m\u001b[0m\u001b[0m\n\u001b[0m\u001b[1;32m   1769\u001b[0m             )\n\u001b[1;32m   1770\u001b[0m         )\n",
            "\u001b[0;32m/usr/local/lib/python3.7/dist-packages/sklearn/model_selection/_search.py\u001b[0m in \u001b[0;36mevaluate_candidates\u001b[0;34m(candidate_params, cv, more_results)\u001b[0m\n\u001b[1;32m    849\u001b[0m                     )\n\u001b[1;32m    850\u001b[0m                     for (cand_idx, parameters), (split_idx, (train, test)) in product(\n\u001b[0;32m--> 851\u001b[0;31m                         \u001b[0menumerate\u001b[0m\u001b[0;34m(\u001b[0m\u001b[0mcandidate_params\u001b[0m\u001b[0;34m)\u001b[0m\u001b[0;34m,\u001b[0m \u001b[0menumerate\u001b[0m\u001b[0;34m(\u001b[0m\u001b[0mcv\u001b[0m\u001b[0;34m.\u001b[0m\u001b[0msplit\u001b[0m\u001b[0;34m(\u001b[0m\u001b[0mX\u001b[0m\u001b[0;34m,\u001b[0m \u001b[0my\u001b[0m\u001b[0;34m,\u001b[0m \u001b[0mgroups\u001b[0m\u001b[0;34m)\u001b[0m\u001b[0;34m)\u001b[0m\u001b[0;34m\u001b[0m\u001b[0;34m\u001b[0m\u001b[0m\n\u001b[0m\u001b[1;32m    852\u001b[0m                     )\n\u001b[1;32m    853\u001b[0m                 )\n",
            "\u001b[0;32m/usr/local/lib/python3.7/dist-packages/joblib/parallel.py\u001b[0m in \u001b[0;36m__call__\u001b[0;34m(self, iterable)\u001b[0m\n\u001b[1;32m   1044\u001b[0m                 \u001b[0mself\u001b[0m\u001b[0;34m.\u001b[0m\u001b[0m_iterating\u001b[0m \u001b[0;34m=\u001b[0m \u001b[0mself\u001b[0m\u001b[0;34m.\u001b[0m\u001b[0m_original_iterator\u001b[0m \u001b[0;32mis\u001b[0m \u001b[0;32mnot\u001b[0m \u001b[0;32mNone\u001b[0m\u001b[0;34m\u001b[0m\u001b[0;34m\u001b[0m\u001b[0m\n\u001b[1;32m   1045\u001b[0m \u001b[0;34m\u001b[0m\u001b[0m\n\u001b[0;32m-> 1046\u001b[0;31m             \u001b[0;32mwhile\u001b[0m \u001b[0mself\u001b[0m\u001b[0;34m.\u001b[0m\u001b[0mdispatch_one_batch\u001b[0m\u001b[0;34m(\u001b[0m\u001b[0miterator\u001b[0m\u001b[0;34m)\u001b[0m\u001b[0;34m:\u001b[0m\u001b[0;34m\u001b[0m\u001b[0;34m\u001b[0m\u001b[0m\n\u001b[0m\u001b[1;32m   1047\u001b[0m                 \u001b[0;32mpass\u001b[0m\u001b[0;34m\u001b[0m\u001b[0;34m\u001b[0m\u001b[0m\n\u001b[1;32m   1048\u001b[0m \u001b[0;34m\u001b[0m\u001b[0m\n",
            "\u001b[0;32m/usr/local/lib/python3.7/dist-packages/joblib/parallel.py\u001b[0m in \u001b[0;36mdispatch_one_batch\u001b[0;34m(self, iterator)\u001b[0m\n\u001b[1;32m    859\u001b[0m                 \u001b[0;32mreturn\u001b[0m \u001b[0;32mFalse\u001b[0m\u001b[0;34m\u001b[0m\u001b[0;34m\u001b[0m\u001b[0m\n\u001b[1;32m    860\u001b[0m             \u001b[0;32melse\u001b[0m\u001b[0;34m:\u001b[0m\u001b[0;34m\u001b[0m\u001b[0;34m\u001b[0m\u001b[0m\n\u001b[0;32m--> 861\u001b[0;31m                 \u001b[0mself\u001b[0m\u001b[0;34m.\u001b[0m\u001b[0m_dispatch\u001b[0m\u001b[0;34m(\u001b[0m\u001b[0mtasks\u001b[0m\u001b[0;34m)\u001b[0m\u001b[0;34m\u001b[0m\u001b[0;34m\u001b[0m\u001b[0m\n\u001b[0m\u001b[1;32m    862\u001b[0m                 \u001b[0;32mreturn\u001b[0m \u001b[0;32mTrue\u001b[0m\u001b[0;34m\u001b[0m\u001b[0;34m\u001b[0m\u001b[0m\n\u001b[1;32m    863\u001b[0m \u001b[0;34m\u001b[0m\u001b[0m\n",
            "\u001b[0;32m/usr/local/lib/python3.7/dist-packages/joblib/parallel.py\u001b[0m in \u001b[0;36m_dispatch\u001b[0;34m(self, batch)\u001b[0m\n\u001b[1;32m    777\u001b[0m         \u001b[0;32mwith\u001b[0m \u001b[0mself\u001b[0m\u001b[0;34m.\u001b[0m\u001b[0m_lock\u001b[0m\u001b[0;34m:\u001b[0m\u001b[0;34m\u001b[0m\u001b[0;34m\u001b[0m\u001b[0m\n\u001b[1;32m    778\u001b[0m             \u001b[0mjob_idx\u001b[0m \u001b[0;34m=\u001b[0m \u001b[0mlen\u001b[0m\u001b[0;34m(\u001b[0m\u001b[0mself\u001b[0m\u001b[0;34m.\u001b[0m\u001b[0m_jobs\u001b[0m\u001b[0;34m)\u001b[0m\u001b[0;34m\u001b[0m\u001b[0;34m\u001b[0m\u001b[0m\n\u001b[0;32m--> 779\u001b[0;31m             \u001b[0mjob\u001b[0m \u001b[0;34m=\u001b[0m \u001b[0mself\u001b[0m\u001b[0;34m.\u001b[0m\u001b[0m_backend\u001b[0m\u001b[0;34m.\u001b[0m\u001b[0mapply_async\u001b[0m\u001b[0;34m(\u001b[0m\u001b[0mbatch\u001b[0m\u001b[0;34m,\u001b[0m \u001b[0mcallback\u001b[0m\u001b[0;34m=\u001b[0m\u001b[0mcb\u001b[0m\u001b[0;34m)\u001b[0m\u001b[0;34m\u001b[0m\u001b[0;34m\u001b[0m\u001b[0m\n\u001b[0m\u001b[1;32m    780\u001b[0m             \u001b[0;31m# A job can complete so quickly than its callback is\u001b[0m\u001b[0;34m\u001b[0m\u001b[0;34m\u001b[0m\u001b[0;34m\u001b[0m\u001b[0m\n\u001b[1;32m    781\u001b[0m             \u001b[0;31m# called before we get here, causing self._jobs to\u001b[0m\u001b[0;34m\u001b[0m\u001b[0;34m\u001b[0m\u001b[0;34m\u001b[0m\u001b[0m\n",
            "\u001b[0;32m/usr/local/lib/python3.7/dist-packages/joblib/_parallel_backends.py\u001b[0m in \u001b[0;36mapply_async\u001b[0;34m(self, func, callback)\u001b[0m\n\u001b[1;32m    206\u001b[0m     \u001b[0;32mdef\u001b[0m \u001b[0mapply_async\u001b[0m\u001b[0;34m(\u001b[0m\u001b[0mself\u001b[0m\u001b[0;34m,\u001b[0m \u001b[0mfunc\u001b[0m\u001b[0;34m,\u001b[0m \u001b[0mcallback\u001b[0m\u001b[0;34m=\u001b[0m\u001b[0;32mNone\u001b[0m\u001b[0;34m)\u001b[0m\u001b[0;34m:\u001b[0m\u001b[0;34m\u001b[0m\u001b[0;34m\u001b[0m\u001b[0m\n\u001b[1;32m    207\u001b[0m         \u001b[0;34m\"\"\"Schedule a func to be run\"\"\"\u001b[0m\u001b[0;34m\u001b[0m\u001b[0;34m\u001b[0m\u001b[0m\n\u001b[0;32m--> 208\u001b[0;31m         \u001b[0mresult\u001b[0m \u001b[0;34m=\u001b[0m \u001b[0mImmediateResult\u001b[0m\u001b[0;34m(\u001b[0m\u001b[0mfunc\u001b[0m\u001b[0;34m)\u001b[0m\u001b[0;34m\u001b[0m\u001b[0;34m\u001b[0m\u001b[0m\n\u001b[0m\u001b[1;32m    209\u001b[0m         \u001b[0;32mif\u001b[0m \u001b[0mcallback\u001b[0m\u001b[0;34m:\u001b[0m\u001b[0;34m\u001b[0m\u001b[0;34m\u001b[0m\u001b[0m\n\u001b[1;32m    210\u001b[0m             \u001b[0mcallback\u001b[0m\u001b[0;34m(\u001b[0m\u001b[0mresult\u001b[0m\u001b[0;34m)\u001b[0m\u001b[0;34m\u001b[0m\u001b[0;34m\u001b[0m\u001b[0m\n",
            "\u001b[0;32m/usr/local/lib/python3.7/dist-packages/joblib/_parallel_backends.py\u001b[0m in \u001b[0;36m__init__\u001b[0;34m(self, batch)\u001b[0m\n\u001b[1;32m    570\u001b[0m         \u001b[0;31m# Don't delay the application, to avoid keeping the input\u001b[0m\u001b[0;34m\u001b[0m\u001b[0;34m\u001b[0m\u001b[0;34m\u001b[0m\u001b[0m\n\u001b[1;32m    571\u001b[0m         \u001b[0;31m# arguments in memory\u001b[0m\u001b[0;34m\u001b[0m\u001b[0;34m\u001b[0m\u001b[0;34m\u001b[0m\u001b[0m\n\u001b[0;32m--> 572\u001b[0;31m         \u001b[0mself\u001b[0m\u001b[0;34m.\u001b[0m\u001b[0mresults\u001b[0m \u001b[0;34m=\u001b[0m \u001b[0mbatch\u001b[0m\u001b[0;34m(\u001b[0m\u001b[0;34m)\u001b[0m\u001b[0;34m\u001b[0m\u001b[0;34m\u001b[0m\u001b[0m\n\u001b[0m\u001b[1;32m    573\u001b[0m \u001b[0;34m\u001b[0m\u001b[0m\n\u001b[1;32m    574\u001b[0m     \u001b[0;32mdef\u001b[0m \u001b[0mget\u001b[0m\u001b[0;34m(\u001b[0m\u001b[0mself\u001b[0m\u001b[0;34m)\u001b[0m\u001b[0;34m:\u001b[0m\u001b[0;34m\u001b[0m\u001b[0;34m\u001b[0m\u001b[0m\n",
            "\u001b[0;32m/usr/local/lib/python3.7/dist-packages/joblib/parallel.py\u001b[0m in \u001b[0;36m__call__\u001b[0;34m(self)\u001b[0m\n\u001b[1;32m    261\u001b[0m         \u001b[0;32mwith\u001b[0m \u001b[0mparallel_backend\u001b[0m\u001b[0;34m(\u001b[0m\u001b[0mself\u001b[0m\u001b[0;34m.\u001b[0m\u001b[0m_backend\u001b[0m\u001b[0;34m,\u001b[0m \u001b[0mn_jobs\u001b[0m\u001b[0;34m=\u001b[0m\u001b[0mself\u001b[0m\u001b[0;34m.\u001b[0m\u001b[0m_n_jobs\u001b[0m\u001b[0;34m)\u001b[0m\u001b[0;34m:\u001b[0m\u001b[0;34m\u001b[0m\u001b[0;34m\u001b[0m\u001b[0m\n\u001b[1;32m    262\u001b[0m             return [func(*args, **kwargs)\n\u001b[0;32m--> 263\u001b[0;31m                     for func, args, kwargs in self.items]\n\u001b[0m\u001b[1;32m    264\u001b[0m \u001b[0;34m\u001b[0m\u001b[0m\n\u001b[1;32m    265\u001b[0m     \u001b[0;32mdef\u001b[0m \u001b[0m__reduce__\u001b[0m\u001b[0;34m(\u001b[0m\u001b[0mself\u001b[0m\u001b[0;34m)\u001b[0m\u001b[0;34m:\u001b[0m\u001b[0;34m\u001b[0m\u001b[0;34m\u001b[0m\u001b[0m\n",
            "\u001b[0;32m/usr/local/lib/python3.7/dist-packages/joblib/parallel.py\u001b[0m in \u001b[0;36m<listcomp>\u001b[0;34m(.0)\u001b[0m\n\u001b[1;32m    261\u001b[0m         \u001b[0;32mwith\u001b[0m \u001b[0mparallel_backend\u001b[0m\u001b[0;34m(\u001b[0m\u001b[0mself\u001b[0m\u001b[0;34m.\u001b[0m\u001b[0m_backend\u001b[0m\u001b[0;34m,\u001b[0m \u001b[0mn_jobs\u001b[0m\u001b[0;34m=\u001b[0m\u001b[0mself\u001b[0m\u001b[0;34m.\u001b[0m\u001b[0m_n_jobs\u001b[0m\u001b[0;34m)\u001b[0m\u001b[0;34m:\u001b[0m\u001b[0;34m\u001b[0m\u001b[0;34m\u001b[0m\u001b[0m\n\u001b[1;32m    262\u001b[0m             return [func(*args, **kwargs)\n\u001b[0;32m--> 263\u001b[0;31m                     for func, args, kwargs in self.items]\n\u001b[0m\u001b[1;32m    264\u001b[0m \u001b[0;34m\u001b[0m\u001b[0m\n\u001b[1;32m    265\u001b[0m     \u001b[0;32mdef\u001b[0m \u001b[0m__reduce__\u001b[0m\u001b[0;34m(\u001b[0m\u001b[0mself\u001b[0m\u001b[0;34m)\u001b[0m\u001b[0;34m:\u001b[0m\u001b[0;34m\u001b[0m\u001b[0;34m\u001b[0m\u001b[0m\n",
            "\u001b[0;32m/usr/local/lib/python3.7/dist-packages/sklearn/utils/fixes.py\u001b[0m in \u001b[0;36m__call__\u001b[0;34m(self, *args, **kwargs)\u001b[0m\n\u001b[1;32m    214\u001b[0m     \u001b[0;32mdef\u001b[0m \u001b[0m__call__\u001b[0m\u001b[0;34m(\u001b[0m\u001b[0mself\u001b[0m\u001b[0;34m,\u001b[0m \u001b[0;34m*\u001b[0m\u001b[0margs\u001b[0m\u001b[0;34m,\u001b[0m \u001b[0;34m**\u001b[0m\u001b[0mkwargs\u001b[0m\u001b[0;34m)\u001b[0m\u001b[0;34m:\u001b[0m\u001b[0;34m\u001b[0m\u001b[0;34m\u001b[0m\u001b[0m\n\u001b[1;32m    215\u001b[0m         \u001b[0;32mwith\u001b[0m \u001b[0mconfig_context\u001b[0m\u001b[0;34m(\u001b[0m\u001b[0;34m**\u001b[0m\u001b[0mself\u001b[0m\u001b[0;34m.\u001b[0m\u001b[0mconfig\u001b[0m\u001b[0;34m)\u001b[0m\u001b[0;34m:\u001b[0m\u001b[0;34m\u001b[0m\u001b[0;34m\u001b[0m\u001b[0m\n\u001b[0;32m--> 216\u001b[0;31m             \u001b[0;32mreturn\u001b[0m \u001b[0mself\u001b[0m\u001b[0;34m.\u001b[0m\u001b[0mfunction\u001b[0m\u001b[0;34m(\u001b[0m\u001b[0;34m*\u001b[0m\u001b[0margs\u001b[0m\u001b[0;34m,\u001b[0m \u001b[0;34m**\u001b[0m\u001b[0mkwargs\u001b[0m\u001b[0;34m)\u001b[0m\u001b[0;34m\u001b[0m\u001b[0;34m\u001b[0m\u001b[0m\n\u001b[0m\u001b[1;32m    217\u001b[0m \u001b[0;34m\u001b[0m\u001b[0m\n\u001b[1;32m    218\u001b[0m \u001b[0;34m\u001b[0m\u001b[0m\n",
            "\u001b[0;32m/usr/local/lib/python3.7/dist-packages/sklearn/model_selection/_validation.py\u001b[0m in \u001b[0;36m_fit_and_score\u001b[0;34m(estimator, X, y, scorer, train, test, verbose, parameters, fit_params, return_train_score, return_parameters, return_n_test_samples, return_times, return_estimator, split_progress, candidate_progress, error_score)\u001b[0m\n\u001b[1;32m    678\u001b[0m             \u001b[0mestimator\u001b[0m\u001b[0;34m.\u001b[0m\u001b[0mfit\u001b[0m\u001b[0;34m(\u001b[0m\u001b[0mX_train\u001b[0m\u001b[0;34m,\u001b[0m \u001b[0;34m**\u001b[0m\u001b[0mfit_params\u001b[0m\u001b[0;34m)\u001b[0m\u001b[0;34m\u001b[0m\u001b[0;34m\u001b[0m\u001b[0m\n\u001b[1;32m    679\u001b[0m         \u001b[0;32melse\u001b[0m\u001b[0;34m:\u001b[0m\u001b[0;34m\u001b[0m\u001b[0;34m\u001b[0m\u001b[0m\n\u001b[0;32m--> 680\u001b[0;31m             \u001b[0mestimator\u001b[0m\u001b[0;34m.\u001b[0m\u001b[0mfit\u001b[0m\u001b[0;34m(\u001b[0m\u001b[0mX_train\u001b[0m\u001b[0;34m,\u001b[0m \u001b[0my_train\u001b[0m\u001b[0;34m,\u001b[0m \u001b[0;34m**\u001b[0m\u001b[0mfit_params\u001b[0m\u001b[0;34m)\u001b[0m\u001b[0;34m\u001b[0m\u001b[0;34m\u001b[0m\u001b[0m\n\u001b[0m\u001b[1;32m    681\u001b[0m \u001b[0;34m\u001b[0m\u001b[0m\n\u001b[1;32m    682\u001b[0m     \u001b[0;32mexcept\u001b[0m \u001b[0mException\u001b[0m\u001b[0;34m:\u001b[0m\u001b[0;34m\u001b[0m\u001b[0;34m\u001b[0m\u001b[0m\n",
            "\u001b[0;32m/usr/local/lib/python3.7/dist-packages/catboost/core.py\u001b[0m in \u001b[0;36mfit\u001b[0;34m(self, X, y, cat_features, text_features, embedding_features, sample_weight, baseline, use_best_model, eval_set, verbose, logging_level, plot, column_description, verbose_eval, metric_period, silent, early_stopping_rounds, save_snapshot, snapshot_file, snapshot_interval, init_model, callbacks, log_cout, log_cerr)\u001b[0m\n\u001b[1;32m   5007\u001b[0m         self._fit(X, y, cat_features, text_features, embedding_features, None, sample_weight, None, None, None, None, baseline, use_best_model,\n\u001b[1;32m   5008\u001b[0m                   \u001b[0meval_set\u001b[0m\u001b[0;34m,\u001b[0m \u001b[0mverbose\u001b[0m\u001b[0;34m,\u001b[0m \u001b[0mlogging_level\u001b[0m\u001b[0;34m,\u001b[0m \u001b[0mplot\u001b[0m\u001b[0;34m,\u001b[0m \u001b[0mcolumn_description\u001b[0m\u001b[0;34m,\u001b[0m \u001b[0mverbose_eval\u001b[0m\u001b[0;34m,\u001b[0m \u001b[0mmetric_period\u001b[0m\u001b[0;34m,\u001b[0m\u001b[0;34m\u001b[0m\u001b[0;34m\u001b[0m\u001b[0m\n\u001b[0;32m-> 5009\u001b[0;31m                   silent, early_stopping_rounds, save_snapshot, snapshot_file, snapshot_interval, init_model, callbacks, log_cout, log_cerr)\n\u001b[0m\u001b[1;32m   5010\u001b[0m         \u001b[0;32mreturn\u001b[0m \u001b[0mself\u001b[0m\u001b[0;34m\u001b[0m\u001b[0;34m\u001b[0m\u001b[0m\n\u001b[1;32m   5011\u001b[0m \u001b[0;34m\u001b[0m\u001b[0m\n",
            "\u001b[0;32m/usr/local/lib/python3.7/dist-packages/catboost/core.py\u001b[0m in \u001b[0;36m_fit\u001b[0;34m(self, X, y, cat_features, text_features, embedding_features, pairs, sample_weight, group_id, group_weight, subgroup_id, pairs_weight, baseline, use_best_model, eval_set, verbose, logging_level, plot, column_description, verbose_eval, metric_period, silent, early_stopping_rounds, save_snapshot, snapshot_file, snapshot_interval, init_model, callbacks, log_cout, log_cerr)\u001b[0m\n\u001b[1;32m   2281\u001b[0m                 \u001b[0mparams\u001b[0m\u001b[0;34m,\u001b[0m\u001b[0;34m\u001b[0m\u001b[0;34m\u001b[0m\u001b[0m\n\u001b[1;32m   2282\u001b[0m                 \u001b[0mallow_clear_pool\u001b[0m\u001b[0;34m,\u001b[0m\u001b[0;34m\u001b[0m\u001b[0;34m\u001b[0m\u001b[0m\n\u001b[0;32m-> 2283\u001b[0;31m                 \u001b[0mtrain_params\u001b[0m\u001b[0;34m[\u001b[0m\u001b[0;34m\"init_model\"\u001b[0m\u001b[0;34m]\u001b[0m\u001b[0;34m\u001b[0m\u001b[0;34m\u001b[0m\u001b[0m\n\u001b[0m\u001b[1;32m   2284\u001b[0m             )\n\u001b[1;32m   2285\u001b[0m \u001b[0;34m\u001b[0m\u001b[0m\n",
            "\u001b[0;32m/usr/local/lib/python3.7/dist-packages/catboost/core.py\u001b[0m in \u001b[0;36m_train\u001b[0;34m(self, train_pool, test_pool, params, allow_clear_pool, init_model)\u001b[0m\n\u001b[1;32m   1703\u001b[0m \u001b[0;34m\u001b[0m\u001b[0m\n\u001b[1;32m   1704\u001b[0m     \u001b[0;32mdef\u001b[0m \u001b[0m_train\u001b[0m\u001b[0;34m(\u001b[0m\u001b[0mself\u001b[0m\u001b[0;34m,\u001b[0m \u001b[0mtrain_pool\u001b[0m\u001b[0;34m,\u001b[0m \u001b[0mtest_pool\u001b[0m\u001b[0;34m,\u001b[0m \u001b[0mparams\u001b[0m\u001b[0;34m,\u001b[0m \u001b[0mallow_clear_pool\u001b[0m\u001b[0;34m,\u001b[0m \u001b[0minit_model\u001b[0m\u001b[0;34m)\u001b[0m\u001b[0;34m:\u001b[0m\u001b[0;34m\u001b[0m\u001b[0;34m\u001b[0m\u001b[0m\n\u001b[0;32m-> 1705\u001b[0;31m         \u001b[0mself\u001b[0m\u001b[0;34m.\u001b[0m\u001b[0m_object\u001b[0m\u001b[0;34m.\u001b[0m\u001b[0m_train\u001b[0m\u001b[0;34m(\u001b[0m\u001b[0mtrain_pool\u001b[0m\u001b[0;34m,\u001b[0m \u001b[0mtest_pool\u001b[0m\u001b[0;34m,\u001b[0m \u001b[0mparams\u001b[0m\u001b[0;34m,\u001b[0m \u001b[0mallow_clear_pool\u001b[0m\u001b[0;34m,\u001b[0m \u001b[0minit_model\u001b[0m\u001b[0;34m.\u001b[0m\u001b[0m_object\u001b[0m \u001b[0;32mif\u001b[0m \u001b[0minit_model\u001b[0m \u001b[0;32melse\u001b[0m \u001b[0;32mNone\u001b[0m\u001b[0;34m)\u001b[0m\u001b[0;34m\u001b[0m\u001b[0;34m\u001b[0m\u001b[0m\n\u001b[0m\u001b[1;32m   1706\u001b[0m         \u001b[0mself\u001b[0m\u001b[0;34m.\u001b[0m\u001b[0m_set_trained_model_attributes\u001b[0m\u001b[0;34m(\u001b[0m\u001b[0;34m)\u001b[0m\u001b[0;34m\u001b[0m\u001b[0;34m\u001b[0m\u001b[0m\n\u001b[1;32m   1707\u001b[0m \u001b[0;34m\u001b[0m\u001b[0m\n",
            "\u001b[0;32m_catboost.pyx\u001b[0m in \u001b[0;36m_catboost._CatBoost._train\u001b[0;34m()\u001b[0m\n",
            "\u001b[0;32m_catboost.pyx\u001b[0m in \u001b[0;36m_catboost._CatBoost._train\u001b[0;34m()\u001b[0m\n",
            "\u001b[0;31mKeyboardInterrupt\u001b[0m: "
          ]
        }
      ],
      "source": [
        "distr = {\n",
        "    'iterations': randint(50, 1000),\n",
        "    'depth': [1, 4, 6, 8, 10],\n",
        "    'l2_leaf_reg': [0, 5, 10, 15],\n",
        "    'random_strength': [0, 3, 7, 10],\n",
        "    'bagging_temperature': [0, 1, 3, 5]\n",
        "}\n",
        "\n",
        "clf = RandomizedSearchCV(model, distr, scoring='roc_auc',\n",
        "                         cv=5, n_iter=200,\n",
        "                         random_state=42, verbose=2)\n",
        "clf.fit(X_train, y_train)"
      ]
    },
    {
      "cell_type": "code",
      "execution_count": null,
      "metadata": {
        "id": "RvabD0ijpv3e",
        "outputId": "8855a897-d0bf-47aa-e855-9240b9aa3b27"
      },
      "outputs": [
        {
          "data": {
            "text/plain": [
              "{'bagging_temperature': 0,\n",
              " 'random_strength': 3,\n",
              " 'depth': 6,\n",
              " 'l2_leaf_reg': 5,\n",
              " 'learning_rate': 0.18330239291193462,\n",
              " 'iterations': 773.0}"
            ]
          },
          "execution_count": 17,
          "metadata": {},
          "output_type": "execute_result"
        }
      ],
      "source": [
        "search_results['params']"
      ]
    },
    {
      "cell_type": "code",
      "source": [
        ""
      ],
      "metadata": {
        "id": "sj8uH0GKIgWl"
      },
      "execution_count": null,
      "outputs": []
    }
  ],
  "metadata": {
    "kernelspec": {
      "display_name": "Python 3.9.7 ('base')",
      "language": "python",
      "name": "python3"
    },
    "language_info": {
      "codemirror_mode": {
        "name": "ipython",
        "version": 3
      },
      "file_extension": ".py",
      "mimetype": "text/x-python",
      "name": "python",
      "nbconvert_exporter": "python",
      "pygments_lexer": "ipython3",
      "version": "3.9.7"
    },
    "orig_nbformat": 4,
    "vscode": {
      "interpreter": {
        "hash": "717c13e09df9089ce02dd018825478f9268d1582be70d5672c549121a9bc5491"
      }
    },
    "colab": {
      "name": "catboost.ipynb",
      "provenance": [],
      "collapsed_sections": [],
      "toc_visible": true,
      "include_colab_link": true
    },
    "widgets": {
      "application/vnd.jupyter.widget-state+json": {}
    }
  },
  "nbformat": 4,
  "nbformat_minor": 0
}