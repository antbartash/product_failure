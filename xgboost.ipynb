{
  "cells": [
    {
      "cell_type": "markdown",
      "metadata": {
        "id": "view-in-github",
        "colab_type": "text"
      },
      "source": [
        "<a href=\"https://colab.research.google.com/github/antbartash/product_failure/blob/main/xgboost.ipynb\" target=\"_parent\"><img src=\"https://colab.research.google.com/assets/colab-badge.svg\" alt=\"Open In Colab\"/></a>"
      ]
    },
    {
      "cell_type": "markdown",
      "metadata": {
        "id": "ZaF1t2mMYzd0"
      },
      "source": [
        "# Loading libraries and data <br>\n",
        "Since xgboost supports missing values, we don't need to fill them ourselves. Also decision trees are fine with not-scaled features and KNN is not needed, so StandardScaler won't be applied"
      ]
    },
    {
      "cell_type": "code",
      "execution_count": 2,
      "metadata": {
        "id": "Gk8nm1JuYzeD"
      },
      "outputs": [],
      "source": [
        "import numpy as np\n",
        "import pandas as pd\n",
        "import matplotlib.pyplot as plt\n",
        "from xgboost import XGBClassifier\n",
        "from sklearn.model_selection import GridSearchCV, RandomizedSearchCV\n",
        "from sklearn.metrics import roc_auc_score\n",
        "from scipy.stats import uniform"
      ]
    },
    {
      "cell_type": "code",
      "source": [
        "from google.colab import drive\n",
        "drive.mount('/content/drive')"
      ],
      "metadata": {
        "colab": {
          "base_uri": "https://localhost:8080/"
        },
        "id": "J9ulyWyQY7Dv",
        "outputId": "83c96bd7-dfe3-4c60-fd1b-a0bd2a21059a"
      },
      "execution_count": 3,
      "outputs": [
        {
          "output_type": "stream",
          "name": "stdout",
          "text": [
            "Mounted at /content/drive\n"
          ]
        }
      ]
    },
    {
      "cell_type": "code",
      "execution_count": 4,
      "metadata": {
        "id": "_WePKGkdYzeH"
      },
      "outputs": [],
      "source": [
        "X_train_dummies = pd.read_csv('drive/MyDrive/product_failure/data/X_train_dummies.csv', index_col=0)\n",
        "X_test_dummies = pd.read_csv('drive/MyDrive/product_failure/data/X_test_dummies.csv', index_col=0)\n",
        "y_train = pd.read_csv('drive/MyDrive/product_failure/data/y_train.csv', index_col=0)\n",
        "y_test = pd.read_csv('drive/MyDrive/product_failure/data/y_test.csv', index_col=0)\n",
        "\n",
        "X_train_dummies = X_train_dummies.astype(np.float32)\n",
        "X_test_dummies = X_test_dummies.astype(np.float32)"
      ]
    },
    {
      "cell_type": "markdown",
      "metadata": {
        "id": "UaFA2pdSYzeJ"
      },
      "source": [
        "Check first 5 observations and data shapes to make sure that the data was read correctly"
      ]
    },
    {
      "cell_type": "code",
      "execution_count": 5,
      "metadata": {
        "colab": {
          "base_uri": "https://localhost:8080/",
          "height": 317
        },
        "id": "_iZEIw7LYzeK",
        "outputId": "bd7da1ee-c55e-49c9-ab8f-7ee4cdcd3929"
      },
      "outputs": [
        {
          "output_type": "execute_result",
          "data": {
            "text/plain": [
              "          loading  measurement_0  measurement_1  measurement_2  measurement_3  \\\n",
              "1630   107.529999           16.0            2.0            4.0            NaN   \n",
              "18030  128.990005            3.0            9.0            5.0      17.242001   \n",
              "26078  128.330002            4.0           16.0            5.0      16.094000   \n",
              "19823  125.209999           11.0            9.0            6.0      16.677000   \n",
              "15788  106.120003            5.0            6.0            6.0      16.962999   \n",
              "\n",
              "       measurement_4  measurement_5  measurement_6  measurement_7  \\\n",
              "1630          11.714      16.813999      17.490000         11.654   \n",
              "18030         11.003      18.827000      18.099001         11.600   \n",
              "26078         12.303      15.482000      17.219000         13.163   \n",
              "19823         12.402      17.490999      16.756001         10.988   \n",
              "15788         11.773      15.789000      17.518999         11.808   \n",
              "\n",
              "       measurement_8  ...  measurement_2_grouped_(-0.001, 2.0]  \\\n",
              "1630       19.361000  ...                                  0.0   \n",
              "18030      18.962999  ...                                  0.0   \n",
              "26078      19.337999  ...                                  0.0   \n",
              "19823      19.947001  ...                                  0.0   \n",
              "15788      18.009001  ...                                  0.0   \n",
              "\n",
              "       measurement_2_grouped_(2.0, 3.0]  measurement_2_grouped_(3.0, 4.0]  \\\n",
              "1630                                0.0                               1.0   \n",
              "18030                               0.0                               0.0   \n",
              "26078                               0.0                               0.0   \n",
              "19823                               0.0                               0.0   \n",
              "15788                               0.0                               0.0   \n",
              "\n",
              "       measurement_2_grouped_(4.0, 5.0]  measurement_2_grouped_(5.0, 6.0]  \\\n",
              "1630                                0.0                               0.0   \n",
              "18030                               1.0                               0.0   \n",
              "26078                               1.0                               0.0   \n",
              "19823                               0.0                               1.0   \n",
              "15788                               0.0                               1.0   \n",
              "\n",
              "       measurement_2_grouped_(6.0, 7.0]  measurement_2_grouped_(7.0, 8.0]  \\\n",
              "1630                                0.0                               0.0   \n",
              "18030                               0.0                               0.0   \n",
              "26078                               0.0                               0.0   \n",
              "19823                               0.0                               0.0   \n",
              "15788                               0.0                               0.0   \n",
              "\n",
              "       measurement_2_grouped_(8.0, 9.0]  measurement_2_grouped_(9.0, 11.0]  \\\n",
              "1630                                0.0                                0.0   \n",
              "18030                               0.0                                0.0   \n",
              "26078                               0.0                                0.0   \n",
              "19823                               0.0                                0.0   \n",
              "15788                               0.0                                0.0   \n",
              "\n",
              "       measurement_2_grouped_(11.0, 24.0]  \n",
              "1630                                  0.0  \n",
              "18030                                 0.0  \n",
              "26078                                 0.0  \n",
              "19823                                 0.0  \n",
              "15788                                 0.0  \n",
              "\n",
              "[5 rows x 64 columns]"
            ],
            "text/html": [
              "\n",
              "  <div id=\"df-c9878787-a464-4e34-b212-860122a13820\">\n",
              "    <div class=\"colab-df-container\">\n",
              "      <div>\n",
              "<style scoped>\n",
              "    .dataframe tbody tr th:only-of-type {\n",
              "        vertical-align: middle;\n",
              "    }\n",
              "\n",
              "    .dataframe tbody tr th {\n",
              "        vertical-align: top;\n",
              "    }\n",
              "\n",
              "    .dataframe thead th {\n",
              "        text-align: right;\n",
              "    }\n",
              "</style>\n",
              "<table border=\"1\" class=\"dataframe\">\n",
              "  <thead>\n",
              "    <tr style=\"text-align: right;\">\n",
              "      <th></th>\n",
              "      <th>loading</th>\n",
              "      <th>measurement_0</th>\n",
              "      <th>measurement_1</th>\n",
              "      <th>measurement_2</th>\n",
              "      <th>measurement_3</th>\n",
              "      <th>measurement_4</th>\n",
              "      <th>measurement_5</th>\n",
              "      <th>measurement_6</th>\n",
              "      <th>measurement_7</th>\n",
              "      <th>measurement_8</th>\n",
              "      <th>...</th>\n",
              "      <th>measurement_2_grouped_(-0.001, 2.0]</th>\n",
              "      <th>measurement_2_grouped_(2.0, 3.0]</th>\n",
              "      <th>measurement_2_grouped_(3.0, 4.0]</th>\n",
              "      <th>measurement_2_grouped_(4.0, 5.0]</th>\n",
              "      <th>measurement_2_grouped_(5.0, 6.0]</th>\n",
              "      <th>measurement_2_grouped_(6.0, 7.0]</th>\n",
              "      <th>measurement_2_grouped_(7.0, 8.0]</th>\n",
              "      <th>measurement_2_grouped_(8.0, 9.0]</th>\n",
              "      <th>measurement_2_grouped_(9.0, 11.0]</th>\n",
              "      <th>measurement_2_grouped_(11.0, 24.0]</th>\n",
              "    </tr>\n",
              "  </thead>\n",
              "  <tbody>\n",
              "    <tr>\n",
              "      <th>1630</th>\n",
              "      <td>107.529999</td>\n",
              "      <td>16.0</td>\n",
              "      <td>2.0</td>\n",
              "      <td>4.0</td>\n",
              "      <td>NaN</td>\n",
              "      <td>11.714</td>\n",
              "      <td>16.813999</td>\n",
              "      <td>17.490000</td>\n",
              "      <td>11.654</td>\n",
              "      <td>19.361000</td>\n",
              "      <td>...</td>\n",
              "      <td>0.0</td>\n",
              "      <td>0.0</td>\n",
              "      <td>1.0</td>\n",
              "      <td>0.0</td>\n",
              "      <td>0.0</td>\n",
              "      <td>0.0</td>\n",
              "      <td>0.0</td>\n",
              "      <td>0.0</td>\n",
              "      <td>0.0</td>\n",
              "      <td>0.0</td>\n",
              "    </tr>\n",
              "    <tr>\n",
              "      <th>18030</th>\n",
              "      <td>128.990005</td>\n",
              "      <td>3.0</td>\n",
              "      <td>9.0</td>\n",
              "      <td>5.0</td>\n",
              "      <td>17.242001</td>\n",
              "      <td>11.003</td>\n",
              "      <td>18.827000</td>\n",
              "      <td>18.099001</td>\n",
              "      <td>11.600</td>\n",
              "      <td>18.962999</td>\n",
              "      <td>...</td>\n",
              "      <td>0.0</td>\n",
              "      <td>0.0</td>\n",
              "      <td>0.0</td>\n",
              "      <td>1.0</td>\n",
              "      <td>0.0</td>\n",
              "      <td>0.0</td>\n",
              "      <td>0.0</td>\n",
              "      <td>0.0</td>\n",
              "      <td>0.0</td>\n",
              "      <td>0.0</td>\n",
              "    </tr>\n",
              "    <tr>\n",
              "      <th>26078</th>\n",
              "      <td>128.330002</td>\n",
              "      <td>4.0</td>\n",
              "      <td>16.0</td>\n",
              "      <td>5.0</td>\n",
              "      <td>16.094000</td>\n",
              "      <td>12.303</td>\n",
              "      <td>15.482000</td>\n",
              "      <td>17.219000</td>\n",
              "      <td>13.163</td>\n",
              "      <td>19.337999</td>\n",
              "      <td>...</td>\n",
              "      <td>0.0</td>\n",
              "      <td>0.0</td>\n",
              "      <td>0.0</td>\n",
              "      <td>1.0</td>\n",
              "      <td>0.0</td>\n",
              "      <td>0.0</td>\n",
              "      <td>0.0</td>\n",
              "      <td>0.0</td>\n",
              "      <td>0.0</td>\n",
              "      <td>0.0</td>\n",
              "    </tr>\n",
              "    <tr>\n",
              "      <th>19823</th>\n",
              "      <td>125.209999</td>\n",
              "      <td>11.0</td>\n",
              "      <td>9.0</td>\n",
              "      <td>6.0</td>\n",
              "      <td>16.677000</td>\n",
              "      <td>12.402</td>\n",
              "      <td>17.490999</td>\n",
              "      <td>16.756001</td>\n",
              "      <td>10.988</td>\n",
              "      <td>19.947001</td>\n",
              "      <td>...</td>\n",
              "      <td>0.0</td>\n",
              "      <td>0.0</td>\n",
              "      <td>0.0</td>\n",
              "      <td>0.0</td>\n",
              "      <td>1.0</td>\n",
              "      <td>0.0</td>\n",
              "      <td>0.0</td>\n",
              "      <td>0.0</td>\n",
              "      <td>0.0</td>\n",
              "      <td>0.0</td>\n",
              "    </tr>\n",
              "    <tr>\n",
              "      <th>15788</th>\n",
              "      <td>106.120003</td>\n",
              "      <td>5.0</td>\n",
              "      <td>6.0</td>\n",
              "      <td>6.0</td>\n",
              "      <td>16.962999</td>\n",
              "      <td>11.773</td>\n",
              "      <td>15.789000</td>\n",
              "      <td>17.518999</td>\n",
              "      <td>11.808</td>\n",
              "      <td>18.009001</td>\n",
              "      <td>...</td>\n",
              "      <td>0.0</td>\n",
              "      <td>0.0</td>\n",
              "      <td>0.0</td>\n",
              "      <td>0.0</td>\n",
              "      <td>1.0</td>\n",
              "      <td>0.0</td>\n",
              "      <td>0.0</td>\n",
              "      <td>0.0</td>\n",
              "      <td>0.0</td>\n",
              "      <td>0.0</td>\n",
              "    </tr>\n",
              "  </tbody>\n",
              "</table>\n",
              "<p>5 rows × 64 columns</p>\n",
              "</div>\n",
              "      <button class=\"colab-df-convert\" onclick=\"convertToInteractive('df-c9878787-a464-4e34-b212-860122a13820')\"\n",
              "              title=\"Convert this dataframe to an interactive table.\"\n",
              "              style=\"display:none;\">\n",
              "        \n",
              "  <svg xmlns=\"http://www.w3.org/2000/svg\" height=\"24px\"viewBox=\"0 0 24 24\"\n",
              "       width=\"24px\">\n",
              "    <path d=\"M0 0h24v24H0V0z\" fill=\"none\"/>\n",
              "    <path d=\"M18.56 5.44l.94 2.06.94-2.06 2.06-.94-2.06-.94-.94-2.06-.94 2.06-2.06.94zm-11 1L8.5 8.5l.94-2.06 2.06-.94-2.06-.94L8.5 2.5l-.94 2.06-2.06.94zm10 10l.94 2.06.94-2.06 2.06-.94-2.06-.94-.94-2.06-.94 2.06-2.06.94z\"/><path d=\"M17.41 7.96l-1.37-1.37c-.4-.4-.92-.59-1.43-.59-.52 0-1.04.2-1.43.59L10.3 9.45l-7.72 7.72c-.78.78-.78 2.05 0 2.83L4 21.41c.39.39.9.59 1.41.59.51 0 1.02-.2 1.41-.59l7.78-7.78 2.81-2.81c.8-.78.8-2.07 0-2.86zM5.41 20L4 18.59l7.72-7.72 1.47 1.35L5.41 20z\"/>\n",
              "  </svg>\n",
              "      </button>\n",
              "      \n",
              "  <style>\n",
              "    .colab-df-container {\n",
              "      display:flex;\n",
              "      flex-wrap:wrap;\n",
              "      gap: 12px;\n",
              "    }\n",
              "\n",
              "    .colab-df-convert {\n",
              "      background-color: #E8F0FE;\n",
              "      border: none;\n",
              "      border-radius: 50%;\n",
              "      cursor: pointer;\n",
              "      display: none;\n",
              "      fill: #1967D2;\n",
              "      height: 32px;\n",
              "      padding: 0 0 0 0;\n",
              "      width: 32px;\n",
              "    }\n",
              "\n",
              "    .colab-df-convert:hover {\n",
              "      background-color: #E2EBFA;\n",
              "      box-shadow: 0px 1px 2px rgba(60, 64, 67, 0.3), 0px 1px 3px 1px rgba(60, 64, 67, 0.15);\n",
              "      fill: #174EA6;\n",
              "    }\n",
              "\n",
              "    [theme=dark] .colab-df-convert {\n",
              "      background-color: #3B4455;\n",
              "      fill: #D2E3FC;\n",
              "    }\n",
              "\n",
              "    [theme=dark] .colab-df-convert:hover {\n",
              "      background-color: #434B5C;\n",
              "      box-shadow: 0px 1px 3px 1px rgba(0, 0, 0, 0.15);\n",
              "      filter: drop-shadow(0px 1px 2px rgba(0, 0, 0, 0.3));\n",
              "      fill: #FFFFFF;\n",
              "    }\n",
              "  </style>\n",
              "\n",
              "      <script>\n",
              "        const buttonEl =\n",
              "          document.querySelector('#df-c9878787-a464-4e34-b212-860122a13820 button.colab-df-convert');\n",
              "        buttonEl.style.display =\n",
              "          google.colab.kernel.accessAllowed ? 'block' : 'none';\n",
              "\n",
              "        async function convertToInteractive(key) {\n",
              "          const element = document.querySelector('#df-c9878787-a464-4e34-b212-860122a13820');\n",
              "          const dataTable =\n",
              "            await google.colab.kernel.invokeFunction('convertToInteractive',\n",
              "                                                     [key], {});\n",
              "          if (!dataTable) return;\n",
              "\n",
              "          const docLinkHtml = 'Like what you see? Visit the ' +\n",
              "            '<a target=\"_blank\" href=https://colab.research.google.com/notebooks/data_table.ipynb>data table notebook</a>'\n",
              "            + ' to learn more about interactive tables.';\n",
              "          element.innerHTML = '';\n",
              "          dataTable['output_type'] = 'display_data';\n",
              "          await google.colab.output.renderOutput(dataTable, element);\n",
              "          const docLink = document.createElement('div');\n",
              "          docLink.innerHTML = docLinkHtml;\n",
              "          element.appendChild(docLink);\n",
              "        }\n",
              "      </script>\n",
              "    </div>\n",
              "  </div>\n",
              "  "
            ]
          },
          "metadata": {},
          "execution_count": 5
        }
      ],
      "source": [
        "X_train_dummies.head()"
      ]
    },
    {
      "cell_type": "markdown",
      "metadata": {
        "id": "IfhXNySDYzeL"
      },
      "source": [
        "XGBoost does not allow features names to contain square brackets, commas or spaces, so they will be replaced with curly braces or underscores "
      ]
    },
    {
      "cell_type": "code",
      "execution_count": 6,
      "metadata": {
        "id": "QIoOAgmcYzeM"
      },
      "outputs": [],
      "source": [
        "X_train_dummies.columns = X_train_dummies.columns.str.replace(']', '}', \n",
        "                                                              regex=False)\n",
        "X_test_dummies.columns = X_test_dummies.columns.str.replace(']', '}',\n",
        "                                                            regex=False)\n",
        "\n",
        "X_train_dummies.columns = X_train_dummies.columns.str.replace(', ', '_',\n",
        "                                                              regex=False)\n",
        "X_test_dummies.columns = X_test_dummies.columns.str.replace(', ', '_',\n",
        "                                                            regex=False)"
      ]
    },
    {
      "cell_type": "code",
      "source": [
        "X_train_dummies.columns"
      ],
      "metadata": {
        "colab": {
          "base_uri": "https://localhost:8080/"
        },
        "id": "L02QjxRVZt3S",
        "outputId": "671e63e8-cbc0-4e31-bb55-1608791cc44c"
      },
      "execution_count": 7,
      "outputs": [
        {
          "output_type": "execute_result",
          "data": {
            "text/plain": [
              "Index(['loading', 'measurement_0', 'measurement_1', 'measurement_2',\n",
              "       'measurement_3', 'measurement_4', 'measurement_5', 'measurement_6',\n",
              "       'measurement_7', 'measurement_8', 'measurement_9', 'measurement_10',\n",
              "       'measurement_11', 'measurement_12', 'measurement_13', 'measurement_14',\n",
              "       'measurement_15', 'measurement_16', 'measurement_17', 'product_code_A',\n",
              "       'product_code_B', 'product_code_C', 'product_code_D', 'product_code_E',\n",
              "       'attribute_0_material_5', 'attribute_0_material_7',\n",
              "       'attribute_1_material_5', 'attribute_1_material_6',\n",
              "       'attribute_1_material_8', 'attribute_2_5', 'attribute_2_6',\n",
              "       'attribute_2_8', 'attribute_2_9', 'attribute_3_5', 'attribute_3_6',\n",
              "       'attribute_3_8', 'attribute_3_9', 'measurement_0_grouped_(-0.001_3.0}',\n",
              "       'measurement_0_grouped_(3.0_4.0}', 'measurement_0_grouped_(4.0_5.0}',\n",
              "       'measurement_0_grouped_(5.0_6.0}', 'measurement_0_grouped_(6.0_7.0}',\n",
              "       'measurement_0_grouped_(7.0_8.0}', 'measurement_0_grouped_(8.0_9.0}',\n",
              "       'measurement_0_grouped_(9.0_11.0}', 'measurement_0_grouped_(11.0_13.0}',\n",
              "       'measurement_0_grouped_(13.0_29.0}',\n",
              "       'measurement_1_grouped_(-0.001_4.0}', 'measurement_1_grouped_(4.0_6.0}',\n",
              "       'measurement_1_grouped_(6.0_7.0}', 'measurement_1_grouped_(7.0_9.0}',\n",
              "       'measurement_1_grouped_(9.0_10.0}', 'measurement_1_grouped_(10.0_13.0}',\n",
              "       'measurement_1_grouped_(13.0_29.0}',\n",
              "       'measurement_2_grouped_(-0.001_2.0}', 'measurement_2_grouped_(2.0_3.0}',\n",
              "       'measurement_2_grouped_(3.0_4.0}', 'measurement_2_grouped_(4.0_5.0}',\n",
              "       'measurement_2_grouped_(5.0_6.0}', 'measurement_2_grouped_(6.0_7.0}',\n",
              "       'measurement_2_grouped_(7.0_8.0}', 'measurement_2_grouped_(8.0_9.0}',\n",
              "       'measurement_2_grouped_(9.0_11.0}',\n",
              "       'measurement_2_grouped_(11.0_24.0}'],\n",
              "      dtype='object')"
            ]
          },
          "metadata": {},
          "execution_count": 7
        }
      ]
    },
    {
      "cell_type": "code",
      "execution_count": 8,
      "metadata": {
        "colab": {
          "base_uri": "https://localhost:8080/"
        },
        "id": "l9jWpF0EYzeN",
        "outputId": "587b10b2-0bd0-4749-d111-e5176542d1a8"
      },
      "outputs": [
        {
          "output_type": "stream",
          "name": "stdout",
          "text": [
            "X_train.shape:  (19927, 64)\n",
            "y_train.shape:  (19927, 1)\n",
            "X_test.shape:  (6643, 64)\n",
            "y_test.shape: (6643, 1)\n"
          ]
        }
      ],
      "source": [
        "print(\"X_train.shape: \", X_train_dummies.shape)\n",
        "print(\"y_train.shape: \", y_train.shape)\n",
        "print(\"X_test.shape: \", X_test_dummies.shape)\n",
        "print(\"y_test.shape:\", y_test.shape)"
      ]
    },
    {
      "cell_type": "code",
      "execution_count": 9,
      "metadata": {
        "colab": {
          "base_uri": "https://localhost:8080/"
        },
        "id": "nMTCZHQVYzeO",
        "outputId": "bddf3c7c-2f7f-421c-de74-36b4c75dbd58"
      },
      "outputs": [
        {
          "output_type": "stream",
          "name": "stdout",
          "text": [
            "y_train.shape:  (19927,)\n",
            "y_test.shape: (6643,)\n"
          ]
        }
      ],
      "source": [
        "y_train = np.ravel(y_train)\n",
        "y_test = np.ravel(y_test)\n",
        "\n",
        "print(\"y_train.shape: \", y_train.shape)\n",
        "print(\"y_test.shape:\", y_test.shape)"
      ]
    },
    {
      "cell_type": "markdown",
      "metadata": {
        "id": "VfN-QYFyYzeP"
      },
      "source": [
        "# Baseline model <br>\n",
        "Build a baseline xgboost model and evaluate its performance on train and test sets. For performance evaluation AUC will be used"
      ]
    },
    {
      "cell_type": "code",
      "execution_count": 10,
      "metadata": {
        "colab": {
          "base_uri": "https://localhost:8080/"
        },
        "id": "6JUfVlX6YzeQ",
        "outputId": "27520a0f-6ad0-46fb-846d-ec97f7d4a491"
      },
      "outputs": [
        {
          "output_type": "stream",
          "name": "stdout",
          "text": [
            "Train set AUC: 0.5022410945977825\n",
            "Test set AUC: 0.5005181248839538\n"
          ]
        }
      ],
      "source": [
        "model_baseline = XGBClassifier(objective='binary:logistic',\n",
        "                               eval_metric='auc', seed=42,\n",
        "                               use_label_encoder=False)\n",
        "model_baseline.fit(X_train_dummies, y_train)\n",
        "\n",
        "print(\"Train set AUC: {}\".format(\n",
        "    roc_auc_score(y_train, model_baseline.predict(X_train_dummies))))\n",
        "print(\"Test set AUC: {}\".format(\n",
        "    roc_auc_score(y_test, model_baseline.predict(X_test_dummies))))"
      ]
    },
    {
      "cell_type": "markdown",
      "metadata": {
        "id": "b_1X8YdVYzeQ"
      },
      "source": [
        "AUC values indicate, that the model may underfit the dataset. We can try to tune its parameters to improve quality of the model"
      ]
    },
    {
      "cell_type": "markdown",
      "metadata": {
        "id": "DNMqkKxyYzeR"
      },
      "source": [
        "# Tuning parameters values <br>\n",
        "Since XGBoost supports missing values, there's no need to use StandardScaler, KNNImputer and pipelines. XGBoost models have many parameters and some of them may not have a strong influence on the quality of the models. Because of that, RandomizedSearchCV will be used at the start of parameters tuning process. Also early stopping will be used with X_test_dummies as the evaluation set"
      ]
    },
    {
      "cell_type": "markdown",
      "metadata": {
        "id": "ad8MUEoAYzeR"
      },
      "source": [
        "Round 1"
      ]
    },
    {
      "cell_type": "code",
      "execution_count": 15,
      "metadata": {
        "id": "Ln4EugChYzeR"
      },
      "outputs": [],
      "source": [
        "xgbclf = XGBClassifier(n_estimators=1000, objective='binary:logistic',\n",
        "                       eval_metric='auc', seed=42,\n",
        "                       early_stopping_rounds=50, \n",
        "                       eval_set=[X_test_dummies, y_test],\n",
        "                       tree_method='gpu_hist', use_label_encoder=False)"
      ]
    },
    {
      "cell_type": "code",
      "execution_count": 12,
      "metadata": {
        "colab": {
          "base_uri": "https://localhost:8080/"
        },
        "id": "MsCTaZ6ZYzeS",
        "outputId": "33051913-b62e-400e-d704-f0d3df116abb"
      },
      "outputs": [
        {
          "output_type": "stream",
          "name": "stdout",
          "text": [
            "Fitting 5 folds for each of 70 candidates, totalling 350 fits\n",
            "[CV] END colsample_bytree=0.8, gamma=0, learning_rate=0.1934347898661638, max_depth=10, reg_lambda=1.790550473839461, scale_pos_weight=1, subsample=0.75; total time=   9.4s\n",
            "[CV] END colsample_bytree=0.8, gamma=0, learning_rate=0.1934347898661638, max_depth=10, reg_lambda=1.790550473839461, scale_pos_weight=1, subsample=0.75; total time=   9.3s\n",
            "[CV] END colsample_bytree=0.8, gamma=0, learning_rate=0.1934347898661638, max_depth=10, reg_lambda=1.790550473839461, scale_pos_weight=1, subsample=0.75; total time=   9.2s\n",
            "[CV] END colsample_bytree=0.8, gamma=0, learning_rate=0.1934347898661638, max_depth=10, reg_lambda=1.790550473839461, scale_pos_weight=1, subsample=0.75; total time=   9.2s\n",
            "[CV] END colsample_bytree=0.8, gamma=0, learning_rate=0.1934347898661638, max_depth=10, reg_lambda=1.790550473839461, scale_pos_weight=1, subsample=0.75; total time=   9.5s\n",
            "[CV] END colsample_bytree=0.8, gamma=0.2, learning_rate=0.46924889196586717, max_depth=10, reg_lambda=1.8033450352296265, scale_pos_weight=1, subsample=0.75; total time=   6.9s\n",
            "[CV] END colsample_bytree=0.8, gamma=0.2, learning_rate=0.46924889196586717, max_depth=10, reg_lambda=1.8033450352296265, scale_pos_weight=1, subsample=0.75; total time=   7.0s\n",
            "[CV] END colsample_bytree=0.8, gamma=0.2, learning_rate=0.46924889196586717, max_depth=10, reg_lambda=1.8033450352296265, scale_pos_weight=1, subsample=0.75; total time=   8.1s\n",
            "[CV] END colsample_bytree=0.8, gamma=0.2, learning_rate=0.46924889196586717, max_depth=10, reg_lambda=1.8033450352296265, scale_pos_weight=1, subsample=0.75; total time=   6.8s\n",
            "[CV] END colsample_bytree=0.8, gamma=0.2, learning_rate=0.46924889196586717, max_depth=10, reg_lambda=1.8033450352296265, scale_pos_weight=1, subsample=0.75; total time=   6.9s\n",
            "[CV] END colsample_bytree=0.9, gamma=0, learning_rate=0.9799098521619943, max_depth=6, reg_lambda=0.6370173320348285, scale_pos_weight=1, subsample=1; total time=   4.8s\n",
            "[CV] END colsample_bytree=0.9, gamma=0, learning_rate=0.9799098521619943, max_depth=6, reg_lambda=0.6370173320348285, scale_pos_weight=1, subsample=1; total time=   4.8s\n",
            "[CV] END colsample_bytree=0.9, gamma=0, learning_rate=0.9799098521619943, max_depth=6, reg_lambda=0.6370173320348285, scale_pos_weight=1, subsample=1; total time=   4.8s\n",
            "[CV] END colsample_bytree=0.9, gamma=0, learning_rate=0.9799098521619943, max_depth=6, reg_lambda=0.6370173320348285, scale_pos_weight=1, subsample=1; total time=   4.8s\n",
            "[CV] END colsample_bytree=0.9, gamma=0, learning_rate=0.9799098521619943, max_depth=6, reg_lambda=0.6370173320348285, scale_pos_weight=1, subsample=1; total time=   4.8s\n",
            "[CV] END colsample_bytree=1, gamma=0.1, learning_rate=0.5347564316322378, max_depth=10, reg_lambda=0.8736874205941257, scale_pos_weight=0.25, subsample=0.75; total time=   6.2s\n",
            "[CV] END colsample_bytree=1, gamma=0.1, learning_rate=0.5347564316322378, max_depth=10, reg_lambda=0.8736874205941257, scale_pos_weight=0.25, subsample=0.75; total time=   6.2s\n",
            "[CV] END colsample_bytree=1, gamma=0.1, learning_rate=0.5347564316322378, max_depth=10, reg_lambda=0.8736874205941257, scale_pos_weight=0.25, subsample=0.75; total time=   6.1s\n",
            "[CV] END colsample_bytree=1, gamma=0.1, learning_rate=0.5347564316322378, max_depth=10, reg_lambda=0.8736874205941257, scale_pos_weight=0.25, subsample=0.75; total time=   6.1s\n",
            "[CV] END colsample_bytree=1, gamma=0.1, learning_rate=0.5347564316322378, max_depth=10, reg_lambda=0.8736874205941257, scale_pos_weight=0.25, subsample=0.75; total time=   6.2s\n",
            "[CV] END colsample_bytree=0.9, gamma=0.2, learning_rate=0.46606998421703594, max_depth=3, reg_lambda=1.8551580279992619, scale_pos_weight=1, subsample=0.75; total time=   3.7s\n",
            "[CV] END colsample_bytree=0.9, gamma=0.2, learning_rate=0.46606998421703594, max_depth=3, reg_lambda=1.8551580279992619, scale_pos_weight=1, subsample=0.75; total time=   3.7s\n",
            "[CV] END colsample_bytree=0.9, gamma=0.2, learning_rate=0.46606998421703594, max_depth=3, reg_lambda=1.8551580279992619, scale_pos_weight=1, subsample=0.75; total time=   3.6s\n",
            "[CV] END colsample_bytree=0.9, gamma=0.2, learning_rate=0.46606998421703594, max_depth=3, reg_lambda=1.8551580279992619, scale_pos_weight=1, subsample=0.75; total time=   3.6s\n",
            "[CV] END colsample_bytree=0.9, gamma=0.2, learning_rate=0.46606998421703594, max_depth=3, reg_lambda=1.8551580279992619, scale_pos_weight=1, subsample=0.75; total time=   3.7s\n",
            "[CV] END colsample_bytree=1, gamma=0.2, learning_rate=0.8699404067363206, max_depth=3, reg_lambda=0.5115723710618746, scale_pos_weight=0.25, subsample=0.9; total time=   3.6s\n",
            "[CV] END colsample_bytree=1, gamma=0.2, learning_rate=0.8699404067363206, max_depth=3, reg_lambda=0.5115723710618746, scale_pos_weight=0.25, subsample=0.9; total time=   3.6s\n",
            "[CV] END colsample_bytree=1, gamma=0.2, learning_rate=0.8699404067363206, max_depth=3, reg_lambda=0.5115723710618746, scale_pos_weight=0.25, subsample=0.9; total time=   3.6s\n",
            "[CV] END colsample_bytree=1, gamma=0.2, learning_rate=0.8699404067363206, max_depth=3, reg_lambda=0.5115723710618746, scale_pos_weight=0.25, subsample=0.9; total time=   3.6s\n",
            "[CV] END colsample_bytree=1, gamma=0.2, learning_rate=0.8699404067363206, max_depth=3, reg_lambda=0.5115723710618746, scale_pos_weight=0.25, subsample=0.9; total time=   3.6s\n",
            "[CV] END colsample_bytree=1, gamma=0.1, learning_rate=0.8183973481164611, max_depth=10, reg_lambda=0.04789875666064258, scale_pos_weight=1, subsample=0.75; total time=   5.3s\n",
            "[CV] END colsample_bytree=1, gamma=0.1, learning_rate=0.8183973481164611, max_depth=10, reg_lambda=0.04789875666064258, scale_pos_weight=1, subsample=0.75; total time=   5.3s\n",
            "[CV] END colsample_bytree=1, gamma=0.1, learning_rate=0.8183973481164611, max_depth=10, reg_lambda=0.04789875666064258, scale_pos_weight=1, subsample=0.75; total time=   5.3s\n",
            "[CV] END colsample_bytree=1, gamma=0.1, learning_rate=0.8183973481164611, max_depth=10, reg_lambda=0.04789875666064258, scale_pos_weight=1, subsample=0.75; total time=   5.2s\n",
            "[CV] END colsample_bytree=1, gamma=0.1, learning_rate=0.8183973481164611, max_depth=10, reg_lambda=0.04789875666064258, scale_pos_weight=1, subsample=0.75; total time=   5.3s\n",
            "[CV] END colsample_bytree=0.8, gamma=0, learning_rate=0.8431949117361643, max_depth=3, reg_lambda=2.7279612062363463, scale_pos_weight=1, subsample=0.9; total time=   3.7s\n",
            "[CV] END colsample_bytree=0.8, gamma=0, learning_rate=0.8431949117361643, max_depth=3, reg_lambda=2.7279612062363463, scale_pos_weight=1, subsample=0.9; total time=   3.7s\n",
            "[CV] END colsample_bytree=0.8, gamma=0, learning_rate=0.8431949117361643, max_depth=3, reg_lambda=2.7279612062363463, scale_pos_weight=1, subsample=0.9; total time=   3.7s\n",
            "[CV] END colsample_bytree=0.8, gamma=0, learning_rate=0.8431949117361643, max_depth=3, reg_lambda=2.7279612062363463, scale_pos_weight=1, subsample=0.9; total time=   3.8s\n",
            "[CV] END colsample_bytree=0.8, gamma=0, learning_rate=0.8431949117361643, max_depth=3, reg_lambda=2.7279612062363463, scale_pos_weight=1, subsample=0.9; total time=   3.7s\n",
            "[CV] END colsample_bytree=0.9, gamma=0.1, learning_rate=0.5300680211778108, max_depth=6, reg_lambda=1.7031009834599744, scale_pos_weight=0.25, subsample=0.75; total time=   5.4s\n",
            "[CV] END colsample_bytree=0.9, gamma=0.1, learning_rate=0.5300680211778108, max_depth=6, reg_lambda=1.7031009834599744, scale_pos_weight=0.25, subsample=0.75; total time=   5.4s\n",
            "[CV] END colsample_bytree=0.9, gamma=0.1, learning_rate=0.5300680211778108, max_depth=6, reg_lambda=1.7031009834599744, scale_pos_weight=0.25, subsample=0.75; total time=   5.3s\n",
            "[CV] END colsample_bytree=0.9, gamma=0.1, learning_rate=0.5300680211778108, max_depth=6, reg_lambda=1.7031009834599744, scale_pos_weight=0.25, subsample=0.75; total time=   5.3s\n",
            "[CV] END colsample_bytree=0.9, gamma=0.1, learning_rate=0.5300680211778108, max_depth=6, reg_lambda=1.7031009834599744, scale_pos_weight=0.25, subsample=0.75; total time=   5.4s\n",
            "[CV] END colsample_bytree=0.9, gamma=0.1, learning_rate=0.45975413336976567, max_depth=6, reg_lambda=2.6844820512829464, scale_pos_weight=1, subsample=0.75; total time=   5.6s\n",
            "[CV] END colsample_bytree=0.9, gamma=0.1, learning_rate=0.45975413336976567, max_depth=6, reg_lambda=2.6844820512829464, scale_pos_weight=1, subsample=0.75; total time=   5.7s\n",
            "[CV] END colsample_bytree=0.9, gamma=0.1, learning_rate=0.45975413336976567, max_depth=6, reg_lambda=2.6844820512829464, scale_pos_weight=1, subsample=0.75; total time=   5.6s\n",
            "[CV] END colsample_bytree=0.9, gamma=0.1, learning_rate=0.45975413336976567, max_depth=6, reg_lambda=2.6844820512829464, scale_pos_weight=1, subsample=0.75; total time=   5.6s\n",
            "[CV] END colsample_bytree=0.9, gamma=0.1, learning_rate=0.45975413336976567, max_depth=6, reg_lambda=2.6844820512829464, scale_pos_weight=1, subsample=0.75; total time=   5.6s\n",
            "[CV] END colsample_bytree=0.8, gamma=0.1, learning_rate=0.2059828624191452, max_depth=10, reg_lambda=2.8835160730480474, scale_pos_weight=0.25, subsample=1; total time=   8.7s\n",
            "[CV] END colsample_bytree=0.8, gamma=0.1, learning_rate=0.2059828624191452, max_depth=10, reg_lambda=2.8835160730480474, scale_pos_weight=0.25, subsample=1; total time=   8.8s\n",
            "[CV] END colsample_bytree=0.8, gamma=0.1, learning_rate=0.2059828624191452, max_depth=10, reg_lambda=2.8835160730480474, scale_pos_weight=0.25, subsample=1; total time=   8.7s\n",
            "[CV] END colsample_bytree=0.8, gamma=0.1, learning_rate=0.2059828624191452, max_depth=10, reg_lambda=2.8835160730480474, scale_pos_weight=0.25, subsample=1; total time=   8.6s\n",
            "[CV] END colsample_bytree=0.8, gamma=0.1, learning_rate=0.2059828624191452, max_depth=10, reg_lambda=2.8835160730480474, scale_pos_weight=0.25, subsample=1; total time=   8.7s\n",
            "[CV] END colsample_bytree=0.9, gamma=0.2, learning_rate=0.8387375091519294, max_depth=6, reg_lambda=2.895765921792414, scale_pos_weight=1, subsample=1; total time=   5.2s\n",
            "[CV] END colsample_bytree=0.9, gamma=0.2, learning_rate=0.8387375091519294, max_depth=6, reg_lambda=2.895765921792414, scale_pos_weight=1, subsample=1; total time=   5.2s\n",
            "[CV] END colsample_bytree=0.9, gamma=0.2, learning_rate=0.8387375091519294, max_depth=6, reg_lambda=2.895765921792414, scale_pos_weight=1, subsample=1; total time=   5.2s\n",
            "[CV] END colsample_bytree=0.9, gamma=0.2, learning_rate=0.8387375091519294, max_depth=6, reg_lambda=2.895765921792414, scale_pos_weight=1, subsample=1; total time=   5.2s\n",
            "[CV] END colsample_bytree=0.9, gamma=0.2, learning_rate=0.8387375091519294, max_depth=6, reg_lambda=2.895765921792414, scale_pos_weight=1, subsample=1; total time=   5.2s\n",
            "[CV] END colsample_bytree=1, gamma=0, learning_rate=0.8121969807540397, max_depth=10, reg_lambda=0.04690922022358179, scale_pos_weight=0.25, subsample=1; total time=   5.1s\n",
            "[CV] END colsample_bytree=1, gamma=0, learning_rate=0.8121969807540397, max_depth=10, reg_lambda=0.04690922022358179, scale_pos_weight=0.25, subsample=1; total time=   5.1s\n",
            "[CV] END colsample_bytree=1, gamma=0, learning_rate=0.8121969807540397, max_depth=10, reg_lambda=0.04690922022358179, scale_pos_weight=0.25, subsample=1; total time=   5.1s\n",
            "[CV] END colsample_bytree=1, gamma=0, learning_rate=0.8121969807540397, max_depth=10, reg_lambda=0.04690922022358179, scale_pos_weight=0.25, subsample=1; total time=   5.1s\n",
            "[CV] END colsample_bytree=1, gamma=0, learning_rate=0.8121969807540397, max_depth=10, reg_lambda=0.04690922022358179, scale_pos_weight=0.25, subsample=1; total time=   5.2s\n",
            "[CV] END colsample_bytree=0.8, gamma=0.2, learning_rate=0.20884240408880517, max_depth=3, reg_lambda=2.370526621593617, scale_pos_weight=0.25, subsample=1; total time=   3.6s\n",
            "[CV] END colsample_bytree=0.8, gamma=0.2, learning_rate=0.20884240408880517, max_depth=3, reg_lambda=2.370526621593617, scale_pos_weight=0.25, subsample=1; total time=   3.6s\n",
            "[CV] END colsample_bytree=0.8, gamma=0.2, learning_rate=0.20884240408880517, max_depth=3, reg_lambda=2.370526621593617, scale_pos_weight=0.25, subsample=1; total time=   3.5s\n",
            "[CV] END colsample_bytree=0.8, gamma=0.2, learning_rate=0.20884240408880517, max_depth=3, reg_lambda=2.370526621593617, scale_pos_weight=0.25, subsample=1; total time=   3.5s\n",
            "[CV] END colsample_bytree=0.8, gamma=0.2, learning_rate=0.20884240408880517, max_depth=3, reg_lambda=2.370526621593617, scale_pos_weight=0.25, subsample=1; total time=   3.6s\n",
            "[CV] END colsample_bytree=0.9, gamma=0.2, learning_rate=0.6610770255019445, max_depth=3, reg_lambda=2.550115733369398, scale_pos_weight=1, subsample=0.9; total time=   3.7s\n",
            "[CV] END colsample_bytree=0.9, gamma=0.2, learning_rate=0.6610770255019445, max_depth=3, reg_lambda=2.550115733369398, scale_pos_weight=1, subsample=0.9; total time=   3.7s\n",
            "[CV] END colsample_bytree=0.9, gamma=0.2, learning_rate=0.6610770255019445, max_depth=3, reg_lambda=2.550115733369398, scale_pos_weight=1, subsample=0.9; total time=   3.6s\n",
            "[CV] END colsample_bytree=0.9, gamma=0.2, learning_rate=0.6610770255019445, max_depth=3, reg_lambda=2.550115733369398, scale_pos_weight=1, subsample=0.9; total time=   3.6s\n",
            "[CV] END colsample_bytree=0.9, gamma=0.2, learning_rate=0.6610770255019445, max_depth=3, reg_lambda=2.550115733369398, scale_pos_weight=1, subsample=0.9; total time=   3.7s\n",
            "[CV] END colsample_bytree=1, gamma=0.2, learning_rate=0.3209823217156622, max_depth=10, reg_lambda=2.1888185350141924, scale_pos_weight=1, subsample=0.9; total time=   8.1s\n",
            "[CV] END colsample_bytree=1, gamma=0.2, learning_rate=0.3209823217156622, max_depth=10, reg_lambda=2.1888185350141924, scale_pos_weight=1, subsample=0.9; total time=   8.1s\n",
            "[CV] END colsample_bytree=1, gamma=0.2, learning_rate=0.3209823217156622, max_depth=10, reg_lambda=2.1888185350141924, scale_pos_weight=1, subsample=0.9; total time=   8.1s\n",
            "[CV] END colsample_bytree=1, gamma=0.2, learning_rate=0.3209823217156622, max_depth=10, reg_lambda=2.1888185350141924, scale_pos_weight=1, subsample=0.9; total time=   8.1s\n",
            "[CV] END colsample_bytree=1, gamma=0.2, learning_rate=0.3209823217156622, max_depth=10, reg_lambda=2.1888185350141924, scale_pos_weight=1, subsample=0.9; total time=   8.1s\n",
            "[CV] END colsample_bytree=0.8, gamma=0.2, learning_rate=0.4822149251619493, max_depth=10, reg_lambda=2.915136286167311, scale_pos_weight=0.25, subsample=1; total time=   7.0s\n",
            "[CV] END colsample_bytree=0.8, gamma=0.2, learning_rate=0.4822149251619493, max_depth=10, reg_lambda=2.915136286167311, scale_pos_weight=0.25, subsample=1; total time=   7.0s\n",
            "[CV] END colsample_bytree=0.8, gamma=0.2, learning_rate=0.4822149251619493, max_depth=10, reg_lambda=2.915136286167311, scale_pos_weight=0.25, subsample=1; total time=   6.9s\n",
            "[CV] END colsample_bytree=0.8, gamma=0.2, learning_rate=0.4822149251619493, max_depth=10, reg_lambda=2.915136286167311, scale_pos_weight=0.25, subsample=1; total time=   6.9s\n",
            "[CV] END colsample_bytree=0.8, gamma=0.2, learning_rate=0.4822149251619493, max_depth=10, reg_lambda=2.915136286167311, scale_pos_weight=0.25, subsample=1; total time=   6.9s\n",
            "[CV] END colsample_bytree=1, gamma=0.1, learning_rate=0.24598491974895575, max_depth=6, reg_lambda=1.4813867890931722, scale_pos_weight=0.25, subsample=0.75; total time=   5.7s\n",
            "[CV] END colsample_bytree=1, gamma=0.1, learning_rate=0.24598491974895575, max_depth=6, reg_lambda=1.4813867890931722, scale_pos_weight=0.25, subsample=0.75; total time=   5.7s\n",
            "[CV] END colsample_bytree=1, gamma=0.1, learning_rate=0.24598491974895575, max_depth=6, reg_lambda=1.4813867890931722, scale_pos_weight=0.25, subsample=0.75; total time=   5.6s\n",
            "[CV] END colsample_bytree=1, gamma=0.1, learning_rate=0.24598491974895575, max_depth=6, reg_lambda=1.4813867890931722, scale_pos_weight=0.25, subsample=0.75; total time=   5.6s\n",
            "[CV] END colsample_bytree=1, gamma=0.1, learning_rate=0.24598491974895575, max_depth=6, reg_lambda=1.4813867890931722, scale_pos_weight=0.25, subsample=0.75; total time=   5.7s\n",
            "[CV] END colsample_bytree=0.8, gamma=0.1, learning_rate=0.03541912674409519, max_depth=10, reg_lambda=0.6051576070061886, scale_pos_weight=1, subsample=0.75; total time=  14.5s\n",
            "[CV] END colsample_bytree=0.8, gamma=0.1, learning_rate=0.03541912674409519, max_depth=10, reg_lambda=0.6051576070061886, scale_pos_weight=1, subsample=0.75; total time=  14.4s\n",
            "[CV] END colsample_bytree=0.8, gamma=0.1, learning_rate=0.03541912674409519, max_depth=10, reg_lambda=0.6051576070061886, scale_pos_weight=1, subsample=0.75; total time=  14.3s\n",
            "[CV] END colsample_bytree=0.8, gamma=0.1, learning_rate=0.03541912674409519, max_depth=10, reg_lambda=0.6051576070061886, scale_pos_weight=1, subsample=0.75; total time=  14.1s\n",
            "[CV] END colsample_bytree=0.8, gamma=0.1, learning_rate=0.03541912674409519, max_depth=10, reg_lambda=0.6051576070061886, scale_pos_weight=1, subsample=0.75; total time=  14.1s\n",
            "[CV] END colsample_bytree=1, gamma=0, learning_rate=0.5185706911647028, max_depth=6, reg_lambda=0.41799436321762706, scale_pos_weight=0.25, subsample=1; total time=   5.0s\n",
            "[CV] END colsample_bytree=1, gamma=0, learning_rate=0.5185706911647028, max_depth=6, reg_lambda=0.41799436321762706, scale_pos_weight=0.25, subsample=1; total time=   5.1s\n",
            "[CV] END colsample_bytree=1, gamma=0, learning_rate=0.5185706911647028, max_depth=6, reg_lambda=0.41799436321762706, scale_pos_weight=0.25, subsample=1; total time=   5.0s\n",
            "[CV] END colsample_bytree=1, gamma=0, learning_rate=0.5185706911647028, max_depth=6, reg_lambda=0.41799436321762706, scale_pos_weight=0.25, subsample=1; total time=   5.0s\n",
            "[CV] END colsample_bytree=1, gamma=0, learning_rate=0.5185706911647028, max_depth=6, reg_lambda=0.41799436321762706, scale_pos_weight=0.25, subsample=1; total time=   5.0s\n",
            "[CV] END colsample_bytree=0.8, gamma=0.2, learning_rate=0.2130612247347694, max_depth=10, reg_lambda=0.23093972948637898, scale_pos_weight=0.25, subsample=0.75; total time=   7.4s\n",
            "[CV] END colsample_bytree=0.8, gamma=0.2, learning_rate=0.2130612247347694, max_depth=10, reg_lambda=0.23093972948637898, scale_pos_weight=0.25, subsample=0.75; total time=   7.4s\n",
            "[CV] END colsample_bytree=0.8, gamma=0.2, learning_rate=0.2130612247347694, max_depth=10, reg_lambda=0.23093972948637898, scale_pos_weight=0.25, subsample=0.75; total time=   7.3s\n",
            "[CV] END colsample_bytree=0.8, gamma=0.2, learning_rate=0.2130612247347694, max_depth=10, reg_lambda=0.23093972948637898, scale_pos_weight=0.25, subsample=0.75; total time=   7.3s\n",
            "[CV] END colsample_bytree=0.8, gamma=0.2, learning_rate=0.2130612247347694, max_depth=10, reg_lambda=0.23093972948637898, scale_pos_weight=0.25, subsample=0.75; total time=   7.3s\n",
            "[CV] END colsample_bytree=0.9, gamma=0.1, learning_rate=0.6343540481337933, max_depth=6, reg_lambda=1.9002112695312703, scale_pos_weight=1, subsample=0.9; total time=   5.3s\n",
            "[CV] END colsample_bytree=0.9, gamma=0.1, learning_rate=0.6343540481337933, max_depth=6, reg_lambda=1.9002112695312703, scale_pos_weight=1, subsample=0.9; total time=   5.3s\n",
            "[CV] END colsample_bytree=0.9, gamma=0.1, learning_rate=0.6343540481337933, max_depth=6, reg_lambda=1.9002112695312703, scale_pos_weight=1, subsample=0.9; total time=   5.3s\n",
            "[CV] END colsample_bytree=0.9, gamma=0.1, learning_rate=0.6343540481337933, max_depth=6, reg_lambda=1.9002112695312703, scale_pos_weight=1, subsample=0.9; total time=   5.3s\n",
            "[CV] END colsample_bytree=0.9, gamma=0.1, learning_rate=0.6343540481337933, max_depth=6, reg_lambda=1.9002112695312703, scale_pos_weight=1, subsample=0.9; total time=   5.3s\n",
            "[CV] END colsample_bytree=0.9, gamma=0.2, learning_rate=0.33434502100527397, max_depth=3, reg_lambda=2.6882738997704796, scale_pos_weight=0.25, subsample=0.9; total time=   3.7s\n",
            "[CV] END colsample_bytree=0.9, gamma=0.2, learning_rate=0.33434502100527397, max_depth=3, reg_lambda=2.6882738997704796, scale_pos_weight=0.25, subsample=0.9; total time=   3.7s\n",
            "[CV] END colsample_bytree=0.9, gamma=0.2, learning_rate=0.33434502100527397, max_depth=3, reg_lambda=2.6882738997704796, scale_pos_weight=0.25, subsample=0.9; total time=   3.6s\n",
            "[CV] END colsample_bytree=0.9, gamma=0.2, learning_rate=0.33434502100527397, max_depth=3, reg_lambda=2.6882738997704796, scale_pos_weight=0.25, subsample=0.9; total time=   3.6s\n",
            "[CV] END colsample_bytree=0.9, gamma=0.2, learning_rate=0.33434502100527397, max_depth=3, reg_lambda=2.6882738997704796, scale_pos_weight=0.25, subsample=0.9; total time=   3.6s\n",
            "[CV] END colsample_bytree=1, gamma=0, learning_rate=0.2379351625419417, max_depth=6, reg_lambda=0.0015611309859474565, scale_pos_weight=0.25, subsample=1; total time=   5.1s\n",
            "[CV] END colsample_bytree=1, gamma=0, learning_rate=0.2379351625419417, max_depth=6, reg_lambda=0.0015611309859474565, scale_pos_weight=0.25, subsample=1; total time=   5.1s\n",
            "[CV] END colsample_bytree=1, gamma=0, learning_rate=0.2379351625419417, max_depth=6, reg_lambda=0.0015611309859474565, scale_pos_weight=0.25, subsample=1; total time=   5.1s\n",
            "[CV] END colsample_bytree=1, gamma=0, learning_rate=0.2379351625419417, max_depth=6, reg_lambda=0.0015611309859474565, scale_pos_weight=0.25, subsample=1; total time=   5.0s\n",
            "[CV] END colsample_bytree=1, gamma=0, learning_rate=0.2379351625419417, max_depth=6, reg_lambda=0.0015611309859474565, scale_pos_weight=0.25, subsample=1; total time=   5.1s\n",
            "[CV] END colsample_bytree=0.8, gamma=0.2, learning_rate=0.17465585314294174, max_depth=3, reg_lambda=1.252233009446337, scale_pos_weight=0.25, subsample=1; total time=   3.6s\n",
            "[CV] END colsample_bytree=0.8, gamma=0.2, learning_rate=0.17465585314294174, max_depth=3, reg_lambda=1.252233009446337, scale_pos_weight=0.25, subsample=1; total time=   3.6s\n",
            "[CV] END colsample_bytree=0.8, gamma=0.2, learning_rate=0.17465585314294174, max_depth=3, reg_lambda=1.252233009446337, scale_pos_weight=0.25, subsample=1; total time=   3.5s\n",
            "[CV] END colsample_bytree=0.8, gamma=0.2, learning_rate=0.17465585314294174, max_depth=3, reg_lambda=1.252233009446337, scale_pos_weight=0.25, subsample=1; total time=   3.5s\n",
            "[CV] END colsample_bytree=0.8, gamma=0.2, learning_rate=0.17465585314294174, max_depth=3, reg_lambda=1.252233009446337, scale_pos_weight=0.25, subsample=1; total time=   3.6s\n",
            "[CV] END colsample_bytree=0.8, gamma=0.1, learning_rate=0.34761517140362796, max_depth=3, reg_lambda=0.5048731265187917, scale_pos_weight=1, subsample=1; total time=   3.6s\n",
            "[CV] END colsample_bytree=0.8, gamma=0.1, learning_rate=0.34761517140362796, max_depth=3, reg_lambda=0.5048731265187917, scale_pos_weight=1, subsample=1; total time=   3.6s\n",
            "[CV] END colsample_bytree=0.8, gamma=0.1, learning_rate=0.34761517140362796, max_depth=3, reg_lambda=0.5048731265187917, scale_pos_weight=1, subsample=1; total time=   3.5s\n",
            "[CV] END colsample_bytree=0.8, gamma=0.1, learning_rate=0.34761517140362796, max_depth=3, reg_lambda=0.5048731265187917, scale_pos_weight=1, subsample=1; total time=   3.5s\n",
            "[CV] END colsample_bytree=0.8, gamma=0.1, learning_rate=0.34761517140362796, max_depth=3, reg_lambda=0.5048731265187917, scale_pos_weight=1, subsample=1; total time=   3.6s\n",
            "[CV] END colsample_bytree=1, gamma=0.1, learning_rate=0.9817820827209607, max_depth=6, reg_lambda=2.088912818519365, scale_pos_weight=0.25, subsample=1; total time=   5.0s\n",
            "[CV] END colsample_bytree=1, gamma=0.1, learning_rate=0.9817820827209607, max_depth=6, reg_lambda=2.088912818519365, scale_pos_weight=0.25, subsample=1; total time=   5.0s\n",
            "[CV] END colsample_bytree=1, gamma=0.1, learning_rate=0.9817820827209607, max_depth=6, reg_lambda=2.088912818519365, scale_pos_weight=0.25, subsample=1; total time=   5.0s\n",
            "[CV] END colsample_bytree=1, gamma=0.1, learning_rate=0.9817820827209607, max_depth=6, reg_lambda=2.088912818519365, scale_pos_weight=0.25, subsample=1; total time=   5.0s\n",
            "[CV] END colsample_bytree=1, gamma=0.1, learning_rate=0.9817820827209607, max_depth=6, reg_lambda=2.088912818519365, scale_pos_weight=0.25, subsample=1; total time=   5.0s\n",
            "[CV] END colsample_bytree=1, gamma=0, learning_rate=1.0077404850489418, max_depth=3, reg_lambda=1.8286930019396905, scale_pos_weight=1, subsample=0.9; total time=   3.7s\n",
            "[CV] END colsample_bytree=1, gamma=0, learning_rate=1.0077404850489418, max_depth=3, reg_lambda=1.8286930019396905, scale_pos_weight=1, subsample=0.9; total time=   3.7s\n",
            "[CV] END colsample_bytree=1, gamma=0, learning_rate=1.0077404850489418, max_depth=3, reg_lambda=1.8286930019396905, scale_pos_weight=1, subsample=0.9; total time=   3.6s\n",
            "[CV] END colsample_bytree=1, gamma=0, learning_rate=1.0077404850489418, max_depth=3, reg_lambda=1.8286930019396905, scale_pos_weight=1, subsample=0.9; total time=   3.6s\n",
            "[CV] END colsample_bytree=1, gamma=0, learning_rate=1.0077404850489418, max_depth=3, reg_lambda=1.8286930019396905, scale_pos_weight=1, subsample=0.9; total time=   3.7s\n",
            "[CV] END colsample_bytree=0.8, gamma=0, learning_rate=0.355071248026683, max_depth=10, reg_lambda=0.7186856720009173, scale_pos_weight=1, subsample=1; total time=   7.0s\n",
            "[CV] END colsample_bytree=0.8, gamma=0, learning_rate=0.355071248026683, max_depth=10, reg_lambda=0.7186856720009173, scale_pos_weight=1, subsample=1; total time=   6.9s\n",
            "[CV] END colsample_bytree=0.8, gamma=0, learning_rate=0.355071248026683, max_depth=10, reg_lambda=0.7186856720009173, scale_pos_weight=1, subsample=1; total time=   6.9s\n",
            "[CV] END colsample_bytree=0.8, gamma=0, learning_rate=0.355071248026683, max_depth=10, reg_lambda=0.7186856720009173, scale_pos_weight=1, subsample=1; total time=   6.9s\n",
            "[CV] END colsample_bytree=0.8, gamma=0, learning_rate=0.355071248026683, max_depth=10, reg_lambda=0.7186856720009173, scale_pos_weight=1, subsample=1; total time=   7.1s\n",
            "[CV] END colsample_bytree=0.9, gamma=0.1, learning_rate=0.2520552715115004, max_depth=3, reg_lambda=2.284858845986153, scale_pos_weight=0.25, subsample=1; total time=   3.6s\n",
            "[CV] END colsample_bytree=0.9, gamma=0.1, learning_rate=0.2520552715115004, max_depth=3, reg_lambda=2.284858845986153, scale_pos_weight=0.25, subsample=1; total time=   3.6s\n",
            "[CV] END colsample_bytree=0.9, gamma=0.1, learning_rate=0.2520552715115004, max_depth=3, reg_lambda=2.284858845986153, scale_pos_weight=0.25, subsample=1; total time=   3.5s\n",
            "[CV] END colsample_bytree=0.9, gamma=0.1, learning_rate=0.2520552715115004, max_depth=3, reg_lambda=2.284858845986153, scale_pos_weight=0.25, subsample=1; total time=   3.5s\n",
            "[CV] END colsample_bytree=0.9, gamma=0.1, learning_rate=0.2520552715115004, max_depth=3, reg_lambda=2.284858845986153, scale_pos_weight=0.25, subsample=1; total time=   3.6s\n",
            "[CV] END colsample_bytree=0.8, gamma=0.1, learning_rate=0.37778313271925323, max_depth=6, reg_lambda=1.900589132282684, scale_pos_weight=0.25, subsample=0.75; total time=   5.5s\n",
            "[CV] END colsample_bytree=0.8, gamma=0.1, learning_rate=0.37778313271925323, max_depth=6, reg_lambda=1.900589132282684, scale_pos_weight=0.25, subsample=0.75; total time=   5.5s\n",
            "[CV] END colsample_bytree=0.8, gamma=0.1, learning_rate=0.37778313271925323, max_depth=6, reg_lambda=1.900589132282684, scale_pos_weight=0.25, subsample=0.75; total time=   5.5s\n",
            "[CV] END colsample_bytree=0.8, gamma=0.1, learning_rate=0.37778313271925323, max_depth=6, reg_lambda=1.900589132282684, scale_pos_weight=0.25, subsample=0.75; total time=   5.5s\n",
            "[CV] END colsample_bytree=0.8, gamma=0.1, learning_rate=0.37778313271925323, max_depth=6, reg_lambda=1.900589132282684, scale_pos_weight=0.25, subsample=0.75; total time=   5.5s\n",
            "[CV] END colsample_bytree=1, gamma=0, learning_rate=0.33078006497173584, max_depth=6, reg_lambda=2.0874384203726457, scale_pos_weight=0.25, subsample=0.75; total time=   5.7s\n",
            "[CV] END colsample_bytree=1, gamma=0, learning_rate=0.33078006497173584, max_depth=6, reg_lambda=2.0874384203726457, scale_pos_weight=0.25, subsample=0.75; total time=   5.7s\n",
            "[CV] END colsample_bytree=1, gamma=0, learning_rate=0.33078006497173584, max_depth=6, reg_lambda=2.0874384203726457, scale_pos_weight=0.25, subsample=0.75; total time=   5.6s\n",
            "[CV] END colsample_bytree=1, gamma=0, learning_rate=0.33078006497173584, max_depth=6, reg_lambda=2.0874384203726457, scale_pos_weight=0.25, subsample=0.75; total time=   5.6s\n",
            "[CV] END colsample_bytree=1, gamma=0, learning_rate=0.33078006497173584, max_depth=6, reg_lambda=2.0874384203726457, scale_pos_weight=0.25, subsample=0.75; total time=   5.7s\n",
            "[CV] END colsample_bytree=0.8, gamma=0.1, learning_rate=0.522093058299281, max_depth=3, reg_lambda=1.0459979618751882, scale_pos_weight=0.25, subsample=1; total time=   3.6s\n",
            "[CV] END colsample_bytree=0.8, gamma=0.1, learning_rate=0.522093058299281, max_depth=3, reg_lambda=1.0459979618751882, scale_pos_weight=0.25, subsample=1; total time=   3.6s\n",
            "[CV] END colsample_bytree=0.8, gamma=0.1, learning_rate=0.522093058299281, max_depth=3, reg_lambda=1.0459979618751882, scale_pos_weight=0.25, subsample=1; total time=   3.5s\n",
            "[CV] END colsample_bytree=0.8, gamma=0.1, learning_rate=0.522093058299281, max_depth=3, reg_lambda=1.0459979618751882, scale_pos_weight=0.25, subsample=1; total time=   3.5s\n",
            "[CV] END colsample_bytree=0.8, gamma=0.1, learning_rate=0.522093058299281, max_depth=3, reg_lambda=1.0459979618751882, scale_pos_weight=0.25, subsample=1; total time=   3.6s\n",
            "[CV] END colsample_bytree=1, gamma=0.2, learning_rate=0.9467299887367345, max_depth=10, reg_lambda=2.027070351117842, scale_pos_weight=0.25, subsample=1; total time=   5.7s\n",
            "[CV] END colsample_bytree=1, gamma=0.2, learning_rate=0.9467299887367345, max_depth=10, reg_lambda=2.027070351117842, scale_pos_weight=0.25, subsample=1; total time=   5.7s\n",
            "[CV] END colsample_bytree=1, gamma=0.2, learning_rate=0.9467299887367345, max_depth=10, reg_lambda=2.027070351117842, scale_pos_weight=0.25, subsample=1; total time=   5.6s\n",
            "[CV] END colsample_bytree=1, gamma=0.2, learning_rate=0.9467299887367345, max_depth=10, reg_lambda=2.027070351117842, scale_pos_weight=0.25, subsample=1; total time=   5.6s\n",
            "[CV] END colsample_bytree=1, gamma=0.2, learning_rate=0.9467299887367345, max_depth=10, reg_lambda=2.027070351117842, scale_pos_weight=0.25, subsample=1; total time=   5.7s\n",
            "[CV] END colsample_bytree=0.9, gamma=0.2, learning_rate=0.5514479738275658, max_depth=6, reg_lambda=0.7738248831454668, scale_pos_weight=1, subsample=0.9; total time=   5.2s\n",
            "[CV] END colsample_bytree=0.9, gamma=0.2, learning_rate=0.5514479738275658, max_depth=6, reg_lambda=0.7738248831454668, scale_pos_weight=1, subsample=0.9; total time=   5.2s\n",
            "[CV] END colsample_bytree=0.9, gamma=0.2, learning_rate=0.5514479738275658, max_depth=6, reg_lambda=0.7738248831454668, scale_pos_weight=1, subsample=0.9; total time=   5.2s\n",
            "[CV] END colsample_bytree=0.9, gamma=0.2, learning_rate=0.5514479738275658, max_depth=6, reg_lambda=0.7738248831454668, scale_pos_weight=1, subsample=0.9; total time=   5.2s\n",
            "[CV] END colsample_bytree=0.9, gamma=0.2, learning_rate=0.5514479738275658, max_depth=6, reg_lambda=0.7738248831454668, scale_pos_weight=1, subsample=0.9; total time=   5.2s\n",
            "[CV] END colsample_bytree=1, gamma=0, learning_rate=0.2518522909004517, max_depth=6, reg_lambda=2.69164727385998, scale_pos_weight=0.25, subsample=0.75; total time=   5.9s\n",
            "[CV] END colsample_bytree=1, gamma=0, learning_rate=0.2518522909004517, max_depth=6, reg_lambda=2.69164727385998, scale_pos_weight=0.25, subsample=0.75; total time=   5.9s\n",
            "[CV] END colsample_bytree=1, gamma=0, learning_rate=0.2518522909004517, max_depth=6, reg_lambda=2.69164727385998, scale_pos_weight=0.25, subsample=0.75; total time=   5.8s\n",
            "[CV] END colsample_bytree=1, gamma=0, learning_rate=0.2518522909004517, max_depth=6, reg_lambda=2.69164727385998, scale_pos_weight=0.25, subsample=0.75; total time=   5.8s\n",
            "[CV] END colsample_bytree=1, gamma=0, learning_rate=0.2518522909004517, max_depth=6, reg_lambda=2.69164727385998, scale_pos_weight=0.25, subsample=0.75; total time=   5.8s\n",
            "[CV] END colsample_bytree=0.8, gamma=0, learning_rate=0.2888713525921819, max_depth=3, reg_lambda=2.177867036610718, scale_pos_weight=0.25, subsample=0.9; total time=   3.6s\n",
            "[CV] END colsample_bytree=0.8, gamma=0, learning_rate=0.2888713525921819, max_depth=3, reg_lambda=2.177867036610718, scale_pos_weight=0.25, subsample=0.9; total time=   3.6s\n",
            "[CV] END colsample_bytree=0.8, gamma=0, learning_rate=0.2888713525921819, max_depth=3, reg_lambda=2.177867036610718, scale_pos_weight=0.25, subsample=0.9; total time=   3.6s\n",
            "[CV] END colsample_bytree=0.8, gamma=0, learning_rate=0.2888713525921819, max_depth=3, reg_lambda=2.177867036610718, scale_pos_weight=0.25, subsample=0.9; total time=   3.6s\n",
            "[CV] END colsample_bytree=0.8, gamma=0, learning_rate=0.2888713525921819, max_depth=3, reg_lambda=2.177867036610718, scale_pos_weight=0.25, subsample=0.9; total time=   3.6s\n",
            "[CV] END colsample_bytree=1, gamma=0.2, learning_rate=0.9456349942209475, max_depth=6, reg_lambda=2.006964764142686, scale_pos_weight=1, subsample=0.75; total time=   5.1s\n",
            "[CV] END colsample_bytree=1, gamma=0.2, learning_rate=0.9456349942209475, max_depth=6, reg_lambda=2.006964764142686, scale_pos_weight=1, subsample=0.75; total time=   5.1s\n",
            "[CV] END colsample_bytree=1, gamma=0.2, learning_rate=0.9456349942209475, max_depth=6, reg_lambda=2.006964764142686, scale_pos_weight=1, subsample=0.75; total time=   5.1s\n",
            "[CV] END colsample_bytree=1, gamma=0.2, learning_rate=0.9456349942209475, max_depth=6, reg_lambda=2.006964764142686, scale_pos_weight=1, subsample=0.75; total time=   5.1s\n",
            "[CV] END colsample_bytree=1, gamma=0.2, learning_rate=0.9456349942209475, max_depth=6, reg_lambda=2.006964764142686, scale_pos_weight=1, subsample=0.75; total time=   5.1s\n",
            "[CV] END colsample_bytree=0.9, gamma=0, learning_rate=0.6735017691080558, max_depth=10, reg_lambda=0.8517629242123971, scale_pos_weight=1, subsample=0.9; total time=   5.9s\n",
            "[CV] END colsample_bytree=0.9, gamma=0, learning_rate=0.6735017691080558, max_depth=10, reg_lambda=0.8517629242123971, scale_pos_weight=1, subsample=0.9; total time=   5.9s\n",
            "[CV] END colsample_bytree=0.9, gamma=0, learning_rate=0.6735017691080558, max_depth=10, reg_lambda=0.8517629242123971, scale_pos_weight=1, subsample=0.9; total time=   5.9s\n",
            "[CV] END colsample_bytree=0.9, gamma=0, learning_rate=0.6735017691080558, max_depth=10, reg_lambda=0.8517629242123971, scale_pos_weight=1, subsample=0.9; total time=   5.9s\n",
            "[CV] END colsample_bytree=0.9, gamma=0, learning_rate=0.6735017691080558, max_depth=10, reg_lambda=0.8517629242123971, scale_pos_weight=1, subsample=0.9; total time=   5.9s\n",
            "[CV] END colsample_bytree=0.9, gamma=0.1, learning_rate=0.45842414298624734, max_depth=10, reg_lambda=0.6728079283816794, scale_pos_weight=0.25, subsample=1; total time=   6.2s\n",
            "[CV] END colsample_bytree=0.9, gamma=0.1, learning_rate=0.45842414298624734, max_depth=10, reg_lambda=0.6728079283816794, scale_pos_weight=0.25, subsample=1; total time=   6.2s\n",
            "[CV] END colsample_bytree=0.9, gamma=0.1, learning_rate=0.45842414298624734, max_depth=10, reg_lambda=0.6728079283816794, scale_pos_weight=0.25, subsample=1; total time=   6.2s\n",
            "[CV] END colsample_bytree=0.9, gamma=0.1, learning_rate=0.45842414298624734, max_depth=10, reg_lambda=0.6728079283816794, scale_pos_weight=0.25, subsample=1; total time=   6.2s\n",
            "[CV] END colsample_bytree=0.9, gamma=0.1, learning_rate=0.45842414298624734, max_depth=10, reg_lambda=0.6728079283816794, scale_pos_weight=0.25, subsample=1; total time=   6.2s\n",
            "[CV] END colsample_bytree=0.9, gamma=0, learning_rate=0.18882270922132882, max_depth=3, reg_lambda=2.1628197727563876, scale_pos_weight=1, subsample=1; total time=   3.6s\n",
            "[CV] END colsample_bytree=0.9, gamma=0, learning_rate=0.18882270922132882, max_depth=3, reg_lambda=2.1628197727563876, scale_pos_weight=1, subsample=1; total time=   3.6s\n",
            "[CV] END colsample_bytree=0.9, gamma=0, learning_rate=0.18882270922132882, max_depth=3, reg_lambda=2.1628197727563876, scale_pos_weight=1, subsample=1; total time=   3.5s\n",
            "[CV] END colsample_bytree=0.9, gamma=0, learning_rate=0.18882270922132882, max_depth=3, reg_lambda=2.1628197727563876, scale_pos_weight=1, subsample=1; total time=   3.5s\n",
            "[CV] END colsample_bytree=0.9, gamma=0, learning_rate=0.18882270922132882, max_depth=3, reg_lambda=2.1628197727563876, scale_pos_weight=1, subsample=1; total time=   3.6s\n",
            "[CV] END colsample_bytree=0.8, gamma=0.2, learning_rate=0.6463326181858954, max_depth=6, reg_lambda=0.7319689301372507, scale_pos_weight=1, subsample=0.9; total time=   5.1s\n",
            "[CV] END colsample_bytree=0.8, gamma=0.2, learning_rate=0.6463326181858954, max_depth=6, reg_lambda=0.7319689301372507, scale_pos_weight=1, subsample=0.9; total time=   5.3s\n",
            "[CV] END colsample_bytree=0.8, gamma=0.2, learning_rate=0.6463326181858954, max_depth=6, reg_lambda=0.7319689301372507, scale_pos_weight=1, subsample=0.9; total time=   5.1s\n",
            "[CV] END colsample_bytree=0.8, gamma=0.2, learning_rate=0.6463326181858954, max_depth=6, reg_lambda=0.7319689301372507, scale_pos_weight=1, subsample=0.9; total time=   5.1s\n",
            "[CV] END colsample_bytree=0.8, gamma=0.2, learning_rate=0.6463326181858954, max_depth=6, reg_lambda=0.7319689301372507, scale_pos_weight=1, subsample=0.9; total time=   5.1s\n",
            "[CV] END colsample_bytree=1, gamma=0.2, learning_rate=0.9020465551771133, max_depth=3, reg_lambda=1.3031830965312858, scale_pos_weight=0.25, subsample=0.9; total time=   3.7s\n",
            "[CV] END colsample_bytree=1, gamma=0.2, learning_rate=0.9020465551771133, max_depth=3, reg_lambda=1.3031830965312858, scale_pos_weight=0.25, subsample=0.9; total time=   3.6s\n",
            "[CV] END colsample_bytree=1, gamma=0.2, learning_rate=0.9020465551771133, max_depth=3, reg_lambda=1.3031830965312858, scale_pos_weight=0.25, subsample=0.9; total time=   3.6s\n",
            "[CV] END colsample_bytree=1, gamma=0.2, learning_rate=0.9020465551771133, max_depth=3, reg_lambda=1.3031830965312858, scale_pos_weight=0.25, subsample=0.9; total time=   3.6s\n",
            "[CV] END colsample_bytree=1, gamma=0.2, learning_rate=0.9020465551771133, max_depth=3, reg_lambda=1.3031830965312858, scale_pos_weight=0.25, subsample=0.9; total time=   3.6s\n",
            "[CV] END colsample_bytree=1, gamma=0.2, learning_rate=0.5025176938188639, max_depth=10, reg_lambda=0.6905558047246658, scale_pos_weight=1, subsample=0.75; total time=   6.4s\n",
            "[CV] END colsample_bytree=1, gamma=0.2, learning_rate=0.5025176938188639, max_depth=10, reg_lambda=0.6905558047246658, scale_pos_weight=1, subsample=0.75; total time=   6.4s\n",
            "[CV] END colsample_bytree=1, gamma=0.2, learning_rate=0.5025176938188639, max_depth=10, reg_lambda=0.6905558047246658, scale_pos_weight=1, subsample=0.75; total time=   6.3s\n",
            "[CV] END colsample_bytree=1, gamma=0.2, learning_rate=0.5025176938188639, max_depth=10, reg_lambda=0.6905558047246658, scale_pos_weight=1, subsample=0.75; total time=   6.4s\n",
            "[CV] END colsample_bytree=1, gamma=0.2, learning_rate=0.5025176938188639, max_depth=10, reg_lambda=0.6905558047246658, scale_pos_weight=1, subsample=0.75; total time=   6.4s\n",
            "[CV] END colsample_bytree=0.8, gamma=0, learning_rate=0.05360377175443375, max_depth=6, reg_lambda=2.861785731007762, scale_pos_weight=0.25, subsample=0.9; total time=   5.6s\n",
            "[CV] END colsample_bytree=0.8, gamma=0, learning_rate=0.05360377175443375, max_depth=6, reg_lambda=2.861785731007762, scale_pos_weight=0.25, subsample=0.9; total time=   5.6s\n",
            "[CV] END colsample_bytree=0.8, gamma=0, learning_rate=0.05360377175443375, max_depth=6, reg_lambda=2.861785731007762, scale_pos_weight=0.25, subsample=0.9; total time=   5.5s\n",
            "[CV] END colsample_bytree=0.8, gamma=0, learning_rate=0.05360377175443375, max_depth=6, reg_lambda=2.861785731007762, scale_pos_weight=0.25, subsample=0.9; total time=   5.5s\n",
            "[CV] END colsample_bytree=0.8, gamma=0, learning_rate=0.05360377175443375, max_depth=6, reg_lambda=2.861785731007762, scale_pos_weight=0.25, subsample=0.9; total time=   5.5s\n",
            "[CV] END colsample_bytree=0.8, gamma=0, learning_rate=0.9630718470239532, max_depth=10, reg_lambda=1.284552444951943, scale_pos_weight=0.25, subsample=0.75; total time=   5.4s\n",
            "[CV] END colsample_bytree=0.8, gamma=0, learning_rate=0.9630718470239532, max_depth=10, reg_lambda=1.284552444951943, scale_pos_weight=0.25, subsample=0.75; total time=   5.4s\n",
            "[CV] END colsample_bytree=0.8, gamma=0, learning_rate=0.9630718470239532, max_depth=10, reg_lambda=1.284552444951943, scale_pos_weight=0.25, subsample=0.75; total time=   5.4s\n",
            "[CV] END colsample_bytree=0.8, gamma=0, learning_rate=0.9630718470239532, max_depth=10, reg_lambda=1.284552444951943, scale_pos_weight=0.25, subsample=0.75; total time=   5.4s\n",
            "[CV] END colsample_bytree=0.8, gamma=0, learning_rate=0.9630718470239532, max_depth=10, reg_lambda=1.284552444951943, scale_pos_weight=0.25, subsample=0.75; total time=   5.4s\n",
            "[CV] END colsample_bytree=0.8, gamma=0, learning_rate=0.0853462560061282, max_depth=10, reg_lambda=1.1552931858057758, scale_pos_weight=0.25, subsample=1; total time=   9.5s\n",
            "[CV] END colsample_bytree=0.8, gamma=0, learning_rate=0.0853462560061282, max_depth=10, reg_lambda=1.1552931858057758, scale_pos_weight=0.25, subsample=1; total time=   9.6s\n",
            "[CV] END colsample_bytree=0.8, gamma=0, learning_rate=0.0853462560061282, max_depth=10, reg_lambda=1.1552931858057758, scale_pos_weight=0.25, subsample=1; total time=   9.5s\n",
            "[CV] END colsample_bytree=0.8, gamma=0, learning_rate=0.0853462560061282, max_depth=10, reg_lambda=1.1552931858057758, scale_pos_weight=0.25, subsample=1; total time=   9.6s\n",
            "[CV] END colsample_bytree=0.8, gamma=0, learning_rate=0.0853462560061282, max_depth=10, reg_lambda=1.1552931858057758, scale_pos_weight=0.25, subsample=1; total time=   9.4s\n",
            "[CV] END colsample_bytree=0.8, gamma=0.1, learning_rate=0.5668012624583502, max_depth=3, reg_lambda=2.532639422178934, scale_pos_weight=0.25, subsample=0.9; total time=   3.7s\n",
            "[CV] END colsample_bytree=0.8, gamma=0.1, learning_rate=0.5668012624583502, max_depth=3, reg_lambda=2.532639422178934, scale_pos_weight=0.25, subsample=0.9; total time=   3.7s\n",
            "[CV] END colsample_bytree=0.8, gamma=0.1, learning_rate=0.5668012624583502, max_depth=3, reg_lambda=2.532639422178934, scale_pos_weight=0.25, subsample=0.9; total time=   3.6s\n",
            "[CV] END colsample_bytree=0.8, gamma=0.1, learning_rate=0.5668012624583502, max_depth=3, reg_lambda=2.532639422178934, scale_pos_weight=0.25, subsample=0.9; total time=   3.6s\n",
            "[CV] END colsample_bytree=0.8, gamma=0.1, learning_rate=0.5668012624583502, max_depth=3, reg_lambda=2.532639422178934, scale_pos_weight=0.25, subsample=0.9; total time=   3.6s\n",
            "[CV] END colsample_bytree=0.9, gamma=0.2, learning_rate=1.0000538501042633, max_depth=6, reg_lambda=0.7624909472092163, scale_pos_weight=1, subsample=0.9; total time=   4.9s\n",
            "[CV] END colsample_bytree=0.9, gamma=0.2, learning_rate=1.0000538501042633, max_depth=6, reg_lambda=0.7624909472092163, scale_pos_weight=1, subsample=0.9; total time=   4.9s\n",
            "[CV] END colsample_bytree=0.9, gamma=0.2, learning_rate=1.0000538501042633, max_depth=6, reg_lambda=0.7624909472092163, scale_pos_weight=1, subsample=0.9; total time=   4.8s\n",
            "[CV] END colsample_bytree=0.9, gamma=0.2, learning_rate=1.0000538501042633, max_depth=6, reg_lambda=0.7624909472092163, scale_pos_weight=1, subsample=0.9; total time=   4.9s\n",
            "[CV] END colsample_bytree=0.9, gamma=0.2, learning_rate=1.0000538501042633, max_depth=6, reg_lambda=0.7624909472092163, scale_pos_weight=1, subsample=0.9; total time=   4.9s\n",
            "[CV] END colsample_bytree=0.9, gamma=0, learning_rate=0.8586697949246744, max_depth=10, reg_lambda=2.1074522519613277, scale_pos_weight=1, subsample=0.75; total time=   5.9s\n",
            "[CV] END colsample_bytree=0.9, gamma=0, learning_rate=0.8586697949246744, max_depth=10, reg_lambda=2.1074522519613277, scale_pos_weight=1, subsample=0.75; total time=   5.9s\n",
            "[CV] END colsample_bytree=0.9, gamma=0, learning_rate=0.8586697949246744, max_depth=10, reg_lambda=2.1074522519613277, scale_pos_weight=1, subsample=0.75; total time=   5.8s\n",
            "[CV] END colsample_bytree=0.9, gamma=0, learning_rate=0.8586697949246744, max_depth=10, reg_lambda=2.1074522519613277, scale_pos_weight=1, subsample=0.75; total time=   5.8s\n",
            "[CV] END colsample_bytree=0.9, gamma=0, learning_rate=0.8586697949246744, max_depth=10, reg_lambda=2.1074522519613277, scale_pos_weight=1, subsample=0.75; total time=   5.8s\n",
            "[CV] END colsample_bytree=1, gamma=0.1, learning_rate=0.8193611554785136, max_depth=3, reg_lambda=0.7686208307833742, scale_pos_weight=1, subsample=1; total time=   3.6s\n",
            "[CV] END colsample_bytree=1, gamma=0.1, learning_rate=0.8193611554785136, max_depth=3, reg_lambda=0.7686208307833742, scale_pos_weight=1, subsample=1; total time=   3.6s\n",
            "[CV] END colsample_bytree=1, gamma=0.1, learning_rate=0.8193611554785136, max_depth=3, reg_lambda=0.7686208307833742, scale_pos_weight=1, subsample=1; total time=   3.6s\n",
            "[CV] END colsample_bytree=1, gamma=0.1, learning_rate=0.8193611554785136, max_depth=3, reg_lambda=0.7686208307833742, scale_pos_weight=1, subsample=1; total time=   3.6s\n",
            "[CV] END colsample_bytree=1, gamma=0.1, learning_rate=0.8193611554785136, max_depth=3, reg_lambda=0.7686208307833742, scale_pos_weight=1, subsample=1; total time=   3.6s\n",
            "[CV] END colsample_bytree=0.9, gamma=0.2, learning_rate=0.5115162946871996, max_depth=10, reg_lambda=0.5828218605361267, scale_pos_weight=1, subsample=0.9; total time=   6.2s\n",
            "[CV] END colsample_bytree=0.9, gamma=0.2, learning_rate=0.5115162946871996, max_depth=10, reg_lambda=0.5828218605361267, scale_pos_weight=1, subsample=0.9; total time=   6.3s\n",
            "[CV] END colsample_bytree=0.9, gamma=0.2, learning_rate=0.5115162946871996, max_depth=10, reg_lambda=0.5828218605361267, scale_pos_weight=1, subsample=0.9; total time=   6.2s\n",
            "[CV] END colsample_bytree=0.9, gamma=0.2, learning_rate=0.5115162946871996, max_depth=10, reg_lambda=0.5828218605361267, scale_pos_weight=1, subsample=0.9; total time=   6.2s\n",
            "[CV] END colsample_bytree=0.9, gamma=0.2, learning_rate=0.5115162946871996, max_depth=10, reg_lambda=0.5828218605361267, scale_pos_weight=1, subsample=0.9; total time=   6.2s\n",
            "[CV] END colsample_bytree=0.9, gamma=0.2, learning_rate=0.3479951568515358, max_depth=6, reg_lambda=0.281945819522607, scale_pos_weight=0.25, subsample=0.75; total time=   5.2s\n",
            "[CV] END colsample_bytree=0.9, gamma=0.2, learning_rate=0.3479951568515358, max_depth=6, reg_lambda=0.281945819522607, scale_pos_weight=0.25, subsample=0.75; total time=   5.2s\n",
            "[CV] END colsample_bytree=0.9, gamma=0.2, learning_rate=0.3479951568515358, max_depth=6, reg_lambda=0.281945819522607, scale_pos_weight=0.25, subsample=0.75; total time=   5.4s\n",
            "[CV] END colsample_bytree=0.9, gamma=0.2, learning_rate=0.3479951568515358, max_depth=6, reg_lambda=0.281945819522607, scale_pos_weight=0.25, subsample=0.75; total time=   5.2s\n",
            "[CV] END colsample_bytree=0.9, gamma=0.2, learning_rate=0.3479951568515358, max_depth=6, reg_lambda=0.281945819522607, scale_pos_weight=0.25, subsample=0.75; total time=   5.2s\n",
            "[CV] END colsample_bytree=0.9, gamma=0.2, learning_rate=0.47559801813246017, max_depth=3, reg_lambda=2.9455226649315933, scale_pos_weight=1, subsample=0.9; total time=   3.6s\n",
            "[CV] END colsample_bytree=0.9, gamma=0.2, learning_rate=0.47559801813246017, max_depth=3, reg_lambda=2.9455226649315933, scale_pos_weight=1, subsample=0.9; total time=   3.6s\n",
            "[CV] END colsample_bytree=0.9, gamma=0.2, learning_rate=0.47559801813246017, max_depth=3, reg_lambda=2.9455226649315933, scale_pos_weight=1, subsample=0.9; total time=   3.6s\n",
            "[CV] END colsample_bytree=0.9, gamma=0.2, learning_rate=0.47559801813246017, max_depth=3, reg_lambda=2.9455226649315933, scale_pos_weight=1, subsample=0.9; total time=   3.6s\n",
            "[CV] END colsample_bytree=0.9, gamma=0.2, learning_rate=0.47559801813246017, max_depth=3, reg_lambda=2.9455226649315933, scale_pos_weight=1, subsample=0.9; total time=   3.6s\n",
            "[CV] END colsample_bytree=0.9, gamma=0.1, learning_rate=0.26025136051586406, max_depth=6, reg_lambda=2.4678016819789748, scale_pos_weight=1, subsample=0.75; total time=   5.8s\n",
            "[CV] END colsample_bytree=0.9, gamma=0.1, learning_rate=0.26025136051586406, max_depth=6, reg_lambda=2.4678016819789748, scale_pos_weight=1, subsample=0.75; total time=   5.8s\n",
            "[CV] END colsample_bytree=0.9, gamma=0.1, learning_rate=0.26025136051586406, max_depth=6, reg_lambda=2.4678016819789748, scale_pos_weight=1, subsample=0.75; total time=   5.8s\n",
            "[CV] END colsample_bytree=0.9, gamma=0.1, learning_rate=0.26025136051586406, max_depth=6, reg_lambda=2.4678016819789748, scale_pos_weight=1, subsample=0.75; total time=   5.7s\n",
            "[CV] END colsample_bytree=0.9, gamma=0.1, learning_rate=0.26025136051586406, max_depth=6, reg_lambda=2.4678016819789748, scale_pos_weight=1, subsample=0.75; total time=   5.8s\n",
            "[CV] END colsample_bytree=1, gamma=0, learning_rate=0.8378690037875887, max_depth=10, reg_lambda=1.3717954848411855, scale_pos_weight=1, subsample=1; total time=   5.8s\n",
            "[CV] END colsample_bytree=1, gamma=0, learning_rate=0.8378690037875887, max_depth=10, reg_lambda=1.3717954848411855, scale_pos_weight=1, subsample=1; total time=   5.8s\n",
            "[CV] END colsample_bytree=1, gamma=0, learning_rate=0.8378690037875887, max_depth=10, reg_lambda=1.3717954848411855, scale_pos_weight=1, subsample=1; total time=   5.8s\n",
            "[CV] END colsample_bytree=1, gamma=0, learning_rate=0.8378690037875887, max_depth=10, reg_lambda=1.3717954848411855, scale_pos_weight=1, subsample=1; total time=   5.8s\n",
            "[CV] END colsample_bytree=1, gamma=0, learning_rate=0.8378690037875887, max_depth=10, reg_lambda=1.3717954848411855, scale_pos_weight=1, subsample=1; total time=   5.8s\n",
            "[CV] END colsample_bytree=0.9, gamma=0.2, learning_rate=0.7095122107671938, max_depth=10, reg_lambda=2.908610601342477, scale_pos_weight=1, subsample=0.9; total time=   6.4s\n",
            "[CV] END colsample_bytree=0.9, gamma=0.2, learning_rate=0.7095122107671938, max_depth=10, reg_lambda=2.908610601342477, scale_pos_weight=1, subsample=0.9; total time=   6.4s\n",
            "[CV] END colsample_bytree=0.9, gamma=0.2, learning_rate=0.7095122107671938, max_depth=10, reg_lambda=2.908610601342477, scale_pos_weight=1, subsample=0.9; total time=   6.3s\n",
            "[CV] END colsample_bytree=0.9, gamma=0.2, learning_rate=0.7095122107671938, max_depth=10, reg_lambda=2.908610601342477, scale_pos_weight=1, subsample=0.9; total time=   6.4s\n",
            "[CV] END colsample_bytree=0.9, gamma=0.2, learning_rate=0.7095122107671938, max_depth=10, reg_lambda=2.908610601342477, scale_pos_weight=1, subsample=0.9; total time=   6.4s\n",
            "[CV] END colsample_bytree=0.8, gamma=0, learning_rate=0.40882090144479455, max_depth=3, reg_lambda=1.3169142621169083, scale_pos_weight=0.25, subsample=0.9; total time=   3.6s\n",
            "[CV] END colsample_bytree=0.8, gamma=0, learning_rate=0.40882090144479455, max_depth=3, reg_lambda=1.3169142621169083, scale_pos_weight=0.25, subsample=0.9; total time=   3.6s\n",
            "[CV] END colsample_bytree=0.8, gamma=0, learning_rate=0.40882090144479455, max_depth=3, reg_lambda=1.3169142621169083, scale_pos_weight=0.25, subsample=0.9; total time=   3.6s\n",
            "[CV] END colsample_bytree=0.8, gamma=0, learning_rate=0.40882090144479455, max_depth=3, reg_lambda=1.3169142621169083, scale_pos_weight=0.25, subsample=0.9; total time=   3.6s\n",
            "[CV] END colsample_bytree=0.8, gamma=0, learning_rate=0.40882090144479455, max_depth=3, reg_lambda=1.3169142621169083, scale_pos_weight=0.25, subsample=0.9; total time=   3.6s\n",
            "[CV] END colsample_bytree=1, gamma=0.1, learning_rate=0.9726484146779251, max_depth=3, reg_lambda=1.2849434248203233, scale_pos_weight=1, subsample=1; total time=   3.6s\n",
            "[CV] END colsample_bytree=1, gamma=0.1, learning_rate=0.9726484146779251, max_depth=3, reg_lambda=1.2849434248203233, scale_pos_weight=1, subsample=1; total time=   3.6s\n",
            "[CV] END colsample_bytree=1, gamma=0.1, learning_rate=0.9726484146779251, max_depth=3, reg_lambda=1.2849434248203233, scale_pos_weight=1, subsample=1; total time=   3.6s\n",
            "[CV] END colsample_bytree=1, gamma=0.1, learning_rate=0.9726484146779251, max_depth=3, reg_lambda=1.2849434248203233, scale_pos_weight=1, subsample=1; total time=   3.7s\n",
            "[CV] END colsample_bytree=1, gamma=0.1, learning_rate=0.9726484146779251, max_depth=3, reg_lambda=1.2849434248203233, scale_pos_weight=1, subsample=1; total time=   3.7s\n",
            "[CV] END colsample_bytree=1, gamma=0.1, learning_rate=0.9252137276264805, max_depth=3, reg_lambda=0.750728694493786, scale_pos_weight=1, subsample=0.9; total time=   3.7s\n",
            "[CV] END colsample_bytree=1, gamma=0.1, learning_rate=0.9252137276264805, max_depth=3, reg_lambda=0.750728694493786, scale_pos_weight=1, subsample=0.9; total time=   3.6s\n",
            "[CV] END colsample_bytree=1, gamma=0.1, learning_rate=0.9252137276264805, max_depth=3, reg_lambda=0.750728694493786, scale_pos_weight=1, subsample=0.9; total time=   3.6s\n",
            "[CV] END colsample_bytree=1, gamma=0.1, learning_rate=0.9252137276264805, max_depth=3, reg_lambda=0.750728694493786, scale_pos_weight=1, subsample=0.9; total time=   3.6s\n",
            "[CV] END colsample_bytree=1, gamma=0.1, learning_rate=0.9252137276264805, max_depth=3, reg_lambda=0.750728694493786, scale_pos_weight=1, subsample=0.9; total time=   3.6s\n",
            "[CV] END colsample_bytree=1, gamma=0, learning_rate=0.28993389694594285, max_depth=10, reg_lambda=2.2136907500873058, scale_pos_weight=0.25, subsample=1; total time=   8.0s\n",
            "[CV] END colsample_bytree=1, gamma=0, learning_rate=0.28993389694594285, max_depth=10, reg_lambda=2.2136907500873058, scale_pos_weight=0.25, subsample=1; total time=   7.9s\n",
            "[CV] END colsample_bytree=1, gamma=0, learning_rate=0.28993389694594285, max_depth=10, reg_lambda=2.2136907500873058, scale_pos_weight=0.25, subsample=1; total time=   7.9s\n",
            "[CV] END colsample_bytree=1, gamma=0, learning_rate=0.28993389694594285, max_depth=10, reg_lambda=2.2136907500873058, scale_pos_weight=0.25, subsample=1; total time=   7.8s\n",
            "[CV] END colsample_bytree=1, gamma=0, learning_rate=0.28993389694594285, max_depth=10, reg_lambda=2.2136907500873058, scale_pos_weight=0.25, subsample=1; total time=   7.9s\n",
            "[CV] END colsample_bytree=0.9, gamma=0, learning_rate=0.4296000624277899, max_depth=6, reg_lambda=1.0679180359537848, scale_pos_weight=0.25, subsample=0.9; total time=   5.3s\n",
            "[CV] END colsample_bytree=0.9, gamma=0, learning_rate=0.4296000624277899, max_depth=6, reg_lambda=1.0679180359537848, scale_pos_weight=0.25, subsample=0.9; total time=   5.3s\n",
            "[CV] END colsample_bytree=0.9, gamma=0, learning_rate=0.4296000624277899, max_depth=6, reg_lambda=1.0679180359537848, scale_pos_weight=0.25, subsample=0.9; total time=   5.3s\n",
            "[CV] END colsample_bytree=0.9, gamma=0, learning_rate=0.4296000624277899, max_depth=6, reg_lambda=1.0679180359537848, scale_pos_weight=0.25, subsample=0.9; total time=   5.3s\n",
            "[CV] END colsample_bytree=0.9, gamma=0, learning_rate=0.4296000624277899, max_depth=6, reg_lambda=1.0679180359537848, scale_pos_weight=0.25, subsample=0.9; total time=   5.3s\n",
            "[CV] END colsample_bytree=1, gamma=0, learning_rate=0.12607264050691624, max_depth=10, reg_lambda=0.28247096480568035, scale_pos_weight=1, subsample=0.9; total time=   9.5s\n",
            "[CV] END colsample_bytree=1, gamma=0, learning_rate=0.12607264050691624, max_depth=10, reg_lambda=0.28247096480568035, scale_pos_weight=1, subsample=0.9; total time=   9.5s\n",
            "[CV] END colsample_bytree=1, gamma=0, learning_rate=0.12607264050691624, max_depth=10, reg_lambda=0.28247096480568035, scale_pos_weight=1, subsample=0.9; total time=   9.4s\n",
            "[CV] END colsample_bytree=1, gamma=0, learning_rate=0.12607264050691624, max_depth=10, reg_lambda=0.28247096480568035, scale_pos_weight=1, subsample=0.9; total time=   9.4s\n",
            "[CV] END colsample_bytree=1, gamma=0, learning_rate=0.12607264050691624, max_depth=10, reg_lambda=0.28247096480568035, scale_pos_weight=1, subsample=0.9; total time=   9.4s\n",
            "[CV] END colsample_bytree=0.9, gamma=0, learning_rate=0.4841738290873252, max_depth=6, reg_lambda=2.2900932690117326, scale_pos_weight=0.25, subsample=0.75; total time=   5.5s\n",
            "[CV] END colsample_bytree=0.9, gamma=0, learning_rate=0.4841738290873252, max_depth=6, reg_lambda=2.2900932690117326, scale_pos_weight=0.25, subsample=0.75; total time=   5.5s\n",
            "[CV] END colsample_bytree=0.9, gamma=0, learning_rate=0.4841738290873252, max_depth=6, reg_lambda=2.2900932690117326, scale_pos_weight=0.25, subsample=0.75; total time=   5.5s\n",
            "[CV] END colsample_bytree=0.9, gamma=0, learning_rate=0.4841738290873252, max_depth=6, reg_lambda=2.2900932690117326, scale_pos_weight=0.25, subsample=0.75; total time=   5.5s\n",
            "[CV] END colsample_bytree=0.9, gamma=0, learning_rate=0.4841738290873252, max_depth=6, reg_lambda=2.2900932690117326, scale_pos_weight=0.25, subsample=0.75; total time=   5.5s\n",
            "[CV] END colsample_bytree=1, gamma=0.1, learning_rate=0.44385164923797304, max_depth=3, reg_lambda=0.14417677259110118, scale_pos_weight=1, subsample=1; total time=   3.6s\n",
            "[CV] END colsample_bytree=1, gamma=0.1, learning_rate=0.44385164923797304, max_depth=3, reg_lambda=0.14417677259110118, scale_pos_weight=1, subsample=1; total time=   3.6s\n",
            "[CV] END colsample_bytree=1, gamma=0.1, learning_rate=0.44385164923797304, max_depth=3, reg_lambda=0.14417677259110118, scale_pos_weight=1, subsample=1; total time=   3.5s\n",
            "[CV] END colsample_bytree=1, gamma=0.1, learning_rate=0.44385164923797304, max_depth=3, reg_lambda=0.14417677259110118, scale_pos_weight=1, subsample=1; total time=   3.5s\n",
            "[CV] END colsample_bytree=1, gamma=0.1, learning_rate=0.44385164923797304, max_depth=3, reg_lambda=0.14417677259110118, scale_pos_weight=1, subsample=1; total time=   3.6s\n",
            "[CV] END colsample_bytree=0.9, gamma=0.2, learning_rate=0.02530454029038475, max_depth=3, reg_lambda=1.5094087757402632, scale_pos_weight=0.25, subsample=1; total time=   3.6s\n",
            "[CV] END colsample_bytree=0.9, gamma=0.2, learning_rate=0.02530454029038475, max_depth=3, reg_lambda=1.5094087757402632, scale_pos_weight=0.25, subsample=1; total time=   3.6s\n",
            "[CV] END colsample_bytree=0.9, gamma=0.2, learning_rate=0.02530454029038475, max_depth=3, reg_lambda=1.5094087757402632, scale_pos_weight=0.25, subsample=1; total time=   3.5s\n",
            "[CV] END colsample_bytree=0.9, gamma=0.2, learning_rate=0.02530454029038475, max_depth=3, reg_lambda=1.5094087757402632, scale_pos_weight=0.25, subsample=1; total time=   3.5s\n",
            "[CV] END colsample_bytree=0.9, gamma=0.2, learning_rate=0.02530454029038475, max_depth=3, reg_lambda=1.5094087757402632, scale_pos_weight=0.25, subsample=1; total time=   3.5s\n",
            "[CV] END colsample_bytree=1, gamma=0.2, learning_rate=0.9542515971251674, max_depth=3, reg_lambda=2.4028478840471994, scale_pos_weight=1, subsample=0.9; total time=   3.7s\n",
            "[CV] END colsample_bytree=1, gamma=0.2, learning_rate=0.9542515971251674, max_depth=3, reg_lambda=2.4028478840471994, scale_pos_weight=1, subsample=0.9; total time=   3.7s\n",
            "[CV] END colsample_bytree=1, gamma=0.2, learning_rate=0.9542515971251674, max_depth=3, reg_lambda=2.4028478840471994, scale_pos_weight=1, subsample=0.9; total time=   3.6s\n",
            "[CV] END colsample_bytree=1, gamma=0.2, learning_rate=0.9542515971251674, max_depth=3, reg_lambda=2.4028478840471994, scale_pos_weight=1, subsample=0.9; total time=   3.6s\n",
            "[CV] END colsample_bytree=1, gamma=0.2, learning_rate=0.9542515971251674, max_depth=3, reg_lambda=2.4028478840471994, scale_pos_weight=1, subsample=0.9; total time=   3.6s\n",
            "[CV] END colsample_bytree=0.8, gamma=0, learning_rate=0.46825289049151664, max_depth=3, reg_lambda=2.461918427231866, scale_pos_weight=1, subsample=0.75; total time=   3.7s\n",
            "[CV] END colsample_bytree=0.8, gamma=0, learning_rate=0.46825289049151664, max_depth=3, reg_lambda=2.461918427231866, scale_pos_weight=1, subsample=0.75; total time=   3.7s\n",
            "[CV] END colsample_bytree=0.8, gamma=0, learning_rate=0.46825289049151664, max_depth=3, reg_lambda=2.461918427231866, scale_pos_weight=1, subsample=0.75; total time=   3.6s\n",
            "[CV] END colsample_bytree=0.8, gamma=0, learning_rate=0.46825289049151664, max_depth=3, reg_lambda=2.461918427231866, scale_pos_weight=1, subsample=0.75; total time=   3.6s\n",
            "[CV] END colsample_bytree=0.8, gamma=0, learning_rate=0.46825289049151664, max_depth=3, reg_lambda=2.461918427231866, scale_pos_weight=1, subsample=0.75; total time=   3.7s\n",
            "[CV] END colsample_bytree=1, gamma=0, learning_rate=0.661484771857788, max_depth=3, reg_lambda=0.5873734043678893, scale_pos_weight=0.25, subsample=0.75; total time=   3.7s\n",
            "[CV] END colsample_bytree=1, gamma=0, learning_rate=0.661484771857788, max_depth=3, reg_lambda=0.5873734043678893, scale_pos_weight=0.25, subsample=0.75; total time=   3.7s\n",
            "[CV] END colsample_bytree=1, gamma=0, learning_rate=0.661484771857788, max_depth=3, reg_lambda=0.5873734043678893, scale_pos_weight=0.25, subsample=0.75; total time=   3.6s\n",
            "[CV] END colsample_bytree=1, gamma=0, learning_rate=0.661484771857788, max_depth=3, reg_lambda=0.5873734043678893, scale_pos_weight=0.25, subsample=0.75; total time=   3.6s\n",
            "[CV] END colsample_bytree=1, gamma=0, learning_rate=0.661484771857788, max_depth=3, reg_lambda=0.5873734043678893, scale_pos_weight=0.25, subsample=0.75; total time=   3.7s\n",
            "[CV] END colsample_bytree=0.9, gamma=0.1, learning_rate=0.04896313231023363, max_depth=6, reg_lambda=2.0490203202490704, scale_pos_weight=0.25, subsample=0.9; total time=   5.6s\n",
            "[CV] END colsample_bytree=0.9, gamma=0.1, learning_rate=0.04896313231023363, max_depth=6, reg_lambda=2.0490203202490704, scale_pos_weight=0.25, subsample=0.9; total time=   5.6s\n",
            "[CV] END colsample_bytree=0.9, gamma=0.1, learning_rate=0.04896313231023363, max_depth=6, reg_lambda=2.0490203202490704, scale_pos_weight=0.25, subsample=0.9; total time=   5.5s\n",
            "[CV] END colsample_bytree=0.9, gamma=0.1, learning_rate=0.04896313231023363, max_depth=6, reg_lambda=2.0490203202490704, scale_pos_weight=0.25, subsample=0.9; total time=   5.5s\n",
            "[CV] END colsample_bytree=0.9, gamma=0.1, learning_rate=0.04896313231023363, max_depth=6, reg_lambda=2.0490203202490704, scale_pos_weight=0.25, subsample=0.9; total time=   5.5s\n",
            "Best score:  0.5690280741688263\n",
            "Best params:  {'colsample_bytree': 0.9, 'gamma': 0.2, 'learning_rate': 0.02530454029038475, 'max_depth': 3, 'reg_lambda': 1.5094087757402632, 'scale_pos_weight': 0.25, 'subsample': 1}\n"
          ]
        }
      ],
      "source": [
        "distr = {\n",
        "    'learning_rate': uniform(0.01, 1),\n",
        "    'gamma': [0, 0.1, 0.2],\n",
        "    'max_depth': [10, 6, 3],\n",
        "    'reg_lambda': uniform(0, 3),\n",
        "    'scale_pos_weight': [0.25, 1],\n",
        "    'subsample': [1, 0.9, 0.75],\n",
        "    'colsample_bytree': [1, 0.9, 0.8]\n",
        "}\n",
        "\n",
        "clf = RandomizedSearchCV(xgbclf, distr, n_iter=70, cv=5, scoring='roc_auc',\n",
        "                         random_state=42, verbose=2)\n",
        "\n",
        "clf.fit(X_train_dummies, y_train)\n",
        "\n",
        "print('Best score: ', clf.best_score_)\n",
        "print('Best params: ', clf.best_params_)"
      ]
    },
    {
      "cell_type": "markdown",
      "source": [
        "In result of the first round of grid search, the following parameters values were selected:\n",
        "* learning_rate = 0.0253\n",
        "* max_depth = 3\n",
        "* reg_lambda = 1.509\n",
        "* gamma = 0.2\n",
        "* scale_pos_weight = 0.25\n",
        "* colsample_bytree = 0.9\n",
        "* subsample: 1\n",
        "<br> <br>\n",
        "In the second round grid search will be used to find the optimal parameters values. Since in the first round the lowest value of max_depth was selected, in second round lower max_depth will be tested. Values of learning_rate and reg_lambda will be set close to the values recieved in the first round."
      ],
      "metadata": {
        "id": "7UQjz_FD9wiV"
      }
    },
    {
      "cell_type": "markdown",
      "source": [
        "Round 2"
      ],
      "metadata": {
        "id": "5zu4Ji5a9vFQ"
      }
    },
    {
      "cell_type": "code",
      "source": [
        "grid = {\n",
        "    'learning_rate': [0.01, 0.02, 0.025, 0.03, 0.04],\n",
        "    'gamma': [0.2, 0.5, 1],\n",
        "    'max_depth': [6, 5, 4, 3, 2],\n",
        "    'reg_lambda': [1.4, 1.5, 1.6],\n",
        "    'scale_pos_weight': [0.25],\n",
        "    'subsample': [1],\n",
        "    'colsample_bytree': [0.9]\n",
        "}\n",
        "\n",
        "clf = GridSearchCV(xgbclf, grid, cv=5, scoring='roc_auc',\n",
        "                   verbose=1)\n",
        "\n",
        "clf.fit(X_train_dummies, y_train)\n",
        "\n",
        "print('Best score: ', clf.best_score_)\n",
        "print('Best params: ', clf.best_params_)"
      ],
      "metadata": {
        "id": "MoGr-CBfbVuD",
        "colab": {
          "base_uri": "https://localhost:8080/"
        },
        "outputId": "5caab921-bf49-495c-e1b8-c4b2a4375441"
      },
      "execution_count": 18,
      "outputs": [
        {
          "output_type": "stream",
          "name": "stdout",
          "text": [
            "Fitting 5 folds for each of 225 candidates, totalling 1125 fits\n",
            "Best score:  0.5816683092783697\n",
            "Best params:  {'colsample_bytree': 0.9, 'gamma': 0.2, 'learning_rate': 0.01, 'max_depth': 2, 'reg_lambda': 1.5, 'scale_pos_weight': 0.25, 'subsample': 1}\n"
          ]
        }
      ]
    },
    {
      "cell_type": "markdown",
      "source": [
        "In result of the second round of grid search reg_lambda=1.5, gamma=0.2, max_depth=2, learning_rate=0.01 were selected. <br>\n",
        "So trees depth should be set to 2 or 1 (max_depth=1 was not tested during first 3 rounds). the optimal value for reg_lambda is 1.5. The optimal value of gamma is between 0.2 and 0.4. Taking that into account the 4th round of grid search will be performed."
      ],
      "metadata": {
        "id": "pCnnW5IYBTnz"
      }
    },
    {
      "cell_type": "markdown",
      "source": [
        "Round 4"
      ],
      "metadata": {
        "id": "wwwJCP1ACO5g"
      }
    },
    {
      "cell_type": "code",
      "source": [
        "grid = {\n",
        "    'n_estimators': [1000],\n",
        "    'learning_rate': [0.01, 0.001, 0.0001, 1e-5, 1e-6],\n",
        "    'gamma': [0.2, 0.3, 0.4],\n",
        "    'max_depth': [2, 1],\n",
        "    'reg_lambda': [1.5],\n",
        "    'scale_pos_weight': [0.25],\n",
        "    'subsample': [1],\n",
        "    'colsample_bytree': [0.9]\n",
        "}\n",
        "\n",
        "clf = GridSearchCV(xgbclf, grid, cv=5, scoring='roc_auc',\n",
        "                   verbose=1)\n",
        "\n",
        "clf.fit(X_train_dummies, y_train)\n",
        "\n",
        "print('Best score: ', clf.best_score_)\n",
        "print('Best params: ', clf.best_params_)"
      ],
      "metadata": {
        "colab": {
          "base_uri": "https://localhost:8080/"
        },
        "id": "jcbxed3Rs0vA",
        "outputId": "91e0b5a6-c6ca-4646-eedc-9db6784e7b09"
      },
      "execution_count": 20,
      "outputs": [
        {
          "output_type": "stream",
          "name": "stdout",
          "text": [
            "Fitting 5 folds for each of 30 candidates, totalling 150 fits\n",
            "Best score:  0.5837430724489516\n",
            "Best params:  {'colsample_bytree': 0.9, 'gamma': 0.2, 'learning_rate': 0.01, 'max_depth': 1, 'n_estimators': 1000, 'reg_lambda': 1.5, 'scale_pos_weight': 0.25, 'subsample': 1}\n"
          ]
        }
      ]
    },
    {
      "cell_type": "markdown",
      "source": [
        "The 4th round of grid search shows, that the optimal value for gamma is 0.2. In the 5th round combinations of different number of estimators and learning rates will be tested"
      ],
      "metadata": {
        "id": "7KVbx7UuDPQQ"
      }
    },
    {
      "cell_type": "markdown",
      "source": [
        "Round 5"
      ],
      "metadata": {
        "id": "xihXpPaDD33K"
      }
    },
    {
      "cell_type": "code",
      "source": [
        "grid = {\n",
        "    'n_estimators': [5000, 4000, 3000, 2000, 1000],\n",
        "    'learning_rate': [0.01, 0.001, 0.0001, 1e-5, 1e-6],\n",
        "    'gamma': [0.2],\n",
        "    'max_depth': [2, 1],\n",
        "    'reg_lambda': [1.5],\n",
        "    'scale_pos_weight': [0.25],\n",
        "    'subsample': [1],\n",
        "    'colsample_bytree': [0.9]\n",
        "}\n",
        "\n",
        "clf = GridSearchCV(xgbclf, grid, cv=5, scoring='roc_auc',\n",
        "                   verbose=1)\n",
        "\n",
        "clf.fit(X_train_dummies, y_train)\n",
        "\n",
        "print('Best score: ', clf.best_score_)\n",
        "print('Best params: ', clf.best_params_)"
      ],
      "metadata": {
        "colab": {
          "base_uri": "https://localhost:8080/"
        },
        "id": "JKMUrOSDA3xc",
        "outputId": "eab5fb1f-ce84-421c-e800-66136d95847a"
      },
      "execution_count": 23,
      "outputs": [
        {
          "output_type": "stream",
          "name": "stdout",
          "text": [
            "Fitting 5 folds for each of 50 candidates, totalling 250 fits\n",
            "Best score:  0.5852756591895497\n",
            "Best params:  {'colsample_bytree': 0.9, 'gamma': 0.2, 'learning_rate': 0.001, 'max_depth': 1, 'n_estimators': 4000, 'reg_lambda': 1.5, 'scale_pos_weight': 0.25, 'subsample': 1}\n"
          ]
        }
      ]
    },
    {
      "cell_type": "code",
      "source": [
        ""
      ],
      "metadata": {
        "id": "65oSU37aDHQu"
      },
      "execution_count": null,
      "outputs": []
    }
  ],
  "metadata": {
    "kernelspec": {
      "display_name": "Python 3.9.7 ('base')",
      "language": "python",
      "name": "python3"
    },
    "language_info": {
      "codemirror_mode": {
        "name": "ipython",
        "version": 3
      },
      "file_extension": ".py",
      "mimetype": "text/x-python",
      "name": "python",
      "nbconvert_exporter": "python",
      "pygments_lexer": "ipython3",
      "version": "3.9.7"
    },
    "orig_nbformat": 4,
    "vscode": {
      "interpreter": {
        "hash": "717c13e09df9089ce02dd018825478f9268d1582be70d5672c549121a9bc5491"
      }
    },
    "colab": {
      "name": "xgboost.ipynb",
      "provenance": [],
      "include_colab_link": true
    },
    "accelerator": "GPU",
    "gpuClass": "standard"
  },
  "nbformat": 4,
  "nbformat_minor": 0
}