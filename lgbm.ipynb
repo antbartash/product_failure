{
  "cells": [
    {
      "cell_type": "markdown",
      "metadata": {
        "id": "view-in-github",
        "colab_type": "text"
      },
      "source": [
        "<a href=\"https://colab.research.google.com/github/antbartash/product_failure/blob/main/lgbm.ipynb\" target=\"_parent\"><img src=\"https://colab.research.google.com/assets/colab-badge.svg\" alt=\"Open In Colab\"/></a>"
      ]
    },
    {
      "cell_type": "markdown",
      "metadata": {
        "id": "cwpx_8NOQRTH"
      },
      "source": [
        "# Loading libraries and data <br>\n",
        "Decision trees are fine with not-scaled features. Since LightGBM supports missing values, we don't need to fill them ourselves and KNN won't be applied. Therefore, models will be built on not-scaled variables"
      ]
    },
    {
      "cell_type": "code",
      "execution_count": null,
      "metadata": {
        "id": "Owgc0AgSQRTM"
      },
      "outputs": [],
      "source": [
        "import numpy as np\n",
        "import pandas as pd\n",
        "import matplotlib.pyplot as plt\n",
        "from sklearn.compose import ColumnTransformer\n",
        "from sklearn.preprocessing import OrdinalEncoder\n",
        "from lightgbm import LGBMClassifier\n",
        "from sklearn.model_selection import GridSearchCV, RandomizedSearchCV\n",
        "from sklearn.metrics import roc_auc_score\n",
        "from scipy.stats import uniform, randint"
      ]
    },
    {
      "cell_type": "code",
      "source": [
        "from google.colab import drive\n",
        "drive.mount('/content/drive')"
      ],
      "metadata": {
        "colab": {
          "base_uri": "https://localhost:8080/"
        },
        "id": "C4ppM3JwQVyy",
        "outputId": "736056bc-d9fa-4c69-d238-cd1472c1fb5d"
      },
      "execution_count": null,
      "outputs": [
        {
          "output_type": "stream",
          "name": "stdout",
          "text": [
            "Mounted at /content/drive\n"
          ]
        }
      ]
    },
    {
      "cell_type": "code",
      "execution_count": null,
      "metadata": {
        "id": "csUQDmF4QRT5"
      },
      "outputs": [],
      "source": [
        "X_train = pd.read_csv('drive/MyDrive/product_failure/data/X_train.csv', index_col=0)\n",
        "X_test = pd.read_csv('drive/MyDrive/product_failure/data/X_test.csv', index_col=0)\n",
        "y_train = pd.read_csv('drive/MyDrive/product_failure/data/y_train.csv', index_col=0)\n",
        "y_test = pd.read_csv('drive/MyDrive/product_failure/data/y_test.csv', index_col=0)"
      ]
    },
    {
      "cell_type": "markdown",
      "metadata": {
        "id": "9HPKrrY-QRT7"
      },
      "source": [
        "Check first 5 observations and data shapes to make sure that the data was read correctly"
      ]
    },
    {
      "cell_type": "code",
      "execution_count": null,
      "metadata": {
        "colab": {
          "base_uri": "https://localhost:8080/",
          "height": 299
        },
        "id": "muqSTHDQQRT9",
        "outputId": "3b103dcb-80c0-4353-81c7-31a5628f081e"
      },
      "outputs": [
        {
          "output_type": "execute_result",
          "data": {
            "text/plain": [
              "      product_code  loading attribute_0 attribute_1  attribute_2  attribute_3  \\\n",
              "1630             A   107.53  material_7  material_8            9            5   \n",
              "18030            D   128.99  material_7  material_5            6            6   \n",
              "26078            E   128.33  material_7  material_6            6            9   \n",
              "19823            D   125.21  material_7  material_5            6            6   \n",
              "15788            C   106.12  material_7  material_8            5            8   \n",
              "\n",
              "       measurement_0  measurement_1  measurement_2  measurement_3  ...  \\\n",
              "1630              16              2              4            NaN  ...   \n",
              "18030              3              9              5         17.242  ...   \n",
              "26078              4             16              5         16.094  ...   \n",
              "19823             11              9              6         16.677  ...   \n",
              "15788              5              6              6         16.963  ...   \n",
              "\n",
              "       measurement_11  measurement_12  measurement_13  measurement_14  \\\n",
              "1630           18.014          14.962          16.743          14.487   \n",
              "18030          18.873          11.384          15.002             NaN   \n",
              "26078          19.696          10.480          15.294          16.715   \n",
              "19823          21.130          13.625          15.095          15.394   \n",
              "15788          17.362          10.523          15.199          17.476   \n",
              "\n",
              "       measurement_15  measurement_16  measurement_17  measurement_0_grouped  \\\n",
              "1630           14.351          15.737         705.885           (13.0, 29.0]   \n",
              "18030          19.237             NaN         841.809          (-0.001, 3.0]   \n",
              "26078          15.292          15.861         632.835             (3.0, 4.0]   \n",
              "19823          12.846          19.156         643.322            (9.0, 11.0]   \n",
              "15788             NaN          15.472         545.206             (4.0, 5.0]   \n",
              "\n",
              "       measurement_1_grouped  measurement_2_grouped  \n",
              "1630           (-0.001, 4.0]             (3.0, 4.0]  \n",
              "18030             (7.0, 9.0]             (4.0, 5.0]  \n",
              "26078           (13.0, 29.0]             (4.0, 5.0]  \n",
              "19823             (7.0, 9.0]             (5.0, 6.0]  \n",
              "15788             (4.0, 6.0]             (5.0, 6.0]  \n",
              "\n",
              "[5 rows x 27 columns]"
            ],
            "text/html": [
              "\n",
              "  <div id=\"df-b4fbc797-c1a4-4917-8b42-bd8663dec05a\">\n",
              "    <div class=\"colab-df-container\">\n",
              "      <div>\n",
              "<style scoped>\n",
              "    .dataframe tbody tr th:only-of-type {\n",
              "        vertical-align: middle;\n",
              "    }\n",
              "\n",
              "    .dataframe tbody tr th {\n",
              "        vertical-align: top;\n",
              "    }\n",
              "\n",
              "    .dataframe thead th {\n",
              "        text-align: right;\n",
              "    }\n",
              "</style>\n",
              "<table border=\"1\" class=\"dataframe\">\n",
              "  <thead>\n",
              "    <tr style=\"text-align: right;\">\n",
              "      <th></th>\n",
              "      <th>product_code</th>\n",
              "      <th>loading</th>\n",
              "      <th>attribute_0</th>\n",
              "      <th>attribute_1</th>\n",
              "      <th>attribute_2</th>\n",
              "      <th>attribute_3</th>\n",
              "      <th>measurement_0</th>\n",
              "      <th>measurement_1</th>\n",
              "      <th>measurement_2</th>\n",
              "      <th>measurement_3</th>\n",
              "      <th>...</th>\n",
              "      <th>measurement_11</th>\n",
              "      <th>measurement_12</th>\n",
              "      <th>measurement_13</th>\n",
              "      <th>measurement_14</th>\n",
              "      <th>measurement_15</th>\n",
              "      <th>measurement_16</th>\n",
              "      <th>measurement_17</th>\n",
              "      <th>measurement_0_grouped</th>\n",
              "      <th>measurement_1_grouped</th>\n",
              "      <th>measurement_2_grouped</th>\n",
              "    </tr>\n",
              "  </thead>\n",
              "  <tbody>\n",
              "    <tr>\n",
              "      <th>1630</th>\n",
              "      <td>A</td>\n",
              "      <td>107.53</td>\n",
              "      <td>material_7</td>\n",
              "      <td>material_8</td>\n",
              "      <td>9</td>\n",
              "      <td>5</td>\n",
              "      <td>16</td>\n",
              "      <td>2</td>\n",
              "      <td>4</td>\n",
              "      <td>NaN</td>\n",
              "      <td>...</td>\n",
              "      <td>18.014</td>\n",
              "      <td>14.962</td>\n",
              "      <td>16.743</td>\n",
              "      <td>14.487</td>\n",
              "      <td>14.351</td>\n",
              "      <td>15.737</td>\n",
              "      <td>705.885</td>\n",
              "      <td>(13.0, 29.0]</td>\n",
              "      <td>(-0.001, 4.0]</td>\n",
              "      <td>(3.0, 4.0]</td>\n",
              "    </tr>\n",
              "    <tr>\n",
              "      <th>18030</th>\n",
              "      <td>D</td>\n",
              "      <td>128.99</td>\n",
              "      <td>material_7</td>\n",
              "      <td>material_5</td>\n",
              "      <td>6</td>\n",
              "      <td>6</td>\n",
              "      <td>3</td>\n",
              "      <td>9</td>\n",
              "      <td>5</td>\n",
              "      <td>17.242</td>\n",
              "      <td>...</td>\n",
              "      <td>18.873</td>\n",
              "      <td>11.384</td>\n",
              "      <td>15.002</td>\n",
              "      <td>NaN</td>\n",
              "      <td>19.237</td>\n",
              "      <td>NaN</td>\n",
              "      <td>841.809</td>\n",
              "      <td>(-0.001, 3.0]</td>\n",
              "      <td>(7.0, 9.0]</td>\n",
              "      <td>(4.0, 5.0]</td>\n",
              "    </tr>\n",
              "    <tr>\n",
              "      <th>26078</th>\n",
              "      <td>E</td>\n",
              "      <td>128.33</td>\n",
              "      <td>material_7</td>\n",
              "      <td>material_6</td>\n",
              "      <td>6</td>\n",
              "      <td>9</td>\n",
              "      <td>4</td>\n",
              "      <td>16</td>\n",
              "      <td>5</td>\n",
              "      <td>16.094</td>\n",
              "      <td>...</td>\n",
              "      <td>19.696</td>\n",
              "      <td>10.480</td>\n",
              "      <td>15.294</td>\n",
              "      <td>16.715</td>\n",
              "      <td>15.292</td>\n",
              "      <td>15.861</td>\n",
              "      <td>632.835</td>\n",
              "      <td>(3.0, 4.0]</td>\n",
              "      <td>(13.0, 29.0]</td>\n",
              "      <td>(4.0, 5.0]</td>\n",
              "    </tr>\n",
              "    <tr>\n",
              "      <th>19823</th>\n",
              "      <td>D</td>\n",
              "      <td>125.21</td>\n",
              "      <td>material_7</td>\n",
              "      <td>material_5</td>\n",
              "      <td>6</td>\n",
              "      <td>6</td>\n",
              "      <td>11</td>\n",
              "      <td>9</td>\n",
              "      <td>6</td>\n",
              "      <td>16.677</td>\n",
              "      <td>...</td>\n",
              "      <td>21.130</td>\n",
              "      <td>13.625</td>\n",
              "      <td>15.095</td>\n",
              "      <td>15.394</td>\n",
              "      <td>12.846</td>\n",
              "      <td>19.156</td>\n",
              "      <td>643.322</td>\n",
              "      <td>(9.0, 11.0]</td>\n",
              "      <td>(7.0, 9.0]</td>\n",
              "      <td>(5.0, 6.0]</td>\n",
              "    </tr>\n",
              "    <tr>\n",
              "      <th>15788</th>\n",
              "      <td>C</td>\n",
              "      <td>106.12</td>\n",
              "      <td>material_7</td>\n",
              "      <td>material_8</td>\n",
              "      <td>5</td>\n",
              "      <td>8</td>\n",
              "      <td>5</td>\n",
              "      <td>6</td>\n",
              "      <td>6</td>\n",
              "      <td>16.963</td>\n",
              "      <td>...</td>\n",
              "      <td>17.362</td>\n",
              "      <td>10.523</td>\n",
              "      <td>15.199</td>\n",
              "      <td>17.476</td>\n",
              "      <td>NaN</td>\n",
              "      <td>15.472</td>\n",
              "      <td>545.206</td>\n",
              "      <td>(4.0, 5.0]</td>\n",
              "      <td>(4.0, 6.0]</td>\n",
              "      <td>(5.0, 6.0]</td>\n",
              "    </tr>\n",
              "  </tbody>\n",
              "</table>\n",
              "<p>5 rows × 27 columns</p>\n",
              "</div>\n",
              "      <button class=\"colab-df-convert\" onclick=\"convertToInteractive('df-b4fbc797-c1a4-4917-8b42-bd8663dec05a')\"\n",
              "              title=\"Convert this dataframe to an interactive table.\"\n",
              "              style=\"display:none;\">\n",
              "        \n",
              "  <svg xmlns=\"http://www.w3.org/2000/svg\" height=\"24px\"viewBox=\"0 0 24 24\"\n",
              "       width=\"24px\">\n",
              "    <path d=\"M0 0h24v24H0V0z\" fill=\"none\"/>\n",
              "    <path d=\"M18.56 5.44l.94 2.06.94-2.06 2.06-.94-2.06-.94-.94-2.06-.94 2.06-2.06.94zm-11 1L8.5 8.5l.94-2.06 2.06-.94-2.06-.94L8.5 2.5l-.94 2.06-2.06.94zm10 10l.94 2.06.94-2.06 2.06-.94-2.06-.94-.94-2.06-.94 2.06-2.06.94z\"/><path d=\"M17.41 7.96l-1.37-1.37c-.4-.4-.92-.59-1.43-.59-.52 0-1.04.2-1.43.59L10.3 9.45l-7.72 7.72c-.78.78-.78 2.05 0 2.83L4 21.41c.39.39.9.59 1.41.59.51 0 1.02-.2 1.41-.59l7.78-7.78 2.81-2.81c.8-.78.8-2.07 0-2.86zM5.41 20L4 18.59l7.72-7.72 1.47 1.35L5.41 20z\"/>\n",
              "  </svg>\n",
              "      </button>\n",
              "      \n",
              "  <style>\n",
              "    .colab-df-container {\n",
              "      display:flex;\n",
              "      flex-wrap:wrap;\n",
              "      gap: 12px;\n",
              "    }\n",
              "\n",
              "    .colab-df-convert {\n",
              "      background-color: #E8F0FE;\n",
              "      border: none;\n",
              "      border-radius: 50%;\n",
              "      cursor: pointer;\n",
              "      display: none;\n",
              "      fill: #1967D2;\n",
              "      height: 32px;\n",
              "      padding: 0 0 0 0;\n",
              "      width: 32px;\n",
              "    }\n",
              "\n",
              "    .colab-df-convert:hover {\n",
              "      background-color: #E2EBFA;\n",
              "      box-shadow: 0px 1px 2px rgba(60, 64, 67, 0.3), 0px 1px 3px 1px rgba(60, 64, 67, 0.15);\n",
              "      fill: #174EA6;\n",
              "    }\n",
              "\n",
              "    [theme=dark] .colab-df-convert {\n",
              "      background-color: #3B4455;\n",
              "      fill: #D2E3FC;\n",
              "    }\n",
              "\n",
              "    [theme=dark] .colab-df-convert:hover {\n",
              "      background-color: #434B5C;\n",
              "      box-shadow: 0px 1px 3px 1px rgba(0, 0, 0, 0.15);\n",
              "      filter: drop-shadow(0px 1px 2px rgba(0, 0, 0, 0.3));\n",
              "      fill: #FFFFFF;\n",
              "    }\n",
              "  </style>\n",
              "\n",
              "      <script>\n",
              "        const buttonEl =\n",
              "          document.querySelector('#df-b4fbc797-c1a4-4917-8b42-bd8663dec05a button.colab-df-convert');\n",
              "        buttonEl.style.display =\n",
              "          google.colab.kernel.accessAllowed ? 'block' : 'none';\n",
              "\n",
              "        async function convertToInteractive(key) {\n",
              "          const element = document.querySelector('#df-b4fbc797-c1a4-4917-8b42-bd8663dec05a');\n",
              "          const dataTable =\n",
              "            await google.colab.kernel.invokeFunction('convertToInteractive',\n",
              "                                                     [key], {});\n",
              "          if (!dataTable) return;\n",
              "\n",
              "          const docLinkHtml = 'Like what you see? Visit the ' +\n",
              "            '<a target=\"_blank\" href=https://colab.research.google.com/notebooks/data_table.ipynb>data table notebook</a>'\n",
              "            + ' to learn more about interactive tables.';\n",
              "          element.innerHTML = '';\n",
              "          dataTable['output_type'] = 'display_data';\n",
              "          await google.colab.output.renderOutput(dataTable, element);\n",
              "          const docLink = document.createElement('div');\n",
              "          docLink.innerHTML = docLinkHtml;\n",
              "          element.appendChild(docLink);\n",
              "        }\n",
              "      </script>\n",
              "    </div>\n",
              "  </div>\n",
              "  "
            ]
          },
          "metadata": {},
          "execution_count": 4
        }
      ],
      "source": [
        "X_train.head()"
      ]
    },
    {
      "cell_type": "code",
      "execution_count": null,
      "metadata": {
        "colab": {
          "base_uri": "https://localhost:8080/"
        },
        "id": "OAx2gLdBQRUA",
        "outputId": "6441330f-b690-4f07-8972-209b835e323f"
      },
      "outputs": [
        {
          "output_type": "stream",
          "name": "stdout",
          "text": [
            "X_train.shape:  (19927, 27)\n",
            "y_train.shape:  (19927, 1)\n",
            "X_test.shape:  (6643, 27)\n",
            "y_test.shape: (6643, 1)\n"
          ]
        }
      ],
      "source": [
        "print(\"X_train.shape: \", X_train.shape)\n",
        "print(\"y_train.shape: \", y_train.shape)\n",
        "print(\"X_test.shape: \", X_test.shape)\n",
        "print(\"y_test.shape:\", y_test.shape)"
      ]
    },
    {
      "cell_type": "code",
      "execution_count": null,
      "metadata": {
        "colab": {
          "base_uri": "https://localhost:8080/"
        },
        "id": "YoSlVeZeQRUD",
        "outputId": "e2ef1107-91e5-45d6-aeb4-ddbef6e93a40"
      },
      "outputs": [
        {
          "output_type": "stream",
          "name": "stdout",
          "text": [
            "y_train.shape:  (19927,)\n",
            "y_test.shape: (6643,)\n"
          ]
        }
      ],
      "source": [
        "y_train = np.ravel(y_train)\n",
        "y_test = np.ravel(y_test)\n",
        "\n",
        "print(\"y_train.shape: \", y_train.shape)\n",
        "print(\"y_test.shape:\", y_test.shape)"
      ]
    },
    {
      "cell_type": "markdown",
      "metadata": {
        "id": "TWaCxAgPQRUF"
      },
      "source": [
        "# Encoding categorical features <br>\n",
        "LightGBM supports categorical features, but they need to be encoded as integers. To achieve that, OrdinalEncoder will be used"
      ]
    },
    {
      "cell_type": "code",
      "execution_count": null,
      "metadata": {
        "colab": {
          "base_uri": "https://localhost:8080/"
        },
        "id": "1gEVRWiAQRUG",
        "outputId": "2815e49d-bfb0-4785-a0dd-74981e6b20dd"
      },
      "outputs": [
        {
          "output_type": "execute_result",
          "data": {
            "text/plain": [
              "Index(['product_code', 'attribute_0', 'attribute_1', 'attribute_2',\n",
              "       'attribute_3', 'measurement_0_grouped', 'measurement_1_grouped',\n",
              "       'measurement_2_grouped'],\n",
              "      dtype='object')"
            ]
          },
          "metadata": {},
          "execution_count": 7
        }
      ],
      "source": [
        "# List of categorical features\n",
        "X_train.columns[[0, 2, 3, 4, 5, 24, 25, 26]]"
      ]
    },
    {
      "cell_type": "code",
      "execution_count": null,
      "metadata": {
        "colab": {
          "base_uri": "https://localhost:8080/",
          "height": 299
        },
        "id": "qvPe-ZfMQRUJ",
        "outputId": "45085ae5-44e2-4a4e-fc08-0a23576086cf"
      },
      "outputs": [
        {
          "output_type": "execute_result",
          "data": {
            "text/plain": [
              "  product_code attribute_0 attribute_1 attribute_2 attribute_3  \\\n",
              "0          0.0         1.0         2.0         3.0         0.0   \n",
              "1          3.0         1.0         0.0         1.0         1.0   \n",
              "2          4.0         1.0         1.0         1.0         3.0   \n",
              "3          3.0         1.0         0.0         1.0         1.0   \n",
              "4          2.0         1.0         2.0         0.0         2.0   \n",
              "\n",
              "  measurement_0_grouped measurement_1_grouped measurement_2_grouped  loading  \\\n",
              "0                   2.0                   0.0                   3.0   107.53   \n",
              "1                   0.0                   5.0                   4.0   128.99   \n",
              "2                   3.0                   2.0                   4.0   128.33   \n",
              "3                   9.0                   5.0                   5.0   125.21   \n",
              "4                   4.0                   3.0                   5.0   106.12   \n",
              "\n",
              "   measurement_0  ...  measurement_8  measurement_9  measurement_10  \\\n",
              "0           16.0  ...         19.361         11.316          16.426   \n",
              "1            3.0  ...         18.963         10.382          15.601   \n",
              "2            4.0  ...         19.338         11.776          18.614   \n",
              "3           11.0  ...         19.947         10.667          15.419   \n",
              "4            5.0  ...         18.009         11.512             NaN   \n",
              "\n",
              "   measurement_11  measurement_12  measurement_13  measurement_14  \\\n",
              "0          18.014          14.962          16.743          14.487   \n",
              "1          18.873          11.384          15.002             NaN   \n",
              "2          19.696          10.480          15.294          16.715   \n",
              "3          21.130          13.625          15.095          15.394   \n",
              "4          17.362          10.523          15.199          17.476   \n",
              "\n",
              "   measurement_15  measurement_16  measurement_17  \n",
              "0          14.351          15.737         705.885  \n",
              "1          19.237             NaN         841.809  \n",
              "2          15.292          15.861         632.835  \n",
              "3          12.846          19.156         643.322  \n",
              "4             NaN          15.472         545.206  \n",
              "\n",
              "[5 rows x 27 columns]"
            ],
            "text/html": [
              "\n",
              "  <div id=\"df-4e3b2881-d8f6-4962-b3f7-4d2ed2e32c47\">\n",
              "    <div class=\"colab-df-container\">\n",
              "      <div>\n",
              "<style scoped>\n",
              "    .dataframe tbody tr th:only-of-type {\n",
              "        vertical-align: middle;\n",
              "    }\n",
              "\n",
              "    .dataframe tbody tr th {\n",
              "        vertical-align: top;\n",
              "    }\n",
              "\n",
              "    .dataframe thead th {\n",
              "        text-align: right;\n",
              "    }\n",
              "</style>\n",
              "<table border=\"1\" class=\"dataframe\">\n",
              "  <thead>\n",
              "    <tr style=\"text-align: right;\">\n",
              "      <th></th>\n",
              "      <th>product_code</th>\n",
              "      <th>attribute_0</th>\n",
              "      <th>attribute_1</th>\n",
              "      <th>attribute_2</th>\n",
              "      <th>attribute_3</th>\n",
              "      <th>measurement_0_grouped</th>\n",
              "      <th>measurement_1_grouped</th>\n",
              "      <th>measurement_2_grouped</th>\n",
              "      <th>loading</th>\n",
              "      <th>measurement_0</th>\n",
              "      <th>...</th>\n",
              "      <th>measurement_8</th>\n",
              "      <th>measurement_9</th>\n",
              "      <th>measurement_10</th>\n",
              "      <th>measurement_11</th>\n",
              "      <th>measurement_12</th>\n",
              "      <th>measurement_13</th>\n",
              "      <th>measurement_14</th>\n",
              "      <th>measurement_15</th>\n",
              "      <th>measurement_16</th>\n",
              "      <th>measurement_17</th>\n",
              "    </tr>\n",
              "  </thead>\n",
              "  <tbody>\n",
              "    <tr>\n",
              "      <th>0</th>\n",
              "      <td>0.0</td>\n",
              "      <td>1.0</td>\n",
              "      <td>2.0</td>\n",
              "      <td>3.0</td>\n",
              "      <td>0.0</td>\n",
              "      <td>2.0</td>\n",
              "      <td>0.0</td>\n",
              "      <td>3.0</td>\n",
              "      <td>107.53</td>\n",
              "      <td>16.0</td>\n",
              "      <td>...</td>\n",
              "      <td>19.361</td>\n",
              "      <td>11.316</td>\n",
              "      <td>16.426</td>\n",
              "      <td>18.014</td>\n",
              "      <td>14.962</td>\n",
              "      <td>16.743</td>\n",
              "      <td>14.487</td>\n",
              "      <td>14.351</td>\n",
              "      <td>15.737</td>\n",
              "      <td>705.885</td>\n",
              "    </tr>\n",
              "    <tr>\n",
              "      <th>1</th>\n",
              "      <td>3.0</td>\n",
              "      <td>1.0</td>\n",
              "      <td>0.0</td>\n",
              "      <td>1.0</td>\n",
              "      <td>1.0</td>\n",
              "      <td>0.0</td>\n",
              "      <td>5.0</td>\n",
              "      <td>4.0</td>\n",
              "      <td>128.99</td>\n",
              "      <td>3.0</td>\n",
              "      <td>...</td>\n",
              "      <td>18.963</td>\n",
              "      <td>10.382</td>\n",
              "      <td>15.601</td>\n",
              "      <td>18.873</td>\n",
              "      <td>11.384</td>\n",
              "      <td>15.002</td>\n",
              "      <td>NaN</td>\n",
              "      <td>19.237</td>\n",
              "      <td>NaN</td>\n",
              "      <td>841.809</td>\n",
              "    </tr>\n",
              "    <tr>\n",
              "      <th>2</th>\n",
              "      <td>4.0</td>\n",
              "      <td>1.0</td>\n",
              "      <td>1.0</td>\n",
              "      <td>1.0</td>\n",
              "      <td>3.0</td>\n",
              "      <td>3.0</td>\n",
              "      <td>2.0</td>\n",
              "      <td>4.0</td>\n",
              "      <td>128.33</td>\n",
              "      <td>4.0</td>\n",
              "      <td>...</td>\n",
              "      <td>19.338</td>\n",
              "      <td>11.776</td>\n",
              "      <td>18.614</td>\n",
              "      <td>19.696</td>\n",
              "      <td>10.480</td>\n",
              "      <td>15.294</td>\n",
              "      <td>16.715</td>\n",
              "      <td>15.292</td>\n",
              "      <td>15.861</td>\n",
              "      <td>632.835</td>\n",
              "    </tr>\n",
              "    <tr>\n",
              "      <th>3</th>\n",
              "      <td>3.0</td>\n",
              "      <td>1.0</td>\n",
              "      <td>0.0</td>\n",
              "      <td>1.0</td>\n",
              "      <td>1.0</td>\n",
              "      <td>9.0</td>\n",
              "      <td>5.0</td>\n",
              "      <td>5.0</td>\n",
              "      <td>125.21</td>\n",
              "      <td>11.0</td>\n",
              "      <td>...</td>\n",
              "      <td>19.947</td>\n",
              "      <td>10.667</td>\n",
              "      <td>15.419</td>\n",
              "      <td>21.130</td>\n",
              "      <td>13.625</td>\n",
              "      <td>15.095</td>\n",
              "      <td>15.394</td>\n",
              "      <td>12.846</td>\n",
              "      <td>19.156</td>\n",
              "      <td>643.322</td>\n",
              "    </tr>\n",
              "    <tr>\n",
              "      <th>4</th>\n",
              "      <td>2.0</td>\n",
              "      <td>1.0</td>\n",
              "      <td>2.0</td>\n",
              "      <td>0.0</td>\n",
              "      <td>2.0</td>\n",
              "      <td>4.0</td>\n",
              "      <td>3.0</td>\n",
              "      <td>5.0</td>\n",
              "      <td>106.12</td>\n",
              "      <td>5.0</td>\n",
              "      <td>...</td>\n",
              "      <td>18.009</td>\n",
              "      <td>11.512</td>\n",
              "      <td>NaN</td>\n",
              "      <td>17.362</td>\n",
              "      <td>10.523</td>\n",
              "      <td>15.199</td>\n",
              "      <td>17.476</td>\n",
              "      <td>NaN</td>\n",
              "      <td>15.472</td>\n",
              "      <td>545.206</td>\n",
              "    </tr>\n",
              "  </tbody>\n",
              "</table>\n",
              "<p>5 rows × 27 columns</p>\n",
              "</div>\n",
              "      <button class=\"colab-df-convert\" onclick=\"convertToInteractive('df-4e3b2881-d8f6-4962-b3f7-4d2ed2e32c47')\"\n",
              "              title=\"Convert this dataframe to an interactive table.\"\n",
              "              style=\"display:none;\">\n",
              "        \n",
              "  <svg xmlns=\"http://www.w3.org/2000/svg\" height=\"24px\"viewBox=\"0 0 24 24\"\n",
              "       width=\"24px\">\n",
              "    <path d=\"M0 0h24v24H0V0z\" fill=\"none\"/>\n",
              "    <path d=\"M18.56 5.44l.94 2.06.94-2.06 2.06-.94-2.06-.94-.94-2.06-.94 2.06-2.06.94zm-11 1L8.5 8.5l.94-2.06 2.06-.94-2.06-.94L8.5 2.5l-.94 2.06-2.06.94zm10 10l.94 2.06.94-2.06 2.06-.94-2.06-.94-.94-2.06-.94 2.06-2.06.94z\"/><path d=\"M17.41 7.96l-1.37-1.37c-.4-.4-.92-.59-1.43-.59-.52 0-1.04.2-1.43.59L10.3 9.45l-7.72 7.72c-.78.78-.78 2.05 0 2.83L4 21.41c.39.39.9.59 1.41.59.51 0 1.02-.2 1.41-.59l7.78-7.78 2.81-2.81c.8-.78.8-2.07 0-2.86zM5.41 20L4 18.59l7.72-7.72 1.47 1.35L5.41 20z\"/>\n",
              "  </svg>\n",
              "      </button>\n",
              "      \n",
              "  <style>\n",
              "    .colab-df-container {\n",
              "      display:flex;\n",
              "      flex-wrap:wrap;\n",
              "      gap: 12px;\n",
              "    }\n",
              "\n",
              "    .colab-df-convert {\n",
              "      background-color: #E8F0FE;\n",
              "      border: none;\n",
              "      border-radius: 50%;\n",
              "      cursor: pointer;\n",
              "      display: none;\n",
              "      fill: #1967D2;\n",
              "      height: 32px;\n",
              "      padding: 0 0 0 0;\n",
              "      width: 32px;\n",
              "    }\n",
              "\n",
              "    .colab-df-convert:hover {\n",
              "      background-color: #E2EBFA;\n",
              "      box-shadow: 0px 1px 2px rgba(60, 64, 67, 0.3), 0px 1px 3px 1px rgba(60, 64, 67, 0.15);\n",
              "      fill: #174EA6;\n",
              "    }\n",
              "\n",
              "    [theme=dark] .colab-df-convert {\n",
              "      background-color: #3B4455;\n",
              "      fill: #D2E3FC;\n",
              "    }\n",
              "\n",
              "    [theme=dark] .colab-df-convert:hover {\n",
              "      background-color: #434B5C;\n",
              "      box-shadow: 0px 1px 3px 1px rgba(0, 0, 0, 0.15);\n",
              "      filter: drop-shadow(0px 1px 2px rgba(0, 0, 0, 0.3));\n",
              "      fill: #FFFFFF;\n",
              "    }\n",
              "  </style>\n",
              "\n",
              "      <script>\n",
              "        const buttonEl =\n",
              "          document.querySelector('#df-4e3b2881-d8f6-4962-b3f7-4d2ed2e32c47 button.colab-df-convert');\n",
              "        buttonEl.style.display =\n",
              "          google.colab.kernel.accessAllowed ? 'block' : 'none';\n",
              "\n",
              "        async function convertToInteractive(key) {\n",
              "          const element = document.querySelector('#df-4e3b2881-d8f6-4962-b3f7-4d2ed2e32c47');\n",
              "          const dataTable =\n",
              "            await google.colab.kernel.invokeFunction('convertToInteractive',\n",
              "                                                     [key], {});\n",
              "          if (!dataTable) return;\n",
              "\n",
              "          const docLinkHtml = 'Like what you see? Visit the ' +\n",
              "            '<a target=\"_blank\" href=https://colab.research.google.com/notebooks/data_table.ipynb>data table notebook</a>'\n",
              "            + ' to learn more about interactive tables.';\n",
              "          element.innerHTML = '';\n",
              "          dataTable['output_type'] = 'display_data';\n",
              "          await google.colab.output.renderOutput(dataTable, element);\n",
              "          const docLink = document.createElement('div');\n",
              "          docLink.innerHTML = docLinkHtml;\n",
              "          element.appendChild(docLink);\n",
              "        }\n",
              "      </script>\n",
              "    </div>\n",
              "  </div>\n",
              "  "
            ]
          },
          "metadata": {},
          "execution_count": 8
        }
      ],
      "source": [
        "# encode categorical features\n",
        "transformer = ColumnTransformer([\n",
        "    ('encoder', OrdinalEncoder(), [0, 2, 3, 4, 5, 24, 25, 26])],\n",
        "    remainder='passthrough'\n",
        ")\n",
        "X_train_enc = transformer.fit_transform(X_train)\n",
        "X_test_enc = transformer.transform(X_test)\n",
        "\n",
        "\n",
        "# restore column names\n",
        "X_train_enc = pd.DataFrame(\n",
        "    X_train_enc,\n",
        "    columns=[*X_train.columns[[0, 2, 3, 4, 5, 24, 25, 26]], X_train.columns[1],\n",
        "             *X_train.columns[range(6, 24)]]\n",
        ")\n",
        "X_test_enc = pd.DataFrame(\n",
        "    X_test_enc,\n",
        "    columns=[*X_test.columns[[0, 2, 3, 4, 5, 24, 25, 26]], X_test.columns[1],\n",
        "             *X_test.columns[range(6, 24)]] \n",
        ")\n",
        "\n",
        "\n",
        "# change dtype of categorical features from float to category\n",
        "for col in range(0, 8):\n",
        "    X_train_enc.iloc[:, col] = X_train_enc.iloc[:, col].astype('category')\n",
        "    X_test_enc.iloc[:, col] = X_test_enc.iloc[:, col].astype('category')\n",
        "\n",
        "\n",
        "# check if categorical features were encoded as integers\n",
        "X_train_enc.head()"
      ]
    },
    {
      "cell_type": "code",
      "execution_count": null,
      "metadata": {
        "colab": {
          "base_uri": "https://localhost:8080/"
        },
        "id": "gI4LpgtKQRUL",
        "outputId": "b6e0146f-08f6-4493-ea3c-5b0093a70651"
      },
      "outputs": [
        {
          "output_type": "execute_result",
          "data": {
            "text/plain": [
              "product_code             category\n",
              "attribute_0              category\n",
              "attribute_1              category\n",
              "attribute_2              category\n",
              "attribute_3              category\n",
              "measurement_0_grouped    category\n",
              "measurement_1_grouped    category\n",
              "measurement_2_grouped    category\n",
              "loading                   float64\n",
              "measurement_0             float64\n",
              "measurement_1             float64\n",
              "measurement_2             float64\n",
              "measurement_3             float64\n",
              "measurement_4             float64\n",
              "measurement_5             float64\n",
              "measurement_6             float64\n",
              "measurement_7             float64\n",
              "measurement_8             float64\n",
              "measurement_9             float64\n",
              "measurement_10            float64\n",
              "measurement_11            float64\n",
              "measurement_12            float64\n",
              "measurement_13            float64\n",
              "measurement_14            float64\n",
              "measurement_15            float64\n",
              "measurement_16            float64\n",
              "measurement_17            float64\n",
              "dtype: object"
            ]
          },
          "metadata": {},
          "execution_count": 9
        }
      ],
      "source": [
        "# check features dtypes\n",
        "X_train_enc.dtypes"
      ]
    },
    {
      "cell_type": "markdown",
      "metadata": {
        "id": "MzPKPRxZQRUN"
      },
      "source": [
        "# Baseline model <br>\n",
        "Build a baseline LightGBM model and evaluate its performance on train and test sets. For performance evaluation AUC will be used"
      ]
    },
    {
      "cell_type": "code",
      "execution_count": null,
      "metadata": {
        "colab": {
          "base_uri": "https://localhost:8080/"
        },
        "id": "lJUuSF8PQRUO",
        "outputId": "91460818-9488-4df9-9a34-9801ff2fe9fb"
      },
      "outputs": [
        {
          "output_type": "stream",
          "name": "stdout",
          "text": [
            "Train set AUC: 0.5396319886765747\n",
            "Test set AUC: 0.502658591887544\n"
          ]
        }
      ],
      "source": [
        "model_baseline = LGBMClassifier(random_state=42)\n",
        "model_baseline.fit(X_train_enc, y_train)\n",
        "\n",
        "print(\"Train set AUC: {}\".format(roc_auc_score(y_train, model_baseline.predict(X_train_enc))))\n",
        "print(\"Test set AUC: {}\".format(roc_auc_score(y_test, model_baseline.predict(X_test_enc))))"
      ]
    },
    {
      "cell_type": "markdown",
      "metadata": {
        "id": "zITc2nQDQRUQ"
      },
      "source": [
        "AUC values indicate, that the model may underfit the dataset. We can try to tune its parameters to improve quality of the model"
      ]
    },
    {
      "cell_type": "markdown",
      "metadata": {
        "id": "0EQbgD0HQRUR"
      },
      "source": [
        "# Tuning parameters values <br>\n",
        "LGBM models have many parameters and some of them may not have a significant influence on the quality of the models. Because of that, RandomizedSearchCV will be used at the start of parameters tuning process"
      ]
    },
    {
      "cell_type": "markdown",
      "metadata": {
        "id": "3ZILKFupQRUT"
      },
      "source": [
        "Round 1"
      ]
    },
    {
      "cell_type": "code",
      "execution_count": null,
      "metadata": {
        "colab": {
          "base_uri": "https://localhost:8080/"
        },
        "id": "hdLPTtecQRUV",
        "outputId": "64f5c43e-8985-4706-d0b0-3af4452e6504"
      },
      "outputs": [
        {
          "output_type": "stream",
          "name": "stdout",
          "text": [
            "Fitting 5 folds for each of 500 candidates, totalling 2500 fits\n",
            "Best score:  0.584960624457363\n",
            "Best params:  {'colsample_bytree': 1, 'learning_rate': 0.010485433628498075, 'max_depth': 1, 'n_estimators': 526, 'reg_alpha': 0.5, 'reg_lambda': 0}\n"
          ]
        }
      ],
      "source": [
        "lgbm = LGBMClassifier(random_state=42)\n",
        "\n",
        "distr = {\n",
        "    'learning_rate': uniform(0.001, 1),\n",
        "    'n_estimators': randint(50, 1000),\n",
        "    'max_depth': [-1, 10, 6, 3, 1],\n",
        "    'reg_alpha': [0, 0.5, 1],\n",
        "    'reg_lambda': [0, 0.5, 1],\n",
        "    'colsample_bytree': [0.8, 0.9, 1]\n",
        "}\n",
        "\n",
        "clf = RandomizedSearchCV(lgbm, distr, n_iter=500, cv=5, scoring='roc_auc',\n",
        "                         random_state=42, verbose=1)\n",
        "clf.fit(X_train_enc, y_train)\n",
        "\n",
        "print('Best score: ', clf.best_score_)\n",
        "print('Best params: ', clf.best_params_)"
      ]
    },
    {
      "cell_type": "markdown",
      "source": [
        "In result of the randomized search, the lowest value of reg_lambda and highest possible value of col_sample_bytree were found to be the optimal ones. The optimal learning_rate is about 0.01 with n_estimators=526, max_depth=1, reg_alpha=0.5. <br>\n",
        "In the second round we'll test values of parameters that are close to the values, that were found to be optimal in the first round."
      ],
      "metadata": {
        "id": "7VXQ2ff9LUb_"
      }
    },
    {
      "cell_type": "code",
      "execution_count": null,
      "metadata": {
        "colab": {
          "base_uri": "https://localhost:8080/"
        },
        "id": "I8W_C75KQRUW",
        "outputId": "95b43619-013c-4450-ab94-97a0609114e4"
      },
      "outputs": [
        {
          "output_type": "stream",
          "name": "stdout",
          "text": [
            "Fitting 5 folds for each of 576 candidates, totalling 2880 fits\n",
            "Best score:  0.585539577801774\n",
            "Best params:  {'colsample_bytree': 1, 'learning_rate': 0.01, 'max_depth': 2, 'n_estimators': 400, 'reg_alpha': 0.4, 'reg_lambda': 0.1}\n"
          ]
        }
      ],
      "source": [
        "grid = {\n",
        "    'learning_rate': [0.005, 0.01, 0.015, 0.02],\n",
        "    'n_estimators': [600, 500, 400, 300],\n",
        "    'max_depth': [3, 2, 1],\n",
        "    'reg_alpha': [0.3, 0.4, 0.5, 0.6],\n",
        "    'reg_lambda': [0, 0.1, 0.2],\n",
        "    'colsample_bytree': [1]\n",
        "}\n",
        "\n",
        "clf = GridSearchCV(lgbm, grid, cv=5, scoring='roc_auc',\n",
        "                   verbose=1)\n",
        "clf.fit(X_train_enc, y_train)\n",
        "\n",
        "print('Best score: ', clf.best_score_)\n",
        "print('Best params: ', clf.best_params_)"
      ]
    },
    {
      "cell_type": "markdown",
      "source": [
        "The optimal values of LightGBM model are the following:\n",
        "* n_estimators: 400\n",
        "* learning_rate: 0.01\n",
        "* max_depth: 2\n",
        "* reg_alpha: 0.4\n",
        "* reg_lambda: 0.1\n",
        "* colsample_bytree: 1 <br>\n",
        "With these values of LightGBM parameters AUC=0.5855396 was achieved."
      ],
      "metadata": {
        "id": "-b5htFCXU4jQ"
      }
    },
    {
      "cell_type": "code",
      "source": [
        ""
      ],
      "metadata": {
        "id": "Ot7Nk9vpx6pq"
      },
      "execution_count": null,
      "outputs": []
    }
  ],
  "metadata": {
    "kernelspec": {
      "display_name": "Python 3.9.7 ('base')",
      "language": "python",
      "name": "python3"
    },
    "language_info": {
      "codemirror_mode": {
        "name": "ipython",
        "version": 3
      },
      "file_extension": ".py",
      "mimetype": "text/x-python",
      "name": "python",
      "nbconvert_exporter": "python",
      "pygments_lexer": "ipython3",
      "version": "3.9.7"
    },
    "orig_nbformat": 4,
    "vscode": {
      "interpreter": {
        "hash": "717c13e09df9089ce02dd018825478f9268d1582be70d5672c549121a9bc5491"
      }
    },
    "colab": {
      "name": "lgbm.ipynb",
      "provenance": [],
      "collapsed_sections": [],
      "include_colab_link": true
    },
    "accelerator": "GPU",
    "gpuClass": "standard"
  },
  "nbformat": 4,
  "nbformat_minor": 0
}