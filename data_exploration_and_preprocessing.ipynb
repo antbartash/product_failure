{
 "cells": [
  {
   "cell_type": "markdown",
   "metadata": {},
   "source": [
    "# Loading libraries and data"
   ]
  },
  {
   "cell_type": "code",
   "execution_count": 1,
   "metadata": {},
   "outputs": [],
   "source": [
    "import numpy as np\n",
    "import pandas as pd\n",
    "import matplotlib.pyplot as plt\n",
    "import seaborn as sns\n",
    "from sklearn.model_selection import train_test_split\n",
    "from sklearn.compose import ColumnTransformer\n",
    "from sklearn.preprocessing import OneHotEncoder, StandardScaler\n",
    "from sklearn.impute import KNNImputer\n",
    "from sklearn.pipeline import Pipeline"
   ]
  },
  {
   "cell_type": "code",
   "execution_count": 2,
   "metadata": {},
   "outputs": [],
   "source": [
    "# test.csv doesn't have values for the target variable\n",
    "# the aim is to predict its failure values\n",
    "train = pd.read_csv('data/train.csv')\n",
    "test = pd.read_csv('data/test.csv')"
   ]
  },
  {
   "cell_type": "markdown",
   "metadata": {},
   "source": [
    "Check first 5 observations to make sure that the data was read correctly"
   ]
  },
  {
   "cell_type": "code",
   "execution_count": 3,
   "metadata": {},
   "outputs": [
    {
     "data": {
      "text/html": [
       "<div>\n",
       "<style scoped>\n",
       "    .dataframe tbody tr th:only-of-type {\n",
       "        vertical-align: middle;\n",
       "    }\n",
       "\n",
       "    .dataframe tbody tr th {\n",
       "        vertical-align: top;\n",
       "    }\n",
       "\n",
       "    .dataframe thead th {\n",
       "        text-align: right;\n",
       "    }\n",
       "</style>\n",
       "<table border=\"1\" class=\"dataframe\">\n",
       "  <thead>\n",
       "    <tr style=\"text-align: right;\">\n",
       "      <th></th>\n",
       "      <th>id</th>\n",
       "      <th>product_code</th>\n",
       "      <th>loading</th>\n",
       "      <th>attribute_0</th>\n",
       "      <th>attribute_1</th>\n",
       "      <th>attribute_2</th>\n",
       "      <th>attribute_3</th>\n",
       "      <th>measurement_0</th>\n",
       "      <th>measurement_1</th>\n",
       "      <th>measurement_2</th>\n",
       "      <th>...</th>\n",
       "      <th>measurement_9</th>\n",
       "      <th>measurement_10</th>\n",
       "      <th>measurement_11</th>\n",
       "      <th>measurement_12</th>\n",
       "      <th>measurement_13</th>\n",
       "      <th>measurement_14</th>\n",
       "      <th>measurement_15</th>\n",
       "      <th>measurement_16</th>\n",
       "      <th>measurement_17</th>\n",
       "      <th>failure</th>\n",
       "    </tr>\n",
       "  </thead>\n",
       "  <tbody>\n",
       "    <tr>\n",
       "      <th>0</th>\n",
       "      <td>0</td>\n",
       "      <td>A</td>\n",
       "      <td>80.10</td>\n",
       "      <td>material_7</td>\n",
       "      <td>material_8</td>\n",
       "      <td>9</td>\n",
       "      <td>5</td>\n",
       "      <td>7</td>\n",
       "      <td>8</td>\n",
       "      <td>4</td>\n",
       "      <td>...</td>\n",
       "      <td>10.672</td>\n",
       "      <td>15.859</td>\n",
       "      <td>17.594</td>\n",
       "      <td>15.193</td>\n",
       "      <td>15.029</td>\n",
       "      <td>NaN</td>\n",
       "      <td>13.034</td>\n",
       "      <td>14.684</td>\n",
       "      <td>764.100</td>\n",
       "      <td>0</td>\n",
       "    </tr>\n",
       "    <tr>\n",
       "      <th>1</th>\n",
       "      <td>1</td>\n",
       "      <td>A</td>\n",
       "      <td>84.89</td>\n",
       "      <td>material_7</td>\n",
       "      <td>material_8</td>\n",
       "      <td>9</td>\n",
       "      <td>5</td>\n",
       "      <td>14</td>\n",
       "      <td>3</td>\n",
       "      <td>3</td>\n",
       "      <td>...</td>\n",
       "      <td>12.448</td>\n",
       "      <td>17.947</td>\n",
       "      <td>17.915</td>\n",
       "      <td>11.755</td>\n",
       "      <td>14.732</td>\n",
       "      <td>15.425</td>\n",
       "      <td>14.395</td>\n",
       "      <td>15.631</td>\n",
       "      <td>682.057</td>\n",
       "      <td>0</td>\n",
       "    </tr>\n",
       "    <tr>\n",
       "      <th>2</th>\n",
       "      <td>2</td>\n",
       "      <td>A</td>\n",
       "      <td>82.43</td>\n",
       "      <td>material_7</td>\n",
       "      <td>material_8</td>\n",
       "      <td>9</td>\n",
       "      <td>5</td>\n",
       "      <td>12</td>\n",
       "      <td>1</td>\n",
       "      <td>5</td>\n",
       "      <td>...</td>\n",
       "      <td>12.715</td>\n",
       "      <td>15.607</td>\n",
       "      <td>NaN</td>\n",
       "      <td>13.798</td>\n",
       "      <td>16.711</td>\n",
       "      <td>18.631</td>\n",
       "      <td>14.094</td>\n",
       "      <td>17.946</td>\n",
       "      <td>663.376</td>\n",
       "      <td>0</td>\n",
       "    </tr>\n",
       "    <tr>\n",
       "      <th>3</th>\n",
       "      <td>3</td>\n",
       "      <td>A</td>\n",
       "      <td>101.07</td>\n",
       "      <td>material_7</td>\n",
       "      <td>material_8</td>\n",
       "      <td>9</td>\n",
       "      <td>5</td>\n",
       "      <td>13</td>\n",
       "      <td>2</td>\n",
       "      <td>6</td>\n",
       "      <td>...</td>\n",
       "      <td>12.471</td>\n",
       "      <td>16.346</td>\n",
       "      <td>18.377</td>\n",
       "      <td>10.020</td>\n",
       "      <td>15.250</td>\n",
       "      <td>15.562</td>\n",
       "      <td>16.154</td>\n",
       "      <td>17.172</td>\n",
       "      <td>826.282</td>\n",
       "      <td>0</td>\n",
       "    </tr>\n",
       "    <tr>\n",
       "      <th>4</th>\n",
       "      <td>4</td>\n",
       "      <td>A</td>\n",
       "      <td>188.06</td>\n",
       "      <td>material_7</td>\n",
       "      <td>material_8</td>\n",
       "      <td>9</td>\n",
       "      <td>5</td>\n",
       "      <td>9</td>\n",
       "      <td>2</td>\n",
       "      <td>8</td>\n",
       "      <td>...</td>\n",
       "      <td>10.337</td>\n",
       "      <td>17.082</td>\n",
       "      <td>19.932</td>\n",
       "      <td>12.428</td>\n",
       "      <td>16.182</td>\n",
       "      <td>12.760</td>\n",
       "      <td>13.153</td>\n",
       "      <td>16.412</td>\n",
       "      <td>579.885</td>\n",
       "      <td>0</td>\n",
       "    </tr>\n",
       "  </tbody>\n",
       "</table>\n",
       "<p>5 rows × 26 columns</p>\n",
       "</div>"
      ],
      "text/plain": [
       "   id product_code  loading attribute_0 attribute_1  attribute_2  attribute_3  \\\n",
       "0   0            A    80.10  material_7  material_8            9            5   \n",
       "1   1            A    84.89  material_7  material_8            9            5   \n",
       "2   2            A    82.43  material_7  material_8            9            5   \n",
       "3   3            A   101.07  material_7  material_8            9            5   \n",
       "4   4            A   188.06  material_7  material_8            9            5   \n",
       "\n",
       "   measurement_0  measurement_1  measurement_2  ...  measurement_9  \\\n",
       "0              7              8              4  ...         10.672   \n",
       "1             14              3              3  ...         12.448   \n",
       "2             12              1              5  ...         12.715   \n",
       "3             13              2              6  ...         12.471   \n",
       "4              9              2              8  ...         10.337   \n",
       "\n",
       "   measurement_10  measurement_11  measurement_12  measurement_13  \\\n",
       "0          15.859          17.594          15.193          15.029   \n",
       "1          17.947          17.915          11.755          14.732   \n",
       "2          15.607             NaN          13.798          16.711   \n",
       "3          16.346          18.377          10.020          15.250   \n",
       "4          17.082          19.932          12.428          16.182   \n",
       "\n",
       "   measurement_14  measurement_15  measurement_16  measurement_17  failure  \n",
       "0             NaN          13.034          14.684         764.100        0  \n",
       "1          15.425          14.395          15.631         682.057        0  \n",
       "2          18.631          14.094          17.946         663.376        0  \n",
       "3          15.562          16.154          17.172         826.282        0  \n",
       "4          12.760          13.153          16.412         579.885        0  \n",
       "\n",
       "[5 rows x 26 columns]"
      ]
     },
     "execution_count": 3,
     "metadata": {},
     "output_type": "execute_result"
    }
   ],
   "source": [
    "train.head()"
   ]
  },
  {
   "cell_type": "markdown",
   "metadata": {},
   "source": [
    "Check the number of observations and the number of features"
   ]
  },
  {
   "cell_type": "code",
   "execution_count": 4,
   "metadata": {},
   "outputs": [
    {
     "name": "stdout",
     "output_type": "stream",
     "text": [
      "train.shape:  (26570, 26)\n",
      "test.shape:  (20775, 25)\n"
     ]
    }
   ],
   "source": [
    "print('train.shape: ', train.shape)\n",
    "print('test.shape: ', test.shape)"
   ]
  },
  {
   "cell_type": "markdown",
   "metadata": {},
   "source": [
    "Calculate and visulize a correlation matrix for numeric features"
   ]
  },
  {
   "cell_type": "code",
   "execution_count": 5,
   "metadata": {},
   "outputs": [
    {
     "data": {
      "text/html": [
       "<div>\n",
       "<style scoped>\n",
       "    .dataframe tbody tr th:only-of-type {\n",
       "        vertical-align: middle;\n",
       "    }\n",
       "\n",
       "    .dataframe tbody tr th {\n",
       "        vertical-align: top;\n",
       "    }\n",
       "\n",
       "    .dataframe thead th {\n",
       "        text-align: right;\n",
       "    }\n",
       "</style>\n",
       "<table border=\"1\" class=\"dataframe\">\n",
       "  <thead>\n",
       "    <tr style=\"text-align: right;\">\n",
       "      <th></th>\n",
       "      <th>id</th>\n",
       "      <th>loading</th>\n",
       "      <th>attribute_2</th>\n",
       "      <th>attribute_3</th>\n",
       "      <th>measurement_0</th>\n",
       "      <th>measurement_1</th>\n",
       "      <th>measurement_2</th>\n",
       "      <th>measurement_3</th>\n",
       "      <th>measurement_4</th>\n",
       "      <th>measurement_5</th>\n",
       "      <th>...</th>\n",
       "      <th>measurement_9</th>\n",
       "      <th>measurement_10</th>\n",
       "      <th>measurement_11</th>\n",
       "      <th>measurement_12</th>\n",
       "      <th>measurement_13</th>\n",
       "      <th>measurement_14</th>\n",
       "      <th>measurement_15</th>\n",
       "      <th>measurement_16</th>\n",
       "      <th>measurement_17</th>\n",
       "      <th>failure</th>\n",
       "    </tr>\n",
       "  </thead>\n",
       "  <tbody>\n",
       "    <tr>\n",
       "      <th>id</th>\n",
       "      <td>1.000000</td>\n",
       "      <td>0.004305</td>\n",
       "      <td>-0.741200</td>\n",
       "      <td>0.558881</td>\n",
       "      <td>-0.253626</td>\n",
       "      <td>0.400206</td>\n",
       "      <td>0.000128</td>\n",
       "      <td>-0.005923</td>\n",
       "      <td>0.011313</td>\n",
       "      <td>-0.007001</td>\n",
       "      <td>...</td>\n",
       "      <td>0.001550</td>\n",
       "      <td>-0.029611</td>\n",
       "      <td>0.009524</td>\n",
       "      <td>-0.151220</td>\n",
       "      <td>-0.037559</td>\n",
       "      <td>-0.053744</td>\n",
       "      <td>0.083951</td>\n",
       "      <td>-0.059849</td>\n",
       "      <td>-0.000983</td>\n",
       "      <td>-0.007545</td>\n",
       "    </tr>\n",
       "    <tr>\n",
       "      <th>loading</th>\n",
       "      <td>0.004305</td>\n",
       "      <td>1.000000</td>\n",
       "      <td>-0.008208</td>\n",
       "      <td>-0.000756</td>\n",
       "      <td>-0.005578</td>\n",
       "      <td>0.002532</td>\n",
       "      <td>0.000303</td>\n",
       "      <td>-0.005203</td>\n",
       "      <td>-0.011792</td>\n",
       "      <td>-0.005599</td>\n",
       "      <td>...</td>\n",
       "      <td>-0.007751</td>\n",
       "      <td>-0.007525</td>\n",
       "      <td>0.003594</td>\n",
       "      <td>-0.002407</td>\n",
       "      <td>0.006138</td>\n",
       "      <td>0.000120</td>\n",
       "      <td>-0.008087</td>\n",
       "      <td>-0.000633</td>\n",
       "      <td>0.000305</td>\n",
       "      <td>0.129089</td>\n",
       "    </tr>\n",
       "    <tr>\n",
       "      <th>attribute_2</th>\n",
       "      <td>-0.741200</td>\n",
       "      <td>-0.008208</td>\n",
       "      <td>1.000000</td>\n",
       "      <td>-0.538697</td>\n",
       "      <td>0.175387</td>\n",
       "      <td>-0.377971</td>\n",
       "      <td>0.030522</td>\n",
       "      <td>0.005849</td>\n",
       "      <td>-0.011797</td>\n",
       "      <td>0.006811</td>\n",
       "      <td>...</td>\n",
       "      <td>-0.000098</td>\n",
       "      <td>-0.004953</td>\n",
       "      <td>0.094038</td>\n",
       "      <td>0.226756</td>\n",
       "      <td>0.049639</td>\n",
       "      <td>0.020921</td>\n",
       "      <td>-0.161242</td>\n",
       "      <td>0.035795</td>\n",
       "      <td>0.004729</td>\n",
       "      <td>0.006337</td>\n",
       "    </tr>\n",
       "    <tr>\n",
       "      <th>attribute_3</th>\n",
       "      <td>0.558881</td>\n",
       "      <td>-0.000756</td>\n",
       "      <td>-0.538697</td>\n",
       "      <td>1.000000</td>\n",
       "      <td>-0.370232</td>\n",
       "      <td>0.329233</td>\n",
       "      <td>0.013258</td>\n",
       "      <td>-0.002265</td>\n",
       "      <td>0.015470</td>\n",
       "      <td>-0.004034</td>\n",
       "      <td>...</td>\n",
       "      <td>-0.002295</td>\n",
       "      <td>-0.100845</td>\n",
       "      <td>-0.025434</td>\n",
       "      <td>-0.132060</td>\n",
       "      <td>0.028472</td>\n",
       "      <td>-0.049711</td>\n",
       "      <td>0.187519</td>\n",
       "      <td>-0.061520</td>\n",
       "      <td>-0.001418</td>\n",
       "      <td>-0.019222</td>\n",
       "    </tr>\n",
       "    <tr>\n",
       "      <th>measurement_0</th>\n",
       "      <td>-0.253626</td>\n",
       "      <td>-0.005578</td>\n",
       "      <td>0.175387</td>\n",
       "      <td>-0.370232</td>\n",
       "      <td>1.000000</td>\n",
       "      <td>-0.255255</td>\n",
       "      <td>-0.083813</td>\n",
       "      <td>-0.004890</td>\n",
       "      <td>-0.006459</td>\n",
       "      <td>0.003304</td>\n",
       "      <td>...</td>\n",
       "      <td>0.009112</td>\n",
       "      <td>0.032779</td>\n",
       "      <td>0.001878</td>\n",
       "      <td>0.033496</td>\n",
       "      <td>-0.031527</td>\n",
       "      <td>0.021907</td>\n",
       "      <td>-0.055431</td>\n",
       "      <td>0.003025</td>\n",
       "      <td>0.003351</td>\n",
       "      <td>0.009646</td>\n",
       "    </tr>\n",
       "    <tr>\n",
       "      <th>measurement_1</th>\n",
       "      <td>0.400206</td>\n",
       "      <td>0.002532</td>\n",
       "      <td>-0.377971</td>\n",
       "      <td>0.329233</td>\n",
       "      <td>-0.255255</td>\n",
       "      <td>1.000000</td>\n",
       "      <td>0.005032</td>\n",
       "      <td>-0.008363</td>\n",
       "      <td>0.001535</td>\n",
       "      <td>-0.005587</td>\n",
       "      <td>...</td>\n",
       "      <td>0.004529</td>\n",
       "      <td>0.011986</td>\n",
       "      <td>-0.035312</td>\n",
       "      <td>-0.084605</td>\n",
       "      <td>0.007523</td>\n",
       "      <td>-0.011471</td>\n",
       "      <td>0.060870</td>\n",
       "      <td>-0.004509</td>\n",
       "      <td>-0.004651</td>\n",
       "      <td>-0.010810</td>\n",
       "    </tr>\n",
       "    <tr>\n",
       "      <th>measurement_2</th>\n",
       "      <td>0.000128</td>\n",
       "      <td>0.000303</td>\n",
       "      <td>0.030522</td>\n",
       "      <td>0.013258</td>\n",
       "      <td>-0.083813</td>\n",
       "      <td>0.005032</td>\n",
       "      <td>1.000000</td>\n",
       "      <td>-0.002751</td>\n",
       "      <td>-0.009797</td>\n",
       "      <td>0.000241</td>\n",
       "      <td>...</td>\n",
       "      <td>0.001884</td>\n",
       "      <td>0.018695</td>\n",
       "      <td>-0.003877</td>\n",
       "      <td>-0.001808</td>\n",
       "      <td>0.029145</td>\n",
       "      <td>0.014623</td>\n",
       "      <td>0.000138</td>\n",
       "      <td>0.033088</td>\n",
       "      <td>-0.009596</td>\n",
       "      <td>0.015808</td>\n",
       "    </tr>\n",
       "    <tr>\n",
       "      <th>measurement_3</th>\n",
       "      <td>-0.005923</td>\n",
       "      <td>-0.005203</td>\n",
       "      <td>0.005849</td>\n",
       "      <td>-0.002265</td>\n",
       "      <td>-0.004890</td>\n",
       "      <td>-0.008363</td>\n",
       "      <td>-0.002751</td>\n",
       "      <td>1.000000</td>\n",
       "      <td>0.009573</td>\n",
       "      <td>0.009864</td>\n",
       "      <td>...</td>\n",
       "      <td>0.008195</td>\n",
       "      <td>-0.004854</td>\n",
       "      <td>-0.004427</td>\n",
       "      <td>0.002445</td>\n",
       "      <td>0.005893</td>\n",
       "      <td>0.002150</td>\n",
       "      <td>-0.010986</td>\n",
       "      <td>-0.002164</td>\n",
       "      <td>0.080902</td>\n",
       "      <td>0.003577</td>\n",
       "    </tr>\n",
       "    <tr>\n",
       "      <th>measurement_4</th>\n",
       "      <td>0.011313</td>\n",
       "      <td>-0.011792</td>\n",
       "      <td>-0.011797</td>\n",
       "      <td>0.015470</td>\n",
       "      <td>-0.006459</td>\n",
       "      <td>0.001535</td>\n",
       "      <td>-0.009797</td>\n",
       "      <td>0.009573</td>\n",
       "      <td>1.000000</td>\n",
       "      <td>0.005113</td>\n",
       "      <td>...</td>\n",
       "      <td>0.009080</td>\n",
       "      <td>-0.012998</td>\n",
       "      <td>-0.002784</td>\n",
       "      <td>-0.002586</td>\n",
       "      <td>-0.002454</td>\n",
       "      <td>-0.001713</td>\n",
       "      <td>-0.004567</td>\n",
       "      <td>0.002929</td>\n",
       "      <td>0.193045</td>\n",
       "      <td>-0.010488</td>\n",
       "    </tr>\n",
       "    <tr>\n",
       "      <th>measurement_5</th>\n",
       "      <td>-0.007001</td>\n",
       "      <td>-0.005599</td>\n",
       "      <td>0.006811</td>\n",
       "      <td>-0.004034</td>\n",
       "      <td>0.003304</td>\n",
       "      <td>-0.005587</td>\n",
       "      <td>0.000241</td>\n",
       "      <td>0.009864</td>\n",
       "      <td>0.005113</td>\n",
       "      <td>1.000000</td>\n",
       "      <td>...</td>\n",
       "      <td>-0.003589</td>\n",
       "      <td>0.002170</td>\n",
       "      <td>0.005306</td>\n",
       "      <td>0.000858</td>\n",
       "      <td>-0.009325</td>\n",
       "      <td>0.008720</td>\n",
       "      <td>-0.009101</td>\n",
       "      <td>-0.002996</td>\n",
       "      <td>0.450024</td>\n",
       "      <td>0.018079</td>\n",
       "    </tr>\n",
       "    <tr>\n",
       "      <th>measurement_6</th>\n",
       "      <td>0.008734</td>\n",
       "      <td>0.007310</td>\n",
       "      <td>-0.002181</td>\n",
       "      <td>0.000119</td>\n",
       "      <td>0.003731</td>\n",
       "      <td>-0.001562</td>\n",
       "      <td>-0.009157</td>\n",
       "      <td>0.008322</td>\n",
       "      <td>0.001682</td>\n",
       "      <td>0.006405</td>\n",
       "      <td>...</td>\n",
       "      <td>0.006014</td>\n",
       "      <td>0.000138</td>\n",
       "      <td>-0.002167</td>\n",
       "      <td>-0.010889</td>\n",
       "      <td>-0.004767</td>\n",
       "      <td>-0.001128</td>\n",
       "      <td>0.000857</td>\n",
       "      <td>-0.004490</td>\n",
       "      <td>0.328136</td>\n",
       "      <td>0.014791</td>\n",
       "    </tr>\n",
       "    <tr>\n",
       "      <th>measurement_7</th>\n",
       "      <td>-0.011881</td>\n",
       "      <td>-0.001773</td>\n",
       "      <td>0.010338</td>\n",
       "      <td>-0.008046</td>\n",
       "      <td>0.000669</td>\n",
       "      <td>-0.016977</td>\n",
       "      <td>0.002012</td>\n",
       "      <td>0.006111</td>\n",
       "      <td>-0.004630</td>\n",
       "      <td>-0.006422</td>\n",
       "      <td>...</td>\n",
       "      <td>0.002793</td>\n",
       "      <td>-0.000729</td>\n",
       "      <td>-0.007548</td>\n",
       "      <td>0.004150</td>\n",
       "      <td>-0.002730</td>\n",
       "      <td>0.003493</td>\n",
       "      <td>-0.003583</td>\n",
       "      <td>-0.009377</td>\n",
       "      <td>0.330328</td>\n",
       "      <td>0.016787</td>\n",
       "    </tr>\n",
       "    <tr>\n",
       "      <th>measurement_8</th>\n",
       "      <td>0.000437</td>\n",
       "      <td>-0.002998</td>\n",
       "      <td>-0.001717</td>\n",
       "      <td>-0.006233</td>\n",
       "      <td>-0.005037</td>\n",
       "      <td>0.000286</td>\n",
       "      <td>0.000591</td>\n",
       "      <td>0.001286</td>\n",
       "      <td>0.006374</td>\n",
       "      <td>-0.004960</td>\n",
       "      <td>...</td>\n",
       "      <td>-0.000258</td>\n",
       "      <td>-0.003070</td>\n",
       "      <td>-0.014865</td>\n",
       "      <td>-0.001129</td>\n",
       "      <td>-0.007111</td>\n",
       "      <td>-0.003867</td>\n",
       "      <td>0.017337</td>\n",
       "      <td>0.002242</td>\n",
       "      <td>0.492839</td>\n",
       "      <td>0.017119</td>\n",
       "    </tr>\n",
       "    <tr>\n",
       "      <th>measurement_9</th>\n",
       "      <td>0.001550</td>\n",
       "      <td>-0.007751</td>\n",
       "      <td>-0.000098</td>\n",
       "      <td>-0.002295</td>\n",
       "      <td>0.009112</td>\n",
       "      <td>0.004529</td>\n",
       "      <td>0.001884</td>\n",
       "      <td>0.008195</td>\n",
       "      <td>0.009080</td>\n",
       "      <td>-0.003589</td>\n",
       "      <td>...</td>\n",
       "      <td>1.000000</td>\n",
       "      <td>-0.006713</td>\n",
       "      <td>-0.007012</td>\n",
       "      <td>-0.007173</td>\n",
       "      <td>-0.006098</td>\n",
       "      <td>-0.011114</td>\n",
       "      <td>-0.003587</td>\n",
       "      <td>-0.002176</td>\n",
       "      <td>0.145465</td>\n",
       "      <td>-0.003587</td>\n",
       "    </tr>\n",
       "    <tr>\n",
       "      <th>measurement_10</th>\n",
       "      <td>-0.029611</td>\n",
       "      <td>-0.007525</td>\n",
       "      <td>-0.004953</td>\n",
       "      <td>-0.100845</td>\n",
       "      <td>0.032779</td>\n",
       "      <td>0.011986</td>\n",
       "      <td>0.018695</td>\n",
       "      <td>-0.004854</td>\n",
       "      <td>-0.012998</td>\n",
       "      <td>0.002170</td>\n",
       "      <td>...</td>\n",
       "      <td>-0.006713</td>\n",
       "      <td>1.000000</td>\n",
       "      <td>-0.035420</td>\n",
       "      <td>0.031195</td>\n",
       "      <td>0.031349</td>\n",
       "      <td>0.038033</td>\n",
       "      <td>-0.053829</td>\n",
       "      <td>0.004403</td>\n",
       "      <td>0.000477</td>\n",
       "      <td>-0.001515</td>\n",
       "    </tr>\n",
       "    <tr>\n",
       "      <th>measurement_11</th>\n",
       "      <td>0.009524</td>\n",
       "      <td>0.003594</td>\n",
       "      <td>0.094038</td>\n",
       "      <td>-0.025434</td>\n",
       "      <td>0.001878</td>\n",
       "      <td>-0.035312</td>\n",
       "      <td>-0.003877</td>\n",
       "      <td>-0.004427</td>\n",
       "      <td>-0.002784</td>\n",
       "      <td>0.005306</td>\n",
       "      <td>...</td>\n",
       "      <td>-0.007012</td>\n",
       "      <td>-0.035420</td>\n",
       "      <td>1.000000</td>\n",
       "      <td>0.088620</td>\n",
       "      <td>-0.095634</td>\n",
       "      <td>-0.086349</td>\n",
       "      <td>-0.026127</td>\n",
       "      <td>0.091059</td>\n",
       "      <td>-0.011975</td>\n",
       "      <td>-0.004801</td>\n",
       "    </tr>\n",
       "    <tr>\n",
       "      <th>measurement_12</th>\n",
       "      <td>-0.151220</td>\n",
       "      <td>-0.002407</td>\n",
       "      <td>0.226756</td>\n",
       "      <td>-0.132060</td>\n",
       "      <td>0.033496</td>\n",
       "      <td>-0.084605</td>\n",
       "      <td>-0.001808</td>\n",
       "      <td>0.002445</td>\n",
       "      <td>-0.002586</td>\n",
       "      <td>0.000858</td>\n",
       "      <td>...</td>\n",
       "      <td>-0.007173</td>\n",
       "      <td>0.031195</td>\n",
       "      <td>0.088620</td>\n",
       "      <td>1.000000</td>\n",
       "      <td>0.002399</td>\n",
       "      <td>-0.024977</td>\n",
       "      <td>-0.152583</td>\n",
       "      <td>0.095430</td>\n",
       "      <td>-0.005552</td>\n",
       "      <td>0.004398</td>\n",
       "    </tr>\n",
       "    <tr>\n",
       "      <th>measurement_13</th>\n",
       "      <td>-0.037559</td>\n",
       "      <td>0.006138</td>\n",
       "      <td>0.049639</td>\n",
       "      <td>0.028472</td>\n",
       "      <td>-0.031527</td>\n",
       "      <td>0.007523</td>\n",
       "      <td>0.029145</td>\n",
       "      <td>0.005893</td>\n",
       "      <td>-0.002454</td>\n",
       "      <td>-0.009325</td>\n",
       "      <td>...</td>\n",
       "      <td>-0.006098</td>\n",
       "      <td>0.031349</td>\n",
       "      <td>-0.095634</td>\n",
       "      <td>0.002399</td>\n",
       "      <td>1.000000</td>\n",
       "      <td>0.005001</td>\n",
       "      <td>0.028483</td>\n",
       "      <td>0.131495</td>\n",
       "      <td>-0.013250</td>\n",
       "      <td>-0.001831</td>\n",
       "    </tr>\n",
       "    <tr>\n",
       "      <th>measurement_14</th>\n",
       "      <td>-0.053744</td>\n",
       "      <td>0.000120</td>\n",
       "      <td>0.020921</td>\n",
       "      <td>-0.049711</td>\n",
       "      <td>0.021907</td>\n",
       "      <td>-0.011471</td>\n",
       "      <td>0.014623</td>\n",
       "      <td>0.002150</td>\n",
       "      <td>-0.001713</td>\n",
       "      <td>0.008720</td>\n",
       "      <td>...</td>\n",
       "      <td>-0.011114</td>\n",
       "      <td>0.038033</td>\n",
       "      <td>-0.086349</td>\n",
       "      <td>-0.024977</td>\n",
       "      <td>0.005001</td>\n",
       "      <td>1.000000</td>\n",
       "      <td>0.014073</td>\n",
       "      <td>-0.089798</td>\n",
       "      <td>0.001127</td>\n",
       "      <td>0.006211</td>\n",
       "    </tr>\n",
       "    <tr>\n",
       "      <th>measurement_15</th>\n",
       "      <td>0.083951</td>\n",
       "      <td>-0.008087</td>\n",
       "      <td>-0.161242</td>\n",
       "      <td>0.187519</td>\n",
       "      <td>-0.055431</td>\n",
       "      <td>0.060870</td>\n",
       "      <td>0.000138</td>\n",
       "      <td>-0.010986</td>\n",
       "      <td>-0.004567</td>\n",
       "      <td>-0.009101</td>\n",
       "      <td>...</td>\n",
       "      <td>-0.003587</td>\n",
       "      <td>-0.053829</td>\n",
       "      <td>-0.026127</td>\n",
       "      <td>-0.152583</td>\n",
       "      <td>0.028483</td>\n",
       "      <td>0.014073</td>\n",
       "      <td>1.000000</td>\n",
       "      <td>0.028170</td>\n",
       "      <td>0.003160</td>\n",
       "      <td>-0.003544</td>\n",
       "    </tr>\n",
       "    <tr>\n",
       "      <th>measurement_16</th>\n",
       "      <td>-0.059849</td>\n",
       "      <td>-0.000633</td>\n",
       "      <td>0.035795</td>\n",
       "      <td>-0.061520</td>\n",
       "      <td>0.003025</td>\n",
       "      <td>-0.004509</td>\n",
       "      <td>0.033088</td>\n",
       "      <td>-0.002164</td>\n",
       "      <td>0.002929</td>\n",
       "      <td>-0.002996</td>\n",
       "      <td>...</td>\n",
       "      <td>-0.002176</td>\n",
       "      <td>0.004403</td>\n",
       "      <td>0.091059</td>\n",
       "      <td>0.095430</td>\n",
       "      <td>0.131495</td>\n",
       "      <td>-0.089798</td>\n",
       "      <td>0.028170</td>\n",
       "      <td>1.000000</td>\n",
       "      <td>-0.002607</td>\n",
       "      <td>0.002237</td>\n",
       "    </tr>\n",
       "    <tr>\n",
       "      <th>measurement_17</th>\n",
       "      <td>-0.000983</td>\n",
       "      <td>0.000305</td>\n",
       "      <td>0.004729</td>\n",
       "      <td>-0.001418</td>\n",
       "      <td>0.003351</td>\n",
       "      <td>-0.004651</td>\n",
       "      <td>-0.009596</td>\n",
       "      <td>0.080902</td>\n",
       "      <td>0.193045</td>\n",
       "      <td>0.450024</td>\n",
       "      <td>...</td>\n",
       "      <td>0.145465</td>\n",
       "      <td>0.000477</td>\n",
       "      <td>-0.011975</td>\n",
       "      <td>-0.005552</td>\n",
       "      <td>-0.013250</td>\n",
       "      <td>0.001127</td>\n",
       "      <td>0.003160</td>\n",
       "      <td>-0.002607</td>\n",
       "      <td>1.000000</td>\n",
       "      <td>0.033905</td>\n",
       "    </tr>\n",
       "    <tr>\n",
       "      <th>failure</th>\n",
       "      <td>-0.007545</td>\n",
       "      <td>0.129089</td>\n",
       "      <td>0.006337</td>\n",
       "      <td>-0.019222</td>\n",
       "      <td>0.009646</td>\n",
       "      <td>-0.010810</td>\n",
       "      <td>0.015808</td>\n",
       "      <td>0.003577</td>\n",
       "      <td>-0.010488</td>\n",
       "      <td>0.018079</td>\n",
       "      <td>...</td>\n",
       "      <td>-0.003587</td>\n",
       "      <td>-0.001515</td>\n",
       "      <td>-0.004801</td>\n",
       "      <td>0.004398</td>\n",
       "      <td>-0.001831</td>\n",
       "      <td>0.006211</td>\n",
       "      <td>-0.003544</td>\n",
       "      <td>0.002237</td>\n",
       "      <td>0.033905</td>\n",
       "      <td>1.000000</td>\n",
       "    </tr>\n",
       "  </tbody>\n",
       "</table>\n",
       "<p>23 rows × 23 columns</p>\n",
       "</div>"
      ],
      "text/plain": [
       "                      id   loading  attribute_2  attribute_3  measurement_0  \\\n",
       "id              1.000000  0.004305    -0.741200     0.558881      -0.253626   \n",
       "loading         0.004305  1.000000    -0.008208    -0.000756      -0.005578   \n",
       "attribute_2    -0.741200 -0.008208     1.000000    -0.538697       0.175387   \n",
       "attribute_3     0.558881 -0.000756    -0.538697     1.000000      -0.370232   \n",
       "measurement_0  -0.253626 -0.005578     0.175387    -0.370232       1.000000   \n",
       "measurement_1   0.400206  0.002532    -0.377971     0.329233      -0.255255   \n",
       "measurement_2   0.000128  0.000303     0.030522     0.013258      -0.083813   \n",
       "measurement_3  -0.005923 -0.005203     0.005849    -0.002265      -0.004890   \n",
       "measurement_4   0.011313 -0.011792    -0.011797     0.015470      -0.006459   \n",
       "measurement_5  -0.007001 -0.005599     0.006811    -0.004034       0.003304   \n",
       "measurement_6   0.008734  0.007310    -0.002181     0.000119       0.003731   \n",
       "measurement_7  -0.011881 -0.001773     0.010338    -0.008046       0.000669   \n",
       "measurement_8   0.000437 -0.002998    -0.001717    -0.006233      -0.005037   \n",
       "measurement_9   0.001550 -0.007751    -0.000098    -0.002295       0.009112   \n",
       "measurement_10 -0.029611 -0.007525    -0.004953    -0.100845       0.032779   \n",
       "measurement_11  0.009524  0.003594     0.094038    -0.025434       0.001878   \n",
       "measurement_12 -0.151220 -0.002407     0.226756    -0.132060       0.033496   \n",
       "measurement_13 -0.037559  0.006138     0.049639     0.028472      -0.031527   \n",
       "measurement_14 -0.053744  0.000120     0.020921    -0.049711       0.021907   \n",
       "measurement_15  0.083951 -0.008087    -0.161242     0.187519      -0.055431   \n",
       "measurement_16 -0.059849 -0.000633     0.035795    -0.061520       0.003025   \n",
       "measurement_17 -0.000983  0.000305     0.004729    -0.001418       0.003351   \n",
       "failure        -0.007545  0.129089     0.006337    -0.019222       0.009646   \n",
       "\n",
       "                measurement_1  measurement_2  measurement_3  measurement_4  \\\n",
       "id                   0.400206       0.000128      -0.005923       0.011313   \n",
       "loading              0.002532       0.000303      -0.005203      -0.011792   \n",
       "attribute_2         -0.377971       0.030522       0.005849      -0.011797   \n",
       "attribute_3          0.329233       0.013258      -0.002265       0.015470   \n",
       "measurement_0       -0.255255      -0.083813      -0.004890      -0.006459   \n",
       "measurement_1        1.000000       0.005032      -0.008363       0.001535   \n",
       "measurement_2        0.005032       1.000000      -0.002751      -0.009797   \n",
       "measurement_3       -0.008363      -0.002751       1.000000       0.009573   \n",
       "measurement_4        0.001535      -0.009797       0.009573       1.000000   \n",
       "measurement_5       -0.005587       0.000241       0.009864       0.005113   \n",
       "measurement_6       -0.001562      -0.009157       0.008322       0.001682   \n",
       "measurement_7       -0.016977       0.002012       0.006111      -0.004630   \n",
       "measurement_8        0.000286       0.000591       0.001286       0.006374   \n",
       "measurement_9        0.004529       0.001884       0.008195       0.009080   \n",
       "measurement_10       0.011986       0.018695      -0.004854      -0.012998   \n",
       "measurement_11      -0.035312      -0.003877      -0.004427      -0.002784   \n",
       "measurement_12      -0.084605      -0.001808       0.002445      -0.002586   \n",
       "measurement_13       0.007523       0.029145       0.005893      -0.002454   \n",
       "measurement_14      -0.011471       0.014623       0.002150      -0.001713   \n",
       "measurement_15       0.060870       0.000138      -0.010986      -0.004567   \n",
       "measurement_16      -0.004509       0.033088      -0.002164       0.002929   \n",
       "measurement_17      -0.004651      -0.009596       0.080902       0.193045   \n",
       "failure             -0.010810       0.015808       0.003577      -0.010488   \n",
       "\n",
       "                measurement_5  ...  measurement_9  measurement_10  \\\n",
       "id                  -0.007001  ...       0.001550       -0.029611   \n",
       "loading             -0.005599  ...      -0.007751       -0.007525   \n",
       "attribute_2          0.006811  ...      -0.000098       -0.004953   \n",
       "attribute_3         -0.004034  ...      -0.002295       -0.100845   \n",
       "measurement_0        0.003304  ...       0.009112        0.032779   \n",
       "measurement_1       -0.005587  ...       0.004529        0.011986   \n",
       "measurement_2        0.000241  ...       0.001884        0.018695   \n",
       "measurement_3        0.009864  ...       0.008195       -0.004854   \n",
       "measurement_4        0.005113  ...       0.009080       -0.012998   \n",
       "measurement_5        1.000000  ...      -0.003589        0.002170   \n",
       "measurement_6        0.006405  ...       0.006014        0.000138   \n",
       "measurement_7       -0.006422  ...       0.002793       -0.000729   \n",
       "measurement_8       -0.004960  ...      -0.000258       -0.003070   \n",
       "measurement_9       -0.003589  ...       1.000000       -0.006713   \n",
       "measurement_10       0.002170  ...      -0.006713        1.000000   \n",
       "measurement_11       0.005306  ...      -0.007012       -0.035420   \n",
       "measurement_12       0.000858  ...      -0.007173        0.031195   \n",
       "measurement_13      -0.009325  ...      -0.006098        0.031349   \n",
       "measurement_14       0.008720  ...      -0.011114        0.038033   \n",
       "measurement_15      -0.009101  ...      -0.003587       -0.053829   \n",
       "measurement_16      -0.002996  ...      -0.002176        0.004403   \n",
       "measurement_17       0.450024  ...       0.145465        0.000477   \n",
       "failure              0.018079  ...      -0.003587       -0.001515   \n",
       "\n",
       "                measurement_11  measurement_12  measurement_13  \\\n",
       "id                    0.009524       -0.151220       -0.037559   \n",
       "loading               0.003594       -0.002407        0.006138   \n",
       "attribute_2           0.094038        0.226756        0.049639   \n",
       "attribute_3          -0.025434       -0.132060        0.028472   \n",
       "measurement_0         0.001878        0.033496       -0.031527   \n",
       "measurement_1        -0.035312       -0.084605        0.007523   \n",
       "measurement_2        -0.003877       -0.001808        0.029145   \n",
       "measurement_3        -0.004427        0.002445        0.005893   \n",
       "measurement_4        -0.002784       -0.002586       -0.002454   \n",
       "measurement_5         0.005306        0.000858       -0.009325   \n",
       "measurement_6        -0.002167       -0.010889       -0.004767   \n",
       "measurement_7        -0.007548        0.004150       -0.002730   \n",
       "measurement_8        -0.014865       -0.001129       -0.007111   \n",
       "measurement_9        -0.007012       -0.007173       -0.006098   \n",
       "measurement_10       -0.035420        0.031195        0.031349   \n",
       "measurement_11        1.000000        0.088620       -0.095634   \n",
       "measurement_12        0.088620        1.000000        0.002399   \n",
       "measurement_13       -0.095634        0.002399        1.000000   \n",
       "measurement_14       -0.086349       -0.024977        0.005001   \n",
       "measurement_15       -0.026127       -0.152583        0.028483   \n",
       "measurement_16        0.091059        0.095430        0.131495   \n",
       "measurement_17       -0.011975       -0.005552       -0.013250   \n",
       "failure              -0.004801        0.004398       -0.001831   \n",
       "\n",
       "                measurement_14  measurement_15  measurement_16  \\\n",
       "id                   -0.053744        0.083951       -0.059849   \n",
       "loading               0.000120       -0.008087       -0.000633   \n",
       "attribute_2           0.020921       -0.161242        0.035795   \n",
       "attribute_3          -0.049711        0.187519       -0.061520   \n",
       "measurement_0         0.021907       -0.055431        0.003025   \n",
       "measurement_1        -0.011471        0.060870       -0.004509   \n",
       "measurement_2         0.014623        0.000138        0.033088   \n",
       "measurement_3         0.002150       -0.010986       -0.002164   \n",
       "measurement_4        -0.001713       -0.004567        0.002929   \n",
       "measurement_5         0.008720       -0.009101       -0.002996   \n",
       "measurement_6        -0.001128        0.000857       -0.004490   \n",
       "measurement_7         0.003493       -0.003583       -0.009377   \n",
       "measurement_8        -0.003867        0.017337        0.002242   \n",
       "measurement_9        -0.011114       -0.003587       -0.002176   \n",
       "measurement_10        0.038033       -0.053829        0.004403   \n",
       "measurement_11       -0.086349       -0.026127        0.091059   \n",
       "measurement_12       -0.024977       -0.152583        0.095430   \n",
       "measurement_13        0.005001        0.028483        0.131495   \n",
       "measurement_14        1.000000        0.014073       -0.089798   \n",
       "measurement_15        0.014073        1.000000        0.028170   \n",
       "measurement_16       -0.089798        0.028170        1.000000   \n",
       "measurement_17        0.001127        0.003160       -0.002607   \n",
       "failure               0.006211       -0.003544        0.002237   \n",
       "\n",
       "                measurement_17   failure  \n",
       "id                   -0.000983 -0.007545  \n",
       "loading               0.000305  0.129089  \n",
       "attribute_2           0.004729  0.006337  \n",
       "attribute_3          -0.001418 -0.019222  \n",
       "measurement_0         0.003351  0.009646  \n",
       "measurement_1        -0.004651 -0.010810  \n",
       "measurement_2        -0.009596  0.015808  \n",
       "measurement_3         0.080902  0.003577  \n",
       "measurement_4         0.193045 -0.010488  \n",
       "measurement_5         0.450024  0.018079  \n",
       "measurement_6         0.328136  0.014791  \n",
       "measurement_7         0.330328  0.016787  \n",
       "measurement_8         0.492839  0.017119  \n",
       "measurement_9         0.145465 -0.003587  \n",
       "measurement_10        0.000477 -0.001515  \n",
       "measurement_11       -0.011975 -0.004801  \n",
       "measurement_12       -0.005552  0.004398  \n",
       "measurement_13       -0.013250 -0.001831  \n",
       "measurement_14        0.001127  0.006211  \n",
       "measurement_15        0.003160 -0.003544  \n",
       "measurement_16       -0.002607  0.002237  \n",
       "measurement_17        1.000000  0.033905  \n",
       "failure               0.033905  1.000000  \n",
       "\n",
       "[23 rows x 23 columns]"
      ]
     },
     "execution_count": 5,
     "metadata": {},
     "output_type": "execute_result"
    }
   ],
   "source": [
    "train.corr()"
   ]
  },
  {
   "cell_type": "code",
   "execution_count": 6,
   "metadata": {},
   "outputs": [
    {
     "data": {
      "text/plain": [
       "<matplotlib.image.AxesImage at 0x20263f79af0>"
      ]
     },
     "execution_count": 6,
     "metadata": {},
     "output_type": "execute_result"
    },
    {
     "data": {
      "image/png": "[encoded data removed]",
      "text/plain": [
       "<Figure size 288x288 with 1 Axes>"
      ]
     },
     "metadata": {
      "needs_background": "light"
     },
     "output_type": "display_data"
    }
   ],
   "source": [
    "plt.matshow(train.corr())"
   ]
  },
  {
   "cell_type": "markdown",
   "metadata": {},
   "source": [
    "Features 0 and 3 show strong negative correlation. Regarding the target variable, the correlation is close to zero for most of the variables and very weak for the loading variable."
   ]
  },
  {
   "cell_type": "markdown",
   "metadata": {},
   "source": [
    "Check data types"
   ]
  },
  {
   "cell_type": "code",
   "execution_count": 7,
   "metadata": {},
   "outputs": [
    {
     "data": {
      "text/plain": [
       "id                  int64\n",
       "product_code       object\n",
       "loading           float64\n",
       "attribute_0        object\n",
       "attribute_1        object\n",
       "attribute_2         int64\n",
       "attribute_3         int64\n",
       "measurement_0       int64\n",
       "measurement_1       int64\n",
       "measurement_2       int64\n",
       "measurement_3     float64\n",
       "measurement_4     float64\n",
       "measurement_5     float64\n",
       "measurement_6     float64\n",
       "measurement_7     float64\n",
       "measurement_8     float64\n",
       "measurement_9     float64\n",
       "measurement_10    float64\n",
       "measurement_11    float64\n",
       "measurement_12    float64\n",
       "measurement_13    float64\n",
       "measurement_14    float64\n",
       "measurement_15    float64\n",
       "measurement_16    float64\n",
       "measurement_17    float64\n",
       "failure             int64\n",
       "dtype: object"
      ]
     },
     "execution_count": 7,
     "metadata": {},
     "output_type": "execute_result"
    }
   ],
   "source": [
    "train.dtypes"
   ]
  },
  {
   "cell_type": "markdown",
   "metadata": {},
   "source": [
    "# id variable <br>\n",
    "Check if id us unique for all observations"
   ]
  },
  {
   "cell_type": "code",
   "execution_count": 8,
   "metadata": {},
   "outputs": [
    {
     "name": "stdout",
     "output_type": "stream",
     "text": [
      "id for the train set is unique: True\n",
      "id for the test set is unique: True\n"
     ]
    }
   ],
   "source": [
    "print('id for the train set is unique:', train.shape[0] == len(train.value_counts('id')))\n",
    "print('id for the test set is unique:', test.shape[0] == len(test.value_counts('id')))"
   ]
  },
  {
   "cell_type": "markdown",
   "metadata": {},
   "source": [
    "\n",
    "Since id is a unique identifier it cannot be used for predicting failures --> remove the id column"
   ]
  },
  {
   "cell_type": "code",
   "execution_count": 9,
   "metadata": {},
   "outputs": [
    {
     "data": {
      "text/plain": [
       "Index(['product_code', 'loading', 'attribute_0', 'attribute_1', 'attribute_2',\n",
       "       'attribute_3', 'measurement_0', 'measurement_1', 'measurement_2',\n",
       "       'measurement_3', 'measurement_4', 'measurement_5', 'measurement_6',\n",
       "       'measurement_7', 'measurement_8', 'measurement_9', 'measurement_10',\n",
       "       'measurement_11', 'measurement_12', 'measurement_13', 'measurement_14',\n",
       "       'measurement_15', 'measurement_16', 'measurement_17', 'failure'],\n",
       "      dtype='object')"
      ]
     },
     "execution_count": 9,
     "metadata": {},
     "output_type": "execute_result"
    }
   ],
   "source": [
    "train.drop('id', axis=1, inplace=True)\n",
    "test.drop('id', axis=1, inplace=True)\n",
    "\n",
    "# check if the id was dropped\n",
    "train.columns"
   ]
  },
  {
   "cell_type": "markdown",
   "metadata": {},
   "source": [
    "# product_code <br>\n",
    "Calculate value counts and draw a histogram for product_code"
   ]
  },
  {
   "cell_type": "code",
   "execution_count": 10,
   "metadata": {},
   "outputs": [
    {
     "data": {
      "text/plain": [
       "product_code\n",
       "C    5765\n",
       "E    5343\n",
       "B    5250\n",
       "D    5112\n",
       "A    5100\n",
       "dtype: int64"
      ]
     },
     "execution_count": 10,
     "metadata": {},
     "output_type": "execute_result"
    }
   ],
   "source": [
    "train.value_counts('product_code')"
   ]
  },
  {
   "cell_type": "code",
   "execution_count": 11,
   "metadata": {},
   "outputs": [
    {
     "data": {
      "text/plain": [
       "<AxesSubplot:xlabel='product_code', ylabel='Count'>"
      ]
     },
     "execution_count": 11,
     "metadata": {},
     "output_type": "execute_result"
    },
    {
     "data": {
      "image/png": "[encoded data removed]",
      "text/plain": [
       "<Figure size 432x288 with 1 Axes>"
      ]
     },
     "metadata": {
      "needs_background": "light"
     },
     "output_type": "display_data"
    }
   ],
   "source": [
    "sns.histplot(train['product_code'])"
   ]
  },
  {
   "cell_type": "markdown",
   "metadata": {},
   "source": [
    "The histogram shows that there are 5 possible values for product_code. All categories have enough observations <br>\n",
    "<br>\n",
    "Calculate failure probability for each category of the variable"
   ]
  },
  {
   "cell_type": "code",
   "execution_count": 12,
   "metadata": {},
   "outputs": [
    {
     "data": {
      "text/plain": [
       "product_code\n",
       "A    0.227255\n",
       "B    0.200381\n",
       "C    0.211622\n",
       "D    0.217527\n",
       "E    0.207000\n",
       "Name: failure, dtype: float64"
      ]
     },
     "execution_count": 12,
     "metadata": {},
     "output_type": "execute_result"
    }
   ],
   "source": [
    "train.groupby('product_code', axis=0)['failure'].mean()"
   ]
  },
  {
   "cell_type": "markdown",
   "metadata": {},
   "source": [
    "Failure probability for different product codes is similar"
   ]
  },
  {
   "cell_type": "markdown",
   "metadata": {},
   "source": [
    "# loading <br>\n",
    "Draw a density plot and calculate statistics"
   ]
  },
  {
   "cell_type": "code",
   "execution_count": 13,
   "metadata": {},
   "outputs": [
    {
     "data": {
      "text/plain": [
       "<AxesSubplot:xlabel='loading', ylabel='Density'>"
      ]
     },
     "execution_count": 13,
     "metadata": {},
     "output_type": "execute_result"
    },
    {
     "data": {
      "image/png": "[encoded data removed]",
      "text/plain": [
       "<Figure size 432x288 with 1 Axes>"
      ]
     },
     "metadata": {
      "needs_background": "light"
     },
     "output_type": "display_data"
    }
   ],
   "source": [
    "sns.kdeplot(train['loading'])"
   ]
  },
  {
   "cell_type": "code",
   "execution_count": 14,
   "metadata": {},
   "outputs": [
    {
     "data": {
      "text/plain": [
       "count    26320.000000\n",
       "mean       127.826233\n",
       "std         39.030020\n",
       "min         33.160000\n",
       "25%         99.987500\n",
       "50%        122.390000\n",
       "75%        149.152500\n",
       "max        385.860000\n",
       "Name: loading, dtype: float64"
      ]
     },
     "execution_count": 14,
     "metadata": {},
     "output_type": "execute_result"
    }
   ],
   "source": [
    "train['loading'].describe()"
   ]
  },
  {
   "cell_type": "markdown",
   "metadata": {},
   "source": [
    "The plot and calculated statistics show that outstanding and rare values may be present"
   ]
  },
  {
   "cell_type": "markdown",
   "metadata": {},
   "source": [
    "# Attributes"
   ]
  },
  {
   "cell_type": "markdown",
   "metadata": {},
   "source": [
    "## attribute_0 <br>\n",
    "Draw a histogram"
   ]
  },
  {
   "cell_type": "code",
   "execution_count": 15,
   "metadata": {},
   "outputs": [
    {
     "data": {
      "text/plain": [
       "<AxesSubplot:xlabel='attribute_0', ylabel='Count'>"
      ]
     },
     "execution_count": 15,
     "metadata": {},
     "output_type": "execute_result"
    },
    {
     "data": {
      "image/png": "[encoded data removed]",
      "text/plain": [
       "<Figure size 432x288 with 1 Axes>"
      ]
     },
     "metadata": {
      "needs_background": "light"
     },
     "output_type": "display_data"
    }
   ],
   "source": [
    "sns.histplot(train['attribute_0'])"
   ]
  },
  {
   "cell_type": "markdown",
   "metadata": {},
   "source": [
    "The histogram shows that there are 2 possible values for the attribute. All the categories have enough observations<br>\n",
    "<br>\n",
    "Calculate failure probability for each category of the variable"
   ]
  },
  {
   "cell_type": "code",
   "execution_count": 16,
   "metadata": {},
   "outputs": [
    {
     "data": {
      "text/plain": [
       "attribute_0\n",
       "material_5    0.200381\n",
       "material_7    0.215619\n",
       "Name: failure, dtype: float64"
      ]
     },
     "execution_count": 16,
     "metadata": {},
     "output_type": "execute_result"
    }
   ],
   "source": [
    "train.groupby('attribute_0', axis=0)['failure'].mean()"
   ]
  },
  {
   "cell_type": "markdown",
   "metadata": {},
   "source": [
    "Failure probability is similar for both categories of the attribute"
   ]
  },
  {
   "cell_type": "markdown",
   "metadata": {},
   "source": [
    "## attribute_1 <br>\n",
    "Draw a histogram and calculate values counts"
   ]
  },
  {
   "cell_type": "code",
   "execution_count": 17,
   "metadata": {},
   "outputs": [
    {
     "data": {
      "text/plain": [
       "<AxesSubplot:xlabel='attribute_1', ylabel='Count'>"
      ]
     },
     "execution_count": 17,
     "metadata": {},
     "output_type": "execute_result"
    },
    {
     "data": {
      "image/png": "[encoded data removed]",
      "text/plain": [
       "<Figure size 432x288 with 1 Axes>"
      ]
     },
     "metadata": {
      "needs_background": "light"
     },
     "output_type": "display_data"
    }
   ],
   "source": [
    "sns.histplot(train['attribute_1'])"
   ]
  },
  {
   "cell_type": "code",
   "execution_count": 18,
   "metadata": {},
   "outputs": [
    {
     "data": {
      "text/plain": [
       "attribute_1\n",
       "material_8    10865\n",
       "material_5    10362\n",
       "material_6     5343\n",
       "dtype: int64"
      ]
     },
     "execution_count": 18,
     "metadata": {},
     "output_type": "execute_result"
    }
   ],
   "source": [
    "train.value_counts('attribute_1')"
   ]
  },
  {
   "cell_type": "markdown",
   "metadata": {},
   "source": [
    "There are 3 possible values for the attribute. All categories have enough observations <br>\n",
    "<br>\n",
    "Calculate failure probability for each category"
   ]
  },
  {
   "cell_type": "code",
   "execution_count": 19,
   "metadata": {},
   "outputs": [
    {
     "data": {
      "text/plain": [
       "attribute_1\n",
       "material_5    0.20884\n",
       "material_6    0.20700\n",
       "material_8    0.21896\n",
       "Name: failure, dtype: float64"
      ]
     },
     "execution_count": 19,
     "metadata": {},
     "output_type": "execute_result"
    }
   ],
   "source": [
    "train.groupby('attribute_1')['failure'].mean()"
   ]
  },
  {
   "cell_type": "markdown",
   "metadata": {},
   "source": [
    "Failure probability is similar for different attribute categories, but slightly higher for material_8"
   ]
  },
  {
   "cell_type": "markdown",
   "metadata": {},
   "source": [
    "## attribute_2 <br>\n",
    "Draw a histogram and count values"
   ]
  },
  {
   "cell_type": "code",
   "execution_count": 20,
   "metadata": {},
   "outputs": [
    {
     "data": {
      "text/plain": [
       "<AxesSubplot:xlabel='attribute_2', ylabel='Count'>"
      ]
     },
     "execution_count": 20,
     "metadata": {},
     "output_type": "execute_result"
    },
    {
     "data": {
      "image/png": "[encoded data removed]",
      "text/plain": [
       "<Figure size 432x288 with 1 Axes>"
      ]
     },
     "metadata": {
      "needs_background": "light"
     },
     "output_type": "display_data"
    }
   ],
   "source": [
    "sns.histplot(train['attribute_2'])"
   ]
  },
  {
   "cell_type": "code",
   "execution_count": 21,
   "metadata": {},
   "outputs": [
    {
     "data": {
      "text/plain": [
       "attribute_2\n",
       "9     5100\n",
       "8     5250\n",
       "5     5765\n",
       "6    10455\n",
       "dtype: int64"
      ]
     },
     "execution_count": 21,
     "metadata": {},
     "output_type": "execute_result"
    }
   ],
   "source": [
    "train.value_counts('attribute_2', ascending=True)"
   ]
  },
  {
   "cell_type": "markdown",
   "metadata": {},
   "source": [
    "There are 4 possible values for the attribute. All categories have enough observations <br>\n",
    "<br>\n",
    "Calculate failure probability for each category of the variable"
   ]
  },
  {
   "cell_type": "code",
   "execution_count": 22,
   "metadata": {},
   "outputs": [
    {
     "data": {
      "text/plain": [
       "attribute_2\n",
       "5    0.211622\n",
       "6    0.212147\n",
       "8    0.200381\n",
       "9    0.227255\n",
       "Name: failure, dtype: float64"
      ]
     },
     "execution_count": 22,
     "metadata": {},
     "output_type": "execute_result"
    }
   ],
   "source": [
    "train.groupby('attribute_2')['failure'].mean()"
   ]
  },
  {
   "cell_type": "markdown",
   "metadata": {},
   "source": [
    "Failure probability is similar for different attribute_2 values, but the relationship is not linear"
   ]
  },
  {
   "cell_type": "markdown",
   "metadata": {},
   "source": [
    "Change the dtype from int to object to make it easier for algorithms to learn nonlinear dependencies"
   ]
  },
  {
   "cell_type": "code",
   "execution_count": 23,
   "metadata": {},
   "outputs": [],
   "source": [
    "train['attribute_2'] = train['attribute_2'].astype(object)\n",
    "test['attribute_2'] = test['attribute_2'].astype(object)"
   ]
  },
  {
   "cell_type": "markdown",
   "metadata": {},
   "source": [
    "## attribute_3 <br>\n",
    "Draw a histogram and calculate value counts"
   ]
  },
  {
   "cell_type": "code",
   "execution_count": 24,
   "metadata": {},
   "outputs": [
    {
     "data": {
      "text/plain": [
       "<AxesSubplot:xlabel='attribute_3', ylabel='Count'>"
      ]
     },
     "execution_count": 24,
     "metadata": {},
     "output_type": "execute_result"
    },
    {
     "data": {
      "image/png": "[encoded data removed]",
      "text/plain": [
       "<Figure size 432x288 with 1 Axes>"
      ]
     },
     "metadata": {
      "needs_background": "light"
     },
     "output_type": "display_data"
    }
   ],
   "source": [
    "sns.histplot(train['attribute_3'])"
   ]
  },
  {
   "cell_type": "code",
   "execution_count": 25,
   "metadata": {},
   "outputs": [
    {
     "data": {
      "text/plain": [
       "attribute_3\n",
       "5     5100\n",
       "6     5112\n",
       "9     5343\n",
       "8    11015\n",
       "dtype: int64"
      ]
     },
     "execution_count": 25,
     "metadata": {},
     "output_type": "execute_result"
    }
   ],
   "source": [
    "train.value_counts('attribute_3', ascending=True)"
   ]
  },
  {
   "cell_type": "markdown",
   "metadata": {},
   "source": [
    "There are 4 possible values for the attribute. All categories have enough observations<br>\n",
    "<br>\n",
    "Calculate failure probability for each category of the variable"
   ]
  },
  {
   "cell_type": "code",
   "execution_count": 26,
   "metadata": {},
   "outputs": [
    {
     "data": {
      "text/plain": [
       "attribute_3\n",
       "5    0.227255\n",
       "6    0.217527\n",
       "8    0.206264\n",
       "9    0.207000\n",
       "Name: failure, dtype: float64"
      ]
     },
     "execution_count": 26,
     "metadata": {},
     "output_type": "execute_result"
    }
   ],
   "source": [
    "train.groupby('attribute_3')['failure'].mean()"
   ]
  },
  {
   "cell_type": "markdown",
   "metadata": {},
   "source": [
    "Change the dtype of attribute_3 from int to object to make it easier for algorithms to learn nonlinear dependencies"
   ]
  },
  {
   "cell_type": "code",
   "execution_count": 27,
   "metadata": {},
   "outputs": [],
   "source": [
    "train['attribute_3'] = train['attribute_3'].astype(object)\n",
    "test['attribute_3'] = test['attribute_3'].astype(object)"
   ]
  },
  {
   "cell_type": "markdown",
   "metadata": {},
   "source": [
    "# Measurements"
   ]
  },
  {
   "cell_type": "markdown",
   "metadata": {},
   "source": [
    "## measurement_0 <br>\n",
    "Draw a histogram, calculate statistics and failure probabilities"
   ]
  },
  {
   "cell_type": "code",
   "execution_count": 28,
   "metadata": {},
   "outputs": [
    {
     "data": {
      "text/plain": [
       "<AxesSubplot:xlabel='measurement_0', ylabel='Count'>"
      ]
     },
     "execution_count": 28,
     "metadata": {},
     "output_type": "execute_result"
    },
    {
     "data": {
      "image/png": "[encoded data removed]",
      "text/plain": [
       "<Figure size 432x288 with 1 Axes>"
      ]
     },
     "metadata": {
      "needs_background": "light"
     },
     "output_type": "display_data"
    }
   ],
   "source": [
    "sns.histplot(train['measurement_0'])"
   ]
  },
  {
   "cell_type": "code",
   "execution_count": 29,
   "metadata": {},
   "outputs": [
    {
     "data": {
      "text/plain": [
       "count    26570.000000\n",
       "mean         7.415883\n",
       "std          4.116690\n",
       "min          0.000000\n",
       "25%          4.000000\n",
       "50%          7.000000\n",
       "75%         10.000000\n",
       "max         29.000000\n",
       "Name: measurement_0, dtype: float64"
      ]
     },
     "execution_count": 29,
     "metadata": {},
     "output_type": "execute_result"
    }
   ],
   "source": [
    "train['measurement_0'].describe()"
   ]
  },
  {
   "cell_type": "code",
   "execution_count": 30,
   "metadata": {},
   "outputs": [
    {
     "data": {
      "text/plain": [
       "<AxesSubplot:xlabel='measurement_0', ylabel='failure'>"
      ]
     },
     "execution_count": 30,
     "metadata": {},
     "output_type": "execute_result"
    },
    {
     "data": {
      "image/png": "[encoded data removed]",
      "text/plain": [
       "<Figure size 432x288 with 1 Axes>"
      ]
     },
     "metadata": {
      "needs_background": "light"
     },
     "output_type": "display_data"
    }
   ],
   "source": [
    "sns.lineplot(x=train['measurement_0'], y=train.groupby('measurement_0')['failure'].mean())"
   ]
  },
  {
   "cell_type": "markdown",
   "metadata": {},
   "source": [
    "Values of measurement_0 around 11 correspond with the highest failure probability. Low failure probability for 17 may be considered as a result of low number of observations with that value of the variable <br>\n",
    "It may be useful to group variable's values using its quantiles. This way we'll treat the variable almost like categorical (taking into account nonlinear dependencies), but avoid creating categories with low number of observations"
   ]
  },
  {
   "cell_type": "markdown",
   "metadata": {},
   "source": [
    "Group values into 10 quantiles and calculate failure probability for each obtained category"
   ]
  },
  {
   "cell_type": "code",
   "execution_count": 31,
   "metadata": {},
   "outputs": [
    {
     "data": {
      "text/plain": [
       "measurement_0_grouped\n",
       "(-0.001, 3.0]    0.205929\n",
       "(3.0, 4.0]       0.213596\n",
       "(4.0, 5.0]       0.212379\n",
       "(5.0, 6.0]       0.218040\n",
       "(6.0, 7.0]       0.215520\n",
       "(7.0, 8.0]       0.207163\n",
       "(8.0, 9.0]       0.196230\n",
       "(9.0, 11.0]      0.220663\n",
       "(11.0, 13.0]     0.211714\n",
       "(13.0, 29.0]     0.225314\n",
       "Name: failure, dtype: float64"
      ]
     },
     "execution_count": 31,
     "metadata": {},
     "output_type": "execute_result"
    }
   ],
   "source": [
    "train['measurement_0_grouped'] = pd.qcut(train['measurement_0'], 10)\n",
    "test['measurement_0_grouped'] = pd.cut(\n",
    "    test['measurement_0'], \n",
    "    pd.IntervalIndex(train['measurement_0_grouped'].unique()))\n",
    "    \n",
    "train.groupby('measurement_0_grouped')['failure'].mean()"
   ]
  },
  {
   "cell_type": "markdown",
   "metadata": {},
   "source": [
    "## measurement_1 <br>\n",
    "Draw a histogram, calculate statistics and failure probabilities"
   ]
  },
  {
   "cell_type": "code",
   "execution_count": 32,
   "metadata": {},
   "outputs": [
    {
     "data": {
      "text/plain": [
       "<AxesSubplot:xlabel='measurement_1', ylabel='Count'>"
      ]
     },
     "execution_count": 32,
     "metadata": {},
     "output_type": "execute_result"
    },
    {
     "data": {
      "image/png": "[encoded data removed]",
      "text/plain": [
       "<Figure size 432x288 with 1 Axes>"
      ]
     },
     "metadata": {
      "needs_background": "light"
     },
     "output_type": "display_data"
    }
   ],
   "source": [
    "sns.histplot(train['measurement_1'])"
   ]
  },
  {
   "cell_type": "code",
   "execution_count": 33,
   "metadata": {},
   "outputs": [
    {
     "data": {
      "text/plain": [
       "count    26570.000000\n",
       "mean         8.232518\n",
       "std          4.199401\n",
       "min          0.000000\n",
       "25%          5.000000\n",
       "50%          8.000000\n",
       "75%         11.000000\n",
       "max         29.000000\n",
       "Name: measurement_1, dtype: float64"
      ]
     },
     "execution_count": 33,
     "metadata": {},
     "output_type": "execute_result"
    }
   ],
   "source": [
    "train['measurement_1'].describe()"
   ]
  },
  {
   "cell_type": "code",
   "execution_count": 34,
   "metadata": {},
   "outputs": [
    {
     "data": {
      "text/plain": [
       "<AxesSubplot:xlabel='measurement_1', ylabel='failure'>"
      ]
     },
     "execution_count": 34,
     "metadata": {},
     "output_type": "execute_result"
    },
    {
     "data": {
      "image/png": "[encoded data removed]",
      "text/plain": [
       "<Figure size 432x288 with 1 Axes>"
      ]
     },
     "metadata": {
      "needs_background": "light"
     },
     "output_type": "display_data"
    }
   ],
   "source": [
    "sns.lineplot(x=train['measurement_1'], y=train.groupby('measurement_0')['failure'].mean())"
   ]
  },
  {
   "cell_type": "markdown",
   "metadata": {},
   "source": [
    "Generally the lowest probability of a failure correnponds with values of measurement_1 around 4-5. As before, we can group variable's values and calculate failure probability for each obtained category"
   ]
  },
  {
   "cell_type": "code",
   "execution_count": 35,
   "metadata": {},
   "outputs": [
    {
     "data": {
      "text/plain": [
       "measurement_1_grouped\n",
       "(-0.001, 4.0]    0.218951\n",
       "(4.0, 6.0]       0.215498\n",
       "(6.0, 7.0]       0.217476\n",
       "(7.0, 9.0]       0.210335\n",
       "(9.0, 10.0]      0.220680\n",
       "(10.0, 13.0]     0.199688\n",
       "(13.0, 29.0]     0.210691\n",
       "Name: failure, dtype: float64"
      ]
     },
     "execution_count": 35,
     "metadata": {},
     "output_type": "execute_result"
    }
   ],
   "source": [
    "# group values into quantiles\n",
    "train['measurement_1_grouped'] = pd.qcut(train['measurement_1'], 7)\n",
    "test['measurement_1_grouped'] = pd.cut(\n",
    "    test['measurement_1'], \n",
    "    pd.IntervalIndex(train['measurement_1_grouped'].unique()))\n",
    "\n",
    "# calculate failure probability for each quantile\n",
    "train.groupby('measurement_1_grouped')['failure'].mean()"
   ]
  },
  {
   "cell_type": "markdown",
   "metadata": {},
   "source": [
    "## measurement_2 <br>\n",
    "Draw a histogram, calculate statistics and failure probability"
   ]
  },
  {
   "cell_type": "code",
   "execution_count": 36,
   "metadata": {},
   "outputs": [
    {
     "data": {
      "text/plain": [
       "<AxesSubplot:xlabel='measurement_2', ylabel='Count'>"
      ]
     },
     "execution_count": 36,
     "metadata": {},
     "output_type": "execute_result"
    },
    {
     "data": {
      "image/png": "[encoded data removed]",
      "text/plain": [
       "<Figure size 432x288 with 1 Axes>"
      ]
     },
     "metadata": {
      "needs_background": "light"
     },
     "output_type": "display_data"
    }
   ],
   "source": [
    "sns.histplot(train['measurement_2'])"
   ]
  },
  {
   "cell_type": "code",
   "execution_count": 37,
   "metadata": {},
   "outputs": [
    {
     "data": {
      "text/plain": [
       "count    26570.000000\n",
       "mean         6.256568\n",
       "std          3.309109\n",
       "min          0.000000\n",
       "25%          4.000000\n",
       "50%          6.000000\n",
       "75%          8.000000\n",
       "max         24.000000\n",
       "Name: measurement_2, dtype: float64"
      ]
     },
     "execution_count": 37,
     "metadata": {},
     "output_type": "execute_result"
    }
   ],
   "source": [
    "train['measurement_2'].describe()"
   ]
  },
  {
   "cell_type": "code",
   "execution_count": 38,
   "metadata": {},
   "outputs": [
    {
     "data": {
      "text/plain": [
       "<AxesSubplot:xlabel='measurement_2', ylabel='failure'>"
      ]
     },
     "execution_count": 38,
     "metadata": {},
     "output_type": "execute_result"
    },
    {
     "data": {
      "image/png": "[encoded data removed]",
      "text/plain": [
       "<Figure size 432x288 with 1 Axes>"
      ]
     },
     "metadata": {
      "needs_background": "light"
     },
     "output_type": "display_data"
    }
   ],
   "source": [
    "sns.lineplot(x=train['measurement_2'], y=train.groupby('measurement_2')['failure'].mean())"
   ]
  },
  {
   "cell_type": "markdown",
   "metadata": {},
   "source": [
    "Failure probability is generally the same for all values of measurement_2 excl. 5, 10, 12, 13. As previously, we can group values of the variable using its quantiles"
   ]
  },
  {
   "cell_type": "code",
   "execution_count": 39,
   "metadata": {},
   "outputs": [
    {
     "data": {
      "text/plain": [
       "measurement_2_grouped\n",
       "(-0.001, 2.0]    0.201050\n",
       "(2.0, 3.0]       0.219149\n",
       "(3.0, 4.0]       0.212815\n",
       "(4.0, 5.0]       0.203949\n",
       "(5.0, 6.0]       0.201585\n",
       "(6.0, 7.0]       0.224758\n",
       "(7.0, 8.0]       0.220606\n",
       "(8.0, 9.0]       0.214400\n",
       "(9.0, 11.0]      0.200408\n",
       "(11.0, 24.0]     0.243109\n",
       "Name: failure, dtype: float64"
      ]
     },
     "execution_count": 39,
     "metadata": {},
     "output_type": "execute_result"
    }
   ],
   "source": [
    "# group values into quantiles\n",
    "train['measurement_2_grouped'] = pd.qcut(train['measurement_2'], 10)\n",
    "test['measurement_2_grouped'] = pd.cut(\n",
    "    test['measurement_2'], \n",
    "    pd.IntervalIndex(train['measurement_2_grouped'].unique()))\n",
    "    \n",
    "# calculate failure probability for each group\n",
    "train.groupby('measurement_2_grouped')['failure'].mean()"
   ]
  },
  {
   "cell_type": "markdown",
   "metadata": {},
   "source": [
    "For the highest values of measurement_2 (values between 11 and 24) the product reaches the highest failure probability (0.243). <br>\n",
    "<br>\n",
    "The dtype of other measurements is float. Because of the continuous type of these features, visualisations of failure probability for different feature values would be unclear. For now, density plots and variables statistics will be provided. The results are summarized at the exploration summary part of the notebook."
   ]
  },
  {
   "cell_type": "markdown",
   "metadata": {},
   "source": [
    "## measurement_3 <br>\n",
    "Draw a density plot and calculate statistics"
   ]
  },
  {
   "cell_type": "code",
   "execution_count": 40,
   "metadata": {},
   "outputs": [
    {
     "data": {
      "text/plain": [
       "<AxesSubplot:xlabel='measurement_3', ylabel='Density'>"
      ]
     },
     "execution_count": 40,
     "metadata": {},
     "output_type": "execute_result"
    },
    {
     "data": {
      "image/png": "[encoded data removed]",
      "text/plain": [
       "<Figure size 432x288 with 1 Axes>"
      ]
     },
     "metadata": {
      "needs_background": "light"
     },
     "output_type": "display_data"
    }
   ],
   "source": [
    "sns.kdeplot(train['measurement_3'])"
   ]
  },
  {
   "cell_type": "code",
   "execution_count": 41,
   "metadata": {},
   "outputs": [
    {
     "data": {
      "text/plain": [
       "count    26189.000000\n",
       "mean        17.791528\n",
       "std          1.001200\n",
       "min         13.968000\n",
       "25%         17.117000\n",
       "50%         17.787000\n",
       "75%         18.469000\n",
       "max         21.499000\n",
       "Name: measurement_3, dtype: float64"
      ]
     },
     "execution_count": 41,
     "metadata": {},
     "output_type": "execute_result"
    }
   ],
   "source": [
    "train['measurement_3'].describe()"
   ]
  },
  {
   "cell_type": "markdown",
   "metadata": {},
   "source": [
    "## measurement_4 <br>\n",
    "Draw a density plot and calculate statistics"
   ]
  },
  {
   "cell_type": "code",
   "execution_count": 42,
   "metadata": {},
   "outputs": [
    {
     "data": {
      "text/plain": [
       "<AxesSubplot:xlabel='measurement_4', ylabel='Density'>"
      ]
     },
     "execution_count": 42,
     "metadata": {},
     "output_type": "execute_result"
    },
    {
     "data": {
      "image/png": "[encoded data removed]",
      "text/plain": [
       "<Figure size 432x288 with 1 Axes>"
      ]
     },
     "metadata": {
      "needs_background": "light"
     },
     "output_type": "display_data"
    }
   ],
   "source": [
    "sns.kdeplot(train['measurement_4'])"
   ]
  },
  {
   "cell_type": "code",
   "execution_count": 43,
   "metadata": {},
   "outputs": [
    {
     "data": {
      "text/plain": [
       "count    26032.000000\n",
       "mean        11.731988\n",
       "std          0.996085\n",
       "min          8.008000\n",
       "25%         11.051000\n",
       "50%         11.733000\n",
       "75%         12.410000\n",
       "max         16.484000\n",
       "Name: measurement_4, dtype: float64"
      ]
     },
     "execution_count": 43,
     "metadata": {},
     "output_type": "execute_result"
    }
   ],
   "source": [
    "train['measurement_4'].describe()"
   ]
  },
  {
   "cell_type": "markdown",
   "metadata": {},
   "source": [
    "## measurement_5 <br>\n",
    "Draw a density plot and calculate statistics"
   ]
  },
  {
   "cell_type": "code",
   "execution_count": 44,
   "metadata": {},
   "outputs": [
    {
     "data": {
      "text/plain": [
       "<AxesSubplot:xlabel='measurement_5', ylabel='Density'>"
      ]
     },
     "execution_count": 44,
     "metadata": {},
     "output_type": "execute_result"
    },
    {
     "data": {
      "image/png": "[encoded data removed]",
      "text/plain": [
       "<Figure size 432x288 with 1 Axes>"
      ]
     },
     "metadata": {
      "needs_background": "light"
     },
     "output_type": "display_data"
    }
   ],
   "source": [
    "sns.kdeplot(train['measurement_5'])"
   ]
  },
  {
   "cell_type": "code",
   "execution_count": 45,
   "metadata": {},
   "outputs": [
    {
     "data": {
      "text/plain": [
       "count    25894.000000\n",
       "mean        17.127804\n",
       "std          0.996414\n",
       "min         12.073000\n",
       "25%         16.443000\n",
       "50%         17.132000\n",
       "75%         17.805000\n",
       "max         21.425000\n",
       "Name: measurement_5, dtype: float64"
      ]
     },
     "execution_count": 45,
     "metadata": {},
     "output_type": "execute_result"
    }
   ],
   "source": [
    "train['measurement_5'].describe()"
   ]
  },
  {
   "cell_type": "markdown",
   "metadata": {},
   "source": [
    "## measurement_6 <br>\n",
    "Draw a density plot and calculate statistics"
   ]
  },
  {
   "cell_type": "code",
   "execution_count": 46,
   "metadata": {},
   "outputs": [
    {
     "data": {
      "text/plain": [
       "<AxesSubplot:xlabel='measurement_6', ylabel='Density'>"
      ]
     },
     "execution_count": 46,
     "metadata": {},
     "output_type": "execute_result"
    },
    {
     "data": {
      "image/png": "[encoded data removed]",
      "text/plain": [
       "<Figure size 432x288 with 1 Axes>"
      ]
     },
     "metadata": {
      "needs_background": "light"
     },
     "output_type": "display_data"
    }
   ],
   "source": [
    "sns.kdeplot(train['measurement_6'])"
   ]
  },
  {
   "cell_type": "code",
   "execution_count": 47,
   "metadata": {},
   "outputs": [
    {
     "data": {
      "text/plain": [
       "count    25774.000000\n",
       "mean        17.510759\n",
       "std          0.995980\n",
       "min         12.715000\n",
       "25%         16.839000\n",
       "50%         17.516000\n",
       "75%         18.178000\n",
       "max         21.543000\n",
       "Name: measurement_6, dtype: float64"
      ]
     },
     "execution_count": 47,
     "metadata": {},
     "output_type": "execute_result"
    }
   ],
   "source": [
    "train['measurement_6'].describe()"
   ]
  },
  {
   "cell_type": "markdown",
   "metadata": {},
   "source": [
    "## measurement_7 <br>\n",
    "Draw a density plot and calculate statistics"
   ]
  },
  {
   "cell_type": "code",
   "execution_count": 48,
   "metadata": {},
   "outputs": [
    {
     "data": {
      "text/plain": [
       "<AxesSubplot:xlabel='measurement_7', ylabel='Density'>"
      ]
     },
     "execution_count": 48,
     "metadata": {},
     "output_type": "execute_result"
    },
    {
     "data": {
      "image/png": "[encoded data removed]",
      "text/plain": [
       "<Figure size 432x288 with 1 Axes>"
      ]
     },
     "metadata": {
      "needs_background": "light"
     },
     "output_type": "display_data"
    }
   ],
   "source": [
    "sns.kdeplot(train['measurement_7'])"
   ]
  },
  {
   "cell_type": "code",
   "execution_count": 49,
   "metadata": {},
   "outputs": [
    {
     "data": {
      "text/plain": [
       "count    25633.000000\n",
       "mean        11.716624\n",
       "std          1.000836\n",
       "min          7.968000\n",
       "25%         11.045000\n",
       "50%         11.712000\n",
       "75%         12.391000\n",
       "max         15.419000\n",
       "Name: measurement_7, dtype: float64"
      ]
     },
     "execution_count": 49,
     "metadata": {},
     "output_type": "execute_result"
    }
   ],
   "source": [
    "train['measurement_7'].describe()"
   ]
  },
  {
   "cell_type": "markdown",
   "metadata": {},
   "source": [
    "## measurement_8 <br>\n",
    "Draw a density plot and calculate statistics"
   ]
  },
  {
   "cell_type": "code",
   "execution_count": 50,
   "metadata": {},
   "outputs": [
    {
     "data": {
      "text/plain": [
       "<AxesSubplot:xlabel='measurement_8', ylabel='Density'>"
      ]
     },
     "execution_count": 50,
     "metadata": {},
     "output_type": "execute_result"
    },
    {
     "data": {
      "image/png": "[encoded data removed]",
      "text/plain": [
       "<Figure size 432x288 with 1 Axes>"
      ]
     },
     "metadata": {
      "needs_background": "light"
     },
     "output_type": "display_data"
    }
   ],
   "source": [
    "sns.kdeplot(train['measurement_8'])"
   ]
  },
  {
   "cell_type": "code",
   "execution_count": 51,
   "metadata": {},
   "outputs": [
    {
     "data": {
      "text/plain": [
       "count    25522.000000\n",
       "mean        19.024714\n",
       "std          1.008591\n",
       "min         15.217000\n",
       "25%         18.340250\n",
       "50%         19.021000\n",
       "75%         19.708000\n",
       "max         23.807000\n",
       "Name: measurement_8, dtype: float64"
      ]
     },
     "execution_count": 51,
     "metadata": {},
     "output_type": "execute_result"
    }
   ],
   "source": [
    "train['measurement_8'].describe()"
   ]
  },
  {
   "cell_type": "markdown",
   "metadata": {},
   "source": [
    "## measurement_9 <br>\n",
    "Draw a density plot and calculate statistics"
   ]
  },
  {
   "cell_type": "code",
   "execution_count": 52,
   "metadata": {},
   "outputs": [
    {
     "data": {
      "text/plain": [
       "<AxesSubplot:xlabel='measurement_9', ylabel='Density'>"
      ]
     },
     "execution_count": 52,
     "metadata": {},
     "output_type": "execute_result"
    },
    {
     "data": {
      "image/png": "[encoded data removed]",
      "text/plain": [
       "<Figure size 432x288 with 1 Axes>"
      ]
     },
     "metadata": {
      "needs_background": "light"
     },
     "output_type": "display_data"
    }
   ],
   "source": [
    "sns.kdeplot(train['measurement_9'])"
   ]
  },
  {
   "cell_type": "code",
   "execution_count": 53,
   "metadata": {},
   "outputs": [
    {
     "data": {
      "text/plain": [
       "count    25343.000000\n",
       "mean        11.430725\n",
       "std          0.999137\n",
       "min          7.537000\n",
       "25%         10.757000\n",
       "50%         11.430000\n",
       "75%         12.102000\n",
       "max         15.412000\n",
       "Name: measurement_9, dtype: float64"
      ]
     },
     "execution_count": 53,
     "metadata": {},
     "output_type": "execute_result"
    }
   ],
   "source": [
    "train['measurement_9'].describe()"
   ]
  },
  {
   "cell_type": "markdown",
   "metadata": {},
   "source": [
    "## measurement_10 <br>\n",
    "Draw a density plot and calculate statistics"
   ]
  },
  {
   "cell_type": "code",
   "execution_count": 54,
   "metadata": {},
   "outputs": [
    {
     "data": {
      "text/plain": [
       "<AxesSubplot:xlabel='measurement_10', ylabel='Density'>"
      ]
     },
     "execution_count": 54,
     "metadata": {},
     "output_type": "execute_result"
    },
    {
     "data": {
      "image/png": "[encoded data removed]",
      "text/plain": [
       "<Figure size 432x288 with 1 Axes>"
      ]
     },
     "metadata": {
      "needs_background": "light"
     },
     "output_type": "display_data"
    }
   ],
   "source": [
    "sns.kdeplot(train['measurement_10'])"
   ]
  },
  {
   "cell_type": "code",
   "execution_count": 55,
   "metadata": {},
   "outputs": [
    {
     "data": {
      "text/plain": [
       "count    25270.000000\n",
       "mean        16.117711\n",
       "std          1.405978\n",
       "min          9.323000\n",
       "25%         15.209000\n",
       "50%         16.127000\n",
       "75%         17.025000\n",
       "max         22.479000\n",
       "Name: measurement_10, dtype: float64"
      ]
     },
     "execution_count": 55,
     "metadata": {},
     "output_type": "execute_result"
    }
   ],
   "source": [
    "train['measurement_10'].describe()"
   ]
  },
  {
   "cell_type": "markdown",
   "metadata": {},
   "source": [
    "## measurement_11 <br>\n",
    "Draw a density plot and calculate statistics"
   ]
  },
  {
   "cell_type": "code",
   "execution_count": 56,
   "metadata": {},
   "outputs": [
    {
     "data": {
      "text/plain": [
       "<AxesSubplot:xlabel='measurement_11', ylabel='Density'>"
      ]
     },
     "execution_count": 56,
     "metadata": {},
     "output_type": "execute_result"
    },
    {
     "data": {
      "image/png": "[encoded data removed]",
      "text/plain": [
       "<Figure size 432x288 with 1 Axes>"
      ]
     },
     "metadata": {
      "needs_background": "light"
     },
     "output_type": "display_data"
    }
   ],
   "source": [
    "sns.kdeplot(train['measurement_11'])"
   ]
  },
  {
   "cell_type": "code",
   "execution_count": 57,
   "metadata": {},
   "outputs": [
    {
     "data": {
      "text/plain": [
       "count    25102.000000\n",
       "mean        19.172085\n",
       "std          1.520785\n",
       "min         12.461000\n",
       "25%         18.170000\n",
       "50%         19.211500\n",
       "75%         20.207000\n",
       "max         25.640000\n",
       "Name: measurement_11, dtype: float64"
      ]
     },
     "execution_count": 57,
     "metadata": {},
     "output_type": "execute_result"
    }
   ],
   "source": [
    "train['measurement_11'].describe()"
   ]
  },
  {
   "cell_type": "markdown",
   "metadata": {},
   "source": [
    "## measurement_12 <br>\n",
    "Draw a density plot and calculate statistics"
   ]
  },
  {
   "cell_type": "code",
   "execution_count": 58,
   "metadata": {},
   "outputs": [
    {
     "data": {
      "text/plain": [
       "<AxesSubplot:xlabel='measurement_12', ylabel='Density'>"
      ]
     },
     "execution_count": 58,
     "metadata": {},
     "output_type": "execute_result"
    },
    {
     "data": {
      "image/png": "[encoded data removed]",
      "text/plain": [
       "<Figure size 432x288 with 1 Axes>"
      ]
     },
     "metadata": {
      "needs_background": "light"
     },
     "output_type": "display_data"
    }
   ],
   "source": [
    "sns.kdeplot(train['measurement_12'])"
   ]
  },
  {
   "cell_type": "code",
   "execution_count": 59,
   "metadata": {},
   "outputs": [
    {
     "data": {
      "text/plain": [
       "count    24969.000000\n",
       "mean        11.702464\n",
       "std          1.488838\n",
       "min          5.167000\n",
       "25%         10.703000\n",
       "50%         11.717000\n",
       "75%         12.709000\n",
       "max         17.663000\n",
       "Name: measurement_12, dtype: float64"
      ]
     },
     "execution_count": 59,
     "metadata": {},
     "output_type": "execute_result"
    }
   ],
   "source": [
    "train['measurement_12'].describe()"
   ]
  },
  {
   "cell_type": "markdown",
   "metadata": {},
   "source": [
    "## measurement_13 <br>\n",
    "Draw a density plot and calculate statistics"
   ]
  },
  {
   "cell_type": "code",
   "execution_count": 60,
   "metadata": {},
   "outputs": [
    {
     "data": {
      "text/plain": [
       "<AxesSubplot:xlabel='measurement_13', ylabel='Density'>"
      ]
     },
     "execution_count": 60,
     "metadata": {},
     "output_type": "execute_result"
    },
    {
     "data": {
      "image/png": "[encoded data removed]",
      "text/plain": [
       "<Figure size 432x288 with 1 Axes>"
      ]
     },
     "metadata": {
      "needs_background": "light"
     },
     "output_type": "display_data"
    }
   ],
   "source": [
    "sns.kdeplot(train['measurement_13'])"
   ]
  },
  {
   "cell_type": "code",
   "execution_count": 61,
   "metadata": {},
   "outputs": [
    {
     "data": {
      "text/plain": [
       "count    24796.000000\n",
       "mean        15.652904\n",
       "std          1.155247\n",
       "min         10.890000\n",
       "25%         14.890000\n",
       "50%         15.628500\n",
       "75%         16.374000\n",
       "max         22.713000\n",
       "Name: measurement_13, dtype: float64"
      ]
     },
     "execution_count": 61,
     "metadata": {},
     "output_type": "execute_result"
    }
   ],
   "source": [
    "train['measurement_13'].describe()"
   ]
  },
  {
   "cell_type": "markdown",
   "metadata": {},
   "source": [
    "## measurement_14 <br>\n",
    "Draw a density plot and calculate statistics"
   ]
  },
  {
   "cell_type": "code",
   "execution_count": 62,
   "metadata": {},
   "outputs": [
    {
     "data": {
      "text/plain": [
       "<AxesSubplot:xlabel='measurement_14', ylabel='Density'>"
      ]
     },
     "execution_count": 62,
     "metadata": {},
     "output_type": "execute_result"
    },
    {
     "data": {
      "image/png": "[encoded data removed]",
      "text/plain": [
       "<Figure size 432x288 with 1 Axes>"
      ]
     },
     "metadata": {
      "needs_background": "light"
     },
     "output_type": "display_data"
    }
   ],
   "source": [
    "sns.kdeplot(train['measurement_14'])"
   ]
  },
  {
   "cell_type": "code",
   "execution_count": 63,
   "metadata": {},
   "outputs": [
    {
     "data": {
      "text/plain": [
       "count    24696.000000\n",
       "mean        16.048444\n",
       "std          1.491923\n",
       "min          9.140000\n",
       "25%         15.057000\n",
       "50%         16.040000\n",
       "75%         17.082000\n",
       "max         22.303000\n",
       "Name: measurement_14, dtype: float64"
      ]
     },
     "execution_count": 63,
     "metadata": {},
     "output_type": "execute_result"
    }
   ],
   "source": [
    "train['measurement_14'].describe()"
   ]
  },
  {
   "cell_type": "markdown",
   "metadata": {},
   "source": [
    "## measurement_15 <br>\n",
    "Draw a density plot and calculate statistics"
   ]
  },
  {
   "cell_type": "code",
   "execution_count": 64,
   "metadata": {},
   "outputs": [
    {
     "data": {
      "text/plain": [
       "<AxesSubplot:xlabel='measurement_15', ylabel='Density'>"
      ]
     },
     "execution_count": 64,
     "metadata": {},
     "output_type": "execute_result"
    },
    {
     "data": {
      "image/png": "[encoded data removed]",
      "text/plain": [
       "<Figure size 432x288 with 1 Axes>"
      ]
     },
     "metadata": {
      "needs_background": "light"
     },
     "output_type": "display_data"
    }
   ],
   "source": [
    "sns.kdeplot(train['measurement_15'])"
   ]
  },
  {
   "cell_type": "code",
   "execution_count": 65,
   "metadata": {},
   "outputs": [
    {
     "data": {
      "text/plain": [
       "count    24561.000000\n",
       "mean        14.995554\n",
       "std          1.549226\n",
       "min          9.104000\n",
       "25%         13.957000\n",
       "50%         14.969000\n",
       "75%         16.018000\n",
       "max         21.626000\n",
       "Name: measurement_15, dtype: float64"
      ]
     },
     "execution_count": 65,
     "metadata": {},
     "output_type": "execute_result"
    }
   ],
   "source": [
    "train['measurement_15'].describe()"
   ]
  },
  {
   "cell_type": "markdown",
   "metadata": {},
   "source": [
    "## measurement_15 <br>\n",
    "Draw a density plot and calculate statistics"
   ]
  },
  {
   "cell_type": "code",
   "execution_count": 66,
   "metadata": {},
   "outputs": [
    {
     "data": {
      "text/plain": [
       "<AxesSubplot:xlabel='measurement_15', ylabel='Density'>"
      ]
     },
     "execution_count": 66,
     "metadata": {},
     "output_type": "execute_result"
    },
    {
     "data": {
      "image/png": "[encoded data removed]",
      "text/plain": [
       "<Figure size 432x288 with 1 Axes>"
      ]
     },
     "metadata": {
      "needs_background": "light"
     },
     "output_type": "display_data"
    }
   ],
   "source": [
    "sns.kdeplot(train['measurement_15'])"
   ]
  },
  {
   "cell_type": "code",
   "execution_count": 67,
   "metadata": {},
   "outputs": [
    {
     "data": {
      "text/plain": [
       "count    24561.000000\n",
       "mean        14.995554\n",
       "std          1.549226\n",
       "min          9.104000\n",
       "25%         13.957000\n",
       "50%         14.969000\n",
       "75%         16.018000\n",
       "max         21.626000\n",
       "Name: measurement_15, dtype: float64"
      ]
     },
     "execution_count": 67,
     "metadata": {},
     "output_type": "execute_result"
    }
   ],
   "source": [
    "train['measurement_15'].describe()"
   ]
  },
  {
   "cell_type": "markdown",
   "metadata": {},
   "source": [
    "## measurement_16 <br>\n",
    "Draw a density plot and calculate statistics"
   ]
  },
  {
   "cell_type": "code",
   "execution_count": 68,
   "metadata": {},
   "outputs": [
    {
     "data": {
      "text/plain": [
       "<AxesSubplot:xlabel='measurement_16', ylabel='Density'>"
      ]
     },
     "execution_count": 68,
     "metadata": {},
     "output_type": "execute_result"
    },
    {
     "data": {
      "image/png": "[encoded data removed]",
      "text/plain": [
       "<Figure size 432x288 with 1 Axes>"
      ]
     },
     "metadata": {
      "needs_background": "light"
     },
     "output_type": "display_data"
    }
   ],
   "source": [
    "sns.kdeplot(train['measurement_16'])"
   ]
  },
  {
   "cell_type": "code",
   "execution_count": 69,
   "metadata": {},
   "outputs": [
    {
     "data": {
      "text/plain": [
       "count    24460.000000\n",
       "mean        16.460727\n",
       "std          1.708935\n",
       "min          9.701000\n",
       "25%         15.268000\n",
       "50%         16.436000\n",
       "75%         17.628000\n",
       "max         24.094000\n",
       "Name: measurement_16, dtype: float64"
      ]
     },
     "execution_count": 69,
     "metadata": {},
     "output_type": "execute_result"
    }
   ],
   "source": [
    "train['measurement_16'].describe()"
   ]
  },
  {
   "cell_type": "markdown",
   "metadata": {},
   "source": [
    "## measurement_17 <br>\n",
    "Draw a density plot and calculate statistics"
   ]
  },
  {
   "cell_type": "code",
   "execution_count": 70,
   "metadata": {},
   "outputs": [
    {
     "data": {
      "text/plain": [
       "<AxesSubplot:xlabel='measurement_17', ylabel='Density'>"
      ]
     },
     "execution_count": 70,
     "metadata": {},
     "output_type": "execute_result"
    },
    {
     "data": {
      "image/png": "[encoded data removed]",
      "text/plain": [
       "<Figure size 432x288 with 1 Axes>"
      ]
     },
     "metadata": {
      "needs_background": "light"
     },
     "output_type": "display_data"
    }
   ],
   "source": [
    "sns.kdeplot(train['measurement_17'])"
   ]
  },
  {
   "cell_type": "code",
   "execution_count": 71,
   "metadata": {},
   "outputs": [
    {
     "data": {
      "text/plain": [
       "count    24286.000000\n",
       "mean       701.269059\n",
       "std        123.304161\n",
       "min        196.787000\n",
       "25%        618.961500\n",
       "50%        701.024500\n",
       "75%        784.090250\n",
       "max       1312.794000\n",
       "Name: measurement_17, dtype: float64"
      ]
     },
     "execution_count": 71,
     "metadata": {},
     "output_type": "execute_result"
    }
   ],
   "source": [
    "train['measurement_17'].describe()"
   ]
  },
  {
   "cell_type": "markdown",
   "metadata": {},
   "source": [
    "# failure <br>\n",
    "Change dtype of the target variable from int to object to make some functions work properly later"
   ]
  },
  {
   "cell_type": "code",
   "execution_count": 72,
   "metadata": {},
   "outputs": [],
   "source": [
    "train['failure'] = train['failure'].astype(object)"
   ]
  },
  {
   "cell_type": "markdown",
   "metadata": {},
   "source": [
    "Draw a histogram for the target variable and calculate probability of a failure a priori"
   ]
  },
  {
   "cell_type": "code",
   "execution_count": 73,
   "metadata": {},
   "outputs": [
    {
     "data": {
      "text/plain": [
       "<AxesSubplot:xlabel='failure', ylabel='Count'>"
      ]
     },
     "execution_count": 73,
     "metadata": {},
     "output_type": "execute_result"
    },
    {
     "data": {
      "image/png": "[encoded data removed]",
      "text/plain": [
       "<Figure size 432x288 with 1 Axes>"
      ]
     },
     "metadata": {
      "needs_background": "light"
     },
     "output_type": "display_data"
    }
   ],
   "source": [
    "sns.histplot(train['failure'])"
   ]
  },
  {
   "cell_type": "code",
   "execution_count": 74,
   "metadata": {},
   "outputs": [
    {
     "name": "stdout",
     "output_type": "stream",
     "text": [
      "A priori probability of a failure equals 0.2126\n"
     ]
    }
   ],
   "source": [
    "print('A priori probability of a failure equals', \n",
    "      round(train['failure'].sum() / train.shape[0], 4))"
   ]
  },
  {
   "cell_type": "markdown",
   "metadata": {},
   "source": [
    "For modeling it's more convinient to have a target variable as a separate dataframe or an array"
   ]
  },
  {
   "cell_type": "code",
   "execution_count": 75,
   "metadata": {},
   "outputs": [
    {
     "data": {
      "text/plain": [
       "Index(['product_code', 'loading', 'attribute_0', 'attribute_1', 'attribute_2',\n",
       "       'attribute_3', 'measurement_0', 'measurement_1', 'measurement_2',\n",
       "       'measurement_3', 'measurement_4', 'measurement_5', 'measurement_6',\n",
       "       'measurement_7', 'measurement_8', 'measurement_9', 'measurement_10',\n",
       "       'measurement_11', 'measurement_12', 'measurement_13', 'measurement_14',\n",
       "       'measurement_15', 'measurement_16', 'measurement_17',\n",
       "       'measurement_0_grouped', 'measurement_1_grouped',\n",
       "       'measurement_2_grouped'],\n",
       "      dtype='object')"
      ]
     },
     "execution_count": 75,
     "metadata": {},
     "output_type": "execute_result"
    }
   ],
   "source": [
    "# separate the target variable\n",
    "target = train['failure']\n",
    "train.drop('failure', axis=1, inplace=True)\n",
    "\n",
    "# make sure that it was separated\n",
    "train.columns"
   ]
  },
  {
   "cell_type": "markdown",
   "metadata": {},
   "source": [
    "# Splitting the data <br>\n",
    "The test dataframe does not contain labels - we need to predict them. But in order to evaluate performance of models, we need a separate test set. Therefore, the train dataset will be split into 2 separate sets. <br>\n",
    "<br>\n",
    "At the begginning we have created categorical features measurement_0_grouped, measurement_1_grouped, measurement_2_grouped using quantilies calculated on the whole dataset. Now this dataset will be split into training and test sets. This way data leakage problem occurs, when evaluating a model on the test set. But we assume that it has a low impact on models performance evaluation and can be ignored. Moreover, in most cases cross-validation will be used to evaluate quality of a model"
   ]
  },
  {
   "cell_type": "code",
   "execution_count": 76,
   "metadata": {},
   "outputs": [
    {
     "data": {
      "text/html": [
       "<div>\n",
       "<style scoped>\n",
       "    .dataframe tbody tr th:only-of-type {\n",
       "        vertical-align: middle;\n",
       "    }\n",
       "\n",
       "    .dataframe tbody tr th {\n",
       "        vertical-align: top;\n",
       "    }\n",
       "\n",
       "    .dataframe thead th {\n",
       "        text-align: right;\n",
       "    }\n",
       "</style>\n",
       "<table border=\"1\" class=\"dataframe\">\n",
       "  <thead>\n",
       "    <tr style=\"text-align: right;\">\n",
       "      <th></th>\n",
       "      <th>product_code</th>\n",
       "      <th>loading</th>\n",
       "      <th>attribute_0</th>\n",
       "      <th>attribute_1</th>\n",
       "      <th>attribute_2</th>\n",
       "      <th>attribute_3</th>\n",
       "      <th>measurement_0</th>\n",
       "      <th>measurement_1</th>\n",
       "      <th>measurement_2</th>\n",
       "      <th>measurement_3</th>\n",
       "      <th>...</th>\n",
       "      <th>measurement_11</th>\n",
       "      <th>measurement_12</th>\n",
       "      <th>measurement_13</th>\n",
       "      <th>measurement_14</th>\n",
       "      <th>measurement_15</th>\n",
       "      <th>measurement_16</th>\n",
       "      <th>measurement_17</th>\n",
       "      <th>measurement_0_grouped</th>\n",
       "      <th>measurement_1_grouped</th>\n",
       "      <th>measurement_2_grouped</th>\n",
       "    </tr>\n",
       "  </thead>\n",
       "  <tbody>\n",
       "    <tr>\n",
       "      <th>1630</th>\n",
       "      <td>A</td>\n",
       "      <td>107.53</td>\n",
       "      <td>material_7</td>\n",
       "      <td>material_8</td>\n",
       "      <td>9</td>\n",
       "      <td>5</td>\n",
       "      <td>16</td>\n",
       "      <td>2</td>\n",
       "      <td>4</td>\n",
       "      <td>NaN</td>\n",
       "      <td>...</td>\n",
       "      <td>18.014</td>\n",
       "      <td>14.962</td>\n",
       "      <td>16.743</td>\n",
       "      <td>14.487</td>\n",
       "      <td>14.351</td>\n",
       "      <td>15.737</td>\n",
       "      <td>705.885</td>\n",
       "      <td>(13.0, 29.0]</td>\n",
       "      <td>(-0.001, 4.0]</td>\n",
       "      <td>(3.0, 4.0]</td>\n",
       "    </tr>\n",
       "    <tr>\n",
       "      <th>18030</th>\n",
       "      <td>D</td>\n",
       "      <td>128.99</td>\n",
       "      <td>material_7</td>\n",
       "      <td>material_5</td>\n",
       "      <td>6</td>\n",
       "      <td>6</td>\n",
       "      <td>3</td>\n",
       "      <td>9</td>\n",
       "      <td>5</td>\n",
       "      <td>17.242</td>\n",
       "      <td>...</td>\n",
       "      <td>18.873</td>\n",
       "      <td>11.384</td>\n",
       "      <td>15.002</td>\n",
       "      <td>NaN</td>\n",
       "      <td>19.237</td>\n",
       "      <td>NaN</td>\n",
       "      <td>841.809</td>\n",
       "      <td>(-0.001, 3.0]</td>\n",
       "      <td>(7.0, 9.0]</td>\n",
       "      <td>(4.0, 5.0]</td>\n",
       "    </tr>\n",
       "    <tr>\n",
       "      <th>26078</th>\n",
       "      <td>E</td>\n",
       "      <td>128.33</td>\n",
       "      <td>material_7</td>\n",
       "      <td>material_6</td>\n",
       "      <td>6</td>\n",
       "      <td>9</td>\n",
       "      <td>4</td>\n",
       "      <td>16</td>\n",
       "      <td>5</td>\n",
       "      <td>16.094</td>\n",
       "      <td>...</td>\n",
       "      <td>19.696</td>\n",
       "      <td>10.480</td>\n",
       "      <td>15.294</td>\n",
       "      <td>16.715</td>\n",
       "      <td>15.292</td>\n",
       "      <td>15.861</td>\n",
       "      <td>632.835</td>\n",
       "      <td>(3.0, 4.0]</td>\n",
       "      <td>(13.0, 29.0]</td>\n",
       "      <td>(4.0, 5.0]</td>\n",
       "    </tr>\n",
       "    <tr>\n",
       "      <th>19823</th>\n",
       "      <td>D</td>\n",
       "      <td>125.21</td>\n",
       "      <td>material_7</td>\n",
       "      <td>material_5</td>\n",
       "      <td>6</td>\n",
       "      <td>6</td>\n",
       "      <td>11</td>\n",
       "      <td>9</td>\n",
       "      <td>6</td>\n",
       "      <td>16.677</td>\n",
       "      <td>...</td>\n",
       "      <td>21.130</td>\n",
       "      <td>13.625</td>\n",
       "      <td>15.095</td>\n",
       "      <td>15.394</td>\n",
       "      <td>12.846</td>\n",
       "      <td>19.156</td>\n",
       "      <td>643.322</td>\n",
       "      <td>(9.0, 11.0]</td>\n",
       "      <td>(7.0, 9.0]</td>\n",
       "      <td>(5.0, 6.0]</td>\n",
       "    </tr>\n",
       "    <tr>\n",
       "      <th>15788</th>\n",
       "      <td>C</td>\n",
       "      <td>106.12</td>\n",
       "      <td>material_7</td>\n",
       "      <td>material_8</td>\n",
       "      <td>5</td>\n",
       "      <td>8</td>\n",
       "      <td>5</td>\n",
       "      <td>6</td>\n",
       "      <td>6</td>\n",
       "      <td>16.963</td>\n",
       "      <td>...</td>\n",
       "      <td>17.362</td>\n",
       "      <td>10.523</td>\n",
       "      <td>15.199</td>\n",
       "      <td>17.476</td>\n",
       "      <td>NaN</td>\n",
       "      <td>15.472</td>\n",
       "      <td>545.206</td>\n",
       "      <td>(4.0, 5.0]</td>\n",
       "      <td>(4.0, 6.0]</td>\n",
       "      <td>(5.0, 6.0]</td>\n",
       "    </tr>\n",
       "  </tbody>\n",
       "</table>\n",
       "<p>5 rows × 27 columns</p>\n",
       "</div>"
      ],
      "text/plain": [
       "      product_code  loading attribute_0 attribute_1 attribute_2 attribute_3  \\\n",
       "1630             A   107.53  material_7  material_8           9           5   \n",
       "18030            D   128.99  material_7  material_5           6           6   \n",
       "26078            E   128.33  material_7  material_6           6           9   \n",
       "19823            D   125.21  material_7  material_5           6           6   \n",
       "15788            C   106.12  material_7  material_8           5           8   \n",
       "\n",
       "       measurement_0  measurement_1  measurement_2  measurement_3  ...  \\\n",
       "1630              16              2              4            NaN  ...   \n",
       "18030              3              9              5         17.242  ...   \n",
       "26078              4             16              5         16.094  ...   \n",
       "19823             11              9              6         16.677  ...   \n",
       "15788              5              6              6         16.963  ...   \n",
       "\n",
       "       measurement_11  measurement_12  measurement_13  measurement_14  \\\n",
       "1630           18.014          14.962          16.743          14.487   \n",
       "18030          18.873          11.384          15.002             NaN   \n",
       "26078          19.696          10.480          15.294          16.715   \n",
       "19823          21.130          13.625          15.095          15.394   \n",
       "15788          17.362          10.523          15.199          17.476   \n",
       "\n",
       "       measurement_15  measurement_16  measurement_17  measurement_0_grouped  \\\n",
       "1630           14.351          15.737         705.885           (13.0, 29.0]   \n",
       "18030          19.237             NaN         841.809          (-0.001, 3.0]   \n",
       "26078          15.292          15.861         632.835             (3.0, 4.0]   \n",
       "19823          12.846          19.156         643.322            (9.0, 11.0]   \n",
       "15788             NaN          15.472         545.206             (4.0, 5.0]   \n",
       "\n",
       "       measurement_1_grouped  measurement_2_grouped  \n",
       "1630           (-0.001, 4.0]             (3.0, 4.0]  \n",
       "18030             (7.0, 9.0]             (4.0, 5.0]  \n",
       "26078           (13.0, 29.0]             (4.0, 5.0]  \n",
       "19823             (7.0, 9.0]             (5.0, 6.0]  \n",
       "15788             (4.0, 6.0]             (5.0, 6.0]  \n",
       "\n",
       "[5 rows x 27 columns]"
      ]
     },
     "execution_count": 76,
     "metadata": {},
     "output_type": "execute_result"
    }
   ],
   "source": [
    "X_train, X_test, y_train, y_test = train_test_split(train, target, random_state=0)\n",
    "X_train.head()"
   ]
  },
  {
   "cell_type": "markdown",
   "metadata": {},
   "source": [
    "# Categorical features \n",
    "Since many algorithms don't handle categorical features, we need to present them as one-hot vectors. For now pd.get_dummies() will be used to get more interpretable results (a dataframe with named columns)<br>\n",
    "<br>\n",
    "List of categorical features"
   ]
  },
  {
   "cell_type": "code",
   "execution_count": 77,
   "metadata": {},
   "outputs": [
    {
     "data": {
      "text/plain": [
       "Index(['product_code', 'attribute_0', 'attribute_1', 'attribute_2',\n",
       "       'attribute_3', 'measurement_0_grouped', 'measurement_1_grouped',\n",
       "       'measurement_2_grouped'],\n",
       "      dtype='object')"
      ]
     },
     "execution_count": 77,
     "metadata": {},
     "output_type": "execute_result"
    }
   ],
   "source": [
    "X_train.columns[[0, 2, 3, 4, 5, 24, 25, 26]]"
   ]
  },
  {
   "cell_type": "code",
   "execution_count": 78,
   "metadata": {},
   "outputs": [
    {
     "data": {
      "text/plain": [
       "Index(['loading', 'measurement_0', 'measurement_1', 'measurement_2',\n",
       "       'measurement_3', 'measurement_4', 'measurement_5', 'measurement_6',\n",
       "       'measurement_7', 'measurement_8', 'measurement_9', 'measurement_10',\n",
       "       'measurement_11', 'measurement_12', 'measurement_13', 'measurement_14',\n",
       "       'measurement_15', 'measurement_16', 'measurement_17', 'product_code_A',\n",
       "       'product_code_B', 'product_code_C', 'product_code_D', 'product_code_E',\n",
       "       'attribute_0_material_5', 'attribute_0_material_7',\n",
       "       'attribute_1_material_5', 'attribute_1_material_6',\n",
       "       'attribute_1_material_8', 'attribute_2_5', 'attribute_2_6',\n",
       "       'attribute_2_8', 'attribute_2_9', 'attribute_3_5', 'attribute_3_6',\n",
       "       'attribute_3_8', 'attribute_3_9', 'measurement_0_grouped_(-0.001, 3.0]',\n",
       "       'measurement_0_grouped_(3.0, 4.0]', 'measurement_0_grouped_(4.0, 5.0]',\n",
       "       'measurement_0_grouped_(5.0, 6.0]', 'measurement_0_grouped_(6.0, 7.0]',\n",
       "       'measurement_0_grouped_(7.0, 8.0]', 'measurement_0_grouped_(8.0, 9.0]',\n",
       "       'measurement_0_grouped_(9.0, 11.0]',\n",
       "       'measurement_0_grouped_(11.0, 13.0]',\n",
       "       'measurement_0_grouped_(13.0, 29.0]',\n",
       "       'measurement_1_grouped_(-0.001, 4.0]',\n",
       "       'measurement_1_grouped_(4.0, 6.0]', 'measurement_1_grouped_(6.0, 7.0]',\n",
       "       'measurement_1_grouped_(7.0, 9.0]', 'measurement_1_grouped_(9.0, 10.0]',\n",
       "       'measurement_1_grouped_(10.0, 13.0]',\n",
       "       'measurement_1_grouped_(13.0, 29.0]',\n",
       "       'measurement_2_grouped_(-0.001, 2.0]',\n",
       "       'measurement_2_grouped_(2.0, 3.0]', 'measurement_2_grouped_(3.0, 4.0]',\n",
       "       'measurement_2_grouped_(4.0, 5.0]', 'measurement_2_grouped_(5.0, 6.0]',\n",
       "       'measurement_2_grouped_(6.0, 7.0]', 'measurement_2_grouped_(7.0, 8.0]',\n",
       "       'measurement_2_grouped_(8.0, 9.0]', 'measurement_2_grouped_(9.0, 11.0]',\n",
       "       'measurement_2_grouped_(11.0, 24.0]'],\n",
       "      dtype='object')"
      ]
     },
     "execution_count": 78,
     "metadata": {},
     "output_type": "execute_result"
    }
   ],
   "source": [
    "# create dummy variables\n",
    "X_train_dummies = pd.get_dummies(X_train)\n",
    "X_test_dummies = pd.get_dummies(X_test)\n",
    "\n",
    "# check if dummies were created\n",
    "X_train_dummies.columns"
   ]
  },
  {
   "cell_type": "markdown",
   "metadata": {},
   "source": [
    "# Features normalization <br>\n",
    "Since some algorithms (e.g. KNN) use 'distance' between observations, all numerical features should be standardized or normalized. Most features in the dataset follow the Gaussian distribution, so it's better to use normalization. Moreover, this way we minimize the influence of outliers, which are present in case of some features (for instance loading, measurement_17) <br>\n",
    "<br> \n",
    "List of columns to be normalized"
   ]
  },
  {
   "cell_type": "code",
   "execution_count": 79,
   "metadata": {},
   "outputs": [
    {
     "data": {
      "text/plain": [
       "Index(['loading', 'measurement_0', 'measurement_1', 'measurement_2',\n",
       "       'measurement_3', 'measurement_4', 'measurement_5', 'measurement_6',\n",
       "       'measurement_7', 'measurement_8', 'measurement_9', 'measurement_10',\n",
       "       'measurement_11', 'measurement_12', 'measurement_13', 'measurement_14',\n",
       "       'measurement_15', 'measurement_16', 'measurement_17'],\n",
       "      dtype='object')"
      ]
     },
     "execution_count": 79,
     "metadata": {},
     "output_type": "execute_result"
    }
   ],
   "source": [
    "X_train_dummies.columns[[*range(0, 19)]]"
   ]
  },
  {
   "cell_type": "code",
   "execution_count": 80,
   "metadata": {},
   "outputs": [
    {
     "data": {
      "text/html": [
       "<div>\n",
       "<style scoped>\n",
       "    .dataframe tbody tr th:only-of-type {\n",
       "        vertical-align: middle;\n",
       "    }\n",
       "\n",
       "    .dataframe tbody tr th {\n",
       "        vertical-align: top;\n",
       "    }\n",
       "\n",
       "    .dataframe thead th {\n",
       "        text-align: right;\n",
       "    }\n",
       "</style>\n",
       "<table border=\"1\" class=\"dataframe\">\n",
       "  <thead>\n",
       "    <tr style=\"text-align: right;\">\n",
       "      <th></th>\n",
       "      <th>loading</th>\n",
       "      <th>measurement_0</th>\n",
       "      <th>measurement_1</th>\n",
       "      <th>measurement_2</th>\n",
       "      <th>measurement_3</th>\n",
       "      <th>measurement_4</th>\n",
       "      <th>measurement_5</th>\n",
       "      <th>measurement_6</th>\n",
       "      <th>measurement_7</th>\n",
       "      <th>measurement_8</th>\n",
       "      <th>...</th>\n",
       "      <th>measurement_2_grouped_(-0.001, 2.0]</th>\n",
       "      <th>measurement_2_grouped_(2.0, 3.0]</th>\n",
       "      <th>measurement_2_grouped_(3.0, 4.0]</th>\n",
       "      <th>measurement_2_grouped_(4.0, 5.0]</th>\n",
       "      <th>measurement_2_grouped_(5.0, 6.0]</th>\n",
       "      <th>measurement_2_grouped_(6.0, 7.0]</th>\n",
       "      <th>measurement_2_grouped_(7.0, 8.0]</th>\n",
       "      <th>measurement_2_grouped_(8.0, 9.0]</th>\n",
       "      <th>measurement_2_grouped_(9.0, 11.0]</th>\n",
       "      <th>measurement_2_grouped_(11.0, 24.0]</th>\n",
       "    </tr>\n",
       "  </thead>\n",
       "  <tbody>\n",
       "    <tr>\n",
       "      <th>0</th>\n",
       "      <td>-0.513603</td>\n",
       "      <td>2.078416</td>\n",
       "      <td>-1.485328</td>\n",
       "      <td>-0.681222</td>\n",
       "      <td>NaN</td>\n",
       "      <td>-0.015593</td>\n",
       "      <td>-0.319033</td>\n",
       "      <td>-0.014153</td>\n",
       "      <td>-0.067520</td>\n",
       "      <td>0.327396</td>\n",
       "      <td>...</td>\n",
       "      <td>0.0</td>\n",
       "      <td>0.0</td>\n",
       "      <td>1.0</td>\n",
       "      <td>0.0</td>\n",
       "      <td>0.0</td>\n",
       "      <td>0.0</td>\n",
       "      <td>0.0</td>\n",
       "      <td>0.0</td>\n",
       "      <td>0.0</td>\n",
       "      <td>0.0</td>\n",
       "    </tr>\n",
       "    <tr>\n",
       "      <th>1</th>\n",
       "      <td>0.036400</td>\n",
       "      <td>-1.070214</td>\n",
       "      <td>0.179974</td>\n",
       "      <td>-0.379065</td>\n",
       "      <td>-0.549359</td>\n",
       "      <td>-0.731627</td>\n",
       "      <td>1.703556</td>\n",
       "      <td>0.598172</td>\n",
       "      <td>-0.121901</td>\n",
       "      <td>-0.066527</td>\n",
       "      <td>...</td>\n",
       "      <td>0.0</td>\n",
       "      <td>0.0</td>\n",
       "      <td>0.0</td>\n",
       "      <td>1.0</td>\n",
       "      <td>0.0</td>\n",
       "      <td>0.0</td>\n",
       "      <td>0.0</td>\n",
       "      <td>0.0</td>\n",
       "      <td>0.0</td>\n",
       "      <td>0.0</td>\n",
       "    </tr>\n",
       "    <tr>\n",
       "      <th>2</th>\n",
       "      <td>0.019484</td>\n",
       "      <td>-0.828012</td>\n",
       "      <td>1.845276</td>\n",
       "      <td>-0.379065</td>\n",
       "      <td>-1.697273</td>\n",
       "      <td>0.577577</td>\n",
       "      <td>-1.657378</td>\n",
       "      <td>-0.286633</td>\n",
       "      <td>1.452140</td>\n",
       "      <td>0.304632</td>\n",
       "      <td>...</td>\n",
       "      <td>0.0</td>\n",
       "      <td>0.0</td>\n",
       "      <td>0.0</td>\n",
       "      <td>1.0</td>\n",
       "      <td>0.0</td>\n",
       "      <td>0.0</td>\n",
       "      <td>0.0</td>\n",
       "      <td>0.0</td>\n",
       "      <td>0.0</td>\n",
       "      <td>0.0</td>\n",
       "    </tr>\n",
       "    <tr>\n",
       "      <th>3</th>\n",
       "      <td>-0.060479</td>\n",
       "      <td>0.867404</td>\n",
       "      <td>0.179974</td>\n",
       "      <td>-0.076908</td>\n",
       "      <td>-1.114317</td>\n",
       "      <td>0.677278</td>\n",
       "      <td>0.361192</td>\n",
       "      <td>-0.752161</td>\n",
       "      <td>-0.738225</td>\n",
       "      <td>0.907394</td>\n",
       "      <td>...</td>\n",
       "      <td>0.0</td>\n",
       "      <td>0.0</td>\n",
       "      <td>0.0</td>\n",
       "      <td>0.0</td>\n",
       "      <td>1.0</td>\n",
       "      <td>0.0</td>\n",
       "      <td>0.0</td>\n",
       "      <td>0.0</td>\n",
       "      <td>0.0</td>\n",
       "      <td>0.0</td>\n",
       "    </tr>\n",
       "    <tr>\n",
       "      <th>4</th>\n",
       "      <td>-0.549740</td>\n",
       "      <td>-0.585809</td>\n",
       "      <td>-0.533727</td>\n",
       "      <td>-0.076908</td>\n",
       "      <td>-0.828338</td>\n",
       "      <td>0.043825</td>\n",
       "      <td>-1.348916</td>\n",
       "      <td>0.015005</td>\n",
       "      <td>0.087568</td>\n",
       "      <td>-1.010756</td>\n",
       "      <td>...</td>\n",
       "      <td>0.0</td>\n",
       "      <td>0.0</td>\n",
       "      <td>0.0</td>\n",
       "      <td>0.0</td>\n",
       "      <td>1.0</td>\n",
       "      <td>0.0</td>\n",
       "      <td>0.0</td>\n",
       "      <td>0.0</td>\n",
       "      <td>0.0</td>\n",
       "      <td>0.0</td>\n",
       "    </tr>\n",
       "  </tbody>\n",
       "</table>\n",
       "<p>5 rows × 64 columns</p>\n",
       "</div>"
      ],
      "text/plain": [
       "    loading  measurement_0  measurement_1  measurement_2  measurement_3  \\\n",
       "0 -0.513603       2.078416      -1.485328      -0.681222            NaN   \n",
       "1  0.036400      -1.070214       0.179974      -0.379065      -0.549359   \n",
       "2  0.019484      -0.828012       1.845276      -0.379065      -1.697273   \n",
       "3 -0.060479       0.867404       0.179974      -0.076908      -1.114317   \n",
       "4 -0.549740      -0.585809      -0.533727      -0.076908      -0.828338   \n",
       "\n",
       "   measurement_4  measurement_5  measurement_6  measurement_7  measurement_8  \\\n",
       "0      -0.015593      -0.319033      -0.014153      -0.067520       0.327396   \n",
       "1      -0.731627       1.703556       0.598172      -0.121901      -0.066527   \n",
       "2       0.577577      -1.657378      -0.286633       1.452140       0.304632   \n",
       "3       0.677278       0.361192      -0.752161      -0.738225       0.907394   \n",
       "4       0.043825      -1.348916       0.015005       0.087568      -1.010756   \n",
       "\n",
       "   ...  measurement_2_grouped_(-0.001, 2.0]  measurement_2_grouped_(2.0, 3.0]  \\\n",
       "0  ...                                  0.0                               0.0   \n",
       "1  ...                                  0.0                               0.0   \n",
       "2  ...                                  0.0                               0.0   \n",
       "3  ...                                  0.0                               0.0   \n",
       "4  ...                                  0.0                               0.0   \n",
       "\n",
       "   measurement_2_grouped_(3.0, 4.0]  measurement_2_grouped_(4.0, 5.0]  \\\n",
       "0                               1.0                               0.0   \n",
       "1                               0.0                               1.0   \n",
       "2                               0.0                               1.0   \n",
       "3                               0.0                               0.0   \n",
       "4                               0.0                               0.0   \n",
       "\n",
       "   measurement_2_grouped_(5.0, 6.0]  measurement_2_grouped_(6.0, 7.0]  \\\n",
       "0                               0.0                               0.0   \n",
       "1                               0.0                               0.0   \n",
       "2                               0.0                               0.0   \n",
       "3                               1.0                               0.0   \n",
       "4                               1.0                               0.0   \n",
       "\n",
       "   measurement_2_grouped_(7.0, 8.0]  measurement_2_grouped_(8.0, 9.0]  \\\n",
       "0                               0.0                               0.0   \n",
       "1                               0.0                               0.0   \n",
       "2                               0.0                               0.0   \n",
       "3                               0.0                               0.0   \n",
       "4                               0.0                               0.0   \n",
       "\n",
       "   measurement_2_grouped_(9.0, 11.0]  measurement_2_grouped_(11.0, 24.0]  \n",
       "0                                0.0                                 0.0  \n",
       "1                                0.0                                 0.0  \n",
       "2                                0.0                                 0.0  \n",
       "3                                0.0                                 0.0  \n",
       "4                                0.0                                 0.0  \n",
       "\n",
       "[5 rows x 64 columns]"
      ]
     },
     "execution_count": 80,
     "metadata": {},
     "output_type": "execute_result"
    }
   ],
   "source": [
    "# scale features\n",
    "transformer = ColumnTransformer(\n",
    "    [('scaler', StandardScaler(), [*range(0, 19)])],\n",
    "     remainder='passthrough'\n",
    ")\n",
    "X_train_dummies_scaled = transformer.fit_transform(X_train_dummies)\n",
    "X_test_dummies_scaled = transformer.transform(X_test_dummies)\n",
    "\n",
    "\n",
    "# ColumnTransformer() returns an array\n",
    "# In order to make further analysis more interpretable we need to name the features as before\n",
    "X_train_dummies_scaled = pd.DataFrame(X_train_dummies_scaled, columns=X_train_dummies.columns)\n",
    "X_test_dummies_scaled = pd.DataFrame(X_test_dummies_scaled, columns=X_test_dummies.columns)\n",
    "\n",
    "# check if features names were restored\n",
    "X_train_dummies_scaled.head()"
   ]
  },
  {
   "cell_type": "markdown",
   "metadata": {},
   "source": [
    "# Missing values <br>\n",
    "Calculate the percentage of missing values for each variable"
   ]
  },
  {
   "cell_type": "code",
   "execution_count": 81,
   "metadata": {},
   "outputs": [
    {
     "data": {
      "text/plain": [
       "product_code             0.000000\n",
       "loading                  0.007628\n",
       "attribute_0              0.000000\n",
       "attribute_1              0.000000\n",
       "attribute_2              0.000000\n",
       "attribute_3              0.000000\n",
       "measurement_0            0.000000\n",
       "measurement_1            0.000000\n",
       "measurement_2            0.000000\n",
       "measurement_3            0.014101\n",
       "measurement_4            0.020525\n",
       "measurement_5            0.025092\n",
       "measurement_6            0.028604\n",
       "measurement_7            0.035028\n",
       "measurement_8            0.039293\n",
       "measurement_9            0.045516\n",
       "measurement_10           0.049681\n",
       "measurement_11           0.053897\n",
       "measurement_12           0.059166\n",
       "measurement_13           0.066392\n",
       "measurement_14           0.070658\n",
       "measurement_15           0.075676\n",
       "measurement_16           0.080745\n",
       "measurement_17           0.085512\n",
       "measurement_0_grouped    0.000000\n",
       "measurement_1_grouped    0.000000\n",
       "measurement_2_grouped    0.000000\n",
       "dtype: float64"
      ]
     },
     "execution_count": 81,
     "metadata": {},
     "output_type": "execute_result"
    }
   ],
   "source": [
    "X_train.isna().sum(axis=0) / X_train.shape[0]"
   ]
  },
  {
   "cell_type": "markdown",
   "metadata": {},
   "source": [
    "The percentage of missing values was calculated on a dataset with categorical features (before one-hot encoding). As we can see, all features of float dtype have missing values. Missing values do not occur in case of categorical features. It means, that filling missing values after encoding categorical variables is safe. <br>\n",
    "To fill missing values KNN will be used. Since some algorithms can handle missing values by themselves, separate datasets will be created"
   ]
  },
  {
   "cell_type": "code",
   "execution_count": 82,
   "metadata": {},
   "outputs": [
    {
     "data": {
      "text/html": [
       "<div>\n",
       "<style scoped>\n",
       "    .dataframe tbody tr th:only-of-type {\n",
       "        vertical-align: middle;\n",
       "    }\n",
       "\n",
       "    .dataframe tbody tr th {\n",
       "        vertical-align: top;\n",
       "    }\n",
       "\n",
       "    .dataframe thead th {\n",
       "        text-align: right;\n",
       "    }\n",
       "</style>\n",
       "<table border=\"1\" class=\"dataframe\">\n",
       "  <thead>\n",
       "    <tr style=\"text-align: right;\">\n",
       "      <th></th>\n",
       "      <th>loading</th>\n",
       "      <th>measurement_0</th>\n",
       "      <th>measurement_1</th>\n",
       "      <th>measurement_2</th>\n",
       "      <th>measurement_3</th>\n",
       "      <th>measurement_4</th>\n",
       "      <th>measurement_5</th>\n",
       "      <th>measurement_6</th>\n",
       "      <th>measurement_7</th>\n",
       "      <th>measurement_8</th>\n",
       "      <th>...</th>\n",
       "      <th>measurement_2_grouped_(-0.001, 2.0]</th>\n",
       "      <th>measurement_2_grouped_(2.0, 3.0]</th>\n",
       "      <th>measurement_2_grouped_(3.0, 4.0]</th>\n",
       "      <th>measurement_2_grouped_(4.0, 5.0]</th>\n",
       "      <th>measurement_2_grouped_(5.0, 6.0]</th>\n",
       "      <th>measurement_2_grouped_(6.0, 7.0]</th>\n",
       "      <th>measurement_2_grouped_(7.0, 8.0]</th>\n",
       "      <th>measurement_2_grouped_(8.0, 9.0]</th>\n",
       "      <th>measurement_2_grouped_(9.0, 11.0]</th>\n",
       "      <th>measurement_2_grouped_(11.0, 24.0]</th>\n",
       "    </tr>\n",
       "  </thead>\n",
       "  <tbody>\n",
       "    <tr>\n",
       "      <th>0</th>\n",
       "      <td>-0.513603</td>\n",
       "      <td>2.078416</td>\n",
       "      <td>-1.485328</td>\n",
       "      <td>-0.681222</td>\n",
       "      <td>-0.653551</td>\n",
       "      <td>-0.015593</td>\n",
       "      <td>-0.319033</td>\n",
       "      <td>-0.014153</td>\n",
       "      <td>-0.067520</td>\n",
       "      <td>0.327396</td>\n",
       "      <td>...</td>\n",
       "      <td>0.0</td>\n",
       "      <td>0.0</td>\n",
       "      <td>1.0</td>\n",
       "      <td>0.0</td>\n",
       "      <td>0.0</td>\n",
       "      <td>0.0</td>\n",
       "      <td>0.0</td>\n",
       "      <td>0.0</td>\n",
       "      <td>0.0</td>\n",
       "      <td>0.0</td>\n",
       "    </tr>\n",
       "    <tr>\n",
       "      <th>1</th>\n",
       "      <td>0.036400</td>\n",
       "      <td>-1.070214</td>\n",
       "      <td>0.179974</td>\n",
       "      <td>-0.379065</td>\n",
       "      <td>-0.549359</td>\n",
       "      <td>-0.731627</td>\n",
       "      <td>1.703556</td>\n",
       "      <td>0.598172</td>\n",
       "      <td>-0.121901</td>\n",
       "      <td>-0.066527</td>\n",
       "      <td>...</td>\n",
       "      <td>0.0</td>\n",
       "      <td>0.0</td>\n",
       "      <td>0.0</td>\n",
       "      <td>1.0</td>\n",
       "      <td>0.0</td>\n",
       "      <td>0.0</td>\n",
       "      <td>0.0</td>\n",
       "      <td>0.0</td>\n",
       "      <td>0.0</td>\n",
       "      <td>0.0</td>\n",
       "    </tr>\n",
       "    <tr>\n",
       "      <th>2</th>\n",
       "      <td>0.019484</td>\n",
       "      <td>-0.828012</td>\n",
       "      <td>1.845276</td>\n",
       "      <td>-0.379065</td>\n",
       "      <td>-1.697273</td>\n",
       "      <td>0.577577</td>\n",
       "      <td>-1.657378</td>\n",
       "      <td>-0.286633</td>\n",
       "      <td>1.452140</td>\n",
       "      <td>0.304632</td>\n",
       "      <td>...</td>\n",
       "      <td>0.0</td>\n",
       "      <td>0.0</td>\n",
       "      <td>0.0</td>\n",
       "      <td>1.0</td>\n",
       "      <td>0.0</td>\n",
       "      <td>0.0</td>\n",
       "      <td>0.0</td>\n",
       "      <td>0.0</td>\n",
       "      <td>0.0</td>\n",
       "      <td>0.0</td>\n",
       "    </tr>\n",
       "    <tr>\n",
       "      <th>3</th>\n",
       "      <td>-0.060479</td>\n",
       "      <td>0.867404</td>\n",
       "      <td>0.179974</td>\n",
       "      <td>-0.076908</td>\n",
       "      <td>-1.114317</td>\n",
       "      <td>0.677278</td>\n",
       "      <td>0.361192</td>\n",
       "      <td>-0.752161</td>\n",
       "      <td>-0.738225</td>\n",
       "      <td>0.907394</td>\n",
       "      <td>...</td>\n",
       "      <td>0.0</td>\n",
       "      <td>0.0</td>\n",
       "      <td>0.0</td>\n",
       "      <td>0.0</td>\n",
       "      <td>1.0</td>\n",
       "      <td>0.0</td>\n",
       "      <td>0.0</td>\n",
       "      <td>0.0</td>\n",
       "      <td>0.0</td>\n",
       "      <td>0.0</td>\n",
       "    </tr>\n",
       "    <tr>\n",
       "      <th>4</th>\n",
       "      <td>-0.549740</td>\n",
       "      <td>-0.585809</td>\n",
       "      <td>-0.533727</td>\n",
       "      <td>-0.076908</td>\n",
       "      <td>-0.828338</td>\n",
       "      <td>0.043825</td>\n",
       "      <td>-1.348916</td>\n",
       "      <td>0.015005</td>\n",
       "      <td>0.087568</td>\n",
       "      <td>-1.010756</td>\n",
       "      <td>...</td>\n",
       "      <td>0.0</td>\n",
       "      <td>0.0</td>\n",
       "      <td>0.0</td>\n",
       "      <td>0.0</td>\n",
       "      <td>1.0</td>\n",
       "      <td>0.0</td>\n",
       "      <td>0.0</td>\n",
       "      <td>0.0</td>\n",
       "      <td>0.0</td>\n",
       "      <td>0.0</td>\n",
       "    </tr>\n",
       "  </tbody>\n",
       "</table>\n",
       "<p>5 rows × 64 columns</p>\n",
       "</div>"
      ],
      "text/plain": [
       "    loading  measurement_0  measurement_1  measurement_2  measurement_3  \\\n",
       "0 -0.513603       2.078416      -1.485328      -0.681222      -0.653551   \n",
       "1  0.036400      -1.070214       0.179974      -0.379065      -0.549359   \n",
       "2  0.019484      -0.828012       1.845276      -0.379065      -1.697273   \n",
       "3 -0.060479       0.867404       0.179974      -0.076908      -1.114317   \n",
       "4 -0.549740      -0.585809      -0.533727      -0.076908      -0.828338   \n",
       "\n",
       "   measurement_4  measurement_5  measurement_6  measurement_7  measurement_8  \\\n",
       "0      -0.015593      -0.319033      -0.014153      -0.067520       0.327396   \n",
       "1      -0.731627       1.703556       0.598172      -0.121901      -0.066527   \n",
       "2       0.577577      -1.657378      -0.286633       1.452140       0.304632   \n",
       "3       0.677278       0.361192      -0.752161      -0.738225       0.907394   \n",
       "4       0.043825      -1.348916       0.015005       0.087568      -1.010756   \n",
       "\n",
       "   ...  measurement_2_grouped_(-0.001, 2.0]  measurement_2_grouped_(2.0, 3.0]  \\\n",
       "0  ...                                  0.0                               0.0   \n",
       "1  ...                                  0.0                               0.0   \n",
       "2  ...                                  0.0                               0.0   \n",
       "3  ...                                  0.0                               0.0   \n",
       "4  ...                                  0.0                               0.0   \n",
       "\n",
       "   measurement_2_grouped_(3.0, 4.0]  measurement_2_grouped_(4.0, 5.0]  \\\n",
       "0                               1.0                               0.0   \n",
       "1                               0.0                               1.0   \n",
       "2                               0.0                               1.0   \n",
       "3                               0.0                               0.0   \n",
       "4                               0.0                               0.0   \n",
       "\n",
       "   measurement_2_grouped_(5.0, 6.0]  measurement_2_grouped_(6.0, 7.0]  \\\n",
       "0                               0.0                               0.0   \n",
       "1                               0.0                               0.0   \n",
       "2                               0.0                               0.0   \n",
       "3                               1.0                               0.0   \n",
       "4                               1.0                               0.0   \n",
       "\n",
       "   measurement_2_grouped_(7.0, 8.0]  measurement_2_grouped_(8.0, 9.0]  \\\n",
       "0                               0.0                               0.0   \n",
       "1                               0.0                               0.0   \n",
       "2                               0.0                               0.0   \n",
       "3                               0.0                               0.0   \n",
       "4                               0.0                               0.0   \n",
       "\n",
       "   measurement_2_grouped_(9.0, 11.0]  measurement_2_grouped_(11.0, 24.0]  \n",
       "0                                0.0                                 0.0  \n",
       "1                                0.0                                 0.0  \n",
       "2                                0.0                                 0.0  \n",
       "3                                0.0                                 0.0  \n",
       "4                                0.0                                 0.0  \n",
       "\n",
       "[5 rows x 64 columns]"
      ]
     },
     "execution_count": 82,
     "metadata": {},
     "output_type": "execute_result"
    }
   ],
   "source": [
    "# fill missing values\n",
    "imputer = KNNImputer()\n",
    "X_train_dummies_scaled_knn = imputer.fit_transform(X_train_dummies_scaled)\n",
    "X_test_dummies_scaled_knn = imputer.transform(X_test_dummies_scaled)\n",
    "\n",
    "# restore column names\n",
    "X_train_dummies_scaled_knn = pd.DataFrame(X_train_dummies_scaled_knn, columns=X_train_dummies_scaled.columns)\n",
    "X_test_dummies_scaled_knn = pd.DataFrame(X_test_dummies_scaled_knn, columns=X_test_dummies_scaled.columns)\n",
    "\n",
    "X_train_dummies_scaled_knn.head()"
   ]
  },
  {
   "cell_type": "markdown",
   "metadata": {},
   "source": [
    "Count the number of missing values to make sure, that they were filled"
   ]
  },
  {
   "cell_type": "code",
   "execution_count": 83,
   "metadata": {},
   "outputs": [
    {
     "name": "stdout",
     "output_type": "stream",
     "text": [
      "Train set missing values count:  0\n",
      "Test set missing values count:  0\n"
     ]
    }
   ],
   "source": [
    "print(\"Train set missing values count: \", X_train_dummies_scaled_knn.isna().sum().sum())\n",
    "print(\"Test set missing values count: \", X_test_dummies_scaled_knn.isna().sum().sum())"
   ]
  },
  {
   "cell_type": "markdown",
   "metadata": {},
   "source": [
    "# Exploration summary <br>\n",
    "Most features in the dataset are numerical. Before normalization, measurements 0, 1, 2 followed gamma distribution, while measurements 3 - 17 followed Gaussian distribution. Standard deviation of measurements 0-2 was about 4, std of measurements 3-9 was about 1, std of measurements 10-16 was about 1.5. <br>\n",
    "Most features can be considered weak in terms of predicting failure probability. <br>\n"
   ]
  },
  {
   "cell_type": "code",
   "execution_count": 84,
   "metadata": {},
   "outputs": [
    {
     "data": {
      "text/html": [
       "<div>\n",
       "<style scoped>\n",
       "    .dataframe tbody tr th:only-of-type {\n",
       "        vertical-align: middle;\n",
       "    }\n",
       "\n",
       "    .dataframe tbody tr th {\n",
       "        vertical-align: top;\n",
       "    }\n",
       "\n",
       "    .dataframe thead th {\n",
       "        text-align: right;\n",
       "    }\n",
       "</style>\n",
       "<table border=\"1\" class=\"dataframe\">\n",
       "  <thead>\n",
       "    <tr style=\"text-align: right;\">\n",
       "      <th></th>\n",
       "      <th>loading</th>\n",
       "      <th>measurement_0</th>\n",
       "      <th>measurement_1</th>\n",
       "      <th>measurement_2</th>\n",
       "      <th>measurement_3</th>\n",
       "      <th>measurement_4</th>\n",
       "      <th>measurement_5</th>\n",
       "      <th>measurement_6</th>\n",
       "      <th>measurement_7</th>\n",
       "      <th>measurement_8</th>\n",
       "      <th>...</th>\n",
       "      <th>measurement_2_grouped_(-0.001, 2.0]</th>\n",
       "      <th>measurement_2_grouped_(2.0, 3.0]</th>\n",
       "      <th>measurement_2_grouped_(3.0, 4.0]</th>\n",
       "      <th>measurement_2_grouped_(4.0, 5.0]</th>\n",
       "      <th>measurement_2_grouped_(5.0, 6.0]</th>\n",
       "      <th>measurement_2_grouped_(6.0, 7.0]</th>\n",
       "      <th>measurement_2_grouped_(7.0, 8.0]</th>\n",
       "      <th>measurement_2_grouped_(8.0, 9.0]</th>\n",
       "      <th>measurement_2_grouped_(9.0, 11.0]</th>\n",
       "      <th>measurement_2_grouped_(11.0, 24.0]</th>\n",
       "    </tr>\n",
       "  </thead>\n",
       "  <tbody>\n",
       "    <tr>\n",
       "      <th>count</th>\n",
       "      <td>19775.000000</td>\n",
       "      <td>19927.000000</td>\n",
       "      <td>19927.000000</td>\n",
       "      <td>19927.000000</td>\n",
       "      <td>19646.000000</td>\n",
       "      <td>19518.000000</td>\n",
       "      <td>19427.000000</td>\n",
       "      <td>19357.000000</td>\n",
       "      <td>19229.000000</td>\n",
       "      <td>19144.000000</td>\n",
       "      <td>...</td>\n",
       "      <td>19927.000000</td>\n",
       "      <td>19927.000000</td>\n",
       "      <td>19927.000000</td>\n",
       "      <td>19927.000000</td>\n",
       "      <td>19927.000000</td>\n",
       "      <td>19927.000000</td>\n",
       "      <td>19927.000000</td>\n",
       "      <td>19927.000000</td>\n",
       "      <td>19927.000000</td>\n",
       "      <td>19927.000000</td>\n",
       "    </tr>\n",
       "    <tr>\n",
       "      <th>mean</th>\n",
       "      <td>127.569762</td>\n",
       "      <td>7.418678</td>\n",
       "      <td>8.243489</td>\n",
       "      <td>6.254529</td>\n",
       "      <td>17.791400</td>\n",
       "      <td>11.729484</td>\n",
       "      <td>17.131521</td>\n",
       "      <td>17.504076</td>\n",
       "      <td>11.721046</td>\n",
       "      <td>19.030216</td>\n",
       "      <td>...</td>\n",
       "      <td>0.122597</td>\n",
       "      <td>0.088021</td>\n",
       "      <td>0.113565</td>\n",
       "      <td>0.121644</td>\n",
       "      <td>0.117981</td>\n",
       "      <td>0.107894</td>\n",
       "      <td>0.097707</td>\n",
       "      <td>0.070608</td>\n",
       "      <td>0.091534</td>\n",
       "      <td>0.068450</td>\n",
       "    </tr>\n",
       "    <tr>\n",
       "      <th>std</th>\n",
       "      <td>39.019003</td>\n",
       "      <td>4.128883</td>\n",
       "      <td>4.203547</td>\n",
       "      <td>3.309619</td>\n",
       "      <td>1.000101</td>\n",
       "      <td>0.992995</td>\n",
       "      <td>0.995285</td>\n",
       "      <td>0.994595</td>\n",
       "      <td>0.993011</td>\n",
       "      <td>1.010375</td>\n",
       "      <td>...</td>\n",
       "      <td>0.327983</td>\n",
       "      <td>0.283333</td>\n",
       "      <td>0.317290</td>\n",
       "      <td>0.326882</td>\n",
       "      <td>0.322593</td>\n",
       "      <td>0.310254</td>\n",
       "      <td>0.296925</td>\n",
       "      <td>0.256175</td>\n",
       "      <td>0.288374</td>\n",
       "      <td>0.252523</td>\n",
       "    </tr>\n",
       "    <tr>\n",
       "      <th>min</th>\n",
       "      <td>33.160000</td>\n",
       "      <td>0.000000</td>\n",
       "      <td>0.000000</td>\n",
       "      <td>0.000000</td>\n",
       "      <td>14.166000</td>\n",
       "      <td>8.008000</td>\n",
       "      <td>12.813000</td>\n",
       "      <td>13.968000</td>\n",
       "      <td>7.973000</td>\n",
       "      <td>15.217000</td>\n",
       "      <td>...</td>\n",
       "      <td>0.000000</td>\n",
       "      <td>0.000000</td>\n",
       "      <td>0.000000</td>\n",
       "      <td>0.000000</td>\n",
       "      <td>0.000000</td>\n",
       "      <td>0.000000</td>\n",
       "      <td>0.000000</td>\n",
       "      <td>0.000000</td>\n",
       "      <td>0.000000</td>\n",
       "      <td>0.000000</td>\n",
       "    </tr>\n",
       "    <tr>\n",
       "      <th>25%</th>\n",
       "      <td>99.830000</td>\n",
       "      <td>4.000000</td>\n",
       "      <td>5.000000</td>\n",
       "      <td>4.000000</td>\n",
       "      <td>17.118000</td>\n",
       "      <td>11.055250</td>\n",
       "      <td>16.454500</td>\n",
       "      <td>16.831000</td>\n",
       "      <td>11.053000</td>\n",
       "      <td>18.344000</td>\n",
       "      <td>...</td>\n",
       "      <td>0.000000</td>\n",
       "      <td>0.000000</td>\n",
       "      <td>0.000000</td>\n",
       "      <td>0.000000</td>\n",
       "      <td>0.000000</td>\n",
       "      <td>0.000000</td>\n",
       "      <td>0.000000</td>\n",
       "      <td>0.000000</td>\n",
       "      <td>0.000000</td>\n",
       "      <td>0.000000</td>\n",
       "    </tr>\n",
       "    <tr>\n",
       "      <th>50%</th>\n",
       "      <td>122.120000</td>\n",
       "      <td>7.000000</td>\n",
       "      <td>8.000000</td>\n",
       "      <td>6.000000</td>\n",
       "      <td>17.787000</td>\n",
       "      <td>11.727000</td>\n",
       "      <td>17.138000</td>\n",
       "      <td>17.508000</td>\n",
       "      <td>11.717000</td>\n",
       "      <td>19.028000</td>\n",
       "      <td>...</td>\n",
       "      <td>0.000000</td>\n",
       "      <td>0.000000</td>\n",
       "      <td>0.000000</td>\n",
       "      <td>0.000000</td>\n",
       "      <td>0.000000</td>\n",
       "      <td>0.000000</td>\n",
       "      <td>0.000000</td>\n",
       "      <td>0.000000</td>\n",
       "      <td>0.000000</td>\n",
       "      <td>0.000000</td>\n",
       "    </tr>\n",
       "    <tr>\n",
       "      <th>75%</th>\n",
       "      <td>148.990000</td>\n",
       "      <td>10.000000</td>\n",
       "      <td>11.000000</td>\n",
       "      <td>8.000000</td>\n",
       "      <td>18.468000</td>\n",
       "      <td>12.407750</td>\n",
       "      <td>17.804000</td>\n",
       "      <td>18.180000</td>\n",
       "      <td>12.388000</td>\n",
       "      <td>19.711000</td>\n",
       "      <td>...</td>\n",
       "      <td>0.000000</td>\n",
       "      <td>0.000000</td>\n",
       "      <td>0.000000</td>\n",
       "      <td>0.000000</td>\n",
       "      <td>0.000000</td>\n",
       "      <td>0.000000</td>\n",
       "      <td>0.000000</td>\n",
       "      <td>0.000000</td>\n",
       "      <td>0.000000</td>\n",
       "      <td>0.000000</td>\n",
       "    </tr>\n",
       "    <tr>\n",
       "      <th>max</th>\n",
       "      <td>385.860000</td>\n",
       "      <td>29.000000</td>\n",
       "      <td>28.000000</td>\n",
       "      <td>24.000000</td>\n",
       "      <td>21.499000</td>\n",
       "      <td>16.484000</td>\n",
       "      <td>21.425000</td>\n",
       "      <td>21.543000</td>\n",
       "      <td>15.359000</td>\n",
       "      <td>23.807000</td>\n",
       "      <td>...</td>\n",
       "      <td>1.000000</td>\n",
       "      <td>1.000000</td>\n",
       "      <td>1.000000</td>\n",
       "      <td>1.000000</td>\n",
       "      <td>1.000000</td>\n",
       "      <td>1.000000</td>\n",
       "      <td>1.000000</td>\n",
       "      <td>1.000000</td>\n",
       "      <td>1.000000</td>\n",
       "      <td>1.000000</td>\n",
       "    </tr>\n",
       "  </tbody>\n",
       "</table>\n",
       "<p>8 rows × 64 columns</p>\n",
       "</div>"
      ],
      "text/plain": [
       "            loading  measurement_0  measurement_1  measurement_2  \\\n",
       "count  19775.000000   19927.000000   19927.000000   19927.000000   \n",
       "mean     127.569762       7.418678       8.243489       6.254529   \n",
       "std       39.019003       4.128883       4.203547       3.309619   \n",
       "min       33.160000       0.000000       0.000000       0.000000   \n",
       "25%       99.830000       4.000000       5.000000       4.000000   \n",
       "50%      122.120000       7.000000       8.000000       6.000000   \n",
       "75%      148.990000      10.000000      11.000000       8.000000   \n",
       "max      385.860000      29.000000      28.000000      24.000000   \n",
       "\n",
       "       measurement_3  measurement_4  measurement_5  measurement_6  \\\n",
       "count   19646.000000   19518.000000   19427.000000   19357.000000   \n",
       "mean       17.791400      11.729484      17.131521      17.504076   \n",
       "std         1.000101       0.992995       0.995285       0.994595   \n",
       "min        14.166000       8.008000      12.813000      13.968000   \n",
       "25%        17.118000      11.055250      16.454500      16.831000   \n",
       "50%        17.787000      11.727000      17.138000      17.508000   \n",
       "75%        18.468000      12.407750      17.804000      18.180000   \n",
       "max        21.499000      16.484000      21.425000      21.543000   \n",
       "\n",
       "       measurement_7  measurement_8  ...  measurement_2_grouped_(-0.001, 2.0]  \\\n",
       "count   19229.000000   19144.000000  ...                         19927.000000   \n",
       "mean       11.721046      19.030216  ...                             0.122597   \n",
       "std         0.993011       1.010375  ...                             0.327983   \n",
       "min         7.973000      15.217000  ...                             0.000000   \n",
       "25%        11.053000      18.344000  ...                             0.000000   \n",
       "50%        11.717000      19.028000  ...                             0.000000   \n",
       "75%        12.388000      19.711000  ...                             0.000000   \n",
       "max        15.359000      23.807000  ...                             1.000000   \n",
       "\n",
       "       measurement_2_grouped_(2.0, 3.0]  measurement_2_grouped_(3.0, 4.0]  \\\n",
       "count                      19927.000000                      19927.000000   \n",
       "mean                           0.088021                          0.113565   \n",
       "std                            0.283333                          0.317290   \n",
       "min                            0.000000                          0.000000   \n",
       "25%                            0.000000                          0.000000   \n",
       "50%                            0.000000                          0.000000   \n",
       "75%                            0.000000                          0.000000   \n",
       "max                            1.000000                          1.000000   \n",
       "\n",
       "       measurement_2_grouped_(4.0, 5.0]  measurement_2_grouped_(5.0, 6.0]  \\\n",
       "count                      19927.000000                      19927.000000   \n",
       "mean                           0.121644                          0.117981   \n",
       "std                            0.326882                          0.322593   \n",
       "min                            0.000000                          0.000000   \n",
       "25%                            0.000000                          0.000000   \n",
       "50%                            0.000000                          0.000000   \n",
       "75%                            0.000000                          0.000000   \n",
       "max                            1.000000                          1.000000   \n",
       "\n",
       "       measurement_2_grouped_(6.0, 7.0]  measurement_2_grouped_(7.0, 8.0]  \\\n",
       "count                      19927.000000                      19927.000000   \n",
       "mean                           0.107894                          0.097707   \n",
       "std                            0.310254                          0.296925   \n",
       "min                            0.000000                          0.000000   \n",
       "25%                            0.000000                          0.000000   \n",
       "50%                            0.000000                          0.000000   \n",
       "75%                            0.000000                          0.000000   \n",
       "max                            1.000000                          1.000000   \n",
       "\n",
       "       measurement_2_grouped_(8.0, 9.0]  measurement_2_grouped_(9.0, 11.0]  \\\n",
       "count                      19927.000000                       19927.000000   \n",
       "mean                           0.070608                           0.091534   \n",
       "std                            0.256175                           0.288374   \n",
       "min                            0.000000                           0.000000   \n",
       "25%                            0.000000                           0.000000   \n",
       "50%                            0.000000                           0.000000   \n",
       "75%                            0.000000                           0.000000   \n",
       "max                            1.000000                           1.000000   \n",
       "\n",
       "       measurement_2_grouped_(11.0, 24.0]  \n",
       "count                        19927.000000  \n",
       "mean                             0.068450  \n",
       "std                              0.252523  \n",
       "min                              0.000000  \n",
       "25%                              0.000000  \n",
       "50%                              0.000000  \n",
       "75%                              0.000000  \n",
       "max                              1.000000  \n",
       "\n",
       "[8 rows x 64 columns]"
      ]
     },
     "execution_count": 84,
     "metadata": {},
     "output_type": "execute_result"
    }
   ],
   "source": [
    "X_train_dummies.describe()"
   ]
  },
  {
   "cell_type": "markdown",
   "metadata": {},
   "source": [
    "# Pipeline <br>\n",
    "To make models building easier, preprocessing steps may be merged into a pipeline"
   ]
  },
  {
   "cell_type": "code",
   "execution_count": 85,
   "metadata": {},
   "outputs": [],
   "source": [
    "# does not contain one-hot encoding step\n",
    "preprocessing = Pipeline([\n",
    "    ('transformer', ColumnTransformer([\n",
    "        ('scaler', StandardScaler(), [*range(0, 19)])],\n",
    "         remainder='passthrough')),\n",
    "    ('imputer', KNNImputer())\n",
    "])"
   ]
  },
  {
   "cell_type": "markdown",
   "metadata": {},
   "source": [
    "# Saving data"
   ]
  },
  {
   "cell_type": "code",
   "execution_count": null,
   "metadata": {},
   "outputs": [],
   "source": [
    "X_train.to_csv('data/X_train.csv')\n",
    "X_test.to_csv('data/X_test.csv')\n",
    "\n",
    "X_train_dummies.to_csv('data/X_train_dummies.csv')\n",
    "X_test_dummies.to_csv('data/X_test_dummies.csv')\n",
    "\n",
    "X_train_dummies_scaled_knn.to_csv('data/X_train_dummies_scaled_knn.csv')\n",
    "X_test_dummies_scaled_knn.to_csv('data/X_test_dummies_scaled_knn.csv')\n",
    "\n",
    "y_train.to_csv('data/y_train.csv')\n",
    "y_test.to_csv('data/y_test.csv')"
   ]
  }
 ],
 "metadata": {
  "kernelspec": {
   "display_name": "Python 3.9.7 ('base')",
   "language": "python",
   "name": "python3"
  },
  "language_info": {
   "codemirror_mode": {
    "name": "ipython",
    "version": 3
   },
   "file_extension": ".py",
   "mimetype": "text/x-python",
   "name": "python",
   "nbconvert_exporter": "python",
   "pygments_lexer": "ipython3",
   "version": "3.9.7"
  },
  "orig_nbformat": 4,
  "vscode": {
   "interpreter": {
    "hash": "717c13e09df9089ce02dd018825478f9268d1582be70d5672c549121a9bc5491"
   }
  }
 },
 "nbformat": 4,
 "nbformat_minor": 2
}
