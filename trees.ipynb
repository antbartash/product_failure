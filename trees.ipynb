{
  "cells": [
    {
      "cell_type": "markdown",
      "metadata": {
        "id": "view-in-github",
        "colab_type": "text"
      },
      "source": [
        "<a href=\"https://colab.research.google.com/github/antbartash/product_failure/blob/main/trees.ipynb\" target=\"_parent\"><img src=\"https://colab.research.google.com/assets/colab-badge.svg\" alt=\"Open In Colab\"/></a>"
      ]
    },
    {
      "cell_type": "markdown",
      "metadata": {
        "id": "JuQKoT1ajF4y"
      },
      "source": [
        "# Loading libraries and data"
      ]
    },
    {
      "cell_type": "code",
      "execution_count": 2,
      "metadata": {
        "id": "DIsE6ermjF45"
      },
      "outputs": [],
      "source": [
        "import numpy as np\n",
        "import pandas as pd\n",
        "import matplotlib.pyplot as plt\n",
        "from sklearn.tree import DecisionTreeClassifier\n",
        "from sklearn.model_selection import GridSearchCV\n",
        "from sklearn.pipeline import Pipeline\n",
        "from sklearn.compose import ColumnTransformer\n",
        "from sklearn.preprocessing import StandardScaler\n",
        "from sklearn.impute import KNNImputer\n",
        "from sklearn.metrics import roc_auc_score"
      ]
    },
    {
      "cell_type": "code",
      "execution_count": 3,
      "metadata": {
        "colab": {
          "base_uri": "https://localhost:8080/"
        },
        "id": "kHEXmT02jKEi",
        "outputId": "8fd7f664-9d2d-489f-da2a-7d9e86aea07f"
      },
      "outputs": [
        {
          "output_type": "stream",
          "name": "stdout",
          "text": [
            "Mounted at /content/drive/\n"
          ]
        }
      ],
      "source": [
        "from google.colab import drive\n",
        "drive.mount('/content/drive/')"
      ]
    },
    {
      "cell_type": "code",
      "execution_count": 4,
      "metadata": {
        "id": "P1hnTgRPjF48"
      },
      "outputs": [],
      "source": [
        "X_train = pd.read_csv('drive/MyDrive/product_failure/data/X_train_dummies_scaled_knn.csv', index_col=0)\n",
        "X_test = pd.read_csv('drive/MyDrive/product_failure/data/X_test_dummies_scaled_knn.csv', index_col=0)\n",
        "y_train = pd.read_csv('drive/MyDrive/product_failure/data/y_train.csv', index_col=0)\n",
        "y_test = pd.read_csv('drive/MyDrive/product_failure/data/y_test.csv', index_col=0)"
      ]
    },
    {
      "cell_type": "markdown",
      "metadata": {
        "id": "shStnc1qjF49"
      },
      "source": [
        "Check first 5 observations and data shapes to make sure that the data was read correctly"
      ]
    },
    {
      "cell_type": "code",
      "execution_count": 5,
      "metadata": {
        "colab": {
          "base_uri": "https://localhost:8080/",
          "height": 317
        },
        "id": "u08tSgCSjF4-",
        "outputId": "d8239271-cbc3-4d02-da30-3d926c769dc5"
      },
      "outputs": [
        {
          "output_type": "execute_result",
          "data": {
            "text/plain": [
              "    loading  measurement_0  measurement_1  measurement_2  measurement_3  \\\n",
              "0 -0.513603       2.078416      -1.485328      -0.681222      -0.653551   \n",
              "1  0.036400      -1.070214       0.179974      -0.379065      -0.549359   \n",
              "2  0.019484      -0.828012       1.845276      -0.379065      -1.697273   \n",
              "3 -0.060479       0.867404       0.179974      -0.076908      -1.114317   \n",
              "4 -0.549740      -0.585809      -0.533727      -0.076908      -0.828338   \n",
              "\n",
              "   measurement_4  measurement_5  measurement_6  measurement_7  measurement_8  \\\n",
              "0      -0.015593      -0.319033      -0.014153      -0.067520       0.327396   \n",
              "1      -0.731627       1.703556       0.598172      -0.121901      -0.066527   \n",
              "2       0.577577      -1.657378      -0.286633       1.452140       0.304632   \n",
              "3       0.677278       0.361192      -0.752161      -0.738225       0.907394   \n",
              "4       0.043825      -1.348916       0.015005       0.087568      -1.010756   \n",
              "\n",
              "   ...  measurement_2_grouped_(-0.001, 2.0]  measurement_2_grouped_(2.0, 3.0]  \\\n",
              "0  ...                                  0.0                               0.0   \n",
              "1  ...                                  0.0                               0.0   \n",
              "2  ...                                  0.0                               0.0   \n",
              "3  ...                                  0.0                               0.0   \n",
              "4  ...                                  0.0                               0.0   \n",
              "\n",
              "   measurement_2_grouped_(3.0, 4.0]  measurement_2_grouped_(4.0, 5.0]  \\\n",
              "0                               1.0                               0.0   \n",
              "1                               0.0                               1.0   \n",
              "2                               0.0                               1.0   \n",
              "3                               0.0                               0.0   \n",
              "4                               0.0                               0.0   \n",
              "\n",
              "   measurement_2_grouped_(5.0, 6.0]  measurement_2_grouped_(6.0, 7.0]  \\\n",
              "0                               0.0                               0.0   \n",
              "1                               0.0                               0.0   \n",
              "2                               0.0                               0.0   \n",
              "3                               1.0                               0.0   \n",
              "4                               1.0                               0.0   \n",
              "\n",
              "   measurement_2_grouped_(7.0, 8.0]  measurement_2_grouped_(8.0, 9.0]  \\\n",
              "0                               0.0                               0.0   \n",
              "1                               0.0                               0.0   \n",
              "2                               0.0                               0.0   \n",
              "3                               0.0                               0.0   \n",
              "4                               0.0                               0.0   \n",
              "\n",
              "   measurement_2_grouped_(9.0, 11.0]  measurement_2_grouped_(11.0, 24.0]  \n",
              "0                                0.0                                 0.0  \n",
              "1                                0.0                                 0.0  \n",
              "2                                0.0                                 0.0  \n",
              "3                                0.0                                 0.0  \n",
              "4                                0.0                                 0.0  \n",
              "\n",
              "[5 rows x 64 columns]"
            ],
            "text/html": [
              "\n",
              "  <div id=\"df-c9682453-67f9-42cf-a417-9ee9217fab1b\">\n",
              "    <div class=\"colab-df-container\">\n",
              "      <div>\n",
              "<style scoped>\n",
              "    .dataframe tbody tr th:only-of-type {\n",
              "        vertical-align: middle;\n",
              "    }\n",
              "\n",
              "    .dataframe tbody tr th {\n",
              "        vertical-align: top;\n",
              "    }\n",
              "\n",
              "    .dataframe thead th {\n",
              "        text-align: right;\n",
              "    }\n",
              "</style>\n",
              "<table border=\"1\" class=\"dataframe\">\n",
              "  <thead>\n",
              "    <tr style=\"text-align: right;\">\n",
              "      <th></th>\n",
              "      <th>loading</th>\n",
              "      <th>measurement_0</th>\n",
              "      <th>measurement_1</th>\n",
              "      <th>measurement_2</th>\n",
              "      <th>measurement_3</th>\n",
              "      <th>measurement_4</th>\n",
              "      <th>measurement_5</th>\n",
              "      <th>measurement_6</th>\n",
              "      <th>measurement_7</th>\n",
              "      <th>measurement_8</th>\n",
              "      <th>...</th>\n",
              "      <th>measurement_2_grouped_(-0.001, 2.0]</th>\n",
              "      <th>measurement_2_grouped_(2.0, 3.0]</th>\n",
              "      <th>measurement_2_grouped_(3.0, 4.0]</th>\n",
              "      <th>measurement_2_grouped_(4.0, 5.0]</th>\n",
              "      <th>measurement_2_grouped_(5.0, 6.0]</th>\n",
              "      <th>measurement_2_grouped_(6.0, 7.0]</th>\n",
              "      <th>measurement_2_grouped_(7.0, 8.0]</th>\n",
              "      <th>measurement_2_grouped_(8.0, 9.0]</th>\n",
              "      <th>measurement_2_grouped_(9.0, 11.0]</th>\n",
              "      <th>measurement_2_grouped_(11.0, 24.0]</th>\n",
              "    </tr>\n",
              "  </thead>\n",
              "  <tbody>\n",
              "    <tr>\n",
              "      <th>0</th>\n",
              "      <td>-0.513603</td>\n",
              "      <td>2.078416</td>\n",
              "      <td>-1.485328</td>\n",
              "      <td>-0.681222</td>\n",
              "      <td>-0.653551</td>\n",
              "      <td>-0.015593</td>\n",
              "      <td>-0.319033</td>\n",
              "      <td>-0.014153</td>\n",
              "      <td>-0.067520</td>\n",
              "      <td>0.327396</td>\n",
              "      <td>...</td>\n",
              "      <td>0.0</td>\n",
              "      <td>0.0</td>\n",
              "      <td>1.0</td>\n",
              "      <td>0.0</td>\n",
              "      <td>0.0</td>\n",
              "      <td>0.0</td>\n",
              "      <td>0.0</td>\n",
              "      <td>0.0</td>\n",
              "      <td>0.0</td>\n",
              "      <td>0.0</td>\n",
              "    </tr>\n",
              "    <tr>\n",
              "      <th>1</th>\n",
              "      <td>0.036400</td>\n",
              "      <td>-1.070214</td>\n",
              "      <td>0.179974</td>\n",
              "      <td>-0.379065</td>\n",
              "      <td>-0.549359</td>\n",
              "      <td>-0.731627</td>\n",
              "      <td>1.703556</td>\n",
              "      <td>0.598172</td>\n",
              "      <td>-0.121901</td>\n",
              "      <td>-0.066527</td>\n",
              "      <td>...</td>\n",
              "      <td>0.0</td>\n",
              "      <td>0.0</td>\n",
              "      <td>0.0</td>\n",
              "      <td>1.0</td>\n",
              "      <td>0.0</td>\n",
              "      <td>0.0</td>\n",
              "      <td>0.0</td>\n",
              "      <td>0.0</td>\n",
              "      <td>0.0</td>\n",
              "      <td>0.0</td>\n",
              "    </tr>\n",
              "    <tr>\n",
              "      <th>2</th>\n",
              "      <td>0.019484</td>\n",
              "      <td>-0.828012</td>\n",
              "      <td>1.845276</td>\n",
              "      <td>-0.379065</td>\n",
              "      <td>-1.697273</td>\n",
              "      <td>0.577577</td>\n",
              "      <td>-1.657378</td>\n",
              "      <td>-0.286633</td>\n",
              "      <td>1.452140</td>\n",
              "      <td>0.304632</td>\n",
              "      <td>...</td>\n",
              "      <td>0.0</td>\n",
              "      <td>0.0</td>\n",
              "      <td>0.0</td>\n",
              "      <td>1.0</td>\n",
              "      <td>0.0</td>\n",
              "      <td>0.0</td>\n",
              "      <td>0.0</td>\n",
              "      <td>0.0</td>\n",
              "      <td>0.0</td>\n",
              "      <td>0.0</td>\n",
              "    </tr>\n",
              "    <tr>\n",
              "      <th>3</th>\n",
              "      <td>-0.060479</td>\n",
              "      <td>0.867404</td>\n",
              "      <td>0.179974</td>\n",
              "      <td>-0.076908</td>\n",
              "      <td>-1.114317</td>\n",
              "      <td>0.677278</td>\n",
              "      <td>0.361192</td>\n",
              "      <td>-0.752161</td>\n",
              "      <td>-0.738225</td>\n",
              "      <td>0.907394</td>\n",
              "      <td>...</td>\n",
              "      <td>0.0</td>\n",
              "      <td>0.0</td>\n",
              "      <td>0.0</td>\n",
              "      <td>0.0</td>\n",
              "      <td>1.0</td>\n",
              "      <td>0.0</td>\n",
              "      <td>0.0</td>\n",
              "      <td>0.0</td>\n",
              "      <td>0.0</td>\n",
              "      <td>0.0</td>\n",
              "    </tr>\n",
              "    <tr>\n",
              "      <th>4</th>\n",
              "      <td>-0.549740</td>\n",
              "      <td>-0.585809</td>\n",
              "      <td>-0.533727</td>\n",
              "      <td>-0.076908</td>\n",
              "      <td>-0.828338</td>\n",
              "      <td>0.043825</td>\n",
              "      <td>-1.348916</td>\n",
              "      <td>0.015005</td>\n",
              "      <td>0.087568</td>\n",
              "      <td>-1.010756</td>\n",
              "      <td>...</td>\n",
              "      <td>0.0</td>\n",
              "      <td>0.0</td>\n",
              "      <td>0.0</td>\n",
              "      <td>0.0</td>\n",
              "      <td>1.0</td>\n",
              "      <td>0.0</td>\n",
              "      <td>0.0</td>\n",
              "      <td>0.0</td>\n",
              "      <td>0.0</td>\n",
              "      <td>0.0</td>\n",
              "    </tr>\n",
              "  </tbody>\n",
              "</table>\n",
              "<p>5 rows × 64 columns</p>\n",
              "</div>\n",
              "      <button class=\"colab-df-convert\" onclick=\"convertToInteractive('df-c9682453-67f9-42cf-a417-9ee9217fab1b')\"\n",
              "              title=\"Convert this dataframe to an interactive table.\"\n",
              "              style=\"display:none;\">\n",
              "        \n",
              "  <svg xmlns=\"http://www.w3.org/2000/svg\" height=\"24px\"viewBox=\"0 0 24 24\"\n",
              "       width=\"24px\">\n",
              "    <path d=\"M0 0h24v24H0V0z\" fill=\"none\"/>\n",
              "    <path d=\"M18.56 5.44l.94 2.06.94-2.06 2.06-.94-2.06-.94-.94-2.06-.94 2.06-2.06.94zm-11 1L8.5 8.5l.94-2.06 2.06-.94-2.06-.94L8.5 2.5l-.94 2.06-2.06.94zm10 10l.94 2.06.94-2.06 2.06-.94-2.06-.94-.94-2.06-.94 2.06-2.06.94z\"/><path d=\"M17.41 7.96l-1.37-1.37c-.4-.4-.92-.59-1.43-.59-.52 0-1.04.2-1.43.59L10.3 9.45l-7.72 7.72c-.78.78-.78 2.05 0 2.83L4 21.41c.39.39.9.59 1.41.59.51 0 1.02-.2 1.41-.59l7.78-7.78 2.81-2.81c.8-.78.8-2.07 0-2.86zM5.41 20L4 18.59l7.72-7.72 1.47 1.35L5.41 20z\"/>\n",
              "  </svg>\n",
              "      </button>\n",
              "      \n",
              "  <style>\n",
              "    .colab-df-container {\n",
              "      display:flex;\n",
              "      flex-wrap:wrap;\n",
              "      gap: 12px;\n",
              "    }\n",
              "\n",
              "    .colab-df-convert {\n",
              "      background-color: #E8F0FE;\n",
              "      border: none;\n",
              "      border-radius: 50%;\n",
              "      cursor: pointer;\n",
              "      display: none;\n",
              "      fill: #1967D2;\n",
              "      height: 32px;\n",
              "      padding: 0 0 0 0;\n",
              "      width: 32px;\n",
              "    }\n",
              "\n",
              "    .colab-df-convert:hover {\n",
              "      background-color: #E2EBFA;\n",
              "      box-shadow: 0px 1px 2px rgba(60, 64, 67, 0.3), 0px 1px 3px 1px rgba(60, 64, 67, 0.15);\n",
              "      fill: #174EA6;\n",
              "    }\n",
              "\n",
              "    [theme=dark] .colab-df-convert {\n",
              "      background-color: #3B4455;\n",
              "      fill: #D2E3FC;\n",
              "    }\n",
              "\n",
              "    [theme=dark] .colab-df-convert:hover {\n",
              "      background-color: #434B5C;\n",
              "      box-shadow: 0px 1px 3px 1px rgba(0, 0, 0, 0.15);\n",
              "      filter: drop-shadow(0px 1px 2px rgba(0, 0, 0, 0.3));\n",
              "      fill: #FFFFFF;\n",
              "    }\n",
              "  </style>\n",
              "\n",
              "      <script>\n",
              "        const buttonEl =\n",
              "          document.querySelector('#df-c9682453-67f9-42cf-a417-9ee9217fab1b button.colab-df-convert');\n",
              "        buttonEl.style.display =\n",
              "          google.colab.kernel.accessAllowed ? 'block' : 'none';\n",
              "\n",
              "        async function convertToInteractive(key) {\n",
              "          const element = document.querySelector('#df-c9682453-67f9-42cf-a417-9ee9217fab1b');\n",
              "          const dataTable =\n",
              "            await google.colab.kernel.invokeFunction('convertToInteractive',\n",
              "                                                     [key], {});\n",
              "          if (!dataTable) return;\n",
              "\n",
              "          const docLinkHtml = 'Like what you see? Visit the ' +\n",
              "            '<a target=\"_blank\" href=https://colab.research.google.com/notebooks/data_table.ipynb>data table notebook</a>'\n",
              "            + ' to learn more about interactive tables.';\n",
              "          element.innerHTML = '';\n",
              "          dataTable['output_type'] = 'display_data';\n",
              "          await google.colab.output.renderOutput(dataTable, element);\n",
              "          const docLink = document.createElement('div');\n",
              "          docLink.innerHTML = docLinkHtml;\n",
              "          element.appendChild(docLink);\n",
              "        }\n",
              "      </script>\n",
              "    </div>\n",
              "  </div>\n",
              "  "
            ]
          },
          "metadata": {},
          "execution_count": 5
        }
      ],
      "source": [
        "X_train.head()"
      ]
    },
    {
      "cell_type": "code",
      "execution_count": 6,
      "metadata": {
        "colab": {
          "base_uri": "https://localhost:8080/"
        },
        "id": "5NGndehkjF4_",
        "outputId": "ded4c0a1-163e-4924-e50a-0dec34a40290"
      },
      "outputs": [
        {
          "output_type": "stream",
          "name": "stdout",
          "text": [
            "X_train.shape:  (19927, 64)\n",
            "y_train.shape:  (19927, 1)\n",
            "X_test.shape:  (6643, 64)\n",
            "y_test.shape: (6643, 1)\n"
          ]
        }
      ],
      "source": [
        "print(\"X_train.shape: \", X_train.shape)\n",
        "print(\"y_train.shape: \", y_train.shape)\n",
        "print(\"X_test.shape: \", X_test.shape)\n",
        "print(\"y_test.shape:\", y_test.shape)"
      ]
    },
    {
      "cell_type": "markdown",
      "metadata": {
        "id": "Yd5vSRIVjF5A"
      },
      "source": [
        "# Baseline tree model <br>\n",
        "Build a baseline decision tree model and evaluate its performance on train and test sets. For performance evaluation AUC will be used"
      ]
    },
    {
      "cell_type": "code",
      "execution_count": 7,
      "metadata": {
        "colab": {
          "base_uri": "https://localhost:8080/"
        },
        "id": "zA8SMFjrjF5B",
        "outputId": "36964b1b-3581-4202-f871-2bef123fd6e3"
      },
      "outputs": [
        {
          "output_type": "stream",
          "name": "stdout",
          "text": [
            "Train set AUC: 1.0\n",
            "Test set AUC: 0.5081759510363176\n"
          ]
        }
      ],
      "source": [
        "tree_baseline = DecisionTreeClassifier()\n",
        "tree_baseline.fit(X_train, y_train)\n",
        "\n",
        "\n",
        "print(\"Train set AUC: {}\".format(roc_auc_score(y_train, tree_baseline.predict(X_train))))\n",
        "print(\"Test set AUC: {}\".format(roc_auc_score(y_test, tree_baseline.predict(X_test))))"
      ]
    },
    {
      "cell_type": "markdown",
      "metadata": {
        "id": "J2hXk5IfjF5D"
      },
      "source": [
        "AUC values crearly indicate, that the model overfits the training set. We can try to tune its parameters to improve quality of the model"
      ]
    },
    {
      "cell_type": "markdown",
      "metadata": {
        "id": "5QSrlqSKjF5E"
      },
      "source": [
        "# Tuning trees parameters values <br>\n",
        "To tune parameters values GridSearchCV will be used. To prevent data leakage, we'll apply data transformation on each training folder separately. In order to do that, we need to read the datasets created as a result of one-hot encoding of the categorical features, but without other preprocessing steps"
      ]
    },
    {
      "cell_type": "code",
      "execution_count": 8,
      "metadata": {
        "id": "EqxsdrTDjF5H"
      },
      "outputs": [],
      "source": [
        "X_train_dummies = pd.read_csv('drive/MyDrive/product_failure/data/X_train_dummies.csv', index_col=0)\n",
        "X_test_dummies = pd.read_csv('drive/MyDrive/product_failure/data/X_test_dummies.csv', index_col=0)\n",
        "\n",
        "X_train_dummies = X_train_dummies.astype(np.float32)\n",
        "X_test_dummies = X_test_dummies.astype(np.float32)"
      ]
    },
    {
      "cell_type": "code",
      "execution_count": 9,
      "metadata": {
        "id": "tS6F5ZQJjF5I"
      },
      "outputs": [],
      "source": [
        "pipe = Pipeline([\n",
        "    ('transformer', ColumnTransformer([\n",
        "        ('scaler', StandardScaler(), [*range(0, 19)])],\n",
        "         remainder='passthrough')),\n",
        "    ('imputer', KNNImputer()),\n",
        "    ('tree', DecisionTreeClassifier(random_state=0))\n",
        "])"
      ]
    },
    {
      "cell_type": "markdown",
      "metadata": {
        "id": "-NrkcYS_jF5I"
      },
      "source": [
        "Round 1"
      ]
    },
    {
      "cell_type": "code",
      "execution_count": null,
      "metadata": {
        "colab": {
          "background_save": true,
          "base_uri": "https://localhost:8080/"
        },
        "id": "zUWe4FP1jF5L",
        "outputId": "ce4714b7-5a86-4851-a56a-f416199890e0"
      },
      "outputs": [
        {
          "name": "stdout",
          "output_type": "stream",
          "text": [
            "Fitting 5 folds for each of 60 candidates, totalling 300 fits\n",
            "[CV] END tree__max_depth=None, tree__min_impurity_decrease=0, tree__min_samples_leaf=100; total time=  28.2s\n",
            "[CV] END tree__max_depth=None, tree__min_impurity_decrease=0, tree__min_samples_leaf=100; total time=  27.6s\n",
            "[CV] END tree__max_depth=None, tree__min_impurity_decrease=0, tree__min_samples_leaf=100; total time=  25.8s\n",
            "[CV] END tree__max_depth=None, tree__min_impurity_decrease=0, tree__min_samples_leaf=100; total time=  27.1s\n",
            "[CV] END tree__max_depth=None, tree__min_impurity_decrease=0, tree__min_samples_leaf=100; total time=  30.4s\n",
            "[CV] END tree__max_depth=None, tree__min_impurity_decrease=0, tree__min_samples_leaf=50; total time=  30.9s\n",
            "[CV] END tree__max_depth=None, tree__min_impurity_decrease=0, tree__min_samples_leaf=50; total time=  33.4s\n",
            "[CV] END tree__max_depth=None, tree__min_impurity_decrease=0, tree__min_samples_leaf=50; total time=  30.7s\n",
            "[CV] END tree__max_depth=None, tree__min_impurity_decrease=0, tree__min_samples_leaf=50; total time=  32.6s\n",
            "[CV] END tree__max_depth=None, tree__min_impurity_decrease=0, tree__min_samples_leaf=50; total time=  28.7s\n",
            "[CV] END tree__max_depth=None, tree__min_impurity_decrease=0, tree__min_samples_leaf=25; total time=  31.6s\n",
            "[CV] END tree__max_depth=None, tree__min_impurity_decrease=0, tree__min_samples_leaf=25; total time=  33.4s\n",
            "[CV] END tree__max_depth=None, tree__min_impurity_decrease=0, tree__min_samples_leaf=25; total time=  29.2s\n",
            "[CV] END tree__max_depth=None, tree__min_impurity_decrease=0, tree__min_samples_leaf=25; total time=  28.9s\n",
            "[CV] END tree__max_depth=None, tree__min_impurity_decrease=0, tree__min_samples_leaf=25; total time=  28.7s\n",
            "[CV] END tree__max_depth=None, tree__min_impurity_decrease=0, tree__min_samples_leaf=1; total time=  33.3s\n",
            "[CV] END tree__max_depth=None, tree__min_impurity_decrease=0, tree__min_samples_leaf=1; total time=  32.7s\n",
            "[CV] END tree__max_depth=None, tree__min_impurity_decrease=0, tree__min_samples_leaf=1; total time=  30.1s\n",
            "[CV] END tree__max_depth=None, tree__min_impurity_decrease=0, tree__min_samples_leaf=1; total time=  29.7s\n",
            "[CV] END tree__max_depth=None, tree__min_impurity_decrease=0, tree__min_samples_leaf=1; total time=  29.3s\n",
            "[CV] END tree__max_depth=None, tree__min_impurity_decrease=0.01, tree__min_samples_leaf=100; total time=  33.2s\n",
            "[CV] END tree__max_depth=None, tree__min_impurity_decrease=0.01, tree__min_samples_leaf=100; total time=  31.7s\n",
            "[CV] END tree__max_depth=None, tree__min_impurity_decrease=0.01, tree__min_samples_leaf=100; total time=  27.9s\n",
            "[CV] END tree__max_depth=None, tree__min_impurity_decrease=0.01, tree__min_samples_leaf=100; total time=  28.3s\n",
            "[CV] END tree__max_depth=None, tree__min_impurity_decrease=0.01, tree__min_samples_leaf=100; total time=  27.9s\n",
            "[CV] END tree__max_depth=None, tree__min_impurity_decrease=0.01, tree__min_samples_leaf=50; total time=  31.6s\n",
            "[CV] END tree__max_depth=None, tree__min_impurity_decrease=0.01, tree__min_samples_leaf=50; total time=  31.7s\n",
            "[CV] END tree__max_depth=None, tree__min_impurity_decrease=0.01, tree__min_samples_leaf=50; total time=  28.0s\n",
            "[CV] END tree__max_depth=None, tree__min_impurity_decrease=0.01, tree__min_samples_leaf=50; total time=  28.0s\n",
            "[CV] END tree__max_depth=None, tree__min_impurity_decrease=0.01, tree__min_samples_leaf=50; total time=  28.1s\n",
            "[CV] END tree__max_depth=None, tree__min_impurity_decrease=0.01, tree__min_samples_leaf=25; total time=  31.8s\n",
            "[CV] END tree__max_depth=None, tree__min_impurity_decrease=0.01, tree__min_samples_leaf=25; total time=  32.0s\n",
            "[CV] END tree__max_depth=None, tree__min_impurity_decrease=0.01, tree__min_samples_leaf=25; total time=  28.2s\n",
            "[CV] END tree__max_depth=None, tree__min_impurity_decrease=0.01, tree__min_samples_leaf=25; total time=  28.3s\n",
            "[CV] END tree__max_depth=None, tree__min_impurity_decrease=0.01, tree__min_samples_leaf=25; total time=  28.0s\n",
            "[CV] END tree__max_depth=None, tree__min_impurity_decrease=0.01, tree__min_samples_leaf=1; total time=  31.6s\n",
            "[CV] END tree__max_depth=None, tree__min_impurity_decrease=0.01, tree__min_samples_leaf=1; total time=  31.0s\n",
            "[CV] END tree__max_depth=None, tree__min_impurity_decrease=0.01, tree__min_samples_leaf=1; total time=  28.2s\n",
            "[CV] END tree__max_depth=None, tree__min_impurity_decrease=0.01, tree__min_samples_leaf=1; total time=  28.5s\n",
            "[CV] END tree__max_depth=None, tree__min_impurity_decrease=0.01, tree__min_samples_leaf=1; total time=  27.9s\n",
            "[CV] END tree__max_depth=None, tree__min_impurity_decrease=0.1, tree__min_samples_leaf=100; total time=  31.1s\n",
            "[CV] END tree__max_depth=None, tree__min_impurity_decrease=0.1, tree__min_samples_leaf=100; total time=  31.2s\n",
            "[CV] END tree__max_depth=None, tree__min_impurity_decrease=0.1, tree__min_samples_leaf=100; total time=  28.5s\n",
            "[CV] END tree__max_depth=None, tree__min_impurity_decrease=0.1, tree__min_samples_leaf=100; total time=  28.6s\n",
            "[CV] END tree__max_depth=None, tree__min_impurity_decrease=0.1, tree__min_samples_leaf=100; total time=  27.8s\n",
            "[CV] END tree__max_depth=None, tree__min_impurity_decrease=0.1, tree__min_samples_leaf=50; total time=  31.1s\n",
            "[CV] END tree__max_depth=None, tree__min_impurity_decrease=0.1, tree__min_samples_leaf=50; total time=  30.6s\n",
            "[CV] END tree__max_depth=None, tree__min_impurity_decrease=0.1, tree__min_samples_leaf=50; total time=  28.1s\n",
            "[CV] END tree__max_depth=None, tree__min_impurity_decrease=0.1, tree__min_samples_leaf=50; total time=  28.6s\n",
            "[CV] END tree__max_depth=None, tree__min_impurity_decrease=0.1, tree__min_samples_leaf=50; total time=  27.9s\n",
            "[CV] END tree__max_depth=None, tree__min_impurity_decrease=0.1, tree__min_samples_leaf=25; total time=  31.3s\n",
            "[CV] END tree__max_depth=None, tree__min_impurity_decrease=0.1, tree__min_samples_leaf=25; total time=  31.3s\n",
            "[CV] END tree__max_depth=None, tree__min_impurity_decrease=0.1, tree__min_samples_leaf=25; total time=  28.5s\n",
            "[CV] END tree__max_depth=None, tree__min_impurity_decrease=0.1, tree__min_samples_leaf=25; total time=  28.2s\n",
            "[CV] END tree__max_depth=None, tree__min_impurity_decrease=0.1, tree__min_samples_leaf=25; total time=  27.8s\n",
            "[CV] END tree__max_depth=None, tree__min_impurity_decrease=0.1, tree__min_samples_leaf=1; total time=  30.9s\n",
            "[CV] END tree__max_depth=None, tree__min_impurity_decrease=0.1, tree__min_samples_leaf=1; total time=  31.4s\n",
            "[CV] END tree__max_depth=None, tree__min_impurity_decrease=0.1, tree__min_samples_leaf=1; total time=  28.2s\n",
            "[CV] END tree__max_depth=None, tree__min_impurity_decrease=0.1, tree__min_samples_leaf=1; total time=  28.3s\n",
            "[CV] END tree__max_depth=None, tree__min_impurity_decrease=0.1, tree__min_samples_leaf=1; total time=  27.5s\n",
            "[CV] END tree__max_depth=20, tree__min_impurity_decrease=0, tree__min_samples_leaf=100; total time=  32.1s\n",
            "[CV] END tree__max_depth=20, tree__min_impurity_decrease=0, tree__min_samples_leaf=100; total time=  31.8s\n",
            "[CV] END tree__max_depth=20, tree__min_impurity_decrease=0, tree__min_samples_leaf=100; total time=  28.4s\n",
            "[CV] END tree__max_depth=20, tree__min_impurity_decrease=0, tree__min_samples_leaf=100; total time=  28.4s\n",
            "[CV] END tree__max_depth=20, tree__min_impurity_decrease=0, tree__min_samples_leaf=100; total time=  28.7s\n",
            "[CV] END tree__max_depth=20, tree__min_impurity_decrease=0, tree__min_samples_leaf=50; total time=  31.2s\n",
            "[CV] END tree__max_depth=20, tree__min_impurity_decrease=0, tree__min_samples_leaf=50; total time=  31.1s\n",
            "[CV] END tree__max_depth=20, tree__min_impurity_decrease=0, tree__min_samples_leaf=50; total time=  28.1s\n",
            "[CV] END tree__max_depth=20, tree__min_impurity_decrease=0, tree__min_samples_leaf=50; total time=  32.3s\n",
            "[CV] END tree__max_depth=20, tree__min_impurity_decrease=0, tree__min_samples_leaf=50; total time=  28.5s\n",
            "[CV] END tree__max_depth=20, tree__min_impurity_decrease=0, tree__min_samples_leaf=25; total time=  31.6s\n",
            "[CV] END tree__max_depth=20, tree__min_impurity_decrease=0, tree__min_samples_leaf=25; total time=  31.4s\n",
            "[CV] END tree__max_depth=20, tree__min_impurity_decrease=0, tree__min_samples_leaf=25; total time=  29.0s\n",
            "[CV] END tree__max_depth=20, tree__min_impurity_decrease=0, tree__min_samples_leaf=25; total time=  28.6s\n",
            "[CV] END tree__max_depth=20, tree__min_impurity_decrease=0, tree__min_samples_leaf=25; total time=  27.9s\n",
            "[CV] END tree__max_depth=20, tree__min_impurity_decrease=0, tree__min_samples_leaf=1; total time=  31.9s\n",
            "[CV] END tree__max_depth=20, tree__min_impurity_decrease=0, tree__min_samples_leaf=1; total time=  32.2s\n",
            "[CV] END tree__max_depth=20, tree__min_impurity_decrease=0, tree__min_samples_leaf=1; total time=  29.4s\n",
            "[CV] END tree__max_depth=20, tree__min_impurity_decrease=0, tree__min_samples_leaf=1; total time=  29.3s\n",
            "[CV] END tree__max_depth=20, tree__min_impurity_decrease=0, tree__min_samples_leaf=1; total time=  28.4s\n",
            "[CV] END tree__max_depth=20, tree__min_impurity_decrease=0.01, tree__min_samples_leaf=100; total time=  32.0s\n",
            "[CV] END tree__max_depth=20, tree__min_impurity_decrease=0.01, tree__min_samples_leaf=100; total time=  31.2s\n",
            "[CV] END tree__max_depth=20, tree__min_impurity_decrease=0.01, tree__min_samples_leaf=100; total time=  29.1s\n",
            "[CV] END tree__max_depth=20, tree__min_impurity_decrease=0.01, tree__min_samples_leaf=100; total time=  30.0s\n",
            "[CV] END tree__max_depth=20, tree__min_impurity_decrease=0.01, tree__min_samples_leaf=100; total time=  30.9s\n",
            "[CV] END tree__max_depth=20, tree__min_impurity_decrease=0.01, tree__min_samples_leaf=50; total time=  35.6s\n",
            "[CV] END tree__max_depth=20, tree__min_impurity_decrease=0.01, tree__min_samples_leaf=50; total time=  32.9s\n",
            "[CV] END tree__max_depth=20, tree__min_impurity_decrease=0.01, tree__min_samples_leaf=50; total time=  29.9s\n",
            "[CV] END tree__max_depth=20, tree__min_impurity_decrease=0.01, tree__min_samples_leaf=50; total time=  29.7s\n",
            "[CV] END tree__max_depth=20, tree__min_impurity_decrease=0.01, tree__min_samples_leaf=50; total time=  29.9s\n",
            "[CV] END tree__max_depth=20, tree__min_impurity_decrease=0.01, tree__min_samples_leaf=25; total time=  32.2s\n",
            "[CV] END tree__max_depth=20, tree__min_impurity_decrease=0.01, tree__min_samples_leaf=25; total time=  31.8s\n",
            "[CV] END tree__max_depth=20, tree__min_impurity_decrease=0.01, tree__min_samples_leaf=25; total time=  29.1s\n",
            "[CV] END tree__max_depth=20, tree__min_impurity_decrease=0.01, tree__min_samples_leaf=25; total time=  29.6s\n",
            "[CV] END tree__max_depth=20, tree__min_impurity_decrease=0.01, tree__min_samples_leaf=25; total time=  30.1s\n",
            "[CV] END tree__max_depth=20, tree__min_impurity_decrease=0.01, tree__min_samples_leaf=1; total time=  32.0s\n",
            "[CV] END tree__max_depth=20, tree__min_impurity_decrease=0.01, tree__min_samples_leaf=1; total time=  32.0s\n",
            "[CV] END tree__max_depth=20, tree__min_impurity_decrease=0.01, tree__min_samples_leaf=1; total time=  29.6s\n",
            "[CV] END tree__max_depth=20, tree__min_impurity_decrease=0.01, tree__min_samples_leaf=1; total time=  28.9s\n",
            "[CV] END tree__max_depth=20, tree__min_impurity_decrease=0.01, tree__min_samples_leaf=1; total time=  29.8s\n",
            "[CV] END tree__max_depth=20, tree__min_impurity_decrease=0.1, tree__min_samples_leaf=100; total time=  31.5s\n",
            "[CV] END tree__max_depth=20, tree__min_impurity_decrease=0.1, tree__min_samples_leaf=100; total time=  31.7s\n",
            "[CV] END tree__max_depth=20, tree__min_impurity_decrease=0.1, tree__min_samples_leaf=100; total time=  29.0s\n",
            "[CV] END tree__max_depth=20, tree__min_impurity_decrease=0.1, tree__min_samples_leaf=100; total time=  29.1s\n",
            "[CV] END tree__max_depth=20, tree__min_impurity_decrease=0.1, tree__min_samples_leaf=100; total time=  29.1s\n",
            "[CV] END tree__max_depth=20, tree__min_impurity_decrease=0.1, tree__min_samples_leaf=50; total time=  33.4s\n",
            "[CV] END tree__max_depth=20, tree__min_impurity_decrease=0.1, tree__min_samples_leaf=50; total time=  31.4s\n",
            "[CV] END tree__max_depth=20, tree__min_impurity_decrease=0.1, tree__min_samples_leaf=50; total time=  29.2s\n",
            "[CV] END tree__max_depth=20, tree__min_impurity_decrease=0.1, tree__min_samples_leaf=50; total time=  29.2s\n",
            "[CV] END tree__max_depth=20, tree__min_impurity_decrease=0.1, tree__min_samples_leaf=50; total time=  29.0s\n",
            "[CV] END tree__max_depth=20, tree__min_impurity_decrease=0.1, tree__min_samples_leaf=25; total time=  31.8s\n",
            "[CV] END tree__max_depth=20, tree__min_impurity_decrease=0.1, tree__min_samples_leaf=25; total time=  31.8s\n",
            "[CV] END tree__max_depth=20, tree__min_impurity_decrease=0.1, tree__min_samples_leaf=25; total time=  29.2s\n",
            "[CV] END tree__max_depth=20, tree__min_impurity_decrease=0.1, tree__min_samples_leaf=25; total time=  29.1s\n",
            "[CV] END tree__max_depth=20, tree__min_impurity_decrease=0.1, tree__min_samples_leaf=25; total time=  28.8s\n",
            "[CV] END tree__max_depth=20, tree__min_impurity_decrease=0.1, tree__min_samples_leaf=1; total time=  31.0s\n",
            "[CV] END tree__max_depth=20, tree__min_impurity_decrease=0.1, tree__min_samples_leaf=1; total time=  30.7s\n",
            "[CV] END tree__max_depth=20, tree__min_impurity_decrease=0.1, tree__min_samples_leaf=1; total time=  28.8s\n",
            "[CV] END tree__max_depth=20, tree__min_impurity_decrease=0.1, tree__min_samples_leaf=1; total time=  29.1s\n",
            "[CV] END tree__max_depth=20, tree__min_impurity_decrease=0.1, tree__min_samples_leaf=1; total time=  28.8s\n",
            "[CV] END tree__max_depth=10, tree__min_impurity_decrease=0, tree__min_samples_leaf=100; total time=  31.4s\n",
            "[CV] END tree__max_depth=10, tree__min_impurity_decrease=0, tree__min_samples_leaf=100; total time=  31.8s\n",
            "[CV] END tree__max_depth=10, tree__min_impurity_decrease=0, tree__min_samples_leaf=100; total time=  29.1s\n",
            "[CV] END tree__max_depth=10, tree__min_impurity_decrease=0, tree__min_samples_leaf=100; total time=  28.9s\n",
            "[CV] END tree__max_depth=10, tree__min_impurity_decrease=0, tree__min_samples_leaf=100; total time=  27.8s\n",
            "[CV] END tree__max_depth=10, tree__min_impurity_decrease=0, tree__min_samples_leaf=50; total time=  31.2s\n",
            "[CV] END tree__max_depth=10, tree__min_impurity_decrease=0, tree__min_samples_leaf=50; total time=  30.8s\n",
            "[CV] END tree__max_depth=10, tree__min_impurity_decrease=0, tree__min_samples_leaf=50; total time=  32.7s\n",
            "[CV] END tree__max_depth=10, tree__min_impurity_decrease=0, tree__min_samples_leaf=50; total time=  28.6s\n",
            "[CV] END tree__max_depth=10, tree__min_impurity_decrease=0, tree__min_samples_leaf=50; total time=  28.6s\n",
            "[CV] END tree__max_depth=10, tree__min_impurity_decrease=0, tree__min_samples_leaf=25; total time=  31.2s\n",
            "[CV] END tree__max_depth=10, tree__min_impurity_decrease=0, tree__min_samples_leaf=25; total time=  31.7s\n",
            "[CV] END tree__max_depth=10, tree__min_impurity_decrease=0, tree__min_samples_leaf=25; total time=  28.3s\n",
            "[CV] END tree__max_depth=10, tree__min_impurity_decrease=0, tree__min_samples_leaf=25; total time=  28.6s\n",
            "[CV] END tree__max_depth=10, tree__min_impurity_decrease=0, tree__min_samples_leaf=25; total time=  28.3s\n",
            "[CV] END tree__max_depth=10, tree__min_impurity_decrease=0, tree__min_samples_leaf=1; total time=  30.9s\n",
            "[CV] END tree__max_depth=10, tree__min_impurity_decrease=0, tree__min_samples_leaf=1; total time=  30.7s\n",
            "[CV] END tree__max_depth=10, tree__min_impurity_decrease=0, tree__min_samples_leaf=1; total time=  28.8s\n",
            "[CV] END tree__max_depth=10, tree__min_impurity_decrease=0, tree__min_samples_leaf=1; total time=  28.7s\n",
            "[CV] END tree__max_depth=10, tree__min_impurity_decrease=0, tree__min_samples_leaf=1; total time=  28.1s\n",
            "[CV] END tree__max_depth=10, tree__min_impurity_decrease=0.01, tree__min_samples_leaf=100; total time=  30.7s\n",
            "[CV] END tree__max_depth=10, tree__min_impurity_decrease=0.01, tree__min_samples_leaf=100; total time=  31.5s\n",
            "[CV] END tree__max_depth=10, tree__min_impurity_decrease=0.01, tree__min_samples_leaf=100; total time=  28.9s\n",
            "[CV] END tree__max_depth=10, tree__min_impurity_decrease=0.01, tree__min_samples_leaf=100; total time=  30.0s\n",
            "[CV] END tree__max_depth=10, tree__min_impurity_decrease=0.01, tree__min_samples_leaf=100; total time=  28.1s\n",
            "[CV] END tree__max_depth=10, tree__min_impurity_decrease=0.01, tree__min_samples_leaf=50; total time=  32.3s\n",
            "[CV] END tree__max_depth=10, tree__min_impurity_decrease=0.01, tree__min_samples_leaf=50; total time=  32.3s\n",
            "[CV] END tree__max_depth=10, tree__min_impurity_decrease=0.01, tree__min_samples_leaf=50; total time=  29.4s\n",
            "[CV] END tree__max_depth=10, tree__min_impurity_decrease=0.01, tree__min_samples_leaf=50; total time=  28.7s\n",
            "[CV] END tree__max_depth=10, tree__min_impurity_decrease=0.01, tree__min_samples_leaf=50; total time=  29.1s\n",
            "[CV] END tree__max_depth=10, tree__min_impurity_decrease=0.01, tree__min_samples_leaf=25; total time=  32.5s\n",
            "[CV] END tree__max_depth=10, tree__min_impurity_decrease=0.01, tree__min_samples_leaf=25; total time=  32.1s\n",
            "[CV] END tree__max_depth=10, tree__min_impurity_decrease=0.01, tree__min_samples_leaf=25; total time=  29.0s\n",
            "[CV] END tree__max_depth=10, tree__min_impurity_decrease=0.01, tree__min_samples_leaf=25; total time=  29.1s\n",
            "[CV] END tree__max_depth=10, tree__min_impurity_decrease=0.01, tree__min_samples_leaf=25; total time=  28.7s\n",
            "[CV] END tree__max_depth=10, tree__min_impurity_decrease=0.01, tree__min_samples_leaf=1; total time=  33.1s\n",
            "[CV] END tree__max_depth=10, tree__min_impurity_decrease=0.01, tree__min_samples_leaf=1; total time=  33.2s\n",
            "[CV] END tree__max_depth=10, tree__min_impurity_decrease=0.01, tree__min_samples_leaf=1; total time=  28.0s\n",
            "[CV] END tree__max_depth=10, tree__min_impurity_decrease=0.01, tree__min_samples_leaf=1; total time=  28.2s\n",
            "[CV] END tree__max_depth=10, tree__min_impurity_decrease=0.01, tree__min_samples_leaf=1; total time=  28.0s\n",
            "[CV] END tree__max_depth=10, tree__min_impurity_decrease=0.1, tree__min_samples_leaf=100; total time=  32.7s\n",
            "[CV] END tree__max_depth=10, tree__min_impurity_decrease=0.1, tree__min_samples_leaf=100; total time=  31.3s\n",
            "[CV] END tree__max_depth=10, tree__min_impurity_decrease=0.1, tree__min_samples_leaf=100; total time=  28.2s\n",
            "[CV] END tree__max_depth=10, tree__min_impurity_decrease=0.1, tree__min_samples_leaf=100; total time=  28.4s\n",
            "[CV] END tree__max_depth=10, tree__min_impurity_decrease=0.1, tree__min_samples_leaf=100; total time=  28.2s\n",
            "[CV] END tree__max_depth=10, tree__min_impurity_decrease=0.1, tree__min_samples_leaf=50; total time=  31.3s\n",
            "[CV] END tree__max_depth=10, tree__min_impurity_decrease=0.1, tree__min_samples_leaf=50; total time=  31.1s\n",
            "[CV] END tree__max_depth=10, tree__min_impurity_decrease=0.1, tree__min_samples_leaf=50; total time=  28.3s\n",
            "[CV] END tree__max_depth=10, tree__min_impurity_decrease=0.1, tree__min_samples_leaf=50; total time=  28.3s\n",
            "[CV] END tree__max_depth=10, tree__min_impurity_decrease=0.1, tree__min_samples_leaf=50; total time=  27.8s\n",
            "[CV] END tree__max_depth=10, tree__min_impurity_decrease=0.1, tree__min_samples_leaf=25; total time=  31.2s\n",
            "[CV] END tree__max_depth=10, tree__min_impurity_decrease=0.1, tree__min_samples_leaf=25; total time=  31.1s\n",
            "[CV] END tree__max_depth=10, tree__min_impurity_decrease=0.1, tree__min_samples_leaf=25; total time=  28.4s\n",
            "[CV] END tree__max_depth=10, tree__min_impurity_decrease=0.1, tree__min_samples_leaf=25; total time=  28.7s\n",
            "[CV] END tree__max_depth=10, tree__min_impurity_decrease=0.1, tree__min_samples_leaf=25; total time=  28.0s\n",
            "[CV] END tree__max_depth=10, tree__min_impurity_decrease=0.1, tree__min_samples_leaf=1; total time=  30.3s\n",
            "[CV] END tree__max_depth=10, tree__min_impurity_decrease=0.1, tree__min_samples_leaf=1; total time=  30.3s\n",
            "[CV] END tree__max_depth=10, tree__min_impurity_decrease=0.1, tree__min_samples_leaf=1; total time=  28.0s\n",
            "[CV] END tree__max_depth=10, tree__min_impurity_decrease=0.1, tree__min_samples_leaf=1; total time=  27.6s\n",
            "[CV] END tree__max_depth=10, tree__min_impurity_decrease=0.1, tree__min_samples_leaf=1; total time=  27.4s\n",
            "[CV] END tree__max_depth=5, tree__min_impurity_decrease=0, tree__min_samples_leaf=100; total time=  32.6s\n",
            "[CV] END tree__max_depth=5, tree__min_impurity_decrease=0, tree__min_samples_leaf=100; total time=  31.5s\n",
            "[CV] END tree__max_depth=5, tree__min_impurity_decrease=0, tree__min_samples_leaf=100; total time=  28.5s\n",
            "[CV] END tree__max_depth=5, tree__min_impurity_decrease=0, tree__min_samples_leaf=100; total time=  28.5s\n",
            "[CV] END tree__max_depth=5, tree__min_impurity_decrease=0, tree__min_samples_leaf=100; total time=  28.6s\n",
            "[CV] END tree__max_depth=5, tree__min_impurity_decrease=0, tree__min_samples_leaf=50; total time=  32.4s\n",
            "[CV] END tree__max_depth=5, tree__min_impurity_decrease=0, tree__min_samples_leaf=50; total time=  31.4s\n",
            "[CV] END tree__max_depth=5, tree__min_impurity_decrease=0, tree__min_samples_leaf=50; total time=  28.9s\n",
            "[CV] END tree__max_depth=5, tree__min_impurity_decrease=0, tree__min_samples_leaf=50; total time=  29.3s\n",
            "[CV] END tree__max_depth=5, tree__min_impurity_decrease=0, tree__min_samples_leaf=50; total time=  28.5s\n",
            "[CV] END tree__max_depth=5, tree__min_impurity_decrease=0, tree__min_samples_leaf=25; total time=  31.8s\n",
            "[CV] END tree__max_depth=5, tree__min_impurity_decrease=0, tree__min_samples_leaf=25; total time=  31.7s\n",
            "[CV] END tree__max_depth=5, tree__min_impurity_decrease=0, tree__min_samples_leaf=25; total time=  28.7s\n",
            "[CV] END tree__max_depth=5, tree__min_impurity_decrease=0, tree__min_samples_leaf=25; total time=  30.6s\n",
            "[CV] END tree__max_depth=5, tree__min_impurity_decrease=0, tree__min_samples_leaf=25; total time=  28.4s\n",
            "[CV] END tree__max_depth=5, tree__min_impurity_decrease=0, tree__min_samples_leaf=1; total time=  32.1s\n",
            "[CV] END tree__max_depth=5, tree__min_impurity_decrease=0, tree__min_samples_leaf=1; total time=  32.0s\n",
            "[CV] END tree__max_depth=5, tree__min_impurity_decrease=0, tree__min_samples_leaf=1; total time=  28.5s\n",
            "[CV] END tree__max_depth=5, tree__min_impurity_decrease=0, tree__min_samples_leaf=1; total time=  30.2s\n",
            "[CV] END tree__max_depth=5, tree__min_impurity_decrease=0, tree__min_samples_leaf=1; total time=  28.0s\n",
            "[CV] END tree__max_depth=5, tree__min_impurity_decrease=0.01, tree__min_samples_leaf=100; total time=  32.1s\n",
            "[CV] END tree__max_depth=5, tree__min_impurity_decrease=0.01, tree__min_samples_leaf=100; total time=  31.7s\n",
            "[CV] END tree__max_depth=5, tree__min_impurity_decrease=0.01, tree__min_samples_leaf=100; total time=  28.1s\n",
            "[CV] END tree__max_depth=5, tree__min_impurity_decrease=0.01, tree__min_samples_leaf=100; total time=  29.9s\n",
            "[CV] END tree__max_depth=5, tree__min_impurity_decrease=0.01, tree__min_samples_leaf=100; total time=  28.4s\n",
            "[CV] END tree__max_depth=5, tree__min_impurity_decrease=0.01, tree__min_samples_leaf=50; total time=  32.0s\n",
            "[CV] END tree__max_depth=5, tree__min_impurity_decrease=0.01, tree__min_samples_leaf=50; total time=  31.8s\n",
            "[CV] END tree__max_depth=5, tree__min_impurity_decrease=0.01, tree__min_samples_leaf=50; total time=  28.1s\n",
            "[CV] END tree__max_depth=5, tree__min_impurity_decrease=0.01, tree__min_samples_leaf=50; total time=  30.0s\n",
            "[CV] END tree__max_depth=5, tree__min_impurity_decrease=0.01, tree__min_samples_leaf=50; total time=  27.8s\n",
            "[CV] END tree__max_depth=5, tree__min_impurity_decrease=0.01, tree__min_samples_leaf=25; total time=  33.3s\n",
            "[CV] END tree__max_depth=5, tree__min_impurity_decrease=0.01, tree__min_samples_leaf=25; total time=  33.6s\n",
            "[CV] END tree__max_depth=5, tree__min_impurity_decrease=0.01, tree__min_samples_leaf=25; total time=  28.8s\n",
            "[CV] END tree__max_depth=5, tree__min_impurity_decrease=0.01, tree__min_samples_leaf=25; total time=  29.8s\n",
            "[CV] END tree__max_depth=5, tree__min_impurity_decrease=0.01, tree__min_samples_leaf=25; total time=  27.8s\n",
            "[CV] END tree__max_depth=5, tree__min_impurity_decrease=0.01, tree__min_samples_leaf=1; total time=  31.7s\n",
            "[CV] END tree__max_depth=5, tree__min_impurity_decrease=0.01, tree__min_samples_leaf=1; total time=  30.9s\n",
            "[CV] END tree__max_depth=5, tree__min_impurity_decrease=0.01, tree__min_samples_leaf=1; total time=  28.8s\n",
            "[CV] END tree__max_depth=5, tree__min_impurity_decrease=0.01, tree__min_samples_leaf=1; total time=  29.1s\n",
            "[CV] END tree__max_depth=5, tree__min_impurity_decrease=0.01, tree__min_samples_leaf=1; total time=  29.8s\n",
            "[CV] END tree__max_depth=5, tree__min_impurity_decrease=0.1, tree__min_samples_leaf=100; total time=  31.6s\n",
            "[CV] END tree__max_depth=5, tree__min_impurity_decrease=0.1, tree__min_samples_leaf=100; total time=  30.9s\n",
            "[CV] END tree__max_depth=5, tree__min_impurity_decrease=0.1, tree__min_samples_leaf=100; total time=  27.7s\n",
            "[CV] END tree__max_depth=5, tree__min_impurity_decrease=0.1, tree__min_samples_leaf=100; total time=  30.3s\n",
            "[CV] END tree__max_depth=5, tree__min_impurity_decrease=0.1, tree__min_samples_leaf=100; total time=  29.7s\n",
            "[CV] END tree__max_depth=5, tree__min_impurity_decrease=0.1, tree__min_samples_leaf=50; total time=  33.6s\n",
            "[CV] END tree__max_depth=5, tree__min_impurity_decrease=0.1, tree__min_samples_leaf=50; total time=  32.9s\n",
            "[CV] END tree__max_depth=5, tree__min_impurity_decrease=0.1, tree__min_samples_leaf=50; total time=  28.8s\n",
            "[CV] END tree__max_depth=5, tree__min_impurity_decrease=0.1, tree__min_samples_leaf=50; total time=  30.6s\n",
            "[CV] END tree__max_depth=5, tree__min_impurity_decrease=0.1, tree__min_samples_leaf=50; total time=  29.0s\n",
            "[CV] END tree__max_depth=5, tree__min_impurity_decrease=0.1, tree__min_samples_leaf=25; total time=  35.8s\n",
            "[CV] END tree__max_depth=5, tree__min_impurity_decrease=0.1, tree__min_samples_leaf=25; total time=  35.9s\n",
            "[CV] END tree__max_depth=5, tree__min_impurity_decrease=0.1, tree__min_samples_leaf=25; total time=  28.4s\n",
            "[CV] END tree__max_depth=5, tree__min_impurity_decrease=0.1, tree__min_samples_leaf=25; total time=  29.9s\n",
            "[CV] END tree__max_depth=5, tree__min_impurity_decrease=0.1, tree__min_samples_leaf=25; total time=  27.7s\n",
            "[CV] END tree__max_depth=5, tree__min_impurity_decrease=0.1, tree__min_samples_leaf=1; total time=  30.6s\n",
            "[CV] END tree__max_depth=5, tree__min_impurity_decrease=0.1, tree__min_samples_leaf=1; total time=  31.5s\n",
            "[CV] END tree__max_depth=5, tree__min_impurity_decrease=0.1, tree__min_samples_leaf=1; total time=  28.8s\n",
            "[CV] END tree__max_depth=5, tree__min_impurity_decrease=0.1, tree__min_samples_leaf=1; total time=  28.1s\n",
            "[CV] END tree__max_depth=5, tree__min_impurity_decrease=0.1, tree__min_samples_leaf=1; total time=  27.6s\n",
            "[CV] END tree__max_depth=3, tree__min_impurity_decrease=0, tree__min_samples_leaf=100; total time=  31.8s\n",
            "[CV] END tree__max_depth=3, tree__min_impurity_decrease=0, tree__min_samples_leaf=100; total time=  30.9s\n",
            "[CV] END tree__max_depth=3, tree__min_impurity_decrease=0, tree__min_samples_leaf=100; total time=  29.3s\n",
            "[CV] END tree__max_depth=3, tree__min_impurity_decrease=0, tree__min_samples_leaf=100; total time=  28.3s\n",
            "[CV] END tree__max_depth=3, tree__min_impurity_decrease=0, tree__min_samples_leaf=100; total time=  27.8s\n",
            "[CV] END tree__max_depth=3, tree__min_impurity_decrease=0, tree__min_samples_leaf=50; total time=  31.2s\n",
            "[CV] END tree__max_depth=3, tree__min_impurity_decrease=0, tree__min_samples_leaf=50; total time=  30.6s\n",
            "[CV] END tree__max_depth=3, tree__min_impurity_decrease=0, tree__min_samples_leaf=50; total time=  30.0s\n",
            "[CV] END tree__max_depth=3, tree__min_impurity_decrease=0, tree__min_samples_leaf=50; total time=  28.2s\n",
            "[CV] END tree__max_depth=3, tree__min_impurity_decrease=0, tree__min_samples_leaf=50; total time=  29.1s\n",
            "[CV] END tree__max_depth=3, tree__min_impurity_decrease=0, tree__min_samples_leaf=25; total time=  33.7s\n",
            "[CV] END tree__max_depth=3, tree__min_impurity_decrease=0, tree__min_samples_leaf=25; total time=  32.2s\n",
            "[CV] END tree__max_depth=3, tree__min_impurity_decrease=0, tree__min_samples_leaf=25; total time=  31.0s\n",
            "[CV] END tree__max_depth=3, tree__min_impurity_decrease=0, tree__min_samples_leaf=25; total time=  30.1s\n",
            "[CV] END tree__max_depth=3, tree__min_impurity_decrease=0, tree__min_samples_leaf=25; total time=  28.6s\n",
            "[CV] END tree__max_depth=3, tree__min_impurity_decrease=0, tree__min_samples_leaf=1; total time=  32.3s\n",
            "[CV] END tree__max_depth=3, tree__min_impurity_decrease=0, tree__min_samples_leaf=1; total time=  33.3s\n",
            "[CV] END tree__max_depth=3, tree__min_impurity_decrease=0, tree__min_samples_leaf=1; total time=  28.9s\n",
            "[CV] END tree__max_depth=3, tree__min_impurity_decrease=0, tree__min_samples_leaf=1; total time=  29.1s\n",
            "[CV] END tree__max_depth=3, tree__min_impurity_decrease=0, tree__min_samples_leaf=1; total time=  28.6s\n",
            "[CV] END tree__max_depth=3, tree__min_impurity_decrease=0.01, tree__min_samples_leaf=100; total time=  31.8s\n",
            "[CV] END tree__max_depth=3, tree__min_impurity_decrease=0.01, tree__min_samples_leaf=100; total time=  34.4s\n",
            "[CV] END tree__max_depth=3, tree__min_impurity_decrease=0.01, tree__min_samples_leaf=100; total time=  28.6s\n",
            "[CV] END tree__max_depth=3, tree__min_impurity_decrease=0.01, tree__min_samples_leaf=100; total time=  29.1s\n",
            "[CV] END tree__max_depth=3, tree__min_impurity_decrease=0.01, tree__min_samples_leaf=100; total time=  28.2s\n",
            "[CV] END tree__max_depth=3, tree__min_impurity_decrease=0.01, tree__min_samples_leaf=50; total time=  32.0s\n",
            "[CV] END tree__max_depth=3, tree__min_impurity_decrease=0.01, tree__min_samples_leaf=50; total time=  32.8s\n",
            "[CV] END tree__max_depth=3, tree__min_impurity_decrease=0.01, tree__min_samples_leaf=50; total time=  28.8s\n",
            "[CV] END tree__max_depth=3, tree__min_impurity_decrease=0.01, tree__min_samples_leaf=50; total time=  29.1s\n",
            "[CV] END tree__max_depth=3, tree__min_impurity_decrease=0.01, tree__min_samples_leaf=50; total time=  28.4s\n",
            "[CV] END tree__max_depth=3, tree__min_impurity_decrease=0.01, tree__min_samples_leaf=25; total time=  35.9s\n",
            "[CV] END tree__max_depth=3, tree__min_impurity_decrease=0.01, tree__min_samples_leaf=25; total time=  31.8s\n",
            "[CV] END tree__max_depth=3, tree__min_impurity_decrease=0.01, tree__min_samples_leaf=25; total time=  28.7s\n",
            "[CV] END tree__max_depth=3, tree__min_impurity_decrease=0.01, tree__min_samples_leaf=25; total time=  28.9s\n",
            "[CV] END tree__max_depth=3, tree__min_impurity_decrease=0.01, tree__min_samples_leaf=25; total time=  28.2s\n",
            "[CV] END tree__max_depth=3, tree__min_impurity_decrease=0.01, tree__min_samples_leaf=1; total time=  36.1s\n",
            "[CV] END tree__max_depth=3, tree__min_impurity_decrease=0.01, tree__min_samples_leaf=1; total time=  35.8s\n",
            "[CV] END tree__max_depth=3, tree__min_impurity_decrease=0.01, tree__min_samples_leaf=1; total time=  31.7s\n",
            "[CV] END tree__max_depth=3, tree__min_impurity_decrease=0.01, tree__min_samples_leaf=1; total time=  32.1s\n",
            "[CV] END tree__max_depth=3, tree__min_impurity_decrease=0.01, tree__min_samples_leaf=1; total time=  34.1s\n",
            "[CV] END tree__max_depth=3, tree__min_impurity_decrease=0.1, tree__min_samples_leaf=100; total time=  36.9s\n",
            "[CV] END tree__max_depth=3, tree__min_impurity_decrease=0.1, tree__min_samples_leaf=100; total time=  38.6s\n",
            "[CV] END tree__max_depth=3, tree__min_impurity_decrease=0.1, tree__min_samples_leaf=100; total time=  33.8s\n",
            "[CV] END tree__max_depth=3, tree__min_impurity_decrease=0.1, tree__min_samples_leaf=100; total time=  32.7s\n",
            "[CV] END tree__max_depth=3, tree__min_impurity_decrease=0.1, tree__min_samples_leaf=100; total time=  30.5s\n",
            "[CV] END tree__max_depth=3, tree__min_impurity_decrease=0.1, tree__min_samples_leaf=50; total time=  50.1s\n",
            "[CV] END tree__max_depth=3, tree__min_impurity_decrease=0.1, tree__min_samples_leaf=50; total time=  49.2s\n",
            "[CV] END tree__max_depth=3, tree__min_impurity_decrease=0.1, tree__min_samples_leaf=50; total time=  37.5s\n",
            "[CV] END tree__max_depth=3, tree__min_impurity_decrease=0.1, tree__min_samples_leaf=50; total time=  35.0s\n",
            "[CV] END tree__max_depth=3, tree__min_impurity_decrease=0.1, tree__min_samples_leaf=50; total time=  35.0s\n",
            "[CV] END tree__max_depth=3, tree__min_impurity_decrease=0.1, tree__min_samples_leaf=25; total time=  47.7s\n",
            "[CV] END tree__max_depth=3, tree__min_impurity_decrease=0.1, tree__min_samples_leaf=25; total time=  45.4s\n",
            "[CV] END tree__max_depth=3, tree__min_impurity_decrease=0.1, tree__min_samples_leaf=25; total time=  38.3s\n",
            "[CV] END tree__max_depth=3, tree__min_impurity_decrease=0.1, tree__min_samples_leaf=25; total time=  34.8s\n",
            "[CV] END tree__max_depth=3, tree__min_impurity_decrease=0.1, tree__min_samples_leaf=25; total time=  36.8s\n",
            "[CV] END tree__max_depth=3, tree__min_impurity_decrease=0.1, tree__min_samples_leaf=1; total time=  41.6s\n",
            "[CV] END tree__max_depth=3, tree__min_impurity_decrease=0.1, tree__min_samples_leaf=1; total time=  45.0s\n",
            "[CV] END tree__max_depth=3, tree__min_impurity_decrease=0.1, tree__min_samples_leaf=1; total time=  39.6s\n",
            "[CV] END tree__max_depth=3, tree__min_impurity_decrease=0.1, tree__min_samples_leaf=1; total time=  32.4s\n",
            "[CV] END tree__max_depth=3, tree__min_impurity_decrease=0.1, tree__min_samples_leaf=1; total time=  29.4s\n",
            "Best score:  0.5750738929520143\n",
            "Best params:  {'tree__max_depth': 3, 'tree__min_impurity_decrease': 0, 'tree__min_samples_leaf': 100}\n"
          ]
        }
      ],
      "source": [
        "param_grid = {\n",
        "    'tree__max_depth': [None, 20, 10, 5, 3],\n",
        "    'tree__min_samples_leaf': [100, 50, 25, 1],\n",
        "    'tree__min_impurity_decrease': [0, 0.01, 0.1]\n",
        "}\n",
        "\n",
        "grid = GridSearchCV(pipe, param_grid, cv=5,\n",
        "                    scoring='roc_auc',\n",
        "                    verbose=2)\n",
        "\n",
        "grid.fit(X_train_dummies, y_train)\n",
        "\n",
        "print('Best score: ', grid.best_score_)\n",
        "print('Best params: ', grid.best_params_)"
      ]
    },
    {
      "cell_type": "markdown",
      "metadata": {
        "id": "5IFIBtLgjF5M"
      },
      "source": [
        "In result of the first round of cross-validation, models with the highest regularization were selected. Therefore, in the next round we're incresing the regularization. <br>\n",
        "Also the first round has shown, that changing min_impurity_decrease value from the default doesn't affect models performance. However, in the second round we'll also 0.001 as a values of min_impurity_decrease"
      ]
    },
    {
      "cell_type": "markdown",
      "metadata": {
        "id": "feYWUF8CjF5M"
      },
      "source": [
        "Round 2"
      ]
    },
    {
      "cell_type": "code",
      "execution_count": 10,
      "metadata": {
        "id": "Kdp5gkT8jF5M",
        "colab": {
          "base_uri": "https://localhost:8080/",
          "height": 1000
        },
        "outputId": "5610c67d-abe8-4948-cc9c-b847fa49f803"
      },
      "outputs": [
        {
          "output_type": "stream",
          "name": "stdout",
          "text": [
            "Fitting 10 folds for each of 60 candidates, totalling 600 fits\n",
            "[CV] END tree__max_depth=5, tree__min_impurity_decrease=0, tree__min_samples_leaf=250; total time=  57.2s\n",
            "[CV] END tree__max_depth=5, tree__min_impurity_decrease=0, tree__min_samples_leaf=250; total time=  56.7s\n",
            "[CV] END tree__max_depth=5, tree__min_impurity_decrease=0, tree__min_samples_leaf=250; total time=  53.2s\n",
            "[CV] END tree__max_depth=5, tree__min_impurity_decrease=0, tree__min_samples_leaf=250; total time=  58.8s\n",
            "[CV] END tree__max_depth=5, tree__min_impurity_decrease=0, tree__min_samples_leaf=250; total time=  54.9s\n",
            "[CV] END tree__max_depth=5, tree__min_impurity_decrease=0, tree__min_samples_leaf=250; total time=  55.8s\n",
            "[CV] END tree__max_depth=5, tree__min_impurity_decrease=0, tree__min_samples_leaf=250; total time=  54.7s\n",
            "[CV] END tree__max_depth=5, tree__min_impurity_decrease=0, tree__min_samples_leaf=250; total time= 1.3min\n",
            "[CV] END tree__max_depth=5, tree__min_impurity_decrease=0, tree__min_samples_leaf=250; total time= 1.3min\n",
            "[CV] END tree__max_depth=5, tree__min_impurity_decrease=0, tree__min_samples_leaf=250; total time= 1.3min\n",
            "[CV] END tree__max_depth=5, tree__min_impurity_decrease=0, tree__min_samples_leaf=200; total time=  58.9s\n",
            "[CV] END tree__max_depth=5, tree__min_impurity_decrease=0, tree__min_samples_leaf=200; total time=  58.6s\n",
            "[CV] END tree__max_depth=5, tree__min_impurity_decrease=0, tree__min_samples_leaf=200; total time=  57.6s\n",
            "[CV] END tree__max_depth=5, tree__min_impurity_decrease=0, tree__min_samples_leaf=200; total time=  56.8s\n",
            "[CV] END tree__max_depth=5, tree__min_impurity_decrease=0, tree__min_samples_leaf=200; total time=  53.3s\n",
            "[CV] END tree__max_depth=5, tree__min_impurity_decrease=0, tree__min_samples_leaf=200; total time=  58.2s\n",
            "[CV] END tree__max_depth=5, tree__min_impurity_decrease=0, tree__min_samples_leaf=200; total time=  59.9s\n",
            "[CV] END tree__max_depth=5, tree__min_impurity_decrease=0, tree__min_samples_leaf=200; total time= 1.3min\n",
            "[CV] END tree__max_depth=5, tree__min_impurity_decrease=0, tree__min_samples_leaf=200; total time= 1.3min\n",
            "[CV] END tree__max_depth=5, tree__min_impurity_decrease=0, tree__min_samples_leaf=200; total time= 1.3min\n",
            "[CV] END tree__max_depth=5, tree__min_impurity_decrease=0, tree__min_samples_leaf=150; total time=  59.2s\n",
            "[CV] END tree__max_depth=5, tree__min_impurity_decrease=0, tree__min_samples_leaf=150; total time=  55.6s\n",
            "[CV] END tree__max_depth=5, tree__min_impurity_decrease=0, tree__min_samples_leaf=150; total time=  57.0s\n",
            "[CV] END tree__max_depth=5, tree__min_impurity_decrease=0, tree__min_samples_leaf=150; total time=  58.5s\n",
            "[CV] END tree__max_depth=5, tree__min_impurity_decrease=0, tree__min_samples_leaf=150; total time= 1.0min\n",
            "[CV] END tree__max_depth=5, tree__min_impurity_decrease=0, tree__min_samples_leaf=150; total time=  58.0s\n",
            "[CV] END tree__max_depth=5, tree__min_impurity_decrease=0, tree__min_samples_leaf=150; total time=  59.0s\n",
            "[CV] END tree__max_depth=5, tree__min_impurity_decrease=0, tree__min_samples_leaf=150; total time= 1.3min\n",
            "[CV] END tree__max_depth=5, tree__min_impurity_decrease=0, tree__min_samples_leaf=150; total time= 1.3min\n",
            "[CV] END tree__max_depth=5, tree__min_impurity_decrease=0, tree__min_samples_leaf=150; total time= 1.3min\n",
            "[CV] END tree__max_depth=5, tree__min_impurity_decrease=0, tree__min_samples_leaf=100; total time=  53.1s\n",
            "[CV] END tree__max_depth=5, tree__min_impurity_decrease=0, tree__min_samples_leaf=100; total time=  55.8s\n",
            "[CV] END tree__max_depth=5, tree__min_impurity_decrease=0, tree__min_samples_leaf=100; total time=  55.6s\n",
            "[CV] END tree__max_depth=5, tree__min_impurity_decrease=0, tree__min_samples_leaf=100; total time=  56.5s\n",
            "[CV] END tree__max_depth=5, tree__min_impurity_decrease=0, tree__min_samples_leaf=100; total time=  55.4s\n",
            "[CV] END tree__max_depth=5, tree__min_impurity_decrease=0, tree__min_samples_leaf=100; total time=  54.3s\n",
            "[CV] END tree__max_depth=5, tree__min_impurity_decrease=0, tree__min_samples_leaf=100; total time=  53.1s\n",
            "[CV] END tree__max_depth=5, tree__min_impurity_decrease=0, tree__min_samples_leaf=100; total time= 1.3min\n",
            "[CV] END tree__max_depth=5, tree__min_impurity_decrease=0, tree__min_samples_leaf=100; total time= 1.3min\n",
            "[CV] END tree__max_depth=5, tree__min_impurity_decrease=0, tree__min_samples_leaf=100; total time= 1.3min\n",
            "[CV] END tree__max_depth=5, tree__min_impurity_decrease=0.001, tree__min_samples_leaf=250; total time=  54.0s\n",
            "[CV] END tree__max_depth=5, tree__min_impurity_decrease=0.001, tree__min_samples_leaf=250; total time=  53.2s\n"
          ]
        },
        {
          "output_type": "error",
          "ename": "KeyboardInterrupt",
          "evalue": "ignored",
          "traceback": [
            "\u001b[0;31m---------------------------------------------------------------------------\u001b[0m",
            "\u001b[0;31mKeyboardInterrupt\u001b[0m                         Traceback (most recent call last)",
            "\u001b[0;32m<ipython-input-10-b536756c5b82>\u001b[0m in \u001b[0;36m<module>\u001b[0;34m\u001b[0m\n\u001b[1;32m      9\u001b[0m                     verbose=2)\n\u001b[1;32m     10\u001b[0m \u001b[0;34m\u001b[0m\u001b[0m\n\u001b[0;32m---> 11\u001b[0;31m \u001b[0mgrid\u001b[0m\u001b[0;34m.\u001b[0m\u001b[0mfit\u001b[0m\u001b[0;34m(\u001b[0m\u001b[0mX_train_dummies\u001b[0m\u001b[0;34m,\u001b[0m \u001b[0my_train\u001b[0m\u001b[0;34m)\u001b[0m\u001b[0;34m\u001b[0m\u001b[0;34m\u001b[0m\u001b[0m\n\u001b[0m\u001b[1;32m     12\u001b[0m \u001b[0;34m\u001b[0m\u001b[0m\n\u001b[1;32m     13\u001b[0m \u001b[0mprint\u001b[0m\u001b[0;34m(\u001b[0m\u001b[0;34m'Best score: '\u001b[0m\u001b[0;34m,\u001b[0m \u001b[0mgrid\u001b[0m\u001b[0;34m.\u001b[0m\u001b[0mbest_score_\u001b[0m\u001b[0;34m)\u001b[0m\u001b[0;34m\u001b[0m\u001b[0;34m\u001b[0m\u001b[0m\n",
            "\u001b[0;32m/usr/local/lib/python3.7/dist-packages/sklearn/model_selection/_search.py\u001b[0m in \u001b[0;36mfit\u001b[0;34m(self, X, y, groups, **fit_params)\u001b[0m\n\u001b[1;32m    889\u001b[0m                 \u001b[0;32mreturn\u001b[0m \u001b[0mresults\u001b[0m\u001b[0;34m\u001b[0m\u001b[0;34m\u001b[0m\u001b[0m\n\u001b[1;32m    890\u001b[0m \u001b[0;34m\u001b[0m\u001b[0m\n\u001b[0;32m--> 891\u001b[0;31m             \u001b[0mself\u001b[0m\u001b[0;34m.\u001b[0m\u001b[0m_run_search\u001b[0m\u001b[0;34m(\u001b[0m\u001b[0mevaluate_candidates\u001b[0m\u001b[0;34m)\u001b[0m\u001b[0;34m\u001b[0m\u001b[0;34m\u001b[0m\u001b[0m\n\u001b[0m\u001b[1;32m    892\u001b[0m \u001b[0;34m\u001b[0m\u001b[0m\n\u001b[1;32m    893\u001b[0m             \u001b[0;31m# multimetric is determined here because in the case of a callable\u001b[0m\u001b[0;34m\u001b[0m\u001b[0;34m\u001b[0m\u001b[0;34m\u001b[0m\u001b[0m\n",
            "\u001b[0;32m/usr/local/lib/python3.7/dist-packages/sklearn/model_selection/_search.py\u001b[0m in \u001b[0;36m_run_search\u001b[0;34m(self, evaluate_candidates)\u001b[0m\n\u001b[1;32m   1390\u001b[0m     \u001b[0;32mdef\u001b[0m \u001b[0m_run_search\u001b[0m\u001b[0;34m(\u001b[0m\u001b[0mself\u001b[0m\u001b[0;34m,\u001b[0m \u001b[0mevaluate_candidates\u001b[0m\u001b[0;34m)\u001b[0m\u001b[0;34m:\u001b[0m\u001b[0;34m\u001b[0m\u001b[0;34m\u001b[0m\u001b[0m\n\u001b[1;32m   1391\u001b[0m         \u001b[0;34m\"\"\"Search all candidates in param_grid\"\"\"\u001b[0m\u001b[0;34m\u001b[0m\u001b[0;34m\u001b[0m\u001b[0m\n\u001b[0;32m-> 1392\u001b[0;31m         \u001b[0mevaluate_candidates\u001b[0m\u001b[0;34m(\u001b[0m\u001b[0mParameterGrid\u001b[0m\u001b[0;34m(\u001b[0m\u001b[0mself\u001b[0m\u001b[0;34m.\u001b[0m\u001b[0mparam_grid\u001b[0m\u001b[0;34m)\u001b[0m\u001b[0;34m)\u001b[0m\u001b[0;34m\u001b[0m\u001b[0;34m\u001b[0m\u001b[0m\n\u001b[0m\u001b[1;32m   1393\u001b[0m \u001b[0;34m\u001b[0m\u001b[0m\n\u001b[1;32m   1394\u001b[0m \u001b[0;34m\u001b[0m\u001b[0m\n",
            "\u001b[0;32m/usr/local/lib/python3.7/dist-packages/sklearn/model_selection/_search.py\u001b[0m in \u001b[0;36mevaluate_candidates\u001b[0;34m(candidate_params, cv, more_results)\u001b[0m\n\u001b[1;32m    849\u001b[0m                     )\n\u001b[1;32m    850\u001b[0m                     for (cand_idx, parameters), (split_idx, (train, test)) in product(\n\u001b[0;32m--> 851\u001b[0;31m                         \u001b[0menumerate\u001b[0m\u001b[0;34m(\u001b[0m\u001b[0mcandidate_params\u001b[0m\u001b[0;34m)\u001b[0m\u001b[0;34m,\u001b[0m \u001b[0menumerate\u001b[0m\u001b[0;34m(\u001b[0m\u001b[0mcv\u001b[0m\u001b[0;34m.\u001b[0m\u001b[0msplit\u001b[0m\u001b[0;34m(\u001b[0m\u001b[0mX\u001b[0m\u001b[0;34m,\u001b[0m \u001b[0my\u001b[0m\u001b[0;34m,\u001b[0m \u001b[0mgroups\u001b[0m\u001b[0;34m)\u001b[0m\u001b[0;34m)\u001b[0m\u001b[0;34m\u001b[0m\u001b[0;34m\u001b[0m\u001b[0m\n\u001b[0m\u001b[1;32m    852\u001b[0m                     )\n\u001b[1;32m    853\u001b[0m                 )\n",
            "\u001b[0;32m/usr/local/lib/python3.7/dist-packages/joblib/parallel.py\u001b[0m in \u001b[0;36m__call__\u001b[0;34m(self, iterable)\u001b[0m\n\u001b[1;32m   1044\u001b[0m                 \u001b[0mself\u001b[0m\u001b[0;34m.\u001b[0m\u001b[0m_iterating\u001b[0m \u001b[0;34m=\u001b[0m \u001b[0mself\u001b[0m\u001b[0;34m.\u001b[0m\u001b[0m_original_iterator\u001b[0m \u001b[0;32mis\u001b[0m \u001b[0;32mnot\u001b[0m \u001b[0;32mNone\u001b[0m\u001b[0;34m\u001b[0m\u001b[0;34m\u001b[0m\u001b[0m\n\u001b[1;32m   1045\u001b[0m \u001b[0;34m\u001b[0m\u001b[0m\n\u001b[0;32m-> 1046\u001b[0;31m             \u001b[0;32mwhile\u001b[0m \u001b[0mself\u001b[0m\u001b[0;34m.\u001b[0m\u001b[0mdispatch_one_batch\u001b[0m\u001b[0;34m(\u001b[0m\u001b[0miterator\u001b[0m\u001b[0;34m)\u001b[0m\u001b[0;34m:\u001b[0m\u001b[0;34m\u001b[0m\u001b[0;34m\u001b[0m\u001b[0m\n\u001b[0m\u001b[1;32m   1047\u001b[0m                 \u001b[0;32mpass\u001b[0m\u001b[0;34m\u001b[0m\u001b[0;34m\u001b[0m\u001b[0m\n\u001b[1;32m   1048\u001b[0m \u001b[0;34m\u001b[0m\u001b[0m\n",
            "\u001b[0;32m/usr/local/lib/python3.7/dist-packages/joblib/parallel.py\u001b[0m in \u001b[0;36mdispatch_one_batch\u001b[0;34m(self, iterator)\u001b[0m\n\u001b[1;32m    859\u001b[0m                 \u001b[0;32mreturn\u001b[0m \u001b[0;32mFalse\u001b[0m\u001b[0;34m\u001b[0m\u001b[0;34m\u001b[0m\u001b[0m\n\u001b[1;32m    860\u001b[0m             \u001b[0;32melse\u001b[0m\u001b[0;34m:\u001b[0m\u001b[0;34m\u001b[0m\u001b[0;34m\u001b[0m\u001b[0m\n\u001b[0;32m--> 861\u001b[0;31m                 \u001b[0mself\u001b[0m\u001b[0;34m.\u001b[0m\u001b[0m_dispatch\u001b[0m\u001b[0;34m(\u001b[0m\u001b[0mtasks\u001b[0m\u001b[0;34m)\u001b[0m\u001b[0;34m\u001b[0m\u001b[0;34m\u001b[0m\u001b[0m\n\u001b[0m\u001b[1;32m    862\u001b[0m                 \u001b[0;32mreturn\u001b[0m \u001b[0;32mTrue\u001b[0m\u001b[0;34m\u001b[0m\u001b[0;34m\u001b[0m\u001b[0m\n\u001b[1;32m    863\u001b[0m \u001b[0;34m\u001b[0m\u001b[0m\n",
            "\u001b[0;32m/usr/local/lib/python3.7/dist-packages/joblib/parallel.py\u001b[0m in \u001b[0;36m_dispatch\u001b[0;34m(self, batch)\u001b[0m\n\u001b[1;32m    777\u001b[0m         \u001b[0;32mwith\u001b[0m \u001b[0mself\u001b[0m\u001b[0;34m.\u001b[0m\u001b[0m_lock\u001b[0m\u001b[0;34m:\u001b[0m\u001b[0;34m\u001b[0m\u001b[0;34m\u001b[0m\u001b[0m\n\u001b[1;32m    778\u001b[0m             \u001b[0mjob_idx\u001b[0m \u001b[0;34m=\u001b[0m \u001b[0mlen\u001b[0m\u001b[0;34m(\u001b[0m\u001b[0mself\u001b[0m\u001b[0;34m.\u001b[0m\u001b[0m_jobs\u001b[0m\u001b[0;34m)\u001b[0m\u001b[0;34m\u001b[0m\u001b[0;34m\u001b[0m\u001b[0m\n\u001b[0;32m--> 779\u001b[0;31m             \u001b[0mjob\u001b[0m \u001b[0;34m=\u001b[0m \u001b[0mself\u001b[0m\u001b[0;34m.\u001b[0m\u001b[0m_backend\u001b[0m\u001b[0;34m.\u001b[0m\u001b[0mapply_async\u001b[0m\u001b[0;34m(\u001b[0m\u001b[0mbatch\u001b[0m\u001b[0;34m,\u001b[0m \u001b[0mcallback\u001b[0m\u001b[0;34m=\u001b[0m\u001b[0mcb\u001b[0m\u001b[0;34m)\u001b[0m\u001b[0;34m\u001b[0m\u001b[0;34m\u001b[0m\u001b[0m\n\u001b[0m\u001b[1;32m    780\u001b[0m             \u001b[0;31m# A job can complete so quickly than its callback is\u001b[0m\u001b[0;34m\u001b[0m\u001b[0;34m\u001b[0m\u001b[0;34m\u001b[0m\u001b[0m\n\u001b[1;32m    781\u001b[0m             \u001b[0;31m# called before we get here, causing self._jobs to\u001b[0m\u001b[0;34m\u001b[0m\u001b[0;34m\u001b[0m\u001b[0;34m\u001b[0m\u001b[0m\n",
            "\u001b[0;32m/usr/local/lib/python3.7/dist-packages/joblib/_parallel_backends.py\u001b[0m in \u001b[0;36mapply_async\u001b[0;34m(self, func, callback)\u001b[0m\n\u001b[1;32m    206\u001b[0m     \u001b[0;32mdef\u001b[0m \u001b[0mapply_async\u001b[0m\u001b[0;34m(\u001b[0m\u001b[0mself\u001b[0m\u001b[0;34m,\u001b[0m \u001b[0mfunc\u001b[0m\u001b[0;34m,\u001b[0m \u001b[0mcallback\u001b[0m\u001b[0;34m=\u001b[0m\u001b[0;32mNone\u001b[0m\u001b[0;34m)\u001b[0m\u001b[0;34m:\u001b[0m\u001b[0;34m\u001b[0m\u001b[0;34m\u001b[0m\u001b[0m\n\u001b[1;32m    207\u001b[0m         \u001b[0;34m\"\"\"Schedule a func to be run\"\"\"\u001b[0m\u001b[0;34m\u001b[0m\u001b[0;34m\u001b[0m\u001b[0m\n\u001b[0;32m--> 208\u001b[0;31m         \u001b[0mresult\u001b[0m \u001b[0;34m=\u001b[0m \u001b[0mImmediateResult\u001b[0m\u001b[0;34m(\u001b[0m\u001b[0mfunc\u001b[0m\u001b[0;34m)\u001b[0m\u001b[0;34m\u001b[0m\u001b[0;34m\u001b[0m\u001b[0m\n\u001b[0m\u001b[1;32m    209\u001b[0m         \u001b[0;32mif\u001b[0m \u001b[0mcallback\u001b[0m\u001b[0;34m:\u001b[0m\u001b[0;34m\u001b[0m\u001b[0;34m\u001b[0m\u001b[0m\n\u001b[1;32m    210\u001b[0m             \u001b[0mcallback\u001b[0m\u001b[0;34m(\u001b[0m\u001b[0mresult\u001b[0m\u001b[0;34m)\u001b[0m\u001b[0;34m\u001b[0m\u001b[0;34m\u001b[0m\u001b[0m\n",
            "\u001b[0;32m/usr/local/lib/python3.7/dist-packages/joblib/_parallel_backends.py\u001b[0m in \u001b[0;36m__init__\u001b[0;34m(self, batch)\u001b[0m\n\u001b[1;32m    570\u001b[0m         \u001b[0;31m# Don't delay the application, to avoid keeping the input\u001b[0m\u001b[0;34m\u001b[0m\u001b[0;34m\u001b[0m\u001b[0;34m\u001b[0m\u001b[0m\n\u001b[1;32m    571\u001b[0m         \u001b[0;31m# arguments in memory\u001b[0m\u001b[0;34m\u001b[0m\u001b[0;34m\u001b[0m\u001b[0;34m\u001b[0m\u001b[0m\n\u001b[0;32m--> 572\u001b[0;31m         \u001b[0mself\u001b[0m\u001b[0;34m.\u001b[0m\u001b[0mresults\u001b[0m \u001b[0;34m=\u001b[0m \u001b[0mbatch\u001b[0m\u001b[0;34m(\u001b[0m\u001b[0;34m)\u001b[0m\u001b[0;34m\u001b[0m\u001b[0;34m\u001b[0m\u001b[0m\n\u001b[0m\u001b[1;32m    573\u001b[0m \u001b[0;34m\u001b[0m\u001b[0m\n\u001b[1;32m    574\u001b[0m     \u001b[0;32mdef\u001b[0m \u001b[0mget\u001b[0m\u001b[0;34m(\u001b[0m\u001b[0mself\u001b[0m\u001b[0;34m)\u001b[0m\u001b[0;34m:\u001b[0m\u001b[0;34m\u001b[0m\u001b[0;34m\u001b[0m\u001b[0m\n",
            "\u001b[0;32m/usr/local/lib/python3.7/dist-packages/joblib/parallel.py\u001b[0m in \u001b[0;36m__call__\u001b[0;34m(self)\u001b[0m\n\u001b[1;32m    261\u001b[0m         \u001b[0;32mwith\u001b[0m \u001b[0mparallel_backend\u001b[0m\u001b[0;34m(\u001b[0m\u001b[0mself\u001b[0m\u001b[0;34m.\u001b[0m\u001b[0m_backend\u001b[0m\u001b[0;34m,\u001b[0m \u001b[0mn_jobs\u001b[0m\u001b[0;34m=\u001b[0m\u001b[0mself\u001b[0m\u001b[0;34m.\u001b[0m\u001b[0m_n_jobs\u001b[0m\u001b[0;34m)\u001b[0m\u001b[0;34m:\u001b[0m\u001b[0;34m\u001b[0m\u001b[0;34m\u001b[0m\u001b[0m\n\u001b[1;32m    262\u001b[0m             return [func(*args, **kwargs)\n\u001b[0;32m--> 263\u001b[0;31m                     for func, args, kwargs in self.items]\n\u001b[0m\u001b[1;32m    264\u001b[0m \u001b[0;34m\u001b[0m\u001b[0m\n\u001b[1;32m    265\u001b[0m     \u001b[0;32mdef\u001b[0m \u001b[0m__reduce__\u001b[0m\u001b[0;34m(\u001b[0m\u001b[0mself\u001b[0m\u001b[0;34m)\u001b[0m\u001b[0;34m:\u001b[0m\u001b[0;34m\u001b[0m\u001b[0;34m\u001b[0m\u001b[0m\n",
            "\u001b[0;32m/usr/local/lib/python3.7/dist-packages/joblib/parallel.py\u001b[0m in \u001b[0;36m<listcomp>\u001b[0;34m(.0)\u001b[0m\n\u001b[1;32m    261\u001b[0m         \u001b[0;32mwith\u001b[0m \u001b[0mparallel_backend\u001b[0m\u001b[0;34m(\u001b[0m\u001b[0mself\u001b[0m\u001b[0;34m.\u001b[0m\u001b[0m_backend\u001b[0m\u001b[0;34m,\u001b[0m \u001b[0mn_jobs\u001b[0m\u001b[0;34m=\u001b[0m\u001b[0mself\u001b[0m\u001b[0;34m.\u001b[0m\u001b[0m_n_jobs\u001b[0m\u001b[0;34m)\u001b[0m\u001b[0;34m:\u001b[0m\u001b[0;34m\u001b[0m\u001b[0;34m\u001b[0m\u001b[0m\n\u001b[1;32m    262\u001b[0m             return [func(*args, **kwargs)\n\u001b[0;32m--> 263\u001b[0;31m                     for func, args, kwargs in self.items]\n\u001b[0m\u001b[1;32m    264\u001b[0m \u001b[0;34m\u001b[0m\u001b[0m\n\u001b[1;32m    265\u001b[0m     \u001b[0;32mdef\u001b[0m \u001b[0m__reduce__\u001b[0m\u001b[0;34m(\u001b[0m\u001b[0mself\u001b[0m\u001b[0;34m)\u001b[0m\u001b[0;34m:\u001b[0m\u001b[0;34m\u001b[0m\u001b[0;34m\u001b[0m\u001b[0m\n",
            "\u001b[0;32m/usr/local/lib/python3.7/dist-packages/sklearn/utils/fixes.py\u001b[0m in \u001b[0;36m__call__\u001b[0;34m(self, *args, **kwargs)\u001b[0m\n\u001b[1;32m    214\u001b[0m     \u001b[0;32mdef\u001b[0m \u001b[0m__call__\u001b[0m\u001b[0;34m(\u001b[0m\u001b[0mself\u001b[0m\u001b[0;34m,\u001b[0m \u001b[0;34m*\u001b[0m\u001b[0margs\u001b[0m\u001b[0;34m,\u001b[0m \u001b[0;34m**\u001b[0m\u001b[0mkwargs\u001b[0m\u001b[0;34m)\u001b[0m\u001b[0;34m:\u001b[0m\u001b[0;34m\u001b[0m\u001b[0;34m\u001b[0m\u001b[0m\n\u001b[1;32m    215\u001b[0m         \u001b[0;32mwith\u001b[0m \u001b[0mconfig_context\u001b[0m\u001b[0;34m(\u001b[0m\u001b[0;34m**\u001b[0m\u001b[0mself\u001b[0m\u001b[0;34m.\u001b[0m\u001b[0mconfig\u001b[0m\u001b[0;34m)\u001b[0m\u001b[0;34m:\u001b[0m\u001b[0;34m\u001b[0m\u001b[0;34m\u001b[0m\u001b[0m\n\u001b[0;32m--> 216\u001b[0;31m             \u001b[0;32mreturn\u001b[0m \u001b[0mself\u001b[0m\u001b[0;34m.\u001b[0m\u001b[0mfunction\u001b[0m\u001b[0;34m(\u001b[0m\u001b[0;34m*\u001b[0m\u001b[0margs\u001b[0m\u001b[0;34m,\u001b[0m \u001b[0;34m**\u001b[0m\u001b[0mkwargs\u001b[0m\u001b[0;34m)\u001b[0m\u001b[0;34m\u001b[0m\u001b[0;34m\u001b[0m\u001b[0m\n\u001b[0m\u001b[1;32m    217\u001b[0m \u001b[0;34m\u001b[0m\u001b[0m\n\u001b[1;32m    218\u001b[0m \u001b[0;34m\u001b[0m\u001b[0m\n",
            "\u001b[0;32m/usr/local/lib/python3.7/dist-packages/sklearn/model_selection/_validation.py\u001b[0m in \u001b[0;36m_fit_and_score\u001b[0;34m(estimator, X, y, scorer, train, test, verbose, parameters, fit_params, return_train_score, return_parameters, return_n_test_samples, return_times, return_estimator, split_progress, candidate_progress, error_score)\u001b[0m\n\u001b[1;32m    678\u001b[0m             \u001b[0mestimator\u001b[0m\u001b[0;34m.\u001b[0m\u001b[0mfit\u001b[0m\u001b[0;34m(\u001b[0m\u001b[0mX_train\u001b[0m\u001b[0;34m,\u001b[0m \u001b[0;34m**\u001b[0m\u001b[0mfit_params\u001b[0m\u001b[0;34m)\u001b[0m\u001b[0;34m\u001b[0m\u001b[0;34m\u001b[0m\u001b[0m\n\u001b[1;32m    679\u001b[0m         \u001b[0;32melse\u001b[0m\u001b[0;34m:\u001b[0m\u001b[0;34m\u001b[0m\u001b[0;34m\u001b[0m\u001b[0m\n\u001b[0;32m--> 680\u001b[0;31m             \u001b[0mestimator\u001b[0m\u001b[0;34m.\u001b[0m\u001b[0mfit\u001b[0m\u001b[0;34m(\u001b[0m\u001b[0mX_train\u001b[0m\u001b[0;34m,\u001b[0m \u001b[0my_train\u001b[0m\u001b[0;34m,\u001b[0m \u001b[0;34m**\u001b[0m\u001b[0mfit_params\u001b[0m\u001b[0;34m)\u001b[0m\u001b[0;34m\u001b[0m\u001b[0;34m\u001b[0m\u001b[0m\n\u001b[0m\u001b[1;32m    681\u001b[0m \u001b[0;34m\u001b[0m\u001b[0m\n\u001b[1;32m    682\u001b[0m     \u001b[0;32mexcept\u001b[0m \u001b[0mException\u001b[0m\u001b[0;34m:\u001b[0m\u001b[0;34m\u001b[0m\u001b[0;34m\u001b[0m\u001b[0m\n",
            "\u001b[0;32m/usr/local/lib/python3.7/dist-packages/sklearn/pipeline.py\u001b[0m in \u001b[0;36mfit\u001b[0;34m(self, X, y, **fit_params)\u001b[0m\n\u001b[1;32m    388\u001b[0m         \"\"\"\n\u001b[1;32m    389\u001b[0m         \u001b[0mfit_params_steps\u001b[0m \u001b[0;34m=\u001b[0m \u001b[0mself\u001b[0m\u001b[0;34m.\u001b[0m\u001b[0m_check_fit_params\u001b[0m\u001b[0;34m(\u001b[0m\u001b[0;34m**\u001b[0m\u001b[0mfit_params\u001b[0m\u001b[0;34m)\u001b[0m\u001b[0;34m\u001b[0m\u001b[0;34m\u001b[0m\u001b[0m\n\u001b[0;32m--> 390\u001b[0;31m         \u001b[0mXt\u001b[0m \u001b[0;34m=\u001b[0m \u001b[0mself\u001b[0m\u001b[0;34m.\u001b[0m\u001b[0m_fit\u001b[0m\u001b[0;34m(\u001b[0m\u001b[0mX\u001b[0m\u001b[0;34m,\u001b[0m \u001b[0my\u001b[0m\u001b[0;34m,\u001b[0m \u001b[0;34m**\u001b[0m\u001b[0mfit_params_steps\u001b[0m\u001b[0;34m)\u001b[0m\u001b[0;34m\u001b[0m\u001b[0;34m\u001b[0m\u001b[0m\n\u001b[0m\u001b[1;32m    391\u001b[0m         \u001b[0;32mwith\u001b[0m \u001b[0m_print_elapsed_time\u001b[0m\u001b[0;34m(\u001b[0m\u001b[0;34m\"Pipeline\"\u001b[0m\u001b[0;34m,\u001b[0m \u001b[0mself\u001b[0m\u001b[0;34m.\u001b[0m\u001b[0m_log_message\u001b[0m\u001b[0;34m(\u001b[0m\u001b[0mlen\u001b[0m\u001b[0;34m(\u001b[0m\u001b[0mself\u001b[0m\u001b[0;34m.\u001b[0m\u001b[0msteps\u001b[0m\u001b[0;34m)\u001b[0m \u001b[0;34m-\u001b[0m \u001b[0;36m1\u001b[0m\u001b[0;34m)\u001b[0m\u001b[0;34m)\u001b[0m\u001b[0;34m:\u001b[0m\u001b[0;34m\u001b[0m\u001b[0;34m\u001b[0m\u001b[0m\n\u001b[1;32m    392\u001b[0m             \u001b[0;32mif\u001b[0m \u001b[0mself\u001b[0m\u001b[0;34m.\u001b[0m\u001b[0m_final_estimator\u001b[0m \u001b[0;34m!=\u001b[0m \u001b[0;34m\"passthrough\"\u001b[0m\u001b[0;34m:\u001b[0m\u001b[0;34m\u001b[0m\u001b[0;34m\u001b[0m\u001b[0m\n",
            "\u001b[0;32m/usr/local/lib/python3.7/dist-packages/sklearn/pipeline.py\u001b[0m in \u001b[0;36m_fit\u001b[0;34m(self, X, y, **fit_params_steps)\u001b[0m\n\u001b[1;32m    353\u001b[0m                 \u001b[0mmessage_clsname\u001b[0m\u001b[0;34m=\u001b[0m\u001b[0;34m\"Pipeline\"\u001b[0m\u001b[0;34m,\u001b[0m\u001b[0;34m\u001b[0m\u001b[0;34m\u001b[0m\u001b[0m\n\u001b[1;32m    354\u001b[0m                 \u001b[0mmessage\u001b[0m\u001b[0;34m=\u001b[0m\u001b[0mself\u001b[0m\u001b[0;34m.\u001b[0m\u001b[0m_log_message\u001b[0m\u001b[0;34m(\u001b[0m\u001b[0mstep_idx\u001b[0m\u001b[0;34m)\u001b[0m\u001b[0;34m,\u001b[0m\u001b[0;34m\u001b[0m\u001b[0;34m\u001b[0m\u001b[0m\n\u001b[0;32m--> 355\u001b[0;31m                 \u001b[0;34m**\u001b[0m\u001b[0mfit_params_steps\u001b[0m\u001b[0;34m[\u001b[0m\u001b[0mname\u001b[0m\u001b[0;34m]\u001b[0m\u001b[0;34m,\u001b[0m\u001b[0;34m\u001b[0m\u001b[0;34m\u001b[0m\u001b[0m\n\u001b[0m\u001b[1;32m    356\u001b[0m             )\n\u001b[1;32m    357\u001b[0m             \u001b[0;31m# Replace the transformer of the step with the fitted\u001b[0m\u001b[0;34m\u001b[0m\u001b[0;34m\u001b[0m\u001b[0;34m\u001b[0m\u001b[0m\n",
            "\u001b[0;32m/usr/local/lib/python3.7/dist-packages/joblib/memory.py\u001b[0m in \u001b[0;36m__call__\u001b[0;34m(self, *args, **kwargs)\u001b[0m\n\u001b[1;32m    347\u001b[0m \u001b[0;34m\u001b[0m\u001b[0m\n\u001b[1;32m    348\u001b[0m     \u001b[0;32mdef\u001b[0m \u001b[0m__call__\u001b[0m\u001b[0;34m(\u001b[0m\u001b[0mself\u001b[0m\u001b[0;34m,\u001b[0m \u001b[0;34m*\u001b[0m\u001b[0margs\u001b[0m\u001b[0;34m,\u001b[0m \u001b[0;34m**\u001b[0m\u001b[0mkwargs\u001b[0m\u001b[0;34m)\u001b[0m\u001b[0;34m:\u001b[0m\u001b[0;34m\u001b[0m\u001b[0;34m\u001b[0m\u001b[0m\n\u001b[0;32m--> 349\u001b[0;31m         \u001b[0;32mreturn\u001b[0m \u001b[0mself\u001b[0m\u001b[0;34m.\u001b[0m\u001b[0mfunc\u001b[0m\u001b[0;34m(\u001b[0m\u001b[0;34m*\u001b[0m\u001b[0margs\u001b[0m\u001b[0;34m,\u001b[0m \u001b[0;34m**\u001b[0m\u001b[0mkwargs\u001b[0m\u001b[0;34m)\u001b[0m\u001b[0;34m\u001b[0m\u001b[0;34m\u001b[0m\u001b[0m\n\u001b[0m\u001b[1;32m    350\u001b[0m \u001b[0;34m\u001b[0m\u001b[0m\n\u001b[1;32m    351\u001b[0m     \u001b[0;32mdef\u001b[0m \u001b[0mcall_and_shelve\u001b[0m\u001b[0;34m(\u001b[0m\u001b[0mself\u001b[0m\u001b[0;34m,\u001b[0m \u001b[0;34m*\u001b[0m\u001b[0margs\u001b[0m\u001b[0;34m,\u001b[0m \u001b[0;34m**\u001b[0m\u001b[0mkwargs\u001b[0m\u001b[0;34m)\u001b[0m\u001b[0;34m:\u001b[0m\u001b[0;34m\u001b[0m\u001b[0;34m\u001b[0m\u001b[0m\n",
            "\u001b[0;32m/usr/local/lib/python3.7/dist-packages/sklearn/pipeline.py\u001b[0m in \u001b[0;36m_fit_transform_one\u001b[0;34m(transformer, X, y, weight, message_clsname, message, **fit_params)\u001b[0m\n\u001b[1;32m    891\u001b[0m     \u001b[0;32mwith\u001b[0m \u001b[0m_print_elapsed_time\u001b[0m\u001b[0;34m(\u001b[0m\u001b[0mmessage_clsname\u001b[0m\u001b[0;34m,\u001b[0m \u001b[0mmessage\u001b[0m\u001b[0;34m)\u001b[0m\u001b[0;34m:\u001b[0m\u001b[0;34m\u001b[0m\u001b[0;34m\u001b[0m\u001b[0m\n\u001b[1;32m    892\u001b[0m         \u001b[0;32mif\u001b[0m \u001b[0mhasattr\u001b[0m\u001b[0;34m(\u001b[0m\u001b[0mtransformer\u001b[0m\u001b[0;34m,\u001b[0m \u001b[0;34m\"fit_transform\"\u001b[0m\u001b[0;34m)\u001b[0m\u001b[0;34m:\u001b[0m\u001b[0;34m\u001b[0m\u001b[0;34m\u001b[0m\u001b[0m\n\u001b[0;32m--> 893\u001b[0;31m             \u001b[0mres\u001b[0m \u001b[0;34m=\u001b[0m \u001b[0mtransformer\u001b[0m\u001b[0;34m.\u001b[0m\u001b[0mfit_transform\u001b[0m\u001b[0;34m(\u001b[0m\u001b[0mX\u001b[0m\u001b[0;34m,\u001b[0m \u001b[0my\u001b[0m\u001b[0;34m,\u001b[0m \u001b[0;34m**\u001b[0m\u001b[0mfit_params\u001b[0m\u001b[0;34m)\u001b[0m\u001b[0;34m\u001b[0m\u001b[0;34m\u001b[0m\u001b[0m\n\u001b[0m\u001b[1;32m    894\u001b[0m         \u001b[0;32melse\u001b[0m\u001b[0;34m:\u001b[0m\u001b[0;34m\u001b[0m\u001b[0;34m\u001b[0m\u001b[0m\n\u001b[1;32m    895\u001b[0m             \u001b[0mres\u001b[0m \u001b[0;34m=\u001b[0m \u001b[0mtransformer\u001b[0m\u001b[0;34m.\u001b[0m\u001b[0mfit\u001b[0m\u001b[0;34m(\u001b[0m\u001b[0mX\u001b[0m\u001b[0;34m,\u001b[0m \u001b[0my\u001b[0m\u001b[0;34m,\u001b[0m \u001b[0;34m**\u001b[0m\u001b[0mfit_params\u001b[0m\u001b[0;34m)\u001b[0m\u001b[0;34m.\u001b[0m\u001b[0mtransform\u001b[0m\u001b[0;34m(\u001b[0m\u001b[0mX\u001b[0m\u001b[0;34m)\u001b[0m\u001b[0;34m\u001b[0m\u001b[0;34m\u001b[0m\u001b[0m\n",
            "\u001b[0;32m/usr/local/lib/python3.7/dist-packages/sklearn/base.py\u001b[0m in \u001b[0;36mfit_transform\u001b[0;34m(self, X, y, **fit_params)\u001b[0m\n\u001b[1;32m    853\u001b[0m         \u001b[0;32melse\u001b[0m\u001b[0;34m:\u001b[0m\u001b[0;34m\u001b[0m\u001b[0;34m\u001b[0m\u001b[0m\n\u001b[1;32m    854\u001b[0m             \u001b[0;31m# fit method of arity 2 (supervised transformation)\u001b[0m\u001b[0;34m\u001b[0m\u001b[0;34m\u001b[0m\u001b[0;34m\u001b[0m\u001b[0m\n\u001b[0;32m--> 855\u001b[0;31m             \u001b[0;32mreturn\u001b[0m \u001b[0mself\u001b[0m\u001b[0;34m.\u001b[0m\u001b[0mfit\u001b[0m\u001b[0;34m(\u001b[0m\u001b[0mX\u001b[0m\u001b[0;34m,\u001b[0m \u001b[0my\u001b[0m\u001b[0;34m,\u001b[0m \u001b[0;34m**\u001b[0m\u001b[0mfit_params\u001b[0m\u001b[0;34m)\u001b[0m\u001b[0;34m.\u001b[0m\u001b[0mtransform\u001b[0m\u001b[0;34m(\u001b[0m\u001b[0mX\u001b[0m\u001b[0;34m)\u001b[0m\u001b[0;34m\u001b[0m\u001b[0;34m\u001b[0m\u001b[0m\n\u001b[0m\u001b[1;32m    856\u001b[0m \u001b[0;34m\u001b[0m\u001b[0m\n\u001b[1;32m    857\u001b[0m \u001b[0;34m\u001b[0m\u001b[0m\n",
            "\u001b[0;32m/usr/local/lib/python3.7/dist-packages/sklearn/impute/_knn.py\u001b[0m in \u001b[0;36mtransform\u001b[0;34m(self, X)\u001b[0m\n\u001b[1;32m    334\u001b[0m             \u001b[0mreduce_func\u001b[0m\u001b[0;34m=\u001b[0m\u001b[0mprocess_chunk\u001b[0m\u001b[0;34m,\u001b[0m\u001b[0;34m\u001b[0m\u001b[0;34m\u001b[0m\u001b[0m\n\u001b[1;32m    335\u001b[0m         )\n\u001b[0;32m--> 336\u001b[0;31m         \u001b[0;32mfor\u001b[0m \u001b[0mchunk\u001b[0m \u001b[0;32min\u001b[0m \u001b[0mgen\u001b[0m\u001b[0;34m:\u001b[0m\u001b[0;34m\u001b[0m\u001b[0;34m\u001b[0m\u001b[0m\n\u001b[0m\u001b[1;32m    337\u001b[0m             \u001b[0;31m# process_chunk modifies X in place. No return value.\u001b[0m\u001b[0;34m\u001b[0m\u001b[0;34m\u001b[0m\u001b[0;34m\u001b[0m\u001b[0m\n\u001b[1;32m    338\u001b[0m             \u001b[0;32mpass\u001b[0m\u001b[0;34m\u001b[0m\u001b[0;34m\u001b[0m\u001b[0m\n",
            "\u001b[0;32m/usr/local/lib/python3.7/dist-packages/sklearn/metrics/pairwise.py\u001b[0m in \u001b[0;36mpairwise_distances_chunked\u001b[0;34m(X, Y, reduce_func, metric, n_jobs, working_memory, **kwds)\u001b[0m\n\u001b[1;32m   1715\u001b[0m         \u001b[0;32melse\u001b[0m\u001b[0;34m:\u001b[0m\u001b[0;34m\u001b[0m\u001b[0;34m\u001b[0m\u001b[0m\n\u001b[1;32m   1716\u001b[0m             \u001b[0mX_chunk\u001b[0m \u001b[0;34m=\u001b[0m \u001b[0mX\u001b[0m\u001b[0;34m[\u001b[0m\u001b[0msl\u001b[0m\u001b[0;34m]\u001b[0m\u001b[0;34m\u001b[0m\u001b[0;34m\u001b[0m\u001b[0m\n\u001b[0;32m-> 1717\u001b[0;31m         \u001b[0mD_chunk\u001b[0m \u001b[0;34m=\u001b[0m \u001b[0mpairwise_distances\u001b[0m\u001b[0;34m(\u001b[0m\u001b[0mX_chunk\u001b[0m\u001b[0;34m,\u001b[0m \u001b[0mY\u001b[0m\u001b[0;34m,\u001b[0m \u001b[0mmetric\u001b[0m\u001b[0;34m=\u001b[0m\u001b[0mmetric\u001b[0m\u001b[0;34m,\u001b[0m \u001b[0mn_jobs\u001b[0m\u001b[0;34m=\u001b[0m\u001b[0mn_jobs\u001b[0m\u001b[0;34m,\u001b[0m \u001b[0;34m**\u001b[0m\u001b[0mkwds\u001b[0m\u001b[0;34m)\u001b[0m\u001b[0;34m\u001b[0m\u001b[0;34m\u001b[0m\u001b[0m\n\u001b[0m\u001b[1;32m   1718\u001b[0m         if (X is Y or Y is None) and PAIRWISE_DISTANCE_FUNCTIONS.get(\n\u001b[1;32m   1719\u001b[0m             \u001b[0mmetric\u001b[0m\u001b[0;34m,\u001b[0m \u001b[0;32mNone\u001b[0m\u001b[0;34m\u001b[0m\u001b[0;34m\u001b[0m\u001b[0m\n",
            "\u001b[0;32m/usr/local/lib/python3.7/dist-packages/sklearn/metrics/pairwise.py\u001b[0m in \u001b[0;36mpairwise_distances\u001b[0;34m(X, Y, metric, n_jobs, force_all_finite, **kwds)\u001b[0m\n\u001b[1;32m   1887\u001b[0m         \u001b[0mfunc\u001b[0m \u001b[0;34m=\u001b[0m \u001b[0mpartial\u001b[0m\u001b[0;34m(\u001b[0m\u001b[0mdistance\u001b[0m\u001b[0;34m.\u001b[0m\u001b[0mcdist\u001b[0m\u001b[0;34m,\u001b[0m \u001b[0mmetric\u001b[0m\u001b[0;34m=\u001b[0m\u001b[0mmetric\u001b[0m\u001b[0;34m,\u001b[0m \u001b[0;34m**\u001b[0m\u001b[0mkwds\u001b[0m\u001b[0;34m)\u001b[0m\u001b[0;34m\u001b[0m\u001b[0;34m\u001b[0m\u001b[0m\n\u001b[1;32m   1888\u001b[0m \u001b[0;34m\u001b[0m\u001b[0m\n\u001b[0;32m-> 1889\u001b[0;31m     \u001b[0;32mreturn\u001b[0m \u001b[0m_parallel_pairwise\u001b[0m\u001b[0;34m(\u001b[0m\u001b[0mX\u001b[0m\u001b[0;34m,\u001b[0m \u001b[0mY\u001b[0m\u001b[0;34m,\u001b[0m \u001b[0mfunc\u001b[0m\u001b[0;34m,\u001b[0m \u001b[0mn_jobs\u001b[0m\u001b[0;34m,\u001b[0m \u001b[0;34m**\u001b[0m\u001b[0mkwds\u001b[0m\u001b[0;34m)\u001b[0m\u001b[0;34m\u001b[0m\u001b[0;34m\u001b[0m\u001b[0m\n\u001b[0m\u001b[1;32m   1890\u001b[0m \u001b[0;34m\u001b[0m\u001b[0m\n\u001b[1;32m   1891\u001b[0m \u001b[0;34m\u001b[0m\u001b[0m\n",
            "\u001b[0;32m/usr/local/lib/python3.7/dist-packages/sklearn/metrics/pairwise.py\u001b[0m in \u001b[0;36m_parallel_pairwise\u001b[0;34m(X, Y, func, n_jobs, **kwds)\u001b[0m\n\u001b[1;32m   1428\u001b[0m \u001b[0;34m\u001b[0m\u001b[0m\n\u001b[1;32m   1429\u001b[0m     \u001b[0;32mif\u001b[0m \u001b[0meffective_n_jobs\u001b[0m\u001b[0;34m(\u001b[0m\u001b[0mn_jobs\u001b[0m\u001b[0;34m)\u001b[0m \u001b[0;34m==\u001b[0m \u001b[0;36m1\u001b[0m\u001b[0;34m:\u001b[0m\u001b[0;34m\u001b[0m\u001b[0;34m\u001b[0m\u001b[0m\n\u001b[0;32m-> 1430\u001b[0;31m         \u001b[0;32mreturn\u001b[0m \u001b[0mfunc\u001b[0m\u001b[0;34m(\u001b[0m\u001b[0mX\u001b[0m\u001b[0;34m,\u001b[0m \u001b[0mY\u001b[0m\u001b[0;34m,\u001b[0m \u001b[0;34m**\u001b[0m\u001b[0mkwds\u001b[0m\u001b[0;34m)\u001b[0m\u001b[0;34m\u001b[0m\u001b[0;34m\u001b[0m\u001b[0m\n\u001b[0m\u001b[1;32m   1431\u001b[0m \u001b[0;34m\u001b[0m\u001b[0m\n\u001b[1;32m   1432\u001b[0m     \u001b[0;31m# enforce a threading backend to prevent data communication overhead\u001b[0m\u001b[0;34m\u001b[0m\u001b[0;34m\u001b[0m\u001b[0;34m\u001b[0m\u001b[0m\n",
            "\u001b[0;32m/usr/local/lib/python3.7/dist-packages/sklearn/metrics/pairwise.py\u001b[0m in \u001b[0;36mnan_euclidean_distances\u001b[0;34m(X, Y, squared, missing_values, copy)\u001b[0m\n\u001b[1;32m    486\u001b[0m     \u001b[0mpresent_X\u001b[0m \u001b[0;34m=\u001b[0m \u001b[0;36m1\u001b[0m \u001b[0;34m-\u001b[0m \u001b[0mmissing_X\u001b[0m\u001b[0;34m\u001b[0m\u001b[0;34m\u001b[0m\u001b[0m\n\u001b[1;32m    487\u001b[0m     \u001b[0mpresent_Y\u001b[0m \u001b[0;34m=\u001b[0m \u001b[0mpresent_X\u001b[0m \u001b[0;32mif\u001b[0m \u001b[0mY\u001b[0m \u001b[0;32mis\u001b[0m \u001b[0mX\u001b[0m \u001b[0;32melse\u001b[0m \u001b[0;34m~\u001b[0m\u001b[0mmissing_Y\u001b[0m\u001b[0;34m\u001b[0m\u001b[0;34m\u001b[0m\u001b[0m\n\u001b[0;32m--> 488\u001b[0;31m     \u001b[0mpresent_count\u001b[0m \u001b[0;34m=\u001b[0m \u001b[0mnp\u001b[0m\u001b[0;34m.\u001b[0m\u001b[0mdot\u001b[0m\u001b[0;34m(\u001b[0m\u001b[0mpresent_X\u001b[0m\u001b[0;34m,\u001b[0m \u001b[0mpresent_Y\u001b[0m\u001b[0;34m.\u001b[0m\u001b[0mT\u001b[0m\u001b[0;34m)\u001b[0m\u001b[0;34m\u001b[0m\u001b[0;34m\u001b[0m\u001b[0m\n\u001b[0m\u001b[1;32m    489\u001b[0m     \u001b[0mdistances\u001b[0m\u001b[0;34m[\u001b[0m\u001b[0mpresent_count\u001b[0m \u001b[0;34m==\u001b[0m \u001b[0;36m0\u001b[0m\u001b[0;34m]\u001b[0m \u001b[0;34m=\u001b[0m \u001b[0mnp\u001b[0m\u001b[0;34m.\u001b[0m\u001b[0mnan\u001b[0m\u001b[0;34m\u001b[0m\u001b[0;34m\u001b[0m\u001b[0m\n\u001b[1;32m    490\u001b[0m     \u001b[0;31m# avoid divide by zero\u001b[0m\u001b[0;34m\u001b[0m\u001b[0;34m\u001b[0m\u001b[0;34m\u001b[0m\u001b[0m\n",
            "\u001b[0;32m<__array_function__ internals>\u001b[0m in \u001b[0;36mdot\u001b[0;34m(*args, **kwargs)\u001b[0m\n",
            "\u001b[0;31mKeyboardInterrupt\u001b[0m: "
          ]
        }
      ],
      "source": [
        "param_grid = {\n",
        "    'tree__max_depth': [5, 4, 3, 2, 1],\n",
        "    'tree__min_samples_leaf': [250, 200, 150, 100],\n",
        "    'tree__min_impurity_decrease': [0, 0.001, 0.005]\n",
        "}\n",
        "\n",
        "grid = GridSearchCV(pipe, param_grid, cv=10,\n",
        "                    scoring='roc_auc',\n",
        "                    verbose=2)\n",
        "\n",
        "grid.fit(X_train_dummies, y_train)\n",
        "\n",
        "print('Best score: ', grid.best_score_)\n",
        "print('Best params: ', grid.best_params_)"
      ]
    },
    {
      "cell_type": "markdown",
      "metadata": {
        "id": "Ua3BuEL8jF5N"
      },
      "source": [
        "The results of the second round show, that the optimal value for max_depth is 3, optimal min_impurity decrease equals 0. <br>\n",
        "In the third round 125 and 175 will be tested as a values of min_samples_leaf."
      ]
    },
    {
      "cell_type": "markdown",
      "metadata": {
        "id": "UmwVw2fDjF5N"
      },
      "source": [
        "Round 3"
      ]
    },
    {
      "cell_type": "code",
      "execution_count": null,
      "metadata": {
        "id": "nMH3nwbmjF5O"
      },
      "outputs": [],
      "source": [
        "param_grid = {\n",
        "    'tree__max_depth': [4, 3, 2],\n",
        "    'tree__min_samples_leaf': [175, 150, 125]\n",
        "}\n",
        "\n",
        "grid = GridSearchCV(pipe, param_grid, cv=10,\n",
        "                    scoring='roc_auc',\n",
        "                    verbose=1)\n",
        "\n",
        "grid.fit(X_train_dummies, y_train)\n",
        "\n",
        "print('Best score: ', grid.best_score_)\n",
        "print('Best params: ', grid.best_params_)"
      ]
    },
    {
      "cell_type": "markdown",
      "metadata": {
        "id": "pUKMsUE_jF5O"
      },
      "source": [
        "The optimal values of a decision tree's parameters are max_depth=3, min_samples=175. Using these values a disicion tree on the whole dataset will be built."
      ]
    },
    {
      "cell_type": "markdown",
      "metadata": {
        "id": "t7SDKN1tjF5P"
      },
      "source": [
        "# Tree final"
      ]
    },
    {
      "cell_type": "code",
      "execution_count": null,
      "metadata": {
        "id": "0xTf_8b8jF5P"
      },
      "outputs": [],
      "source": [
        "tree_final = Pipeline([\n",
        "    ('transformer', ColumnTransformer([\n",
        "        ('scaler', StandardScaler(), [*range(0, 19)])],\n",
        "         remainder='passthrough')),\n",
        "    ('imputer', KNNImputer()),\n",
        "    ('tree', DecisionTreeClassifier(max_depth=3, min_samples_leaf=175,\n",
        "                                    random_state=0))\n",
        "])\n",
        "tree_final.fit(X_train_dummies, y_train)\n",
        "\n",
        "\n",
        "print(\"Train set AUC: {}\".format(roc_auc_score(y_train, tree_final.predict(X_train))))\n",
        "print(\"Test set AUC: {}\".format(roc_auc_score(y_test, tree_final.predict(X_test))))"
      ]
    },
    {
      "cell_type": "code",
      "execution_count": null,
      "metadata": {
        "id": "SJBVjb1ljF5P"
      },
      "outputs": [],
      "source": [
        ""
      ]
    }
  ],
  "metadata": {
    "colab": {
      "name": "trees.ipynb",
      "toc_visible": true,
      "provenance": [],
      "include_colab_link": true
    },
    "kernelspec": {
      "display_name": "Python 3.8.3 32-bit",
      "language": "python",
      "name": "python3"
    },
    "language_info": {
      "codemirror_mode": {
        "name": "ipython",
        "version": 3
      },
      "file_extension": ".py",
      "mimetype": "text/x-python",
      "name": "python",
      "nbconvert_exporter": "python",
      "pygments_lexer": "ipython3",
      "version": "3.8.3"
    },
    "vscode": {
      "interpreter": {
        "hash": "aee1bbb8a50b50cf17e2b9d98b826b966687056a0cd72bc929ea6f6dbf298303"
      }
    }
  },
  "nbformat": 4,
  "nbformat_minor": 0
}