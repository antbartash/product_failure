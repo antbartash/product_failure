{
  "cells": [
    {
      "cell_type": "markdown",
      "metadata": {
        "id": "view-in-github",
        "colab_type": "text"
      },
      "source": [
        "<a href=\"https://colab.research.google.com/github/antbartash/product_failure/blob/main/trees.ipynb\" target=\"_parent\"><img src=\"https://colab.research.google.com/assets/colab-badge.svg\" alt=\"Open In Colab\"/></a>"
      ]
    },
    {
      "cell_type": "markdown",
      "metadata": {
        "id": "JuQKoT1ajF4y"
      },
      "source": [
        "# Loading libraries and data"
      ]
    },
    {
      "cell_type": "code",
      "execution_count": 1,
      "metadata": {
        "id": "DIsE6ermjF45"
      },
      "outputs": [],
      "source": [
        "import numpy as np\n",
        "import pandas as pd\n",
        "import matplotlib.pyplot as plt\n",
        "from sklearn.tree import DecisionTreeClassifier\n",
        "from sklearn.ensemble import RandomForestClassifier\n",
        "from sklearn.ensemble import AdaBoostClassifier\n",
        "from sklearn.ensemble import ExtraTreesClassifier\n",
        "from sklearn.model_selection import GridSearchCV\n",
        "from sklearn.model_selection import RandomizedSearchCV\n",
        "from sklearn.pipeline import Pipeline\n",
        "from sklearn.compose import ColumnTransformer\n",
        "from sklearn.preprocessing import StandardScaler\n",
        "from sklearn.impute import KNNImputer\n",
        "from sklearn.metrics import roc_auc_score\n",
        "from scipy.stats import uniform"
      ]
    },
    {
      "cell_type": "code",
      "execution_count": 2,
      "metadata": {
        "colab": {
          "base_uri": "https://localhost:8080/"
        },
        "id": "kHEXmT02jKEi",
        "outputId": "0ee5630b-0a2a-4782-d7db-8542682727e8"
      },
      "outputs": [
        {
          "output_type": "stream",
          "name": "stdout",
          "text": [
            "Drive already mounted at /content/drive/; to attempt to forcibly remount, call drive.mount(\"/content/drive/\", force_remount=True).\n"
          ]
        }
      ],
      "source": [
        "from google.colab import drive\n",
        "drive.mount('/content/drive/')"
      ]
    },
    {
      "cell_type": "code",
      "execution_count": 3,
      "metadata": {
        "id": "P1hnTgRPjF48"
      },
      "outputs": [],
      "source": [
        "X_train = pd.read_csv('drive/MyDrive/product_failure/data/X_train_dummies_scaled_knn.csv', index_col=0)\n",
        "X_test = pd.read_csv('drive/MyDrive/product_failure/data/X_test_dummies_scaled_knn.csv', index_col=0)\n",
        "y_train = pd.read_csv('drive/MyDrive/product_failure/data/y_train.csv', index_col=0)\n",
        "y_test = pd.read_csv('drive/MyDrive/product_failure/data/y_test.csv', index_col=0)"
      ]
    },
    {
      "cell_type": "markdown",
      "metadata": {
        "id": "shStnc1qjF49"
      },
      "source": [
        "Check first 5 observations and data shapes to make sure that the data was read correctly"
      ]
    },
    {
      "cell_type": "code",
      "execution_count": 4,
      "metadata": {
        "colab": {
          "base_uri": "https://localhost:8080/",
          "height": 317
        },
        "id": "u08tSgCSjF4-",
        "outputId": "833d82eb-b9fa-4086-94dd-910db936be75"
      },
      "outputs": [
        {
          "output_type": "execute_result",
          "data": {
            "text/plain": [
              "    loading  measurement_0  measurement_1  measurement_2  measurement_3  \\\n",
              "0 -0.513603       2.078416      -1.485328      -0.681222      -0.653551   \n",
              "1  0.036400      -1.070214       0.179974      -0.379065      -0.549359   \n",
              "2  0.019484      -0.828012       1.845276      -0.379065      -1.697273   \n",
              "3 -0.060479       0.867404       0.179974      -0.076908      -1.114317   \n",
              "4 -0.549740      -0.585809      -0.533727      -0.076908      -0.828338   \n",
              "\n",
              "   measurement_4  measurement_5  measurement_6  measurement_7  measurement_8  \\\n",
              "0      -0.015593      -0.319033      -0.014153      -0.067520       0.327396   \n",
              "1      -0.731627       1.703556       0.598172      -0.121901      -0.066527   \n",
              "2       0.577577      -1.657378      -0.286633       1.452140       0.304632   \n",
              "3       0.677278       0.361192      -0.752161      -0.738225       0.907394   \n",
              "4       0.043825      -1.348916       0.015005       0.087568      -1.010756   \n",
              "\n",
              "   ...  measurement_2_grouped_(-0.001, 2.0]  measurement_2_grouped_(2.0, 3.0]  \\\n",
              "0  ...                                  0.0                               0.0   \n",
              "1  ...                                  0.0                               0.0   \n",
              "2  ...                                  0.0                               0.0   \n",
              "3  ...                                  0.0                               0.0   \n",
              "4  ...                                  0.0                               0.0   \n",
              "\n",
              "   measurement_2_grouped_(3.0, 4.0]  measurement_2_grouped_(4.0, 5.0]  \\\n",
              "0                               1.0                               0.0   \n",
              "1                               0.0                               1.0   \n",
              "2                               0.0                               1.0   \n",
              "3                               0.0                               0.0   \n",
              "4                               0.0                               0.0   \n",
              "\n",
              "   measurement_2_grouped_(5.0, 6.0]  measurement_2_grouped_(6.0, 7.0]  \\\n",
              "0                               0.0                               0.0   \n",
              "1                               0.0                               0.0   \n",
              "2                               0.0                               0.0   \n",
              "3                               1.0                               0.0   \n",
              "4                               1.0                               0.0   \n",
              "\n",
              "   measurement_2_grouped_(7.0, 8.0]  measurement_2_grouped_(8.0, 9.0]  \\\n",
              "0                               0.0                               0.0   \n",
              "1                               0.0                               0.0   \n",
              "2                               0.0                               0.0   \n",
              "3                               0.0                               0.0   \n",
              "4                               0.0                               0.0   \n",
              "\n",
              "   measurement_2_grouped_(9.0, 11.0]  measurement_2_grouped_(11.0, 24.0]  \n",
              "0                                0.0                                 0.0  \n",
              "1                                0.0                                 0.0  \n",
              "2                                0.0                                 0.0  \n",
              "3                                0.0                                 0.0  \n",
              "4                                0.0                                 0.0  \n",
              "\n",
              "[5 rows x 64 columns]"
            ],
            "text/html": [
              "\n",
              "  <div id=\"df-b7e7813e-2d84-4d87-92a6-b24ce4189d94\">\n",
              "    <div class=\"colab-df-container\">\n",
              "      <div>\n",
              "<style scoped>\n",
              "    .dataframe tbody tr th:only-of-type {\n",
              "        vertical-align: middle;\n",
              "    }\n",
              "\n",
              "    .dataframe tbody tr th {\n",
              "        vertical-align: top;\n",
              "    }\n",
              "\n",
              "    .dataframe thead th {\n",
              "        text-align: right;\n",
              "    }\n",
              "</style>\n",
              "<table border=\"1\" class=\"dataframe\">\n",
              "  <thead>\n",
              "    <tr style=\"text-align: right;\">\n",
              "      <th></th>\n",
              "      <th>loading</th>\n",
              "      <th>measurement_0</th>\n",
              "      <th>measurement_1</th>\n",
              "      <th>measurement_2</th>\n",
              "      <th>measurement_3</th>\n",
              "      <th>measurement_4</th>\n",
              "      <th>measurement_5</th>\n",
              "      <th>measurement_6</th>\n",
              "      <th>measurement_7</th>\n",
              "      <th>measurement_8</th>\n",
              "      <th>...</th>\n",
              "      <th>measurement_2_grouped_(-0.001, 2.0]</th>\n",
              "      <th>measurement_2_grouped_(2.0, 3.0]</th>\n",
              "      <th>measurement_2_grouped_(3.0, 4.0]</th>\n",
              "      <th>measurement_2_grouped_(4.0, 5.0]</th>\n",
              "      <th>measurement_2_grouped_(5.0, 6.0]</th>\n",
              "      <th>measurement_2_grouped_(6.0, 7.0]</th>\n",
              "      <th>measurement_2_grouped_(7.0, 8.0]</th>\n",
              "      <th>measurement_2_grouped_(8.0, 9.0]</th>\n",
              "      <th>measurement_2_grouped_(9.0, 11.0]</th>\n",
              "      <th>measurement_2_grouped_(11.0, 24.0]</th>\n",
              "    </tr>\n",
              "  </thead>\n",
              "  <tbody>\n",
              "    <tr>\n",
              "      <th>0</th>\n",
              "      <td>-0.513603</td>\n",
              "      <td>2.078416</td>\n",
              "      <td>-1.485328</td>\n",
              "      <td>-0.681222</td>\n",
              "      <td>-0.653551</td>\n",
              "      <td>-0.015593</td>\n",
              "      <td>-0.319033</td>\n",
              "      <td>-0.014153</td>\n",
              "      <td>-0.067520</td>\n",
              "      <td>0.327396</td>\n",
              "      <td>...</td>\n",
              "      <td>0.0</td>\n",
              "      <td>0.0</td>\n",
              "      <td>1.0</td>\n",
              "      <td>0.0</td>\n",
              "      <td>0.0</td>\n",
              "      <td>0.0</td>\n",
              "      <td>0.0</td>\n",
              "      <td>0.0</td>\n",
              "      <td>0.0</td>\n",
              "      <td>0.0</td>\n",
              "    </tr>\n",
              "    <tr>\n",
              "      <th>1</th>\n",
              "      <td>0.036400</td>\n",
              "      <td>-1.070214</td>\n",
              "      <td>0.179974</td>\n",
              "      <td>-0.379065</td>\n",
              "      <td>-0.549359</td>\n",
              "      <td>-0.731627</td>\n",
              "      <td>1.703556</td>\n",
              "      <td>0.598172</td>\n",
              "      <td>-0.121901</td>\n",
              "      <td>-0.066527</td>\n",
              "      <td>...</td>\n",
              "      <td>0.0</td>\n",
              "      <td>0.0</td>\n",
              "      <td>0.0</td>\n",
              "      <td>1.0</td>\n",
              "      <td>0.0</td>\n",
              "      <td>0.0</td>\n",
              "      <td>0.0</td>\n",
              "      <td>0.0</td>\n",
              "      <td>0.0</td>\n",
              "      <td>0.0</td>\n",
              "    </tr>\n",
              "    <tr>\n",
              "      <th>2</th>\n",
              "      <td>0.019484</td>\n",
              "      <td>-0.828012</td>\n",
              "      <td>1.845276</td>\n",
              "      <td>-0.379065</td>\n",
              "      <td>-1.697273</td>\n",
              "      <td>0.577577</td>\n",
              "      <td>-1.657378</td>\n",
              "      <td>-0.286633</td>\n",
              "      <td>1.452140</td>\n",
              "      <td>0.304632</td>\n",
              "      <td>...</td>\n",
              "      <td>0.0</td>\n",
              "      <td>0.0</td>\n",
              "      <td>0.0</td>\n",
              "      <td>1.0</td>\n",
              "      <td>0.0</td>\n",
              "      <td>0.0</td>\n",
              "      <td>0.0</td>\n",
              "      <td>0.0</td>\n",
              "      <td>0.0</td>\n",
              "      <td>0.0</td>\n",
              "    </tr>\n",
              "    <tr>\n",
              "      <th>3</th>\n",
              "      <td>-0.060479</td>\n",
              "      <td>0.867404</td>\n",
              "      <td>0.179974</td>\n",
              "      <td>-0.076908</td>\n",
              "      <td>-1.114317</td>\n",
              "      <td>0.677278</td>\n",
              "      <td>0.361192</td>\n",
              "      <td>-0.752161</td>\n",
              "      <td>-0.738225</td>\n",
              "      <td>0.907394</td>\n",
              "      <td>...</td>\n",
              "      <td>0.0</td>\n",
              "      <td>0.0</td>\n",
              "      <td>0.0</td>\n",
              "      <td>0.0</td>\n",
              "      <td>1.0</td>\n",
              "      <td>0.0</td>\n",
              "      <td>0.0</td>\n",
              "      <td>0.0</td>\n",
              "      <td>0.0</td>\n",
              "      <td>0.0</td>\n",
              "    </tr>\n",
              "    <tr>\n",
              "      <th>4</th>\n",
              "      <td>-0.549740</td>\n",
              "      <td>-0.585809</td>\n",
              "      <td>-0.533727</td>\n",
              "      <td>-0.076908</td>\n",
              "      <td>-0.828338</td>\n",
              "      <td>0.043825</td>\n",
              "      <td>-1.348916</td>\n",
              "      <td>0.015005</td>\n",
              "      <td>0.087568</td>\n",
              "      <td>-1.010756</td>\n",
              "      <td>...</td>\n",
              "      <td>0.0</td>\n",
              "      <td>0.0</td>\n",
              "      <td>0.0</td>\n",
              "      <td>0.0</td>\n",
              "      <td>1.0</td>\n",
              "      <td>0.0</td>\n",
              "      <td>0.0</td>\n",
              "      <td>0.0</td>\n",
              "      <td>0.0</td>\n",
              "      <td>0.0</td>\n",
              "    </tr>\n",
              "  </tbody>\n",
              "</table>\n",
              "<p>5 rows × 64 columns</p>\n",
              "</div>\n",
              "      <button class=\"colab-df-convert\" onclick=\"convertToInteractive('df-b7e7813e-2d84-4d87-92a6-b24ce4189d94')\"\n",
              "              title=\"Convert this dataframe to an interactive table.\"\n",
              "              style=\"display:none;\">\n",
              "        \n",
              "  <svg xmlns=\"http://www.w3.org/2000/svg\" height=\"24px\"viewBox=\"0 0 24 24\"\n",
              "       width=\"24px\">\n",
              "    <path d=\"M0 0h24v24H0V0z\" fill=\"none\"/>\n",
              "    <path d=\"M18.56 5.44l.94 2.06.94-2.06 2.06-.94-2.06-.94-.94-2.06-.94 2.06-2.06.94zm-11 1L8.5 8.5l.94-2.06 2.06-.94-2.06-.94L8.5 2.5l-.94 2.06-2.06.94zm10 10l.94 2.06.94-2.06 2.06-.94-2.06-.94-.94-2.06-.94 2.06-2.06.94z\"/><path d=\"M17.41 7.96l-1.37-1.37c-.4-.4-.92-.59-1.43-.59-.52 0-1.04.2-1.43.59L10.3 9.45l-7.72 7.72c-.78.78-.78 2.05 0 2.83L4 21.41c.39.39.9.59 1.41.59.51 0 1.02-.2 1.41-.59l7.78-7.78 2.81-2.81c.8-.78.8-2.07 0-2.86zM5.41 20L4 18.59l7.72-7.72 1.47 1.35L5.41 20z\"/>\n",
              "  </svg>\n",
              "      </button>\n",
              "      \n",
              "  <style>\n",
              "    .colab-df-container {\n",
              "      display:flex;\n",
              "      flex-wrap:wrap;\n",
              "      gap: 12px;\n",
              "    }\n",
              "\n",
              "    .colab-df-convert {\n",
              "      background-color: #E8F0FE;\n",
              "      border: none;\n",
              "      border-radius: 50%;\n",
              "      cursor: pointer;\n",
              "      display: none;\n",
              "      fill: #1967D2;\n",
              "      height: 32px;\n",
              "      padding: 0 0 0 0;\n",
              "      width: 32px;\n",
              "    }\n",
              "\n",
              "    .colab-df-convert:hover {\n",
              "      background-color: #E2EBFA;\n",
              "      box-shadow: 0px 1px 2px rgba(60, 64, 67, 0.3), 0px 1px 3px 1px rgba(60, 64, 67, 0.15);\n",
              "      fill: #174EA6;\n",
              "    }\n",
              "\n",
              "    [theme=dark] .colab-df-convert {\n",
              "      background-color: #3B4455;\n",
              "      fill: #D2E3FC;\n",
              "    }\n",
              "\n",
              "    [theme=dark] .colab-df-convert:hover {\n",
              "      background-color: #434B5C;\n",
              "      box-shadow: 0px 1px 3px 1px rgba(0, 0, 0, 0.15);\n",
              "      filter: drop-shadow(0px 1px 2px rgba(0, 0, 0, 0.3));\n",
              "      fill: #FFFFFF;\n",
              "    }\n",
              "  </style>\n",
              "\n",
              "      <script>\n",
              "        const buttonEl =\n",
              "          document.querySelector('#df-b7e7813e-2d84-4d87-92a6-b24ce4189d94 button.colab-df-convert');\n",
              "        buttonEl.style.display =\n",
              "          google.colab.kernel.accessAllowed ? 'block' : 'none';\n",
              "\n",
              "        async function convertToInteractive(key) {\n",
              "          const element = document.querySelector('#df-b7e7813e-2d84-4d87-92a6-b24ce4189d94');\n",
              "          const dataTable =\n",
              "            await google.colab.kernel.invokeFunction('convertToInteractive',\n",
              "                                                     [key], {});\n",
              "          if (!dataTable) return;\n",
              "\n",
              "          const docLinkHtml = 'Like what you see? Visit the ' +\n",
              "            '<a target=\"_blank\" href=https://colab.research.google.com/notebooks/data_table.ipynb>data table notebook</a>'\n",
              "            + ' to learn more about interactive tables.';\n",
              "          element.innerHTML = '';\n",
              "          dataTable['output_type'] = 'display_data';\n",
              "          await google.colab.output.renderOutput(dataTable, element);\n",
              "          const docLink = document.createElement('div');\n",
              "          docLink.innerHTML = docLinkHtml;\n",
              "          element.appendChild(docLink);\n",
              "        }\n",
              "      </script>\n",
              "    </div>\n",
              "  </div>\n",
              "  "
            ]
          },
          "metadata": {},
          "execution_count": 4
        }
      ],
      "source": [
        "X_train.head()"
      ]
    },
    {
      "cell_type": "code",
      "execution_count": 5,
      "metadata": {
        "colab": {
          "base_uri": "https://localhost:8080/"
        },
        "id": "5NGndehkjF4_",
        "outputId": "352ca610-2c35-4dce-9812-94f8f95c0cce"
      },
      "outputs": [
        {
          "output_type": "stream",
          "name": "stdout",
          "text": [
            "X_train.shape:  (19927, 64)\n",
            "y_train.shape:  (19927, 1)\n",
            "X_test.shape:  (6643, 64)\n",
            "y_test.shape: (6643, 1)\n"
          ]
        }
      ],
      "source": [
        "print(\"X_train.shape: \", X_train.shape)\n",
        "print(\"y_train.shape: \", y_train.shape)\n",
        "print(\"X_test.shape: \", X_test.shape)\n",
        "print(\"y_test.shape:\", y_test.shape)"
      ]
    },
    {
      "cell_type": "code",
      "source": [
        "y_train = np.ravel(y_train)\n",
        "y_test = np.ravel(y_test)\n",
        "\n",
        "print(\"y_train.shape: \", y_train.shape)\n",
        "print(\"y_test.shape:\", y_test.shape)"
      ],
      "metadata": {
        "colab": {
          "base_uri": "https://localhost:8080/"
        },
        "id": "JtSl-esEZ4pd",
        "outputId": "5b83cc9e-5ef7-4d7c-da44-d20d9497a8d7"
      },
      "execution_count": 6,
      "outputs": [
        {
          "output_type": "stream",
          "name": "stdout",
          "text": [
            "y_train.shape:  (19927,)\n",
            "y_test.shape: (6643,)\n"
          ]
        }
      ]
    },
    {
      "cell_type": "markdown",
      "metadata": {
        "id": "Yd5vSRIVjF5A"
      },
      "source": [
        "# Baseline tree model <br>\n",
        "Build a baseline decision tree model and evaluate its performance on train and test sets. For performance evaluation AUC will be used"
      ]
    },
    {
      "cell_type": "code",
      "execution_count": 7,
      "metadata": {
        "colab": {
          "base_uri": "https://localhost:8080/"
        },
        "id": "zA8SMFjrjF5B",
        "outputId": "f3e5fe50-c506-4b53-f210-b2a0e2cb086c"
      },
      "outputs": [
        {
          "output_type": "stream",
          "name": "stdout",
          "text": [
            "Train set AUC: 1.0\n",
            "Test set AUC: 0.5071397012684099\n"
          ]
        }
      ],
      "source": [
        "tree_baseline = DecisionTreeClassifier()\n",
        "tree_baseline.fit(X_train, y_train)\n",
        "\n",
        "print(\"Train set AUC: {}\".format(roc_auc_score(y_train, tree_baseline.predict(X_train))))\n",
        "print(\"Test set AUC: {}\".format(roc_auc_score(y_test, tree_baseline.predict(X_test))))"
      ]
    },
    {
      "cell_type": "markdown",
      "metadata": {
        "id": "J2hXk5IfjF5D"
      },
      "source": [
        "AUC values crearly indicate, that the model overfits the training set. We can try to tune its parameters to improve quality of the model"
      ]
    },
    {
      "cell_type": "markdown",
      "metadata": {
        "id": "5QSrlqSKjF5E"
      },
      "source": [
        "# Tuning trees parameters values <br>\n",
        "To tune parameters values GridSearchCV will be used. To prevent data leakage, we'll apply data transformation on each training folder separately. In order to do that, we need to read the datasets created as a result of one-hot encoding of the categorical features, but without other preprocessing steps <br>\n",
        "Since sklearn implementation of decision trees dosn't handle missing values, missing values are filled using KNN. The standarization step is not required by decision trees themselves, but is needed for KNN.  \n",
        "Also features dtype will be changed from float64 to float32 to speed up computations"
      ]
    },
    {
      "cell_type": "code",
      "execution_count": 8,
      "metadata": {
        "id": "EqxsdrTDjF5H"
      },
      "outputs": [],
      "source": [
        "X_train_dummies = pd.read_csv('drive/MyDrive/product_failure/data/X_train_dummies.csv', index_col=0)\n",
        "X_test_dummies = pd.read_csv('drive/MyDrive/product_failure/data/X_test_dummies.csv', index_col=0)\n",
        "\n",
        "X_train_dummies = X_train_dummies.astype(np.float32)\n",
        "X_test_dummies = X_test_dummies.astype(np.float32)"
      ]
    },
    {
      "cell_type": "code",
      "execution_count": 9,
      "metadata": {
        "id": "tS6F5ZQJjF5I"
      },
      "outputs": [],
      "source": [
        "pipe = Pipeline([\n",
        "    ('transformer', ColumnTransformer([\n",
        "        ('scaler', StandardScaler(), [*range(0, 19)])],\n",
        "         remainder='passthrough')),\n",
        "    ('imputer', KNNImputer()),\n",
        "    ('tree', DecisionTreeClassifier(random_state=0))\n",
        "])"
      ]
    },
    {
      "cell_type": "markdown",
      "metadata": {
        "id": "-NrkcYS_jF5I"
      },
      "source": [
        "Round 1"
      ]
    },
    {
      "cell_type": "code",
      "execution_count": null,
      "metadata": {
        "colab": {
          "base_uri": "https://localhost:8080/"
        },
        "id": "zUWe4FP1jF5L",
        "outputId": "5e34ccbe-0f8e-48bc-a9d8-bd93859c6c01"
      },
      "outputs": [
        {
          "output_type": "stream",
          "name": "stdout",
          "text": [
            "Fitting 5 folds for each of 60 candidates, totalling 300 fits\n",
            "[CV] END tree__max_depth=None, tree__min_impurity_decrease=0, tree__min_samples_leaf=100; total time=  29.8s\n",
            "[CV] END tree__max_depth=None, tree__min_impurity_decrease=0, tree__min_samples_leaf=100; total time=  29.8s\n",
            "[CV] END tree__max_depth=None, tree__min_impurity_decrease=0, tree__min_samples_leaf=100; total time=  28.2s\n",
            "[CV] END tree__max_depth=None, tree__min_impurity_decrease=0, tree__min_samples_leaf=100; total time=  26.9s\n",
            "[CV] END tree__max_depth=None, tree__min_impurity_decrease=0, tree__min_samples_leaf=100; total time=  27.0s\n",
            "[CV] END tree__max_depth=None, tree__min_impurity_decrease=0, tree__min_samples_leaf=50; total time=  30.5s\n",
            "[CV] END tree__max_depth=None, tree__min_impurity_decrease=0, tree__min_samples_leaf=50; total time=  32.0s\n",
            "[CV] END tree__max_depth=None, tree__min_impurity_decrease=0, tree__min_samples_leaf=50; total time=  29.0s\n",
            "[CV] END tree__max_depth=None, tree__min_impurity_decrease=0, tree__min_samples_leaf=50; total time=  28.8s\n",
            "[CV] END tree__max_depth=None, tree__min_impurity_decrease=0, tree__min_samples_leaf=50; total time=  28.0s\n"
          ]
        }
      ],
      "source": [
        "param_grid = {\n",
        "    'tree__max_depth': [None, 20, 10, 5, 3],\n",
        "    'tree__min_samples_leaf': [100, 50, 25, 1],\n",
        "    'tree__min_impurity_decrease': [0, 0.01, 0.1]\n",
        "}\n",
        "\n",
        "grid = GridSearchCV(pipe, param_grid, cv=5,\n",
        "                    scoring='roc_auc',\n",
        "                    verbose=2)\n",
        "\n",
        "grid.fit(X_train_dummies, y_train)\n",
        "\n",
        "print('Best score: ', grid.best_score_)\n",
        "print('Best params: ', grid.best_params_)"
      ]
    },
    {
      "cell_type": "markdown",
      "metadata": {
        "id": "5IFIBtLgjF5M"
      },
      "source": [
        "In result of the first round of grid search, models with the most regularized models were selected. Therefore, in the next round the regularization will be increased. <br>\n",
        "Also the first round has shown, that changing min_impurity_decrease value from the default one doesn't affect models performance. However, in the second round we'll also test 0.001 as a value of min_impurity_decrease"
      ]
    },
    {
      "cell_type": "markdown",
      "metadata": {
        "id": "feYWUF8CjF5M"
      },
      "source": [
        "Round 2"
      ]
    },
    {
      "cell_type": "code",
      "execution_count": null,
      "metadata": {
        "id": "Kdp5gkT8jF5M",
        "colab": {
          "base_uri": "https://localhost:8080/"
        },
        "outputId": "a9bf2a74-66fd-4549-e125-11a1596f6a0f"
      },
      "outputs": [
        {
          "output_type": "stream",
          "name": "stdout",
          "text": [
            "Fitting 5 folds for each of 40 candidates, totalling 200 fits\n",
            "[CV] END tree__max_depth=5, tree__min_impurity_decrease=0, tree__min_samples_leaf=250; total time=  31.6s\n",
            "[CV] END tree__max_depth=5, tree__min_impurity_decrease=0, tree__min_samples_leaf=250; total time=  28.3s\n",
            "[CV] END tree__max_depth=5, tree__min_impurity_decrease=0, tree__min_samples_leaf=250; total time=  26.5s\n",
            "[CV] END tree__max_depth=5, tree__min_impurity_decrease=0, tree__min_samples_leaf=250; total time=  28.0s\n",
            "[CV] END tree__max_depth=5, tree__min_impurity_decrease=0, tree__min_samples_leaf=250; total time=  27.4s\n",
            "[CV] END tree__max_depth=5, tree__min_impurity_decrease=0, tree__min_samples_leaf=200; total time=  30.3s\n",
            "[CV] END tree__max_depth=5, tree__min_impurity_decrease=0, tree__min_samples_leaf=200; total time=  29.6s\n",
            "[CV] END tree__max_depth=5, tree__min_impurity_decrease=0, tree__min_samples_leaf=200; total time=  27.6s\n",
            "[CV] END tree__max_depth=5, tree__min_impurity_decrease=0, tree__min_samples_leaf=200; total time=  28.3s\n",
            "[CV] END tree__max_depth=5, tree__min_impurity_decrease=0, tree__min_samples_leaf=200; total time=  27.9s\n",
            "[CV] END tree__max_depth=5, tree__min_impurity_decrease=0, tree__min_samples_leaf=150; total time=  30.5s\n",
            "[CV] END tree__max_depth=5, tree__min_impurity_decrease=0, tree__min_samples_leaf=150; total time=  30.1s\n",
            "[CV] END tree__max_depth=5, tree__min_impurity_decrease=0, tree__min_samples_leaf=150; total time=  27.7s\n",
            "[CV] END tree__max_depth=5, tree__min_impurity_decrease=0, tree__min_samples_leaf=150; total time=  27.8s\n",
            "[CV] END tree__max_depth=5, tree__min_impurity_decrease=0, tree__min_samples_leaf=150; total time=  27.4s\n",
            "[CV] END tree__max_depth=5, tree__min_impurity_decrease=0, tree__min_samples_leaf=100; total time=  30.0s\n",
            "[CV] END tree__max_depth=5, tree__min_impurity_decrease=0, tree__min_samples_leaf=100; total time=  30.2s\n",
            "[CV] END tree__max_depth=5, tree__min_impurity_decrease=0, tree__min_samples_leaf=100; total time=  28.5s\n",
            "[CV] END tree__max_depth=5, tree__min_impurity_decrease=0, tree__min_samples_leaf=100; total time=  27.8s\n",
            "[CV] END tree__max_depth=5, tree__min_impurity_decrease=0, tree__min_samples_leaf=100; total time=  27.4s\n",
            "[CV] END tree__max_depth=5, tree__min_impurity_decrease=0.001, tree__min_samples_leaf=250; total time=  29.6s\n",
            "[CV] END tree__max_depth=5, tree__min_impurity_decrease=0.001, tree__min_samples_leaf=250; total time=  29.7s\n",
            "[CV] END tree__max_depth=5, tree__min_impurity_decrease=0.001, tree__min_samples_leaf=250; total time=  27.8s\n",
            "[CV] END tree__max_depth=5, tree__min_impurity_decrease=0.001, tree__min_samples_leaf=250; total time=  27.9s\n",
            "[CV] END tree__max_depth=5, tree__min_impurity_decrease=0.001, tree__min_samples_leaf=250; total time=  26.0s\n",
            "[CV] END tree__max_depth=5, tree__min_impurity_decrease=0.001, tree__min_samples_leaf=200; total time=  28.9s\n",
            "[CV] END tree__max_depth=5, tree__min_impurity_decrease=0.001, tree__min_samples_leaf=200; total time=  28.7s\n",
            "[CV] END tree__max_depth=5, tree__min_impurity_decrease=0.001, tree__min_samples_leaf=200; total time=  27.2s\n",
            "[CV] END tree__max_depth=5, tree__min_impurity_decrease=0.001, tree__min_samples_leaf=200; total time=  26.6s\n",
            "[CV] END tree__max_depth=5, tree__min_impurity_decrease=0.001, tree__min_samples_leaf=200; total time=  26.7s\n",
            "[CV] END tree__max_depth=5, tree__min_impurity_decrease=0.001, tree__min_samples_leaf=150; total time=  29.9s\n",
            "[CV] END tree__max_depth=5, tree__min_impurity_decrease=0.001, tree__min_samples_leaf=150; total time=  29.0s\n",
            "[CV] END tree__max_depth=5, tree__min_impurity_decrease=0.001, tree__min_samples_leaf=150; total time=  27.1s\n",
            "[CV] END tree__max_depth=5, tree__min_impurity_decrease=0.001, tree__min_samples_leaf=150; total time=  26.9s\n",
            "[CV] END tree__max_depth=5, tree__min_impurity_decrease=0.001, tree__min_samples_leaf=150; total time=  26.8s\n",
            "[CV] END tree__max_depth=5, tree__min_impurity_decrease=0.001, tree__min_samples_leaf=100; total time=  29.7s\n",
            "[CV] END tree__max_depth=5, tree__min_impurity_decrease=0.001, tree__min_samples_leaf=100; total time=  29.9s\n",
            "[CV] END tree__max_depth=5, tree__min_impurity_decrease=0.001, tree__min_samples_leaf=100; total time=  27.0s\n",
            "[CV] END tree__max_depth=5, tree__min_impurity_decrease=0.001, tree__min_samples_leaf=100; total time=  27.0s\n",
            "[CV] END tree__max_depth=5, tree__min_impurity_decrease=0.001, tree__min_samples_leaf=100; total time=  27.1s\n",
            "[CV] END tree__max_depth=4, tree__min_impurity_decrease=0, tree__min_samples_leaf=250; total time=  29.8s\n",
            "[CV] END tree__max_depth=4, tree__min_impurity_decrease=0, tree__min_samples_leaf=250; total time=  29.0s\n",
            "[CV] END tree__max_depth=4, tree__min_impurity_decrease=0, tree__min_samples_leaf=250; total time=  27.0s\n",
            "[CV] END tree__max_depth=4, tree__min_impurity_decrease=0, tree__min_samples_leaf=250; total time=  27.0s\n",
            "[CV] END tree__max_depth=4, tree__min_impurity_decrease=0, tree__min_samples_leaf=250; total time=  26.6s\n",
            "[CV] END tree__max_depth=4, tree__min_impurity_decrease=0, tree__min_samples_leaf=200; total time=  29.2s\n",
            "[CV] END tree__max_depth=4, tree__min_impurity_decrease=0, tree__min_samples_leaf=200; total time=  29.6s\n",
            "[CV] END tree__max_depth=4, tree__min_impurity_decrease=0, tree__min_samples_leaf=200; total time=  27.3s\n",
            "[CV] END tree__max_depth=4, tree__min_impurity_decrease=0, tree__min_samples_leaf=200; total time=  26.7s\n",
            "[CV] END tree__max_depth=4, tree__min_impurity_decrease=0, tree__min_samples_leaf=200; total time=  27.1s\n",
            "[CV] END tree__max_depth=4, tree__min_impurity_decrease=0, tree__min_samples_leaf=150; total time=  33.0s\n",
            "[CV] END tree__max_depth=4, tree__min_impurity_decrease=0, tree__min_samples_leaf=150; total time=  29.4s\n",
            "[CV] END tree__max_depth=4, tree__min_impurity_decrease=0, tree__min_samples_leaf=150; total time=  26.9s\n",
            "[CV] END tree__max_depth=4, tree__min_impurity_decrease=0, tree__min_samples_leaf=150; total time=  26.8s\n",
            "[CV] END tree__max_depth=4, tree__min_impurity_decrease=0, tree__min_samples_leaf=150; total time=  26.7s\n",
            "[CV] END tree__max_depth=4, tree__min_impurity_decrease=0, tree__min_samples_leaf=100; total time=  29.3s\n",
            "[CV] END tree__max_depth=4, tree__min_impurity_decrease=0, tree__min_samples_leaf=100; total time=  29.3s\n",
            "[CV] END tree__max_depth=4, tree__min_impurity_decrease=0, tree__min_samples_leaf=100; total time=  27.1s\n",
            "[CV] END tree__max_depth=4, tree__min_impurity_decrease=0, tree__min_samples_leaf=100; total time=  27.2s\n",
            "[CV] END tree__max_depth=4, tree__min_impurity_decrease=0, tree__min_samples_leaf=100; total time=  26.8s\n",
            "[CV] END tree__max_depth=4, tree__min_impurity_decrease=0.001, tree__min_samples_leaf=250; total time=  29.1s\n",
            "[CV] END tree__max_depth=4, tree__min_impurity_decrease=0.001, tree__min_samples_leaf=250; total time=  29.3s\n",
            "[CV] END tree__max_depth=4, tree__min_impurity_decrease=0.001, tree__min_samples_leaf=250; total time=  26.8s\n",
            "[CV] END tree__max_depth=4, tree__min_impurity_decrease=0.001, tree__min_samples_leaf=250; total time=  26.8s\n",
            "[CV] END tree__max_depth=4, tree__min_impurity_decrease=0.001, tree__min_samples_leaf=250; total time=  26.6s\n",
            "[CV] END tree__max_depth=4, tree__min_impurity_decrease=0.001, tree__min_samples_leaf=200; total time=  29.2s\n",
            "[CV] END tree__max_depth=4, tree__min_impurity_decrease=0.001, tree__min_samples_leaf=200; total time=  29.7s\n",
            "[CV] END tree__max_depth=4, tree__min_impurity_decrease=0.001, tree__min_samples_leaf=200; total time=  31.8s\n",
            "[CV] END tree__max_depth=4, tree__min_impurity_decrease=0.001, tree__min_samples_leaf=200; total time=  28.1s\n",
            "[CV] END tree__max_depth=4, tree__min_impurity_decrease=0.001, tree__min_samples_leaf=200; total time=  26.9s\n",
            "[CV] END tree__max_depth=4, tree__min_impurity_decrease=0.001, tree__min_samples_leaf=150; total time=  29.3s\n",
            "[CV] END tree__max_depth=4, tree__min_impurity_decrease=0.001, tree__min_samples_leaf=150; total time=  30.9s\n",
            "[CV] END tree__max_depth=4, tree__min_impurity_decrease=0.001, tree__min_samples_leaf=150; total time=  28.7s\n",
            "[CV] END tree__max_depth=4, tree__min_impurity_decrease=0.001, tree__min_samples_leaf=150; total time=  28.1s\n",
            "[CV] END tree__max_depth=4, tree__min_impurity_decrease=0.001, tree__min_samples_leaf=150; total time=  27.9s\n",
            "[CV] END tree__max_depth=4, tree__min_impurity_decrease=0.001, tree__min_samples_leaf=100; total time=  30.6s\n",
            "[CV] END tree__max_depth=4, tree__min_impurity_decrease=0.001, tree__min_samples_leaf=100; total time=  30.3s\n",
            "[CV] END tree__max_depth=4, tree__min_impurity_decrease=0.001, tree__min_samples_leaf=100; total time=  28.5s\n",
            "[CV] END tree__max_depth=4, tree__min_impurity_decrease=0.001, tree__min_samples_leaf=100; total time=  29.5s\n",
            "[CV] END tree__max_depth=4, tree__min_impurity_decrease=0.001, tree__min_samples_leaf=100; total time=  28.7s\n",
            "[CV] END tree__max_depth=3, tree__min_impurity_decrease=0, tree__min_samples_leaf=250; total time=  32.0s\n",
            "[CV] END tree__max_depth=3, tree__min_impurity_decrease=0, tree__min_samples_leaf=250; total time=  30.7s\n",
            "[CV] END tree__max_depth=3, tree__min_impurity_decrease=0, tree__min_samples_leaf=250; total time=  28.7s\n",
            "[CV] END tree__max_depth=3, tree__min_impurity_decrease=0, tree__min_samples_leaf=250; total time=  28.3s\n",
            "[CV] END tree__max_depth=3, tree__min_impurity_decrease=0, tree__min_samples_leaf=250; total time=  28.0s\n",
            "[CV] END tree__max_depth=3, tree__min_impurity_decrease=0, tree__min_samples_leaf=200; total time=  30.5s\n",
            "[CV] END tree__max_depth=3, tree__min_impurity_decrease=0, tree__min_samples_leaf=200; total time=  30.5s\n",
            "[CV] END tree__max_depth=3, tree__min_impurity_decrease=0, tree__min_samples_leaf=200; total time=  28.5s\n",
            "[CV] END tree__max_depth=3, tree__min_impurity_decrease=0, tree__min_samples_leaf=200; total time=  28.7s\n",
            "[CV] END tree__max_depth=3, tree__min_impurity_decrease=0, tree__min_samples_leaf=200; total time=  28.3s\n",
            "[CV] END tree__max_depth=3, tree__min_impurity_decrease=0, tree__min_samples_leaf=150; total time=  30.5s\n",
            "[CV] END tree__max_depth=3, tree__min_impurity_decrease=0, tree__min_samples_leaf=150; total time=  30.6s\n",
            "[CV] END tree__max_depth=3, tree__min_impurity_decrease=0, tree__min_samples_leaf=150; total time=  28.5s\n",
            "[CV] END tree__max_depth=3, tree__min_impurity_decrease=0, tree__min_samples_leaf=150; total time=  28.1s\n",
            "[CV] END tree__max_depth=3, tree__min_impurity_decrease=0, tree__min_samples_leaf=150; total time=  27.9s\n",
            "[CV] END tree__max_depth=3, tree__min_impurity_decrease=0, tree__min_samples_leaf=100; total time=  30.5s\n",
            "[CV] END tree__max_depth=3, tree__min_impurity_decrease=0, tree__min_samples_leaf=100; total time=  30.5s\n",
            "[CV] END tree__max_depth=3, tree__min_impurity_decrease=0, tree__min_samples_leaf=100; total time=  28.2s\n",
            "[CV] END tree__max_depth=3, tree__min_impurity_decrease=0, tree__min_samples_leaf=100; total time=  28.4s\n",
            "[CV] END tree__max_depth=3, tree__min_impurity_decrease=0, tree__min_samples_leaf=100; total time=  28.9s\n",
            "[CV] END tree__max_depth=3, tree__min_impurity_decrease=0.001, tree__min_samples_leaf=250; total time=  32.3s\n",
            "[CV] END tree__max_depth=3, tree__min_impurity_decrease=0.001, tree__min_samples_leaf=250; total time=  31.0s\n",
            "[CV] END tree__max_depth=3, tree__min_impurity_decrease=0.001, tree__min_samples_leaf=250; total time=  28.5s\n",
            "[CV] END tree__max_depth=3, tree__min_impurity_decrease=0.001, tree__min_samples_leaf=250; total time=  28.7s\n",
            "[CV] END tree__max_depth=3, tree__min_impurity_decrease=0.001, tree__min_samples_leaf=250; total time=  28.0s\n",
            "[CV] END tree__max_depth=3, tree__min_impurity_decrease=0.001, tree__min_samples_leaf=200; total time=  31.1s\n",
            "[CV] END tree__max_depth=3, tree__min_impurity_decrease=0.001, tree__min_samples_leaf=200; total time=  30.7s\n",
            "[CV] END tree__max_depth=3, tree__min_impurity_decrease=0.001, tree__min_samples_leaf=200; total time=  28.5s\n",
            "[CV] END tree__max_depth=3, tree__min_impurity_decrease=0.001, tree__min_samples_leaf=200; total time=  28.0s\n",
            "[CV] END tree__max_depth=3, tree__min_impurity_decrease=0.001, tree__min_samples_leaf=200; total time=  28.0s\n",
            "[CV] END tree__max_depth=3, tree__min_impurity_decrease=0.001, tree__min_samples_leaf=150; total time=  30.0s\n",
            "[CV] END tree__max_depth=3, tree__min_impurity_decrease=0.001, tree__min_samples_leaf=150; total time=  30.3s\n",
            "[CV] END tree__max_depth=3, tree__min_impurity_decrease=0.001, tree__min_samples_leaf=150; total time=  28.2s\n",
            "[CV] END tree__max_depth=3, tree__min_impurity_decrease=0.001, tree__min_samples_leaf=150; total time=  27.8s\n",
            "[CV] END tree__max_depth=3, tree__min_impurity_decrease=0.001, tree__min_samples_leaf=150; total time=  27.8s\n",
            "[CV] END tree__max_depth=3, tree__min_impurity_decrease=0.001, tree__min_samples_leaf=100; total time=  30.5s\n",
            "[CV] END tree__max_depth=3, tree__min_impurity_decrease=0.001, tree__min_samples_leaf=100; total time=  31.1s\n",
            "[CV] END tree__max_depth=3, tree__min_impurity_decrease=0.001, tree__min_samples_leaf=100; total time=  28.4s\n",
            "[CV] END tree__max_depth=3, tree__min_impurity_decrease=0.001, tree__min_samples_leaf=100; total time=  28.3s\n",
            "[CV] END tree__max_depth=3, tree__min_impurity_decrease=0.001, tree__min_samples_leaf=100; total time=  27.8s\n",
            "[CV] END tree__max_depth=2, tree__min_impurity_decrease=0, tree__min_samples_leaf=250; total time=  30.1s\n",
            "[CV] END tree__max_depth=2, tree__min_impurity_decrease=0, tree__min_samples_leaf=250; total time=  30.7s\n",
            "[CV] END tree__max_depth=2, tree__min_impurity_decrease=0, tree__min_samples_leaf=250; total time=  28.3s\n",
            "[CV] END tree__max_depth=2, tree__min_impurity_decrease=0, tree__min_samples_leaf=250; total time=  27.8s\n",
            "[CV] END tree__max_depth=2, tree__min_impurity_decrease=0, tree__min_samples_leaf=250; total time=  27.8s\n",
            "[CV] END tree__max_depth=2, tree__min_impurity_decrease=0, tree__min_samples_leaf=200; total time=  31.3s\n",
            "[CV] END tree__max_depth=2, tree__min_impurity_decrease=0, tree__min_samples_leaf=200; total time=  30.9s\n",
            "[CV] END tree__max_depth=2, tree__min_impurity_decrease=0, tree__min_samples_leaf=200; total time=  28.0s\n",
            "[CV] END tree__max_depth=2, tree__min_impurity_decrease=0, tree__min_samples_leaf=200; total time=  28.2s\n",
            "[CV] END tree__max_depth=2, tree__min_impurity_decrease=0, tree__min_samples_leaf=200; total time=  27.8s\n",
            "[CV] END tree__max_depth=2, tree__min_impurity_decrease=0, tree__min_samples_leaf=150; total time=  30.5s\n",
            "[CV] END tree__max_depth=2, tree__min_impurity_decrease=0, tree__min_samples_leaf=150; total time=  32.9s\n",
            "[CV] END tree__max_depth=2, tree__min_impurity_decrease=0, tree__min_samples_leaf=150; total time=  29.6s\n",
            "[CV] END tree__max_depth=2, tree__min_impurity_decrease=0, tree__min_samples_leaf=150; total time=  28.2s\n",
            "[CV] END tree__max_depth=2, tree__min_impurity_decrease=0, tree__min_samples_leaf=150; total time=  28.2s\n",
            "[CV] END tree__max_depth=2, tree__min_impurity_decrease=0, tree__min_samples_leaf=100; total time=  31.0s\n",
            "[CV] END tree__max_depth=2, tree__min_impurity_decrease=0, tree__min_samples_leaf=100; total time=  30.2s\n",
            "[CV] END tree__max_depth=2, tree__min_impurity_decrease=0, tree__min_samples_leaf=100; total time=  28.3s\n",
            "[CV] END tree__max_depth=2, tree__min_impurity_decrease=0, tree__min_samples_leaf=100; total time=  28.7s\n",
            "[CV] END tree__max_depth=2, tree__min_impurity_decrease=0, tree__min_samples_leaf=100; total time=  28.2s\n",
            "[CV] END tree__max_depth=2, tree__min_impurity_decrease=0.001, tree__min_samples_leaf=250; total time=  30.5s\n",
            "[CV] END tree__max_depth=2, tree__min_impurity_decrease=0.001, tree__min_samples_leaf=250; total time=  31.2s\n",
            "[CV] END tree__max_depth=2, tree__min_impurity_decrease=0.001, tree__min_samples_leaf=250; total time=  28.5s\n",
            "[CV] END tree__max_depth=2, tree__min_impurity_decrease=0.001, tree__min_samples_leaf=250; total time=  28.5s\n",
            "[CV] END tree__max_depth=2, tree__min_impurity_decrease=0.001, tree__min_samples_leaf=250; total time=  28.5s\n",
            "[CV] END tree__max_depth=2, tree__min_impurity_decrease=0.001, tree__min_samples_leaf=200; total time=  31.8s\n",
            "[CV] END tree__max_depth=2, tree__min_impurity_decrease=0.001, tree__min_samples_leaf=200; total time=  31.3s\n",
            "[CV] END tree__max_depth=2, tree__min_impurity_decrease=0.001, tree__min_samples_leaf=200; total time=  28.6s\n",
            "[CV] END tree__max_depth=2, tree__min_impurity_decrease=0.001, tree__min_samples_leaf=200; total time=  28.6s\n",
            "[CV] END tree__max_depth=2, tree__min_impurity_decrease=0.001, tree__min_samples_leaf=200; total time=  28.2s\n",
            "[CV] END tree__max_depth=2, tree__min_impurity_decrease=0.001, tree__min_samples_leaf=150; total time=  30.5s\n",
            "[CV] END tree__max_depth=2, tree__min_impurity_decrease=0.001, tree__min_samples_leaf=150; total time=  31.5s\n",
            "[CV] END tree__max_depth=2, tree__min_impurity_decrease=0.001, tree__min_samples_leaf=150; total time=  28.8s\n",
            "[CV] END tree__max_depth=2, tree__min_impurity_decrease=0.001, tree__min_samples_leaf=150; total time=  28.5s\n",
            "[CV] END tree__max_depth=2, tree__min_impurity_decrease=0.001, tree__min_samples_leaf=150; total time=  27.9s\n",
            "[CV] END tree__max_depth=2, tree__min_impurity_decrease=0.001, tree__min_samples_leaf=100; total time=  30.2s\n",
            "[CV] END tree__max_depth=2, tree__min_impurity_decrease=0.001, tree__min_samples_leaf=100; total time=  30.1s\n",
            "[CV] END tree__max_depth=2, tree__min_impurity_decrease=0.001, tree__min_samples_leaf=100; total time=  28.0s\n",
            "[CV] END tree__max_depth=2, tree__min_impurity_decrease=0.001, tree__min_samples_leaf=100; total time=  28.1s\n",
            "[CV] END tree__max_depth=2, tree__min_impurity_decrease=0.001, tree__min_samples_leaf=100; total time=  28.0s\n",
            "[CV] END tree__max_depth=1, tree__min_impurity_decrease=0, tree__min_samples_leaf=250; total time=  29.9s\n",
            "[CV] END tree__max_depth=1, tree__min_impurity_decrease=0, tree__min_samples_leaf=250; total time=  30.8s\n",
            "[CV] END tree__max_depth=1, tree__min_impurity_decrease=0, tree__min_samples_leaf=250; total time=  28.5s\n",
            "[CV] END tree__max_depth=1, tree__min_impurity_decrease=0, tree__min_samples_leaf=250; total time=  27.9s\n",
            "[CV] END tree__max_depth=1, tree__min_impurity_decrease=0, tree__min_samples_leaf=250; total time=  27.9s\n",
            "[CV] END tree__max_depth=1, tree__min_impurity_decrease=0, tree__min_samples_leaf=200; total time=  30.4s\n",
            "[CV] END tree__max_depth=1, tree__min_impurity_decrease=0, tree__min_samples_leaf=200; total time=  30.0s\n",
            "[CV] END tree__max_depth=1, tree__min_impurity_decrease=0, tree__min_samples_leaf=200; total time=  28.1s\n",
            "[CV] END tree__max_depth=1, tree__min_impurity_decrease=0, tree__min_samples_leaf=200; total time=  28.5s\n",
            "[CV] END tree__max_depth=1, tree__min_impurity_decrease=0, tree__min_samples_leaf=200; total time=  28.3s\n",
            "[CV] END tree__max_depth=1, tree__min_impurity_decrease=0, tree__min_samples_leaf=150; total time=  31.7s\n",
            "[CV] END tree__max_depth=1, tree__min_impurity_decrease=0, tree__min_samples_leaf=150; total time=  30.3s\n",
            "[CV] END tree__max_depth=1, tree__min_impurity_decrease=0, tree__min_samples_leaf=150; total time=  28.2s\n",
            "[CV] END tree__max_depth=1, tree__min_impurity_decrease=0, tree__min_samples_leaf=150; total time=  27.8s\n",
            "[CV] END tree__max_depth=1, tree__min_impurity_decrease=0, tree__min_samples_leaf=150; total time=  27.8s\n",
            "[CV] END tree__max_depth=1, tree__min_impurity_decrease=0, tree__min_samples_leaf=100; total time=  30.2s\n",
            "[CV] END tree__max_depth=1, tree__min_impurity_decrease=0, tree__min_samples_leaf=100; total time=  30.0s\n",
            "[CV] END tree__max_depth=1, tree__min_impurity_decrease=0, tree__min_samples_leaf=100; total time=  27.9s\n",
            "[CV] END tree__max_depth=1, tree__min_impurity_decrease=0, tree__min_samples_leaf=100; total time=  28.3s\n",
            "[CV] END tree__max_depth=1, tree__min_impurity_decrease=0, tree__min_samples_leaf=100; total time=  27.9s\n",
            "[CV] END tree__max_depth=1, tree__min_impurity_decrease=0.001, tree__min_samples_leaf=250; total time=  30.6s\n",
            "[CV] END tree__max_depth=1, tree__min_impurity_decrease=0.001, tree__min_samples_leaf=250; total time=  30.4s\n",
            "[CV] END tree__max_depth=1, tree__min_impurity_decrease=0.001, tree__min_samples_leaf=250; total time=  28.2s\n",
            "[CV] END tree__max_depth=1, tree__min_impurity_decrease=0.001, tree__min_samples_leaf=250; total time=  27.9s\n",
            "[CV] END tree__max_depth=1, tree__min_impurity_decrease=0.001, tree__min_samples_leaf=250; total time=  27.6s\n",
            "[CV] END tree__max_depth=1, tree__min_impurity_decrease=0.001, tree__min_samples_leaf=200; total time=  30.3s\n",
            "[CV] END tree__max_depth=1, tree__min_impurity_decrease=0.001, tree__min_samples_leaf=200; total time=  30.1s\n",
            "[CV] END tree__max_depth=1, tree__min_impurity_decrease=0.001, tree__min_samples_leaf=200; total time=  30.0s\n",
            "[CV] END tree__max_depth=1, tree__min_impurity_decrease=0.001, tree__min_samples_leaf=200; total time=  28.3s\n",
            "[CV] END tree__max_depth=1, tree__min_impurity_decrease=0.001, tree__min_samples_leaf=200; total time=  28.4s\n",
            "[CV] END tree__max_depth=1, tree__min_impurity_decrease=0.001, tree__min_samples_leaf=150; total time=  30.3s\n",
            "[CV] END tree__max_depth=1, tree__min_impurity_decrease=0.001, tree__min_samples_leaf=150; total time=  32.6s\n",
            "[CV] END tree__max_depth=1, tree__min_impurity_decrease=0.001, tree__min_samples_leaf=150; total time=  28.9s\n",
            "[CV] END tree__max_depth=1, tree__min_impurity_decrease=0.001, tree__min_samples_leaf=150; total time=  28.5s\n",
            "[CV] END tree__max_depth=1, tree__min_impurity_decrease=0.001, tree__min_samples_leaf=150; total time=  28.1s\n",
            "[CV] END tree__max_depth=1, tree__min_impurity_decrease=0.001, tree__min_samples_leaf=100; total time=  31.4s\n",
            "[CV] END tree__max_depth=1, tree__min_impurity_decrease=0.001, tree__min_samples_leaf=100; total time=  30.0s\n",
            "[CV] END tree__max_depth=1, tree__min_impurity_decrease=0.001, tree__min_samples_leaf=100; total time=  27.8s\n",
            "[CV] END tree__max_depth=1, tree__min_impurity_decrease=0.001, tree__min_samples_leaf=100; total time=  28.8s\n",
            "[CV] END tree__max_depth=1, tree__min_impurity_decrease=0.001, tree__min_samples_leaf=100; total time=  27.8s\n",
            "Best score:  0.5767355692217517\n",
            "Best params:  {'tree__max_depth': 3, 'tree__min_impurity_decrease': 0, 'tree__min_samples_leaf': 250}\n"
          ]
        }
      ],
      "source": [
        "param_grid = {\n",
        "    'tree__max_depth': [5, 4, 3, 2, 1],\n",
        "    'tree__min_samples_leaf': [250, 200, 150, 100],\n",
        "    'tree__min_impurity_decrease': [0, 0.001]\n",
        "}\n",
        "\n",
        "grid = GridSearchCV(pipe, param_grid, cv=5,\n",
        "                    scoring='roc_auc',\n",
        "                    verbose=2)\n",
        "\n",
        "grid.fit(X_train_dummies, y_train)\n",
        "\n",
        "print('Best score: ', grid.best_score_)\n",
        "print('Best params: ', grid.best_params_)"
      ]
    },
    {
      "cell_type": "markdown",
      "metadata": {
        "id": "Ua3BuEL8jF5N"
      },
      "source": [
        "The results of the second round show, that the optimal value for max_depth is 3, optimal min_impurity decrease equals 0. <br>\n",
        "In the third round 400, 350, 300, 250 will be tested as a values of min_samples_leaf."
      ]
    },
    {
      "cell_type": "markdown",
      "metadata": {
        "id": "UmwVw2fDjF5N"
      },
      "source": [
        "Round 3"
      ]
    },
    {
      "cell_type": "code",
      "execution_count": null,
      "metadata": {
        "id": "nMH3nwbmjF5O",
        "colab": {
          "base_uri": "https://localhost:8080/"
        },
        "outputId": "a84d64f2-7589-4f23-b78a-fa7396d94aed"
      },
      "outputs": [
        {
          "output_type": "stream",
          "name": "stdout",
          "text": [
            "Fitting 5 folds for each of 12 candidates, totalling 60 fits\n",
            "[CV] END ......tree__max_depth=4, tree__min_samples_leaf=400; total time= 2.0min\n",
            "[CV] END ......tree__max_depth=4, tree__min_samples_leaf=400; total time= 2.0min\n",
            "[CV] END ......tree__max_depth=4, tree__min_samples_leaf=400; total time= 1.4min\n",
            "[CV] END ......tree__max_depth=4, tree__min_samples_leaf=400; total time= 1.4min\n",
            "[CV] END ......tree__max_depth=4, tree__min_samples_leaf=400; total time= 1.4min\n",
            "[CV] END ......tree__max_depth=4, tree__min_samples_leaf=350; total time= 1.9min\n",
            "[CV] END ......tree__max_depth=4, tree__min_samples_leaf=350; total time= 1.9min\n",
            "[CV] END ......tree__max_depth=4, tree__min_samples_leaf=350; total time= 1.3min\n",
            "[CV] END ......tree__max_depth=4, tree__min_samples_leaf=350; total time= 1.4min\n",
            "[CV] END ......tree__max_depth=4, tree__min_samples_leaf=350; total time= 1.4min\n",
            "[CV] END ......tree__max_depth=4, tree__min_samples_leaf=300; total time= 1.9min\n",
            "[CV] END ......tree__max_depth=4, tree__min_samples_leaf=300; total time= 1.9min\n",
            "[CV] END ......tree__max_depth=4, tree__min_samples_leaf=300; total time= 1.4min\n",
            "[CV] END ......tree__max_depth=4, tree__min_samples_leaf=300; total time= 1.4min\n",
            "[CV] END ......tree__max_depth=4, tree__min_samples_leaf=300; total time= 1.3min\n",
            "[CV] END ......tree__max_depth=4, tree__min_samples_leaf=250; total time= 1.9min\n",
            "[CV] END ......tree__max_depth=4, tree__min_samples_leaf=250; total time= 2.0min\n",
            "[CV] END ......tree__max_depth=4, tree__min_samples_leaf=250; total time= 1.4min\n",
            "[CV] END ......tree__max_depth=4, tree__min_samples_leaf=250; total time= 1.4min\n",
            "[CV] END ......tree__max_depth=4, tree__min_samples_leaf=250; total time= 1.4min\n",
            "[CV] END ......tree__max_depth=3, tree__min_samples_leaf=400; total time= 2.0min\n",
            "[CV] END ......tree__max_depth=3, tree__min_samples_leaf=400; total time= 1.9min\n",
            "[CV] END ......tree__max_depth=3, tree__min_samples_leaf=400; total time= 1.5min\n",
            "[CV] END ......tree__max_depth=3, tree__min_samples_leaf=400; total time= 1.4min\n",
            "[CV] END ......tree__max_depth=3, tree__min_samples_leaf=400; total time= 1.4min\n",
            "[CV] END ......tree__max_depth=3, tree__min_samples_leaf=350; total time= 1.9min\n",
            "[CV] END ......tree__max_depth=3, tree__min_samples_leaf=350; total time= 1.9min\n",
            "[CV] END ......tree__max_depth=3, tree__min_samples_leaf=350; total time= 1.4min\n",
            "[CV] END ......tree__max_depth=3, tree__min_samples_leaf=350; total time= 1.4min\n",
            "[CV] END ......tree__max_depth=3, tree__min_samples_leaf=350; total time= 1.5min\n",
            "[CV] END ......tree__max_depth=3, tree__min_samples_leaf=300; total time= 1.9min\n",
            "[CV] END ......tree__max_depth=3, tree__min_samples_leaf=300; total time= 1.9min\n",
            "[CV] END ......tree__max_depth=3, tree__min_samples_leaf=300; total time= 1.4min\n",
            "[CV] END ......tree__max_depth=3, tree__min_samples_leaf=300; total time= 1.4min\n",
            "[CV] END ......tree__max_depth=3, tree__min_samples_leaf=300; total time= 1.4min\n",
            "[CV] END ......tree__max_depth=3, tree__min_samples_leaf=250; total time= 1.9min\n",
            "[CV] END ......tree__max_depth=3, tree__min_samples_leaf=250; total time= 1.9min\n",
            "[CV] END ......tree__max_depth=3, tree__min_samples_leaf=250; total time= 1.4min\n",
            "[CV] END ......tree__max_depth=3, tree__min_samples_leaf=250; total time= 1.4min\n",
            "[CV] END ......tree__max_depth=3, tree__min_samples_leaf=250; total time= 1.4min\n",
            "[CV] END ......tree__max_depth=2, tree__min_samples_leaf=400; total time= 1.9min\n",
            "[CV] END ......tree__max_depth=2, tree__min_samples_leaf=400; total time= 1.8min\n",
            "[CV] END ......tree__max_depth=2, tree__min_samples_leaf=400; total time= 1.4min\n",
            "[CV] END ......tree__max_depth=2, tree__min_samples_leaf=400; total time= 1.4min\n",
            "[CV] END ......tree__max_depth=2, tree__min_samples_leaf=400; total time= 1.4min\n",
            "[CV] END ......tree__max_depth=2, tree__min_samples_leaf=350; total time= 1.9min\n",
            "[CV] END ......tree__max_depth=2, tree__min_samples_leaf=350; total time= 1.7min\n",
            "[CV] END ......tree__max_depth=2, tree__min_samples_leaf=350; total time= 1.3min\n",
            "[CV] END ......tree__max_depth=2, tree__min_samples_leaf=350; total time= 1.4min\n",
            "[CV] END ......tree__max_depth=2, tree__min_samples_leaf=350; total time= 1.4min\n",
            "[CV] END ......tree__max_depth=2, tree__min_samples_leaf=300; total time= 1.9min\n",
            "[CV] END ......tree__max_depth=2, tree__min_samples_leaf=300; total time= 1.9min\n",
            "[CV] END ......tree__max_depth=2, tree__min_samples_leaf=300; total time= 1.3min\n",
            "[CV] END ......tree__max_depth=2, tree__min_samples_leaf=300; total time= 1.4min\n",
            "[CV] END ......tree__max_depth=2, tree__min_samples_leaf=300; total time= 1.4min\n",
            "[CV] END ......tree__max_depth=2, tree__min_samples_leaf=250; total time= 1.9min\n",
            "[CV] END ......tree__max_depth=2, tree__min_samples_leaf=250; total time= 1.9min\n",
            "[CV] END ......tree__max_depth=2, tree__min_samples_leaf=250; total time= 1.4min\n",
            "[CV] END ......tree__max_depth=2, tree__min_samples_leaf=250; total time= 1.4min\n",
            "[CV] END ......tree__max_depth=2, tree__min_samples_leaf=250; total time= 1.4min\n",
            "Best score:  0.5767857044559788\n",
            "Best params:  {'tree__max_depth': 3, 'tree__min_samples_leaf': 300}\n"
          ]
        }
      ],
      "source": [
        "param_grid = {\n",
        "    'tree__max_depth': [4, 3, 2],\n",
        "    'tree__min_samples_leaf': [400, 350, 300, 250]\n",
        "}\n",
        "\n",
        "grid = GridSearchCV(pipe, param_grid, cv=5,\n",
        "                    scoring='roc_auc',\n",
        "                    verbose=2)\n",
        "\n",
        "grid.fit(X_train_dummies, y_train)\n",
        "\n",
        "print('Best score: ', grid.best_score_)\n",
        "print('Best params: ', grid.best_params_)"
      ]
    },
    {
      "cell_type": "markdown",
      "metadata": {
        "id": "pUKMsUE_jF5O"
      },
      "source": [
        "The optimal values of a decision tree's parameters are max_depth=3, min_samples_leaf=300."
      ]
    },
    {
      "cell_type": "markdown",
      "metadata": {
        "id": "t7SDKN1tjF5P"
      },
      "source": [
        "# Tree final"
      ]
    },
    {
      "cell_type": "code",
      "execution_count": null,
      "metadata": {
        "id": "0xTf_8b8jF5P",
        "colab": {
          "base_uri": "https://localhost:8080/"
        },
        "outputId": "fe882049-e57e-4eeb-b34f-42ff63880171"
      },
      "outputs": [
        {
          "output_type": "stream",
          "name": "stdout",
          "text": [
            "Train set AUC: 0.5\n",
            "Test set AUC: 0.5\n"
          ]
        }
      ],
      "source": [
        "tree_final = Pipeline([\n",
        "    ('transformer', ColumnTransformer([\n",
        "        ('scaler', StandardScaler(), [*range(0, 19)])],\n",
        "         remainder='passthrough')),\n",
        "    ('imputer', KNNImputer()),\n",
        "    ('tree', DecisionTreeClassifier(max_depth=3, min_samples_leaf=300,\n",
        "                                    random_state=0))\n",
        "])\n",
        "tree_final.fit(X_train_dummies, y_train)\n",
        "\n",
        "\n",
        "print(\"Train set AUC: {}\".format(roc_auc_score(y_train, tree_final.predict(X_train_dummies))))\n",
        "print(\"Test set AUC: {}\".format(roc_auc_score(y_test, tree_final.predict(X_test_dummies))))"
      ]
    },
    {
      "cell_type": "markdown",
      "source": [
        " AUC for both datasets is 0.5, which means that in both cases the tree predicts the negative category for all observations. At the end, the final model will be built on the whole labeled data (which for now has been splitted into a training and testing sets). So on a larger dataset we may get a larger decision tree. Moreover, the parameters values used in the tree_final were selected as the best ones during cross-validation, which means that on average (on different training and testing datasets) the tree_final model has the highest AUC among other decision trees. <br>\n",
        " To get higher quality of predictions, more complicated models will be used."
      ],
      "metadata": {
        "id": "WOS4HWKgVCYd"
      }
    },
    {
      "cell_type": "markdown",
      "source": [
        "# Baseline random forest model"
      ],
      "metadata": {
        "id": "SEbuA4b9V8Gd"
      }
    },
    {
      "cell_type": "code",
      "source": [
        "rf_baseline = RandomForestClassifier(random_state=0)\n",
        "rf_baseline.fit(X_train, y_train)\n",
        "\n",
        "print(\"Train set AUC: {}\".format(roc_auc_score(y_train, rf_baseline.predict(X_train))))\n",
        "print(\"Test set AUC: {}\".format(roc_auc_score(y_test,  rf_baseline.predict(X_test))))"
      ],
      "metadata": {
        "colab": {
          "base_uri": "https://localhost:8080/"
        },
        "id": "oIqSIaXPWRT2",
        "outputId": "cb3795c6-cfe2-442a-df94-0c936ea97639"
      },
      "execution_count": null,
      "outputs": [
        {
          "output_type": "stream",
          "name": "stdout",
          "text": [
            "Train set AUC: 1.0\n",
            "Test set AUC: 0.5\n"
          ]
        }
      ]
    },
    {
      "cell_type": "markdown",
      "source": [
        "AUC equals 1 on the training set and 0.5 on the test set. In order to achieve better results, GridSearchCV will be used. As before, the pipeline hasa scaling step (needed for KNN), KNN for imputing missing values and a classifier"
      ],
      "metadata": {
        "id": "S9yI4K1JXX34"
      }
    },
    {
      "cell_type": "markdown",
      "source": [
        "# Tuning rf parameters values"
      ],
      "metadata": {
        "id": "jYhfuAinXyS-"
      }
    },
    {
      "cell_type": "code",
      "source": [
        "pipe = Pipeline([\n",
        "    ('transformer', ColumnTransformer([\n",
        "        ('scaler', StandardScaler(), [*range(0, 19)])],\n",
        "         remainder='passthrough')),\n",
        "    ('imputer', KNNImputer()),\n",
        "    ('rf', RandomForestClassifier(random_state=0, n_jobs=-1))\n",
        "])"
      ],
      "metadata": {
        "id": "W5bW903AXwB0"
      },
      "execution_count": 10,
      "outputs": []
    },
    {
      "cell_type": "markdown",
      "source": [
        "Round 1"
      ],
      "metadata": {
        "id": "Kgf0T9G2X_N7"
      }
    },
    {
      "cell_type": "code",
      "source": [
        "param_grid = {\n",
        "    'rf__n_estimators': [500, 250, 100],\n",
        "    'rf__max_depth': [None, 10, 5],\n",
        "    'rf__min_samples_split': [2, 10, 50]\n",
        "}\n",
        "\n",
        "grid = GridSearchCV(pipe, param_grid, cv=5,\n",
        "                    scoring='roc_auc',\n",
        "                    verbose=2)\n",
        "\n",
        "grid.fit(X_train_dummies, y_train)\n",
        "\n",
        "print('Best score: ', grid.best_score_)\n",
        "print('Best params: ', grid.best_params_)"
      ],
      "metadata": {
        "colab": {
          "base_uri": "https://localhost:8080/"
        },
        "id": "gTchMHxsX8Js",
        "outputId": "9273356e-aacf-49f8-af86-171c446da7c9"
      },
      "execution_count": null,
      "outputs": [
        {
          "metadata": {
            "tags": null
          },
          "name": "stdout",
          "output_type": "stream",
          "text": [
            "Fitting 5 folds for each of 27 candidates, totalling 135 fits\n",
            "[CV] END rf__max_depth=None, rf__min_samples_split=2, rf__n_estimators=500; total time=  54.2s\n",
            "[CV] END rf__max_depth=None, rf__min_samples_split=2, rf__n_estimators=500; total time=  54.7s\n",
            "[CV] END rf__max_depth=None, rf__min_samples_split=2, rf__n_estimators=500; total time=  52.1s\n",
            "[CV] END rf__max_depth=None, rf__min_samples_split=2, rf__n_estimators=500; total time=  55.3s\n",
            "[CV] END rf__max_depth=None, rf__min_samples_split=2, rf__n_estimators=500; total time=  53.1s\n",
            "[CV] END rf__max_depth=None, rf__min_samples_split=2, rf__n_estimators=250; total time=  41.9s\n",
            "[CV] END rf__max_depth=None, rf__min_samples_split=2, rf__n_estimators=250; total time=  42.7s\n",
            "[CV] END rf__max_depth=None, rf__min_samples_split=2, rf__n_estimators=250; total time=  40.6s\n",
            "[CV] END rf__max_depth=None, rf__min_samples_split=2, rf__n_estimators=250; total time=  40.6s\n",
            "[CV] END rf__max_depth=None, rf__min_samples_split=2, rf__n_estimators=250; total time=  40.8s\n",
            "[CV] END rf__max_depth=None, rf__min_samples_split=2, rf__n_estimators=100; total time=  35.4s\n",
            "[CV] END rf__max_depth=None, rf__min_samples_split=2, rf__n_estimators=100; total time=  35.2s\n",
            "[CV] END rf__max_depth=None, rf__min_samples_split=2, rf__n_estimators=100; total time=  33.3s\n",
            "[CV] END rf__max_depth=None, rf__min_samples_split=2, rf__n_estimators=100; total time=  33.2s\n",
            "[CV] END rf__max_depth=None, rf__min_samples_split=2, rf__n_estimators=100; total time=  33.2s\n",
            "[CV] END rf__max_depth=None, rf__min_samples_split=10, rf__n_estimators=500; total time=  54.0s\n",
            "[CV] END rf__max_depth=None, rf__min_samples_split=10, rf__n_estimators=500; total time=  54.1s\n",
            "[CV] END rf__max_depth=None, rf__min_samples_split=10, rf__n_estimators=500; total time=  51.9s\n",
            "[CV] END rf__max_depth=None, rf__min_samples_split=10, rf__n_estimators=500; total time=  51.9s\n",
            "[CV] END rf__max_depth=None, rf__min_samples_split=10, rf__n_estimators=500; total time=  52.2s\n",
            "[CV] END rf__max_depth=None, rf__min_samples_split=10, rf__n_estimators=250; total time=  42.3s\n",
            "[CV] END rf__max_depth=None, rf__min_samples_split=10, rf__n_estimators=250; total time=  42.5s\n",
            "[CV] END rf__max_depth=None, rf__min_samples_split=10, rf__n_estimators=250; total time=  40.1s\n",
            "[CV] END rf__max_depth=None, rf__min_samples_split=10, rf__n_estimators=250; total time=  40.0s\n",
            "[CV] END rf__max_depth=None, rf__min_samples_split=10, rf__n_estimators=250; total time=  40.3s\n",
            "[CV] END rf__max_depth=None, rf__min_samples_split=10, rf__n_estimators=100; total time=  35.1s\n",
            "[CV] END rf__max_depth=None, rf__min_samples_split=10, rf__n_estimators=100; total time=  35.2s\n",
            "[CV] END rf__max_depth=None, rf__min_samples_split=10, rf__n_estimators=100; total time=  33.1s\n",
            "[CV] END rf__max_depth=None, rf__min_samples_split=10, rf__n_estimators=100; total time=  33.2s\n",
            "[CV] END rf__max_depth=None, rf__min_samples_split=10, rf__n_estimators=100; total time=  33.1s\n",
            "[CV] END rf__max_depth=None, rf__min_samples_split=50, rf__n_estimators=500; total time=  51.6s\n",
            "[CV] END rf__max_depth=None, rf__min_samples_split=50, rf__n_estimators=500; total time=  51.6s\n",
            "[CV] END rf__max_depth=None, rf__min_samples_split=50, rf__n_estimators=500; total time=  49.2s\n",
            "[CV] END rf__max_depth=None, rf__min_samples_split=50, rf__n_estimators=500; total time=  49.4s\n",
            "[CV] END rf__max_depth=None, rf__min_samples_split=50, rf__n_estimators=500; total time=  49.9s\n",
            "[CV] END rf__max_depth=None, rf__min_samples_split=50, rf__n_estimators=250; total time=  41.1s\n",
            "[CV] END rf__max_depth=None, rf__min_samples_split=50, rf__n_estimators=250; total time=  40.8s\n",
            "[CV] END rf__max_depth=None, rf__min_samples_split=50, rf__n_estimators=250; total time=  38.0s\n",
            "[CV] END rf__max_depth=None, rf__min_samples_split=50, rf__n_estimators=250; total time=  37.8s\n",
            "[CV] END rf__max_depth=None, rf__min_samples_split=50, rf__n_estimators=250; total time=  37.8s\n",
            "[CV] END rf__max_depth=None, rf__min_samples_split=50, rf__n_estimators=100; total time=  33.5s\n",
            "[CV] END rf__max_depth=None, rf__min_samples_split=50, rf__n_estimators=100; total time=  33.4s\n",
            "[CV] END rf__max_depth=None, rf__min_samples_split=50, rf__n_estimators=100; total time=  31.3s\n",
            "[CV] END rf__max_depth=None, rf__min_samples_split=50, rf__n_estimators=100; total time=  31.4s\n",
            "[CV] END rf__max_depth=None, rf__min_samples_split=50, rf__n_estimators=100; total time=  31.5s\n",
            "[CV] END rf__max_depth=10, rf__min_samples_split=2, rf__n_estimators=500; total time=  41.8s\n",
            "[CV] END rf__max_depth=10, rf__min_samples_split=2, rf__n_estimators=500; total time=  41.8s\n",
            "[CV] END rf__max_depth=10, rf__min_samples_split=2, rf__n_estimators=500; total time=  39.6s\n",
            "[CV] END rf__max_depth=10, rf__min_samples_split=2, rf__n_estimators=500; total time=  39.8s\n",
            "[CV] END rf__max_depth=10, rf__min_samples_split=2, rf__n_estimators=500; total time=  39.3s\n",
            "[CV] END rf__max_depth=10, rf__min_samples_split=2, rf__n_estimators=250; total time=  35.8s\n",
            "[CV] END rf__max_depth=10, rf__min_samples_split=2, rf__n_estimators=250; total time=  35.6s\n",
            "[CV] END rf__max_depth=10, rf__min_samples_split=2, rf__n_estimators=250; total time=  33.5s\n",
            "[CV] END rf__max_depth=10, rf__min_samples_split=2, rf__n_estimators=250; total time=  33.3s\n",
            "[CV] END rf__max_depth=10, rf__min_samples_split=2, rf__n_estimators=250; total time=  33.4s\n",
            "[CV] END rf__max_depth=10, rf__min_samples_split=2, rf__n_estimators=100; total time=  32.1s\n",
            "[CV] END rf__max_depth=10, rf__min_samples_split=2, rf__n_estimators=100; total time=  31.9s\n",
            "[CV] END rf__max_depth=10, rf__min_samples_split=2, rf__n_estimators=100; total time=  29.8s\n",
            "[CV] END rf__max_depth=10, rf__min_samples_split=2, rf__n_estimators=100; total time=  29.8s\n",
            "[CV] END rf__max_depth=10, rf__min_samples_split=2, rf__n_estimators=100; total time=  29.7s\n",
            "[CV] END rf__max_depth=10, rf__min_samples_split=10, rf__n_estimators=500; total time=  41.9s\n",
            "[CV] END rf__max_depth=10, rf__min_samples_split=10, rf__n_estimators=500; total time=  41.7s\n",
            "[CV] END rf__max_depth=10, rf__min_samples_split=10, rf__n_estimators=500; total time=  39.6s\n",
            "[CV] END rf__max_depth=10, rf__min_samples_split=10, rf__n_estimators=500; total time=  41.2s\n",
            "[CV] END rf__max_depth=10, rf__min_samples_split=10, rf__n_estimators=500; total time=  39.2s\n",
            "[CV] END rf__max_depth=10, rf__min_samples_split=10, rf__n_estimators=250; total time=  35.7s\n",
            "[CV] END rf__max_depth=10, rf__min_samples_split=10, rf__n_estimators=250; total time=  35.5s\n",
            "[CV] END rf__max_depth=10, rf__min_samples_split=10, rf__n_estimators=250; total time=  34.1s\n",
            "[CV] END rf__max_depth=10, rf__min_samples_split=10, rf__n_estimators=250; total time=  33.7s\n",
            "[CV] END rf__max_depth=10, rf__min_samples_split=10, rf__n_estimators=250; total time=  33.4s\n",
            "[CV] END rf__max_depth=10, rf__min_samples_split=10, rf__n_estimators=100; total time=  31.8s\n",
            "[CV] END rf__max_depth=10, rf__min_samples_split=10, rf__n_estimators=100; total time=  31.7s\n",
            "[CV] END rf__max_depth=10, rf__min_samples_split=10, rf__n_estimators=100; total time=  31.7s\n",
            "[CV] END rf__max_depth=10, rf__min_samples_split=10, rf__n_estimators=100; total time=  29.5s\n",
            "[CV] END rf__max_depth=10, rf__min_samples_split=10, rf__n_estimators=100; total time=  29.3s\n",
            "[CV] END rf__max_depth=10, rf__min_samples_split=50, rf__n_estimators=500; total time=  41.5s\n",
            "[CV] END rf__max_depth=10, rf__min_samples_split=50, rf__n_estimators=500; total time=  42.5s\n",
            "[CV] END rf__max_depth=10, rf__min_samples_split=50, rf__n_estimators=500; total time=  39.0s\n",
            "[CV] END rf__max_depth=10, rf__min_samples_split=50, rf__n_estimators=500; total time=  39.2s\n",
            "[CV] END rf__max_depth=10, rf__min_samples_split=50, rf__n_estimators=500; total time=  39.0s\n",
            "[CV] END rf__max_depth=10, rf__min_samples_split=50, rf__n_estimators=250; total time=  36.6s\n",
            "[CV] END rf__max_depth=10, rf__min_samples_split=50, rf__n_estimators=250; total time=  35.0s\n",
            "[CV] END rf__max_depth=10, rf__min_samples_split=50, rf__n_estimators=250; total time=  33.1s\n",
            "[CV] END rf__max_depth=10, rf__min_samples_split=50, rf__n_estimators=250; total time=  33.1s\n",
            "[CV] END rf__max_depth=10, rf__min_samples_split=50, rf__n_estimators=250; total time=  34.4s\n",
            "[CV] END rf__max_depth=10, rf__min_samples_split=50, rf__n_estimators=100; total time=  32.2s\n",
            "[CV] END rf__max_depth=10, rf__min_samples_split=50, rf__n_estimators=100; total time=  31.3s\n",
            "[CV] END rf__max_depth=10, rf__min_samples_split=50, rf__n_estimators=100; total time=  29.5s\n",
            "[CV] END rf__max_depth=10, rf__min_samples_split=50, rf__n_estimators=100; total time=  29.8s\n",
            "[CV] END rf__max_depth=10, rf__min_samples_split=50, rf__n_estimators=100; total time=  30.0s\n",
            "[CV] END rf__max_depth=5, rf__min_samples_split=2, rf__n_estimators=500; total time=  36.2s\n",
            "[CV] END rf__max_depth=5, rf__min_samples_split=2, rf__n_estimators=500; total time=  36.0s\n",
            "[CV] END rf__max_depth=5, rf__min_samples_split=2, rf__n_estimators=500; total time=  34.1s\n",
            "[CV] END rf__max_depth=5, rf__min_samples_split=2, rf__n_estimators=500; total time=  35.4s\n",
            "[CV] END rf__max_depth=5, rf__min_samples_split=2, rf__n_estimators=500; total time=  33.8s\n",
            "[CV] END rf__max_depth=5, rf__min_samples_split=2, rf__n_estimators=250; total time=  32.8s\n",
            "[CV] END rf__max_depth=5, rf__min_samples_split=2, rf__n_estimators=250; total time=  32.6s\n",
            "[CV] END rf__max_depth=5, rf__min_samples_split=2, rf__n_estimators=250; total time=  31.3s\n",
            "[CV] END rf__max_depth=5, rf__min_samples_split=2, rf__n_estimators=250; total time=  30.5s\n",
            "[CV] END rf__max_depth=5, rf__min_samples_split=2, rf__n_estimators=250; total time=  30.2s\n",
            "[CV] END rf__max_depth=5, rf__min_samples_split=2, rf__n_estimators=100; total time=  30.5s\n",
            "[CV] END rf__max_depth=5, rf__min_samples_split=2, rf__n_estimators=100; total time=  30.4s\n",
            "[CV] END rf__max_depth=5, rf__min_samples_split=2, rf__n_estimators=100; total time=  29.6s\n",
            "[CV] END rf__max_depth=5, rf__min_samples_split=2, rf__n_estimators=100; total time=  28.3s\n",
            "[CV] END rf__max_depth=5, rf__min_samples_split=2, rf__n_estimators=100; total time=  28.2s\n",
            "[CV] END rf__max_depth=5, rf__min_samples_split=10, rf__n_estimators=500; total time=  36.0s\n",
            "[CV] END rf__max_depth=5, rf__min_samples_split=10, rf__n_estimators=500; total time=  36.7s\n",
            "[CV] END rf__max_depth=5, rf__min_samples_split=10, rf__n_estimators=500; total time=  33.9s\n",
            "[CV] END rf__max_depth=5, rf__min_samples_split=10, rf__n_estimators=500; total time=  34.0s\n",
            "[CV] END rf__max_depth=5, rf__min_samples_split=10, rf__n_estimators=500; total time=  34.2s\n",
            "[CV] END rf__max_depth=5, rf__min_samples_split=10, rf__n_estimators=250; total time=  32.9s\n",
            "[CV] END rf__max_depth=5, rf__min_samples_split=10, rf__n_estimators=250; total time=  33.8s\n",
            "[CV] END rf__max_depth=5, rf__min_samples_split=10, rf__n_estimators=250; total time=  30.5s\n",
            "[CV] END rf__max_depth=5, rf__min_samples_split=10, rf__n_estimators=250; total time=  30.6s\n",
            "[CV] END rf__max_depth=5, rf__min_samples_split=10, rf__n_estimators=250; total time=  30.4s\n",
            "[CV] END rf__max_depth=5, rf__min_samples_split=10, rf__n_estimators=100; total time=  53.4s\n",
            "[CV] END rf__max_depth=5, rf__min_samples_split=10, rf__n_estimators=100; total time= 1.5min\n",
            "[CV] END rf__max_depth=5, rf__min_samples_split=10, rf__n_estimators=100; total time=  35.0s\n",
            "[CV] END rf__max_depth=5, rf__min_samples_split=10, rf__n_estimators=100; total time=  28.9s\n",
            "[CV] END rf__max_depth=5, rf__min_samples_split=10, rf__n_estimators=100; total time=  28.0s\n",
            "[CV] END rf__max_depth=5, rf__min_samples_split=50, rf__n_estimators=500; total time=  36.1s\n",
            "[CV] END rf__max_depth=5, rf__min_samples_split=50, rf__n_estimators=500; total time=  36.0s\n",
            "[CV] END rf__max_depth=5, rf__min_samples_split=50, rf__n_estimators=500; total time=  35.5s\n",
            "[CV] END rf__max_depth=5, rf__min_samples_split=50, rf__n_estimators=500; total time=  34.0s\n",
            "[CV] END rf__max_depth=5, rf__min_samples_split=50, rf__n_estimators=500; total time=  33.6s\n",
            "[CV] END rf__max_depth=5, rf__min_samples_split=50, rf__n_estimators=250; total time=  32.7s\n",
            "[CV] END rf__max_depth=5, rf__min_samples_split=50, rf__n_estimators=250; total time=  33.8s\n",
            "[CV] END rf__max_depth=5, rf__min_samples_split=50, rf__n_estimators=250; total time=  30.5s\n",
            "[CV] END rf__max_depth=5, rf__min_samples_split=50, rf__n_estimators=250; total time=  30.2s\n",
            "[CV] END rf__max_depth=5, rf__min_samples_split=50, rf__n_estimators=250; total time=  30.3s\n",
            "[CV] END rf__max_depth=5, rf__min_samples_split=50, rf__n_estimators=100; total time=  31.5s\n",
            "[CV] END rf__max_depth=5, rf__min_samples_split=50, rf__n_estimators=100; total time=  30.2s\n",
            "[CV] END rf__max_depth=5, rf__min_samples_split=50, rf__n_estimators=100; total time=  28.3s\n",
            "[CV] END rf__max_depth=5, rf__min_samples_split=50, rf__n_estimators=100; total time=  28.4s\n",
            "[CV] END rf__max_depth=5, rf__min_samples_split=50, rf__n_estimators=100; total time=  28.2s\n",
            "Best score:  0.5793882702509077\n",
            "Best params:  {'rf__max_depth': 5, 'rf__min_samples_split': 2, 'rf__n_estimators': 500}\n"
          ]
        }
      ]
    },
    {
      "cell_type": "markdown",
      "source": [
        "As a result of the first round of grid search, the minimum values for max_depth and min_samples_split were chosen. Also the highest number of decision trees were used in the best model.<br>\n",
        "Therefore, at the second round the number of estimators was increased and other values for max_depth were tested."
      ],
      "metadata": {
        "id": "375varKDE_YL"
      }
    },
    {
      "cell_type": "markdown",
      "source": [
        "Round 2"
      ],
      "metadata": {
        "id": "qrSAxAYskgMy"
      }
    },
    {
      "cell_type": "code",
      "source": [
        "param_grid = {\n",
        "    'rf__n_estimators': [1500, 1000, 500],\n",
        "    'rf__max_depth': [8, 5, 3]\n",
        "}\n",
        "\n",
        "grid = GridSearchCV(pipe, param_grid, cv=5,\n",
        "                    scoring='roc_auc',\n",
        "                    verbose=2)\n",
        "\n",
        "grid.fit(X_train_dummies, y_train)\n",
        "\n",
        "print('Best score: ', grid.best_score_)\n",
        "print('Best params: ', grid.best_params_)"
      ],
      "metadata": {
        "colab": {
          "base_uri": "https://localhost:8080/"
        },
        "id": "MYyJqjVbYy4A",
        "outputId": "155d1cc1-b62d-427f-8071-0dff241633ac"
      },
      "execution_count": null,
      "outputs": [
        {
          "output_type": "stream",
          "name": "stdout",
          "text": [
            "Fitting 5 folds for each of 9 candidates, totalling 45 fits\n",
            "[CV] END .............rf__max_depth=8, rf__n_estimators=1500; total time= 1.1min\n",
            "[CV] END .............rf__max_depth=8, rf__n_estimators=1500; total time= 1.0min\n",
            "[CV] END .............rf__max_depth=8, rf__n_estimators=1500; total time= 1.0min\n",
            "[CV] END .............rf__max_depth=8, rf__n_estimators=1500; total time= 1.0min\n",
            "[CV] END .............rf__max_depth=8, rf__n_estimators=1500; total time= 1.0min\n",
            "[CV] END .............rf__max_depth=8, rf__n_estimators=1000; total time=  51.5s\n",
            "[CV] END .............rf__max_depth=8, rf__n_estimators=1000; total time=  51.4s\n",
            "[CV] END .............rf__max_depth=8, rf__n_estimators=1000; total time=  50.9s\n",
            "[CV] END .............rf__max_depth=8, rf__n_estimators=1000; total time=  49.2s\n",
            "[CV] END .............rf__max_depth=8, rf__n_estimators=1000; total time=  49.0s\n",
            "[CV] END ..............rf__max_depth=8, rf__n_estimators=500; total time=  43.1s\n",
            "[CV] END ..............rf__max_depth=8, rf__n_estimators=500; total time=  40.8s\n",
            "[CV] END ..............rf__max_depth=8, rf__n_estimators=500; total time=  38.7s\n",
            "[CV] END ..............rf__max_depth=8, rf__n_estimators=500; total time=  40.0s\n",
            "[CV] END ..............rf__max_depth=8, rf__n_estimators=500; total time=  38.7s\n",
            "[CV] END .............rf__max_depth=5, rf__n_estimators=1500; total time=  51.1s\n",
            "[CV] END .............rf__max_depth=5, rf__n_estimators=1500; total time=  52.6s\n",
            "[CV] END .............rf__max_depth=5, rf__n_estimators=1500; total time=  49.1s\n",
            "[CV] END .............rf__max_depth=5, rf__n_estimators=1500; total time=  48.7s\n",
            "[CV] END .............rf__max_depth=5, rf__n_estimators=1500; total time=  50.8s\n",
            "[CV] END .............rf__max_depth=5, rf__n_estimators=1000; total time=  43.8s\n",
            "[CV] END .............rf__max_depth=5, rf__n_estimators=1000; total time= 1.0min\n",
            "[CV] END .............rf__max_depth=5, rf__n_estimators=1000; total time= 1.5min\n",
            "[CV] END .............rf__max_depth=5, rf__n_estimators=1000; total time= 1.7min\n",
            "[CV] END .............rf__max_depth=5, rf__n_estimators=1000; total time= 2.0min\n",
            "[CV] END ..............rf__max_depth=5, rf__n_estimators=500; total time=  55.9s\n",
            "[CV] END ..............rf__max_depth=5, rf__n_estimators=500; total time=  57.7s\n",
            "[CV] END ..............rf__max_depth=5, rf__n_estimators=500; total time=  47.1s\n",
            "[CV] END ..............rf__max_depth=5, rf__n_estimators=500; total time=  50.5s\n",
            "[CV] END ..............rf__max_depth=5, rf__n_estimators=500; total time=  38.6s\n",
            "[CV] END .............rf__max_depth=3, rf__n_estimators=1500; total time= 1.2min\n",
            "[CV] END .............rf__max_depth=3, rf__n_estimators=1500; total time= 1.1min\n",
            "[CV] END .............rf__max_depth=3, rf__n_estimators=1500; total time=  43.0s\n",
            "[CV] END .............rf__max_depth=3, rf__n_estimators=1500; total time=  41.9s\n",
            "[CV] END .............rf__max_depth=3, rf__n_estimators=1500; total time=  41.7s\n",
            "[CV] END .............rf__max_depth=3, rf__n_estimators=1000; total time=  44.3s\n",
            "[CV] END .............rf__max_depth=3, rf__n_estimators=1000; total time=  39.8s\n",
            "[CV] END .............rf__max_depth=3, rf__n_estimators=1000; total time=  38.1s\n",
            "[CV] END .............rf__max_depth=3, rf__n_estimators=1000; total time=  39.7s\n",
            "[CV] END .............rf__max_depth=3, rf__n_estimators=1000; total time=  39.7s\n",
            "[CV] END ..............rf__max_depth=3, rf__n_estimators=500; total time=  35.4s\n",
            "[CV] END ..............rf__max_depth=3, rf__n_estimators=500; total time=  34.6s\n",
            "[CV] END ..............rf__max_depth=3, rf__n_estimators=500; total time=  32.3s\n",
            "[CV] END ..............rf__max_depth=3, rf__n_estimators=500; total time=  33.7s\n",
            "[CV] END ..............rf__max_depth=3, rf__n_estimators=500; total time=  32.0s\n",
            "Best score:  0.5793882702509077\n",
            "Best params:  {'rf__max_depth': 5, 'rf__n_estimators': 500}\n"
          ]
        }
      ]
    },
    {
      "cell_type": "markdown",
      "source": [
        "The optimal parameters values for the first and the second rounds are the same. In the third round [7, 6, 5, 4] will be tested as values of the max_depth parameter. We'll use random forests consisting of 750, 500 or 400 decision trees."
      ],
      "metadata": {
        "id": "ubModUmNF1Ku"
      }
    },
    {
      "cell_type": "markdown",
      "source": [
        "Round 3"
      ],
      "metadata": {
        "id": "qI_eVA4ByZPP"
      }
    },
    {
      "cell_type": "code",
      "source": [
        "param_grid = {\n",
        "    'rf__n_estimators': [750, 500, 400],\n",
        "    'rf__max_depth': [7, 6, 5, 4]\n",
        "}\n",
        "\n",
        "grid = GridSearchCV(pipe, param_grid, cv=5,\n",
        "                    scoring='roc_auc',\n",
        "                    verbose=2)\n",
        "\n",
        "grid.fit(X_train_dummies, y_train)\n",
        "\n",
        "print('Best score: ', grid.best_score_)\n",
        "print('Best params: ', grid.best_params_)"
      ],
      "metadata": {
        "colab": {
          "base_uri": "https://localhost:8080/"
        },
        "id": "4BelicZNk-V4",
        "outputId": "421f308c-9699-4d50-f7d5-d181a0fe7244"
      },
      "execution_count": null,
      "outputs": [
        {
          "output_type": "stream",
          "name": "stdout",
          "text": [
            "Fitting 5 folds for each of 12 candidates, totalling 60 fits\n",
            "[CV] END ..............rf__max_depth=7, rf__n_estimators=750; total time= 1.4min\n",
            "[CV] END ..............rf__max_depth=7, rf__n_estimators=750; total time= 1.4min\n",
            "[CV] END ..............rf__max_depth=7, rf__n_estimators=750; total time=  54.9s\n",
            "[CV] END ..............rf__max_depth=7, rf__n_estimators=750; total time=  42.3s\n",
            "[CV] END ..............rf__max_depth=7, rf__n_estimators=750; total time=  40.7s\n",
            "[CV] END ..............rf__max_depth=7, rf__n_estimators=500; total time=  40.0s\n",
            "[CV] END ..............rf__max_depth=7, rf__n_estimators=500; total time=  41.9s\n",
            "[CV] END ..............rf__max_depth=7, rf__n_estimators=500; total time=  37.9s\n",
            "[CV] END ..............rf__max_depth=7, rf__n_estimators=500; total time=  36.9s\n",
            "[CV] END ..............rf__max_depth=7, rf__n_estimators=500; total time=  38.5s\n",
            "[CV] END ..............rf__max_depth=7, rf__n_estimators=400; total time=  37.1s\n",
            "[CV] END ..............rf__max_depth=7, rf__n_estimators=400; total time=  36.9s\n",
            "[CV] END ..............rf__max_depth=7, rf__n_estimators=400; total time=  35.2s\n",
            "[CV] END ..............rf__max_depth=7, rf__n_estimators=400; total time=  36.6s\n",
            "[CV] END ..............rf__max_depth=7, rf__n_estimators=400; total time=  35.2s\n",
            "[CV] END ..............rf__max_depth=6, rf__n_estimators=750; total time=  43.2s\n",
            "[CV] END ..............rf__max_depth=6, rf__n_estimators=750; total time=  43.6s\n",
            "[CV] END ..............rf__max_depth=6, rf__n_estimators=750; total time=  39.3s\n",
            "[CV] END ..............rf__max_depth=6, rf__n_estimators=750; total time=  39.4s\n",
            "[CV] END ..............rf__max_depth=6, rf__n_estimators=750; total time=  56.3s\n",
            "[CV] END ..............rf__max_depth=6, rf__n_estimators=500; total time= 1.4min\n",
            "[CV] END ..............rf__max_depth=6, rf__n_estimators=500; total time= 1.4min\n",
            "[CV] END ..............rf__max_depth=6, rf__n_estimators=500; total time=  53.9s\n",
            "[CV] END ..............rf__max_depth=6, rf__n_estimators=500; total time=  53.9s\n",
            "[CV] END ..............rf__max_depth=6, rf__n_estimators=500; total time= 1.1min\n",
            "[CV] END ..............rf__max_depth=6, rf__n_estimators=400; total time= 1.4min\n",
            "[CV] END ..............rf__max_depth=6, rf__n_estimators=400; total time=  54.4s\n",
            "[CV] END ..............rf__max_depth=6, rf__n_estimators=400; total time=  42.0s\n",
            "[CV] END ..............rf__max_depth=6, rf__n_estimators=400; total time=  37.6s\n",
            "[CV] END ..............rf__max_depth=6, rf__n_estimators=400; total time=  36.8s\n",
            "[CV] END ..............rf__max_depth=5, rf__n_estimators=750; total time=  57.7s\n",
            "[CV] END ..............rf__max_depth=5, rf__n_estimators=750; total time=  45.4s\n",
            "[CV] END ..............rf__max_depth=5, rf__n_estimators=750; total time=  42.4s\n",
            "[CV] END ..............rf__max_depth=5, rf__n_estimators=750; total time=  48.9s\n",
            "[CV] END ..............rf__max_depth=5, rf__n_estimators=750; total time=  38.4s\n",
            "[CV] END ..............rf__max_depth=5, rf__n_estimators=500; total time=  36.0s\n",
            "[CV] END ..............rf__max_depth=5, rf__n_estimators=500; total time=  35.7s\n",
            "[CV] END ..............rf__max_depth=5, rf__n_estimators=500; total time=  36.0s\n",
            "[CV] END ..............rf__max_depth=5, rf__n_estimators=500; total time=  33.9s\n",
            "[CV] END ..............rf__max_depth=5, rf__n_estimators=500; total time=  33.7s\n",
            "[CV] END ..............rf__max_depth=5, rf__n_estimators=400; total time=  34.5s\n",
            "[CV] END ..............rf__max_depth=5, rf__n_estimators=400; total time=  36.2s\n",
            "[CV] END ..............rf__max_depth=5, rf__n_estimators=400; total time=  32.5s\n",
            "[CV] END ..............rf__max_depth=5, rf__n_estimators=400; total time=  32.4s\n",
            "[CV] END ..............rf__max_depth=5, rf__n_estimators=400; total time=  32.2s\n",
            "[CV] END ..............rf__max_depth=4, rf__n_estimators=750; total time=  39.5s\n",
            "[CV] END ..............rf__max_depth=4, rf__n_estimators=750; total time=  37.7s\n",
            "[CV] END ..............rf__max_depth=4, rf__n_estimators=750; total time=  35.8s\n",
            "[CV] END ..............rf__max_depth=4, rf__n_estimators=750; total time=  37.4s\n",
            "[CV] END ..............rf__max_depth=4, rf__n_estimators=750; total time=  35.6s\n",
            "[CV] END ..............rf__max_depth=4, rf__n_estimators=500; total time=  34.9s\n",
            "[CV] END ..............rf__max_depth=4, rf__n_estimators=500; total time=  34.9s\n",
            "[CV] END ..............rf__max_depth=4, rf__n_estimators=500; total time=  34.1s\n",
            "[CV] END ..............rf__max_depth=4, rf__n_estimators=500; total time=  32.8s\n",
            "[CV] END ..............rf__max_depth=4, rf__n_estimators=500; total time=  32.6s\n",
            "[CV] END ..............rf__max_depth=4, rf__n_estimators=400; total time=  33.8s\n",
            "[CV] END ..............rf__max_depth=4, rf__n_estimators=400; total time=  35.0s\n",
            "[CV] END ..............rf__max_depth=4, rf__n_estimators=400; total time=  31.7s\n",
            "[CV] END ..............rf__max_depth=4, rf__n_estimators=400; total time=  31.4s\n",
            "[CV] END ..............rf__max_depth=4, rf__n_estimators=400; total time=  31.5s\n",
            "Best score:  0.5793882702509077\n",
            "Best params:  {'rf__max_depth': 5, 'rf__n_estimators': 500}\n"
          ]
        }
      ]
    },
    {
      "cell_type": "markdown",
      "source": [
        "Based on three round of grid search, we can conclude, that the optimal parameters of a random forest are max_depth=5, n_estimators=500. These values give us average CV AUC of 0.579388"
      ],
      "metadata": {
        "id": "uOY5EMpRGhXH"
      }
    },
    {
      "cell_type": "markdown",
      "source": [
        "# Baseline AdaBoost model"
      ],
      "metadata": {
        "id": "G7pDKgJPL2XN"
      }
    },
    {
      "cell_type": "code",
      "source": [
        "ada_baseline = AdaBoostClassifier(DecisionTreeClassifier(random_state=42),\n",
        "                                 random_state=42)\n",
        "ada_baseline.fit(X_train, y_train)\n",
        "\n",
        "print(\"Train set AUC: {}\".format(roc_auc_score(y_train, ada_baseline.predict(X_train))))\n",
        "print(\"Test set AUC: {}\".format(roc_auc_score(y_test,  ada_baseline.predict(X_test))))"
      ],
      "metadata": {
        "colab": {
          "base_uri": "https://localhost:8080/"
        },
        "id": "WP8R0pzUKxIR",
        "outputId": "4362db15-03d0-4ff6-b5f6-baed32710970"
      },
      "execution_count": null,
      "outputs": [
        {
          "output_type": "stream",
          "name": "stdout",
          "text": [
            "Train set AUC: 1.0\n",
            "Test set AUC: 0.5026381271066188\n"
          ]
        }
      ]
    },
    {
      "cell_type": "markdown",
      "source": [
        "# Tuning AdaBoost parameters values"
      ],
      "metadata": {
        "id": "OnJSG-o0Niup"
      }
    },
    {
      "cell_type": "code",
      "source": [
        "pipe = Pipeline([\n",
        "    ('transformer', ColumnTransformer([\n",
        "        ('scaler', StandardScaler(), [*range(0, 19)])],\n",
        "         remainder='passthrough')),\n",
        "    ('imputer', KNNImputer()),\n",
        "    ('ada', AdaBoostClassifier(DecisionTreeClassifier(),\n",
        "                               random_state=42))\n",
        "])"
      ],
      "metadata": {
        "id": "zaIfq3ukNiAr"
      },
      "execution_count": 17,
      "outputs": []
    },
    {
      "cell_type": "markdown",
      "source": [
        "Round 1"
      ],
      "metadata": {
        "id": "Q6-zcAgaVChf"
      }
    },
    {
      "cell_type": "code",
      "source": [
        "param_grid = {\n",
        "    'ada__learning_rate': [0.1, 0.5, 0.75, 1],\n",
        "    'ada__n_estimators': [250, 100, 50],\n",
        "    'ada__base_estimator__max_depth': [None, 5, 1]\n",
        "}\n",
        "\n",
        "grid = GridSearchCV(pipe, param_grid, cv=5,\n",
        "                    scoring='roc_auc',\n",
        "                    verbose=3)\n",
        "\n",
        "grid.fit(X_train_dummies, y_train)\n",
        "\n",
        "print('Best score: ', grid.best_score_)\n",
        "print('Best params: ', grid.best_params_)"
      ],
      "metadata": {
        "id": "H4VkXwUeOPhb",
        "outputId": "5b21f54a-61d0-4ea8-9a72-13dec7c5986e",
        "colab": {
          "base_uri": "https://localhost:8080/"
        }
      },
      "execution_count": 21,
      "outputs": [
        {
          "output_type": "stream",
          "name": "stdout",
          "text": [
            "Fitting 5 folds for each of 36 candidates, totalling 180 fits\n",
            "[CV 1/5] END ada__base_estimator__max_depth=None, ada__learning_rate=0.1, ada__n_estimators=250;, score=0.506 total time= 1.4min\n",
            "[CV 2/5] END ada__base_estimator__max_depth=None, ada__learning_rate=0.1, ada__n_estimators=250;, score=0.512 total time= 1.5min\n",
            "[CV 3/5] END ada__base_estimator__max_depth=None, ada__learning_rate=0.1, ada__n_estimators=250;, score=0.518 total time= 1.1min\n",
            "[CV 4/5] END ada__base_estimator__max_depth=None, ada__learning_rate=0.1, ada__n_estimators=250;, score=0.496 total time= 1.0min\n",
            "[CV 5/5] END ada__base_estimator__max_depth=None, ada__learning_rate=0.1, ada__n_estimators=250;, score=0.502 total time=  56.6s\n",
            "[CV 1/5] END ada__base_estimator__max_depth=None, ada__learning_rate=0.1, ada__n_estimators=100;, score=0.506 total time=  50.7s\n",
            "[CV 2/5] END ada__base_estimator__max_depth=None, ada__learning_rate=0.1, ada__n_estimators=100;, score=0.512 total time=  53.7s\n",
            "[CV 3/5] END ada__base_estimator__max_depth=None, ada__learning_rate=0.1, ada__n_estimators=100;, score=0.518 total time=  28.8s\n",
            "[CV 4/5] END ada__base_estimator__max_depth=None, ada__learning_rate=0.1, ada__n_estimators=100;, score=0.496 total time=  31.5s\n",
            "[CV 5/5] END ada__base_estimator__max_depth=None, ada__learning_rate=0.1, ada__n_estimators=100;, score=0.502 total time=  28.3s\n",
            "[CV 1/5] END ada__base_estimator__max_depth=None, ada__learning_rate=0.1, ada__n_estimators=50;, score=0.506 total time=  30.8s\n",
            "[CV 2/5] END ada__base_estimator__max_depth=None, ada__learning_rate=0.1, ada__n_estimators=50;, score=0.512 total time=  37.5s\n",
            "[CV 3/5] END ada__base_estimator__max_depth=None, ada__learning_rate=0.1, ada__n_estimators=50;, score=0.518 total time=  31.7s\n",
            "[CV 4/5] END ada__base_estimator__max_depth=None, ada__learning_rate=0.1, ada__n_estimators=50;, score=0.496 total time=  31.3s\n",
            "[CV 5/5] END ada__base_estimator__max_depth=None, ada__learning_rate=0.1, ada__n_estimators=50;, score=0.502 total time=  31.4s\n",
            "[CV 1/5] END ada__base_estimator__max_depth=None, ada__learning_rate=0.5, ada__n_estimators=250;, score=0.506 total time=  32.6s\n",
            "[CV 2/5] END ada__base_estimator__max_depth=None, ada__learning_rate=0.5, ada__n_estimators=250;, score=0.512 total time=  33.4s\n",
            "[CV 3/5] END ada__base_estimator__max_depth=None, ada__learning_rate=0.5, ada__n_estimators=250;, score=0.518 total time=  29.2s\n",
            "[CV 4/5] END ada__base_estimator__max_depth=None, ada__learning_rate=0.5, ada__n_estimators=250;, score=0.496 total time=  30.1s\n",
            "[CV 5/5] END ada__base_estimator__max_depth=None, ada__learning_rate=0.5, ada__n_estimators=250;, score=0.502 total time=  28.5s\n",
            "[CV 1/5] END ada__base_estimator__max_depth=None, ada__learning_rate=0.5, ada__n_estimators=100;, score=0.506 total time=  31.0s\n",
            "[CV 2/5] END ada__base_estimator__max_depth=None, ada__learning_rate=0.5, ada__n_estimators=100;, score=0.512 total time=  30.4s\n",
            "[CV 3/5] END ada__base_estimator__max_depth=None, ada__learning_rate=0.5, ada__n_estimators=100;, score=0.518 total time=  27.8s\n",
            "[CV 4/5] END ada__base_estimator__max_depth=None, ada__learning_rate=0.5, ada__n_estimators=100;, score=0.496 total time=  28.0s\n",
            "[CV 5/5] END ada__base_estimator__max_depth=None, ada__learning_rate=0.5, ada__n_estimators=100;, score=0.502 total time=  29.4s\n",
            "[CV 1/5] END ada__base_estimator__max_depth=None, ada__learning_rate=0.5, ada__n_estimators=50;, score=0.506 total time=  41.7s\n",
            "[CV 2/5] END ada__base_estimator__max_depth=None, ada__learning_rate=0.5, ada__n_estimators=50;, score=0.512 total time=  30.8s\n",
            "[CV 3/5] END ada__base_estimator__max_depth=None, ada__learning_rate=0.5, ada__n_estimators=50;, score=0.518 total time=  28.4s\n",
            "[CV 4/5] END ada__base_estimator__max_depth=None, ada__learning_rate=0.5, ada__n_estimators=50;, score=0.496 total time=  28.1s\n",
            "[CV 5/5] END ada__base_estimator__max_depth=None, ada__learning_rate=0.5, ada__n_estimators=50;, score=0.502 total time=  28.0s\n",
            "[CV 1/5] END ada__base_estimator__max_depth=None, ada__learning_rate=0.75, ada__n_estimators=250;, score=0.506 total time=  30.4s\n",
            "[CV 2/5] END ada__base_estimator__max_depth=None, ada__learning_rate=0.75, ada__n_estimators=250;, score=0.512 total time=  30.6s\n",
            "[CV 3/5] END ada__base_estimator__max_depth=None, ada__learning_rate=0.75, ada__n_estimators=250;, score=0.518 total time=  28.1s\n",
            "[CV 4/5] END ada__base_estimator__max_depth=None, ada__learning_rate=0.75, ada__n_estimators=250;, score=0.496 total time=  27.9s\n",
            "[CV 5/5] END ada__base_estimator__max_depth=None, ada__learning_rate=0.75, ada__n_estimators=250;, score=0.502 total time=  27.6s\n",
            "[CV 1/5] END ada__base_estimator__max_depth=None, ada__learning_rate=0.75, ada__n_estimators=100;, score=0.506 total time=  30.3s\n",
            "[CV 2/5] END ada__base_estimator__max_depth=None, ada__learning_rate=0.75, ada__n_estimators=100;, score=0.512 total time=  29.7s\n",
            "[CV 3/5] END ada__base_estimator__max_depth=None, ada__learning_rate=0.75, ada__n_estimators=100;, score=0.518 total time=  28.1s\n",
            "[CV 4/5] END ada__base_estimator__max_depth=None, ada__learning_rate=0.75, ada__n_estimators=100;, score=0.496 total time=  27.8s\n",
            "[CV 5/5] END ada__base_estimator__max_depth=None, ada__learning_rate=0.75, ada__n_estimators=100;, score=0.502 total time=  39.4s\n",
            "[CV 1/5] END ada__base_estimator__max_depth=None, ada__learning_rate=0.75, ada__n_estimators=50;, score=0.506 total time= 1.2min\n",
            "[CV 2/5] END ada__base_estimator__max_depth=None, ada__learning_rate=0.75, ada__n_estimators=50;, score=0.512 total time=  44.2s\n",
            "[CV 3/5] END ada__base_estimator__max_depth=None, ada__learning_rate=0.75, ada__n_estimators=50;, score=0.518 total time=  29.9s\n",
            "[CV 4/5] END ada__base_estimator__max_depth=None, ada__learning_rate=0.75, ada__n_estimators=50;, score=0.496 total time=  30.0s\n",
            "[CV 5/5] END ada__base_estimator__max_depth=None, ada__learning_rate=0.75, ada__n_estimators=50;, score=0.502 total time=  29.4s\n",
            "[CV 1/5] END ada__base_estimator__max_depth=None, ada__learning_rate=1, ada__n_estimators=250;, score=0.506 total time=  31.0s\n",
            "[CV 2/5] END ada__base_estimator__max_depth=None, ada__learning_rate=1, ada__n_estimators=250;, score=0.512 total time=  32.9s\n",
            "[CV 3/5] END ada__base_estimator__max_depth=None, ada__learning_rate=1, ada__n_estimators=250;, score=0.518 total time=  34.5s\n",
            "[CV 4/5] END ada__base_estimator__max_depth=None, ada__learning_rate=1, ada__n_estimators=250;, score=0.496 total time=  37.3s\n",
            "[CV 5/5] END ada__base_estimator__max_depth=None, ada__learning_rate=1, ada__n_estimators=250;, score=0.502 total time=  33.3s\n",
            "[CV 1/5] END ada__base_estimator__max_depth=None, ada__learning_rate=1, ada__n_estimators=100;, score=0.506 total time=  45.0s\n",
            "[CV 2/5] END ada__base_estimator__max_depth=None, ada__learning_rate=1, ada__n_estimators=100;, score=0.512 total time= 1.2min\n",
            "[CV 3/5] END ada__base_estimator__max_depth=None, ada__learning_rate=1, ada__n_estimators=100;, score=0.518 total time=  43.0s\n",
            "[CV 4/5] END ada__base_estimator__max_depth=None, ada__learning_rate=1, ada__n_estimators=100;, score=0.496 total time=  47.9s\n",
            "[CV 5/5] END ada__base_estimator__max_depth=None, ada__learning_rate=1, ada__n_estimators=100;, score=0.502 total time=  36.0s\n",
            "[CV 1/5] END ada__base_estimator__max_depth=None, ada__learning_rate=1, ada__n_estimators=50;, score=0.506 total time= 1.2min\n",
            "[CV 2/5] END ada__base_estimator__max_depth=None, ada__learning_rate=1, ada__n_estimators=50;, score=0.512 total time= 1.1min\n",
            "[CV 3/5] END ada__base_estimator__max_depth=None, ada__learning_rate=1, ada__n_estimators=50;, score=0.518 total time=  34.5s\n",
            "[CV 4/5] END ada__base_estimator__max_depth=None, ada__learning_rate=1, ada__n_estimators=50;, score=0.496 total time=  33.6s\n",
            "[CV 5/5] END ada__base_estimator__max_depth=None, ada__learning_rate=1, ada__n_estimators=50;, score=0.502 total time=  29.6s\n",
            "[CV 1/5] END ada__base_estimator__max_depth=5, ada__learning_rate=0.1, ada__n_estimators=250;, score=0.525 total time= 1.6min\n",
            "[CV 2/5] END ada__base_estimator__max_depth=5, ada__learning_rate=0.1, ada__n_estimators=250;, score=0.517 total time= 2.0min\n",
            "[CV 3/5] END ada__base_estimator__max_depth=5, ada__learning_rate=0.1, ada__n_estimators=250;, score=0.547 total time= 1.8min\n",
            "[CV 4/5] END ada__base_estimator__max_depth=5, ada__learning_rate=0.1, ada__n_estimators=250;, score=0.539 total time= 1.7min\n",
            "[CV 5/5] END ada__base_estimator__max_depth=5, ada__learning_rate=0.1, ada__n_estimators=250;, score=0.526 total time= 1.4min\n",
            "[CV 1/5] END ada__base_estimator__max_depth=5, ada__learning_rate=0.1, ada__n_estimators=100;, score=0.527 total time=  50.0s\n",
            "[CV 2/5] END ada__base_estimator__max_depth=5, ada__learning_rate=0.1, ada__n_estimators=100;, score=0.550 total time=  47.9s\n",
            "[CV 3/5] END ada__base_estimator__max_depth=5, ada__learning_rate=0.1, ada__n_estimators=100;, score=0.553 total time=  46.1s\n",
            "[CV 4/5] END ada__base_estimator__max_depth=5, ada__learning_rate=0.1, ada__n_estimators=100;, score=0.558 total time=  49.4s\n",
            "[CV 5/5] END ada__base_estimator__max_depth=5, ada__learning_rate=0.1, ada__n_estimators=100;, score=0.549 total time=  52.0s\n",
            "[CV 1/5] END ada__base_estimator__max_depth=5, ada__learning_rate=0.1, ada__n_estimators=50;, score=0.545 total time=  47.1s\n",
            "[CV 2/5] END ada__base_estimator__max_depth=5, ada__learning_rate=0.1, ada__n_estimators=50;, score=0.560 total time= 1.0min\n",
            "[CV 3/5] END ada__base_estimator__max_depth=5, ada__learning_rate=0.1, ada__n_estimators=50;, score=0.560 total time=  54.7s\n",
            "[CV 4/5] END ada__base_estimator__max_depth=5, ada__learning_rate=0.1, ada__n_estimators=50;, score=0.549 total time=  58.6s\n",
            "[CV 5/5] END ada__base_estimator__max_depth=5, ada__learning_rate=0.1, ada__n_estimators=50;, score=0.561 total time=  46.2s\n",
            "[CV 1/5] END ada__base_estimator__max_depth=5, ada__learning_rate=0.5, ada__n_estimators=250;, score=0.513 total time= 1.6min\n",
            "[CV 2/5] END ada__base_estimator__max_depth=5, ada__learning_rate=0.5, ada__n_estimators=250;, score=0.519 total time= 1.2min\n",
            "[CV 3/5] END ada__base_estimator__max_depth=5, ada__learning_rate=0.5, ada__n_estimators=250;, score=0.522 total time= 1.2min\n",
            "[CV 4/5] END ada__base_estimator__max_depth=5, ada__learning_rate=0.5, ada__n_estimators=250;, score=0.512 total time= 1.2min\n",
            "[CV 5/5] END ada__base_estimator__max_depth=5, ada__learning_rate=0.5, ada__n_estimators=250;, score=0.514 total time= 1.2min\n",
            "[CV 1/5] END ada__base_estimator__max_depth=5, ada__learning_rate=0.5, ada__n_estimators=100;, score=0.520 total time=  47.1s\n",
            "[CV 2/5] END ada__base_estimator__max_depth=5, ada__learning_rate=0.5, ada__n_estimators=100;, score=0.526 total time=  46.5s\n",
            "[CV 3/5] END ada__base_estimator__max_depth=5, ada__learning_rate=0.5, ada__n_estimators=100;, score=0.527 total time=  44.5s\n",
            "[CV 4/5] END ada__base_estimator__max_depth=5, ada__learning_rate=0.5, ada__n_estimators=100;, score=0.516 total time=  44.2s\n",
            "[CV 5/5] END ada__base_estimator__max_depth=5, ada__learning_rate=0.5, ada__n_estimators=100;, score=0.520 total time=  44.6s\n",
            "[CV 1/5] END ada__base_estimator__max_depth=5, ada__learning_rate=0.5, ada__n_estimators=50;, score=0.536 total time=  38.7s\n",
            "[CV 2/5] END ada__base_estimator__max_depth=5, ada__learning_rate=0.5, ada__n_estimators=50;, score=0.528 total time=  37.6s\n",
            "[CV 3/5] END ada__base_estimator__max_depth=5, ada__learning_rate=0.5, ada__n_estimators=50;, score=0.546 total time=  35.8s\n",
            "[CV 4/5] END ada__base_estimator__max_depth=5, ada__learning_rate=0.5, ada__n_estimators=50;, score=0.531 total time=  35.8s\n",
            "[CV 5/5] END ada__base_estimator__max_depth=5, ada__learning_rate=0.5, ada__n_estimators=50;, score=0.530 total time=  35.4s\n",
            "[CV 1/5] END ada__base_estimator__max_depth=5, ada__learning_rate=0.75, ada__n_estimators=250;, score=0.527 total time= 1.3min\n",
            "[CV 2/5] END ada__base_estimator__max_depth=5, ada__learning_rate=0.75, ada__n_estimators=250;, score=0.502 total time= 1.2min\n",
            "[CV 3/5] END ada__base_estimator__max_depth=5, ada__learning_rate=0.75, ada__n_estimators=250;, score=0.511 total time= 1.2min\n",
            "[CV 4/5] END ada__base_estimator__max_depth=5, ada__learning_rate=0.75, ada__n_estimators=250;, score=0.513 total time= 1.2min\n",
            "[CV 5/5] END ada__base_estimator__max_depth=5, ada__learning_rate=0.75, ada__n_estimators=250;, score=0.519 total time= 1.2min\n",
            "[CV 1/5] END ada__base_estimator__max_depth=5, ada__learning_rate=0.75, ada__n_estimators=100;, score=0.521 total time=  49.5s\n",
            "[CV 2/5] END ada__base_estimator__max_depth=5, ada__learning_rate=0.75, ada__n_estimators=100;, score=0.498 total time=  48.2s\n",
            "[CV 3/5] END ada__base_estimator__max_depth=5, ada__learning_rate=0.75, ada__n_estimators=100;, score=0.520 total time=  45.5s\n",
            "[CV 4/5] END ada__base_estimator__max_depth=5, ada__learning_rate=0.75, ada__n_estimators=100;, score=0.508 total time=  45.1s\n",
            "[CV 5/5] END ada__base_estimator__max_depth=5, ada__learning_rate=0.75, ada__n_estimators=100;, score=0.516 total time=  45.0s\n",
            "[CV 1/5] END ada__base_estimator__max_depth=5, ada__learning_rate=0.75, ada__n_estimators=50;, score=0.538 total time=  38.0s\n",
            "[CV 2/5] END ada__base_estimator__max_depth=5, ada__learning_rate=0.75, ada__n_estimators=50;, score=0.512 total time=  42.7s\n",
            "[CV 3/5] END ada__base_estimator__max_depth=5, ada__learning_rate=0.75, ada__n_estimators=50;, score=0.528 total time=  48.5s\n",
            "[CV 4/5] END ada__base_estimator__max_depth=5, ada__learning_rate=0.75, ada__n_estimators=50;, score=0.519 total time=  41.6s\n",
            "[CV 5/5] END ada__base_estimator__max_depth=5, ada__learning_rate=0.75, ada__n_estimators=50;, score=0.524 total time=  39.9s\n",
            "[CV 1/5] END ada__base_estimator__max_depth=5, ada__learning_rate=1, ada__n_estimators=250;, score=0.515 total time= 1.3min\n",
            "[CV 2/5] END ada__base_estimator__max_depth=5, ada__learning_rate=1, ada__n_estimators=250;, score=0.518 total time= 1.3min\n",
            "[CV 3/5] END ada__base_estimator__max_depth=5, ada__learning_rate=1, ada__n_estimators=250;, score=0.530 total time= 1.3min\n",
            "[CV 4/5] END ada__base_estimator__max_depth=5, ada__learning_rate=1, ada__n_estimators=250;, score=0.504 total time= 1.3min\n",
            "[CV 5/5] END ada__base_estimator__max_depth=5, ada__learning_rate=1, ada__n_estimators=250;, score=0.507 total time= 1.4min\n",
            "[CV 1/5] END ada__base_estimator__max_depth=5, ada__learning_rate=1, ada__n_estimators=100;, score=0.515 total time= 1.5min\n",
            "[CV 2/5] END ada__base_estimator__max_depth=5, ada__learning_rate=1, ada__n_estimators=100;, score=0.502 total time= 1.5min\n",
            "[CV 3/5] END ada__base_estimator__max_depth=5, ada__learning_rate=1, ada__n_estimators=100;, score=0.523 total time=  55.2s\n",
            "[CV 4/5] END ada__base_estimator__max_depth=5, ada__learning_rate=1, ada__n_estimators=100;, score=0.507 total time=  52.5s\n",
            "[CV 5/5] END ada__base_estimator__max_depth=5, ada__learning_rate=1, ada__n_estimators=100;, score=0.508 total time= 1.1min\n",
            "[CV 1/5] END ada__base_estimator__max_depth=5, ada__learning_rate=1, ada__n_estimators=50;, score=0.516 total time= 1.2min\n",
            "[CV 2/5] END ada__base_estimator__max_depth=5, ada__learning_rate=1, ada__n_estimators=50;, score=0.521 total time=  50.8s\n",
            "[CV 3/5] END ada__base_estimator__max_depth=5, ada__learning_rate=1, ada__n_estimators=50;, score=0.518 total time=  40.6s\n",
            "[CV 4/5] END ada__base_estimator__max_depth=5, ada__learning_rate=1, ada__n_estimators=50;, score=0.529 total time=  38.4s\n",
            "[CV 5/5] END ada__base_estimator__max_depth=5, ada__learning_rate=1, ada__n_estimators=50;, score=0.512 total time=  39.3s\n",
            "[CV 1/5] END ada__base_estimator__max_depth=1, ada__learning_rate=0.1, ada__n_estimators=250;, score=0.584 total time=  52.5s\n",
            "[CV 2/5] END ada__base_estimator__max_depth=1, ada__learning_rate=0.1, ada__n_estimators=250;, score=0.581 total time=  42.3s\n",
            "[CV 3/5] END ada__base_estimator__max_depth=1, ada__learning_rate=0.1, ada__n_estimators=250;, score=0.582 total time=  42.2s\n",
            "[CV 4/5] END ada__base_estimator__max_depth=1, ada__learning_rate=0.1, ada__n_estimators=250;, score=0.587 total time=  39.4s\n",
            "[CV 5/5] END ada__base_estimator__max_depth=1, ada__learning_rate=0.1, ada__n_estimators=250;, score=0.576 total time=  37.9s\n",
            "[CV 1/5] END ada__base_estimator__max_depth=1, ada__learning_rate=0.1, ada__n_estimators=100;, score=0.586 total time=  51.8s\n",
            "[CV 2/5] END ada__base_estimator__max_depth=1, ada__learning_rate=0.1, ada__n_estimators=100;, score=0.582 total time=  46.1s\n",
            "[CV 3/5] END ada__base_estimator__max_depth=1, ada__learning_rate=0.1, ada__n_estimators=100;, score=0.582 total time=  35.5s\n",
            "[CV 4/5] END ada__base_estimator__max_depth=1, ada__learning_rate=0.1, ada__n_estimators=100;, score=0.588 total time=  33.5s\n",
            "[CV 5/5] END ada__base_estimator__max_depth=1, ada__learning_rate=0.1, ada__n_estimators=100;, score=0.575 total time=  32.8s\n",
            "[CV 1/5] END ada__base_estimator__max_depth=1, ada__learning_rate=0.1, ada__n_estimators=50;, score=0.586 total time=  36.6s\n",
            "[CV 2/5] END ada__base_estimator__max_depth=1, ada__learning_rate=0.1, ada__n_estimators=50;, score=0.584 total time=  39.6s\n",
            "[CV 3/5] END ada__base_estimator__max_depth=1, ada__learning_rate=0.1, ada__n_estimators=50;, score=0.582 total time=  52.3s\n",
            "[CV 4/5] END ada__base_estimator__max_depth=1, ada__learning_rate=0.1, ada__n_estimators=50;, score=0.590 total time=  34.6s\n",
            "[CV 5/5] END ada__base_estimator__max_depth=1, ada__learning_rate=0.1, ada__n_estimators=50;, score=0.577 total time=  38.4s\n",
            "[CV 1/5] END ada__base_estimator__max_depth=1, ada__learning_rate=0.5, ada__n_estimators=250;, score=0.576 total time= 1.4min\n",
            "[CV 2/5] END ada__base_estimator__max_depth=1, ada__learning_rate=0.5, ada__n_estimators=250;, score=0.571 total time= 1.3min\n",
            "[CV 3/5] END ada__base_estimator__max_depth=1, ada__learning_rate=0.5, ada__n_estimators=250;, score=0.579 total time=  41.0s\n",
            "[CV 4/5] END ada__base_estimator__max_depth=1, ada__learning_rate=0.5, ada__n_estimators=250;, score=0.575 total time=  44.7s\n",
            "[CV 5/5] END ada__base_estimator__max_depth=1, ada__learning_rate=0.5, ada__n_estimators=250;, score=0.571 total time=  42.5s\n",
            "[CV 1/5] END ada__base_estimator__max_depth=1, ada__learning_rate=0.5, ada__n_estimators=100;, score=0.576 total time= 1.1min\n",
            "[CV 2/5] END ada__base_estimator__max_depth=1, ada__learning_rate=0.5, ada__n_estimators=100;, score=0.577 total time=  38.6s\n",
            "[CV 3/5] END ada__base_estimator__max_depth=1, ada__learning_rate=0.5, ada__n_estimators=100;, score=0.582 total time=  38.3s\n",
            "[CV 4/5] END ada__base_estimator__max_depth=1, ada__learning_rate=0.5, ada__n_estimators=100;, score=0.579 total time=  36.8s\n",
            "[CV 5/5] END ada__base_estimator__max_depth=1, ada__learning_rate=0.5, ada__n_estimators=100;, score=0.571 total time=  32.0s\n",
            "[CV 1/5] END ada__base_estimator__max_depth=1, ada__learning_rate=0.5, ada__n_estimators=50;, score=0.582 total time=  32.1s\n",
            "[CV 2/5] END ada__base_estimator__max_depth=1, ada__learning_rate=0.5, ada__n_estimators=50;, score=0.578 total time=  32.9s\n",
            "[CV 3/5] END ada__base_estimator__max_depth=1, ada__learning_rate=0.5, ada__n_estimators=50;, score=0.576 total time=  29.7s\n",
            "[CV 4/5] END ada__base_estimator__max_depth=1, ada__learning_rate=0.5, ada__n_estimators=50;, score=0.587 total time=  41.1s\n",
            "[CV 5/5] END ada__base_estimator__max_depth=1, ada__learning_rate=0.5, ada__n_estimators=50;, score=0.575 total time=  46.4s\n",
            "[CV 1/5] END ada__base_estimator__max_depth=1, ada__learning_rate=0.75, ada__n_estimators=250;, score=0.568 total time= 1.2min\n",
            "[CV 2/5] END ada__base_estimator__max_depth=1, ada__learning_rate=0.75, ada__n_estimators=250;, score=0.565 total time=  40.2s\n",
            "[CV 3/5] END ada__base_estimator__max_depth=1, ada__learning_rate=0.75, ada__n_estimators=250;, score=0.572 total time=  38.9s\n",
            "[CV 4/5] END ada__base_estimator__max_depth=1, ada__learning_rate=0.75, ada__n_estimators=250;, score=0.567 total time=  37.9s\n",
            "[CV 5/5] END ada__base_estimator__max_depth=1, ada__learning_rate=0.75, ada__n_estimators=250;, score=0.568 total time=  37.3s\n",
            "[CV 1/5] END ada__base_estimator__max_depth=1, ada__learning_rate=0.75, ada__n_estimators=100;, score=0.576 total time=  33.2s\n",
            "[CV 2/5] END ada__base_estimator__max_depth=1, ada__learning_rate=0.75, ada__n_estimators=100;, score=0.568 total time=  32.8s\n",
            "[CV 3/5] END ada__base_estimator__max_depth=1, ada__learning_rate=0.75, ada__n_estimators=100;, score=0.575 total time=  30.8s\n",
            "[CV 4/5] END ada__base_estimator__max_depth=1, ada__learning_rate=0.75, ada__n_estimators=100;, score=0.573 total time=  31.4s\n",
            "[CV 5/5] END ada__base_estimator__max_depth=1, ada__learning_rate=0.75, ada__n_estimators=100;, score=0.565 total time=  30.4s\n",
            "[CV 1/5] END ada__base_estimator__max_depth=1, ada__learning_rate=0.75, ada__n_estimators=50;, score=0.579 total time=  31.1s\n",
            "[CV 2/5] END ada__base_estimator__max_depth=1, ada__learning_rate=0.75, ada__n_estimators=50;, score=0.574 total time=  31.1s\n",
            "[CV 3/5] END ada__base_estimator__max_depth=1, ada__learning_rate=0.75, ada__n_estimators=50;, score=0.572 total time=  28.8s\n",
            "[CV 4/5] END ada__base_estimator__max_depth=1, ada__learning_rate=0.75, ada__n_estimators=50;, score=0.576 total time=  28.4s\n",
            "[CV 5/5] END ada__base_estimator__max_depth=1, ada__learning_rate=0.75, ada__n_estimators=50;, score=0.565 total time=  28.5s\n",
            "[CV 1/5] END ada__base_estimator__max_depth=1, ada__learning_rate=1, ada__n_estimators=250;, score=0.553 total time=  39.7s\n",
            "[CV 2/5] END ada__base_estimator__max_depth=1, ada__learning_rate=1, ada__n_estimators=250;, score=0.563 total time=  39.0s\n",
            "[CV 3/5] END ada__base_estimator__max_depth=1, ada__learning_rate=1, ada__n_estimators=250;, score=0.571 total time=  37.0s\n",
            "[CV 4/5] END ada__base_estimator__max_depth=1, ada__learning_rate=1, ada__n_estimators=250;, score=0.563 total time=  37.2s\n",
            "[CV 5/5] END ada__base_estimator__max_depth=1, ada__learning_rate=1, ada__n_estimators=250;, score=0.557 total time=  36.8s\n",
            "[CV 1/5] END ada__base_estimator__max_depth=1, ada__learning_rate=1, ada__n_estimators=100;, score=0.569 total time=  32.9s\n",
            "[CV 2/5] END ada__base_estimator__max_depth=1, ada__learning_rate=1, ada__n_estimators=100;, score=0.566 total time=  36.9s\n",
            "[CV 3/5] END ada__base_estimator__max_depth=1, ada__learning_rate=1, ada__n_estimators=100;, score=0.580 total time=  40.5s\n",
            "[CV 4/5] END ada__base_estimator__max_depth=1, ada__learning_rate=1, ada__n_estimators=100;, score=0.564 total time=  31.6s\n",
            "[CV 5/5] END ada__base_estimator__max_depth=1, ada__learning_rate=1, ada__n_estimators=100;, score=0.559 total time=  31.9s\n",
            "[CV 1/5] END ada__base_estimator__max_depth=1, ada__learning_rate=1, ada__n_estimators=50;, score=0.572 total time=  31.8s\n",
            "[CV 2/5] END ada__base_estimator__max_depth=1, ada__learning_rate=1, ada__n_estimators=50;, score=0.574 total time=  31.4s\n",
            "[CV 3/5] END ada__base_estimator__max_depth=1, ada__learning_rate=1, ada__n_estimators=50;, score=0.579 total time=  29.1s\n",
            "[CV 4/5] END ada__base_estimator__max_depth=1, ada__learning_rate=1, ada__n_estimators=50;, score=0.570 total time=  29.1s\n",
            "[CV 5/5] END ada__base_estimator__max_depth=1, ada__learning_rate=1, ada__n_estimators=50;, score=0.559 total time=  29.1s\n",
            "Best score:  0.5837861008936891\n",
            "Best params:  {'ada__base_estimator__max_depth': 1, 'ada__learning_rate': 0.1, 'ada__n_estimators': 50}\n"
          ]
        }
      ]
    },
    {
      "cell_type": "markdown",
      "source": [
        "In the first round of grid search models with the lowest learning rate and the lowest number of trees were selected. So in the second round values of these parameters will be decreased"
      ],
      "metadata": {
        "id": "bzCpe8VofBKr"
      }
    },
    {
      "cell_type": "markdown",
      "source": [
        "Round 2"
      ],
      "metadata": {
        "id": "CsP1yoOMfn_B"
      }
    },
    {
      "cell_type": "code",
      "source": [
        "param_grid = {\n",
        "    'ada__learning_rate': [0.1, 0.01, 0.001, 0.0001, 0.00001],\n",
        "    'ada__n_estimators': [100, 50, 25],\n",
        "    'ada__base_estimator__max_depth': [5, 3, 1]\n",
        "}\n",
        "\n",
        "grid = GridSearchCV(pipe, param_grid, cv=5,\n",
        "                    scoring='roc_auc',\n",
        "                    verbose=3)\n",
        "\n",
        "grid.fit(X_train_dummies, y_train)\n",
        "\n",
        "print('Best score: ', grid.best_score_)\n",
        "print('Best params: ', grid.best_params_)"
      ],
      "metadata": {
        "colab": {
          "base_uri": "https://localhost:8080/"
        },
        "id": "jGvfH0rIefri",
        "outputId": "173316c6-4c40-4907-a26f-ca07773ca21c"
      },
      "execution_count": 22,
      "outputs": [
        {
          "output_type": "stream",
          "name": "stdout",
          "text": [
            "Fitting 5 folds for each of 45 candidates, totalling 225 fits\n",
            "[CV 1/5] END ada__base_estimator__max_depth=5, ada__learning_rate=0.1, ada__n_estimators=100;, score=0.527 total time=  59.9s\n",
            "[CV 2/5] END ada__base_estimator__max_depth=5, ada__learning_rate=0.1, ada__n_estimators=100;, score=0.550 total time=  52.7s\n",
            "[CV 3/5] END ada__base_estimator__max_depth=5, ada__learning_rate=0.1, ada__n_estimators=100;, score=0.553 total time=  45.6s\n",
            "[CV 4/5] END ada__base_estimator__max_depth=5, ada__learning_rate=0.1, ada__n_estimators=100;, score=0.558 total time=  48.9s\n",
            "[CV 5/5] END ada__base_estimator__max_depth=5, ada__learning_rate=0.1, ada__n_estimators=100;, score=0.549 total time=  53.7s\n",
            "[CV 1/5] END ada__base_estimator__max_depth=5, ada__learning_rate=0.1, ada__n_estimators=50;, score=0.545 total time=  52.1s\n",
            "[CV 2/5] END ada__base_estimator__max_depth=5, ada__learning_rate=0.1, ada__n_estimators=50;, score=0.560 total time=  46.4s\n",
            "[CV 3/5] END ada__base_estimator__max_depth=5, ada__learning_rate=0.1, ada__n_estimators=50;, score=0.560 total time=  40.1s\n",
            "[CV 4/5] END ada__base_estimator__max_depth=5, ada__learning_rate=0.1, ada__n_estimators=50;, score=0.549 total time=  38.2s\n",
            "[CV 5/5] END ada__base_estimator__max_depth=5, ada__learning_rate=0.1, ada__n_estimators=50;, score=0.561 total time=  38.5s\n",
            "[CV 1/5] END ada__base_estimator__max_depth=5, ada__learning_rate=0.1, ada__n_estimators=25;, score=0.557 total time=  35.7s\n",
            "[CV 2/5] END ada__base_estimator__max_depth=5, ada__learning_rate=0.1, ada__n_estimators=25;, score=0.561 total time=  35.2s\n",
            "[CV 3/5] END ada__base_estimator__max_depth=5, ada__learning_rate=0.1, ada__n_estimators=25;, score=0.571 total time=  33.1s\n",
            "[CV 4/5] END ada__base_estimator__max_depth=5, ada__learning_rate=0.1, ada__n_estimators=25;, score=0.566 total time=  33.4s\n",
            "[CV 5/5] END ada__base_estimator__max_depth=5, ada__learning_rate=0.1, ada__n_estimators=25;, score=0.560 total time=  33.6s\n",
            "[CV 1/5] END ada__base_estimator__max_depth=5, ada__learning_rate=0.01, ada__n_estimators=100;, score=0.572 total time=  53.4s\n",
            "[CV 2/5] END ada__base_estimator__max_depth=5, ada__learning_rate=0.01, ada__n_estimators=100;, score=0.563 total time=  51.4s\n",
            "[CV 3/5] END ada__base_estimator__max_depth=5, ada__learning_rate=0.01, ada__n_estimators=100;, score=0.573 total time=  48.0s\n",
            "[CV 4/5] END ada__base_estimator__max_depth=5, ada__learning_rate=0.01, ada__n_estimators=100;, score=0.571 total time=  48.2s\n",
            "[CV 5/5] END ada__base_estimator__max_depth=5, ada__learning_rate=0.01, ada__n_estimators=100;, score=0.560 total time=  47.8s\n",
            "[CV 1/5] END ada__base_estimator__max_depth=5, ada__learning_rate=0.01, ada__n_estimators=50;, score=0.577 total time=  40.9s\n",
            "[CV 2/5] END ada__base_estimator__max_depth=5, ada__learning_rate=0.01, ada__n_estimators=50;, score=0.571 total time=  41.3s\n",
            "[CV 3/5] END ada__base_estimator__max_depth=5, ada__learning_rate=0.01, ada__n_estimators=50;, score=0.571 total time=  39.3s\n",
            "[CV 4/5] END ada__base_estimator__max_depth=5, ada__learning_rate=0.01, ada__n_estimators=50;, score=0.576 total time=  38.7s\n",
            "[CV 5/5] END ada__base_estimator__max_depth=5, ada__learning_rate=0.01, ada__n_estimators=50;, score=0.558 total time=  38.0s\n",
            "[CV 1/5] END ada__base_estimator__max_depth=5, ada__learning_rate=0.01, ada__n_estimators=25;, score=0.578 total time=  37.1s\n",
            "[CV 2/5] END ada__base_estimator__max_depth=5, ada__learning_rate=0.01, ada__n_estimators=25;, score=0.578 total time=  39.7s\n",
            "[CV 3/5] END ada__base_estimator__max_depth=5, ada__learning_rate=0.01, ada__n_estimators=25;, score=0.572 total time=  35.0s\n",
            "[CV 4/5] END ada__base_estimator__max_depth=5, ada__learning_rate=0.01, ada__n_estimators=25;, score=0.574 total time=  34.4s\n",
            "[CV 5/5] END ada__base_estimator__max_depth=5, ada__learning_rate=0.01, ada__n_estimators=25;, score=0.560 total time=  35.2s\n",
            "[CV 1/5] END ada__base_estimator__max_depth=5, ada__learning_rate=0.001, ada__n_estimators=100;, score=0.569 total time=  55.1s\n",
            "[CV 2/5] END ada__base_estimator__max_depth=5, ada__learning_rate=0.001, ada__n_estimators=100;, score=0.573 total time=  54.5s\n",
            "[CV 3/5] END ada__base_estimator__max_depth=5, ada__learning_rate=0.001, ada__n_estimators=100;, score=0.568 total time=  50.5s\n",
            "[CV 4/5] END ada__base_estimator__max_depth=5, ada__learning_rate=0.001, ada__n_estimators=100;, score=0.571 total time=  53.0s\n",
            "[CV 5/5] END ada__base_estimator__max_depth=5, ada__learning_rate=0.001, ada__n_estimators=100;, score=0.559 total time=  55.8s\n",
            "[CV 1/5] END ada__base_estimator__max_depth=5, ada__learning_rate=0.001, ada__n_estimators=50;, score=0.576 total time=  41.3s\n",
            "[CV 2/5] END ada__base_estimator__max_depth=5, ada__learning_rate=0.001, ada__n_estimators=50;, score=0.575 total time=  40.3s\n",
            "[CV 3/5] END ada__base_estimator__max_depth=5, ada__learning_rate=0.001, ada__n_estimators=50;, score=0.565 total time=  38.2s\n",
            "[CV 4/5] END ada__base_estimator__max_depth=5, ada__learning_rate=0.001, ada__n_estimators=50;, score=0.571 total time=  38.3s\n",
            "[CV 5/5] END ada__base_estimator__max_depth=5, ada__learning_rate=0.001, ada__n_estimators=50;, score=0.560 total time=  38.0s\n",
            "[CV 1/5] END ada__base_estimator__max_depth=5, ada__learning_rate=0.001, ada__n_estimators=25;, score=0.578 total time=  39.8s\n",
            "[CV 2/5] END ada__base_estimator__max_depth=5, ada__learning_rate=0.001, ada__n_estimators=25;, score=0.579 total time=  55.1s\n",
            "[CV 3/5] END ada__base_estimator__max_depth=5, ada__learning_rate=0.001, ada__n_estimators=25;, score=0.563 total time=  37.0s\n",
            "[CV 4/5] END ada__base_estimator__max_depth=5, ada__learning_rate=0.001, ada__n_estimators=25;, score=0.572 total time=  33.4s\n",
            "[CV 5/5] END ada__base_estimator__max_depth=5, ada__learning_rate=0.001, ada__n_estimators=25;, score=0.559 total time=  35.5s\n",
            "[CV 1/5] END ada__base_estimator__max_depth=5, ada__learning_rate=0.0001, ada__n_estimators=100;, score=0.578 total time=  53.7s\n",
            "[CV 2/5] END ada__base_estimator__max_depth=5, ada__learning_rate=0.0001, ada__n_estimators=100;, score=0.579 total time=  53.2s\n",
            "[CV 3/5] END ada__base_estimator__max_depth=5, ada__learning_rate=0.0001, ada__n_estimators=100;, score=0.564 total time=  48.2s\n",
            "[CV 4/5] END ada__base_estimator__max_depth=5, ada__learning_rate=0.0001, ada__n_estimators=100;, score=0.572 total time=  51.0s\n",
            "[CV 5/5] END ada__base_estimator__max_depth=5, ada__learning_rate=0.0001, ada__n_estimators=100;, score=0.559 total time=  48.2s\n",
            "[CV 1/5] END ada__base_estimator__max_depth=5, ada__learning_rate=0.0001, ada__n_estimators=50;, score=0.579 total time=  45.5s\n",
            "[CV 2/5] END ada__base_estimator__max_depth=5, ada__learning_rate=0.0001, ada__n_estimators=50;, score=0.578 total time=  41.4s\n",
            "[CV 3/5] END ada__base_estimator__max_depth=5, ada__learning_rate=0.0001, ada__n_estimators=50;, score=0.562 total time=  38.2s\n",
            "[CV 4/5] END ada__base_estimator__max_depth=5, ada__learning_rate=0.0001, ada__n_estimators=50;, score=0.571 total time=  38.6s\n",
            "[CV 5/5] END ada__base_estimator__max_depth=5, ada__learning_rate=0.0001, ada__n_estimators=50;, score=0.559 total time=  38.1s\n",
            "[CV 1/5] END ada__base_estimator__max_depth=5, ada__learning_rate=0.0001, ada__n_estimators=25;, score=0.581 total time=  37.4s\n",
            "[CV 2/5] END ada__base_estimator__max_depth=5, ada__learning_rate=0.0001, ada__n_estimators=25;, score=0.578 total time=  36.5s\n",
            "[CV 3/5] END ada__base_estimator__max_depth=5, ada__learning_rate=0.0001, ada__n_estimators=25;, score=0.562 total time=  33.7s\n",
            "[CV 4/5] END ada__base_estimator__max_depth=5, ada__learning_rate=0.0001, ada__n_estimators=25;, score=0.570 total time=  33.5s\n",
            "[CV 5/5] END ada__base_estimator__max_depth=5, ada__learning_rate=0.0001, ada__n_estimators=25;, score=0.559 total time=  33.6s\n",
            "[CV 1/5] END ada__base_estimator__max_depth=5, ada__learning_rate=1e-05, ada__n_estimators=100;, score=0.581 total time=  50.3s\n",
            "[CV 2/5] END ada__base_estimator__max_depth=5, ada__learning_rate=1e-05, ada__n_estimators=100;, score=0.578 total time=  52.2s\n",
            "[CV 3/5] END ada__base_estimator__max_depth=5, ada__learning_rate=1e-05, ada__n_estimators=100;, score=0.562 total time=  48.0s\n",
            "[CV 4/5] END ada__base_estimator__max_depth=5, ada__learning_rate=1e-05, ada__n_estimators=100;, score=0.568 total time=  47.7s\n",
            "[CV 5/5] END ada__base_estimator__max_depth=5, ada__learning_rate=1e-05, ada__n_estimators=100;, score=0.559 total time=  47.2s\n",
            "[CV 1/5] END ada__base_estimator__max_depth=5, ada__learning_rate=1e-05, ada__n_estimators=50;, score=0.582 total time=  40.1s\n",
            "[CV 2/5] END ada__base_estimator__max_depth=5, ada__learning_rate=1e-05, ada__n_estimators=50;, score=0.577 total time=  41.1s\n",
            "[CV 3/5] END ada__base_estimator__max_depth=5, ada__learning_rate=1e-05, ada__n_estimators=50;, score=0.562 total time=  37.8s\n",
            "[CV 4/5] END ada__base_estimator__max_depth=5, ada__learning_rate=1e-05, ada__n_estimators=50;, score=0.568 total time=  37.6s\n",
            "[CV 5/5] END ada__base_estimator__max_depth=5, ada__learning_rate=1e-05, ada__n_estimators=50;, score=0.559 total time=  38.5s\n",
            "[CV 1/5] END ada__base_estimator__max_depth=5, ada__learning_rate=1e-05, ada__n_estimators=25;, score=0.582 total time=  38.3s\n",
            "[CV 2/5] END ada__base_estimator__max_depth=5, ada__learning_rate=1e-05, ada__n_estimators=25;, score=0.577 total time=  38.6s\n",
            "[CV 3/5] END ada__base_estimator__max_depth=5, ada__learning_rate=1e-05, ada__n_estimators=25;, score=0.562 total time=  33.6s\n",
            "[CV 4/5] END ada__base_estimator__max_depth=5, ada__learning_rate=1e-05, ada__n_estimators=25;, score=0.568 total time=  33.8s\n",
            "[CV 5/5] END ada__base_estimator__max_depth=5, ada__learning_rate=1e-05, ada__n_estimators=25;, score=0.559 total time=  32.5s\n",
            "[CV 1/5] END ada__base_estimator__max_depth=3, ada__learning_rate=0.1, ada__n_estimators=100;, score=0.582 total time=  41.8s\n",
            "[CV 2/5] END ada__base_estimator__max_depth=3, ada__learning_rate=0.1, ada__n_estimators=100;, score=0.564 total time=  42.4s\n",
            "[CV 3/5] END ada__base_estimator__max_depth=3, ada__learning_rate=0.1, ada__n_estimators=100;, score=0.573 total time=  39.7s\n",
            "[CV 4/5] END ada__base_estimator__max_depth=3, ada__learning_rate=0.1, ada__n_estimators=100;, score=0.576 total time=  39.5s\n",
            "[CV 5/5] END ada__base_estimator__max_depth=3, ada__learning_rate=0.1, ada__n_estimators=100;, score=0.565 total time=  39.1s\n",
            "[CV 1/5] END ada__base_estimator__max_depth=3, ada__learning_rate=0.1, ada__n_estimators=50;, score=0.586 total time=  36.3s\n",
            "[CV 2/5] END ada__base_estimator__max_depth=3, ada__learning_rate=0.1, ada__n_estimators=50;, score=0.571 total time=  36.0s\n",
            "[CV 3/5] END ada__base_estimator__max_depth=3, ada__learning_rate=0.1, ada__n_estimators=50;, score=0.582 total time=  33.6s\n",
            "[CV 4/5] END ada__base_estimator__max_depth=3, ada__learning_rate=0.1, ada__n_estimators=50;, score=0.576 total time=  34.5s\n",
            "[CV 5/5] END ada__base_estimator__max_depth=3, ada__learning_rate=0.1, ada__n_estimators=50;, score=0.575 total time=  33.5s\n",
            "[CV 1/5] END ada__base_estimator__max_depth=3, ada__learning_rate=0.1, ada__n_estimators=25;, score=0.585 total time=  33.4s\n",
            "[CV 2/5] END ada__base_estimator__max_depth=3, ada__learning_rate=0.1, ada__n_estimators=25;, score=0.581 total time=  38.4s\n",
            "[CV 3/5] END ada__base_estimator__max_depth=3, ada__learning_rate=0.1, ada__n_estimators=25;, score=0.580 total time=  37.3s\n",
            "[CV 4/5] END ada__base_estimator__max_depth=3, ada__learning_rate=0.1, ada__n_estimators=25;, score=0.582 total time=  36.7s\n",
            "[CV 5/5] END ada__base_estimator__max_depth=3, ada__learning_rate=0.1, ada__n_estimators=25;, score=0.572 total time=  52.3s\n",
            "[CV 1/5] END ada__base_estimator__max_depth=3, ada__learning_rate=0.01, ada__n_estimators=100;, score=0.585 total time= 1.1min\n",
            "[CV 2/5] END ada__base_estimator__max_depth=3, ada__learning_rate=0.01, ada__n_estimators=100;, score=0.588 total time=  44.8s\n",
            "[CV 3/5] END ada__base_estimator__max_depth=3, ada__learning_rate=0.01, ada__n_estimators=100;, score=0.576 total time=  40.3s\n",
            "[CV 4/5] END ada__base_estimator__max_depth=3, ada__learning_rate=0.01, ada__n_estimators=100;, score=0.587 total time=  40.2s\n",
            "[CV 5/5] END ada__base_estimator__max_depth=3, ada__learning_rate=0.01, ada__n_estimators=100;, score=0.578 total time=  40.6s\n",
            "[CV 1/5] END ada__base_estimator__max_depth=3, ada__learning_rate=0.01, ada__n_estimators=50;, score=0.580 total time=  42.2s\n",
            "[CV 2/5] END ada__base_estimator__max_depth=3, ada__learning_rate=0.01, ada__n_estimators=50;, score=0.586 total time=  37.4s\n",
            "[CV 3/5] END ada__base_estimator__max_depth=3, ada__learning_rate=0.01, ada__n_estimators=50;, score=0.576 total time=  34.5s\n",
            "[CV 4/5] END ada__base_estimator__max_depth=3, ada__learning_rate=0.01, ada__n_estimators=50;, score=0.584 total time=  34.5s\n",
            "[CV 5/5] END ada__base_estimator__max_depth=3, ada__learning_rate=0.01, ada__n_estimators=50;, score=0.564 total time=  33.7s\n",
            "[CV 1/5] END ada__base_estimator__max_depth=3, ada__learning_rate=0.01, ada__n_estimators=25;, score=0.579 total time=  34.4s\n",
            "[CV 2/5] END ada__base_estimator__max_depth=3, ada__learning_rate=0.01, ada__n_estimators=25;, score=0.586 total time=  32.9s\n",
            "[CV 3/5] END ada__base_estimator__max_depth=3, ada__learning_rate=0.01, ada__n_estimators=25;, score=0.576 total time=  30.9s\n",
            "[CV 4/5] END ada__base_estimator__max_depth=3, ada__learning_rate=0.01, ada__n_estimators=25;, score=0.578 total time=  31.7s\n",
            "[CV 5/5] END ada__base_estimator__max_depth=3, ada__learning_rate=0.01, ada__n_estimators=25;, score=0.563 total time=  33.6s\n",
            "[CV 1/5] END ada__base_estimator__max_depth=3, ada__learning_rate=0.001, ada__n_estimators=100;, score=0.580 total time=  44.3s\n",
            "[CV 2/5] END ada__base_estimator__max_depth=3, ada__learning_rate=0.001, ada__n_estimators=100;, score=0.583 total time=  43.1s\n",
            "[CV 3/5] END ada__base_estimator__max_depth=3, ada__learning_rate=0.001, ada__n_estimators=100;, score=0.573 total time=  40.1s\n",
            "[CV 4/5] END ada__base_estimator__max_depth=3, ada__learning_rate=0.001, ada__n_estimators=100;, score=0.578 total time=  40.5s\n",
            "[CV 5/5] END ada__base_estimator__max_depth=3, ada__learning_rate=0.001, ada__n_estimators=100;, score=0.565 total time=  39.2s\n",
            "[CV 1/5] END ada__base_estimator__max_depth=3, ada__learning_rate=0.001, ada__n_estimators=50;, score=0.580 total time=  35.3s\n",
            "[CV 2/5] END ada__base_estimator__max_depth=3, ada__learning_rate=0.001, ada__n_estimators=50;, score=0.583 total time=  35.4s\n",
            "[CV 3/5] END ada__base_estimator__max_depth=3, ada__learning_rate=0.001, ada__n_estimators=50;, score=0.573 total time=  34.2s\n",
            "[CV 4/5] END ada__base_estimator__max_depth=3, ada__learning_rate=0.001, ada__n_estimators=50;, score=0.578 total time=  40.5s\n",
            "[CV 5/5] END ada__base_estimator__max_depth=3, ada__learning_rate=0.001, ada__n_estimators=50;, score=0.562 total time=  37.1s\n",
            "[CV 1/5] END ada__base_estimator__max_depth=3, ada__learning_rate=0.001, ada__n_estimators=25;, score=0.580 total time=  37.9s\n",
            "[CV 2/5] END ada__base_estimator__max_depth=3, ada__learning_rate=0.001, ada__n_estimators=25;, score=0.583 total time=  39.6s\n",
            "[CV 3/5] END ada__base_estimator__max_depth=3, ada__learning_rate=0.001, ada__n_estimators=25;, score=0.572 total time=  39.2s\n",
            "[CV 4/5] END ada__base_estimator__max_depth=3, ada__learning_rate=0.001, ada__n_estimators=25;, score=0.578 total time=  35.3s\n",
            "[CV 5/5] END ada__base_estimator__max_depth=3, ada__learning_rate=0.001, ada__n_estimators=25;, score=0.559 total time=  35.8s\n",
            "[CV 1/5] END ada__base_estimator__max_depth=3, ada__learning_rate=0.0001, ada__n_estimators=100;, score=0.580 total time=  49.6s\n",
            "[CV 2/5] END ada__base_estimator__max_depth=3, ada__learning_rate=0.0001, ada__n_estimators=100;, score=0.582 total time= 1.0min\n",
            "[CV 3/5] END ada__base_estimator__max_depth=3, ada__learning_rate=0.0001, ada__n_estimators=100;, score=0.572 total time=  46.3s\n",
            "[CV 4/5] END ada__base_estimator__max_depth=3, ada__learning_rate=0.0001, ada__n_estimators=100;, score=0.580 total time=  51.8s\n",
            "[CV 5/5] END ada__base_estimator__max_depth=3, ada__learning_rate=0.0001, ada__n_estimators=100;, score=0.559 total time=  47.4s\n",
            "[CV 1/5] END ada__base_estimator__max_depth=3, ada__learning_rate=0.0001, ada__n_estimators=50;, score=0.580 total time=  54.5s\n",
            "[CV 2/5] END ada__base_estimator__max_depth=3, ada__learning_rate=0.0001, ada__n_estimators=50;, score=0.582 total time=  41.2s\n",
            "[CV 3/5] END ada__base_estimator__max_depth=3, ada__learning_rate=0.0001, ada__n_estimators=50;, score=0.572 total time=  38.1s\n",
            "[CV 4/5] END ada__base_estimator__max_depth=3, ada__learning_rate=0.0001, ada__n_estimators=50;, score=0.579 total time=  40.2s\n",
            "[CV 5/5] END ada__base_estimator__max_depth=3, ada__learning_rate=0.0001, ada__n_estimators=50;, score=0.559 total time=  48.7s\n",
            "[CV 1/5] END ada__base_estimator__max_depth=3, ada__learning_rate=0.0001, ada__n_estimators=25;, score=0.580 total time= 1.2min\n",
            "[CV 2/5] END ada__base_estimator__max_depth=3, ada__learning_rate=0.0001, ada__n_estimators=25;, score=0.582 total time= 1.2min\n",
            "[CV 3/5] END ada__base_estimator__max_depth=3, ada__learning_rate=0.0001, ada__n_estimators=25;, score=0.572 total time=  43.5s\n",
            "[CV 4/5] END ada__base_estimator__max_depth=3, ada__learning_rate=0.0001, ada__n_estimators=25;, score=0.579 total time=  54.3s\n",
            "[CV 5/5] END ada__base_estimator__max_depth=3, ada__learning_rate=0.0001, ada__n_estimators=25;, score=0.559 total time=  47.3s\n",
            "[CV 1/5] END ada__base_estimator__max_depth=3, ada__learning_rate=1e-05, ada__n_estimators=100;, score=0.578 total time= 1.3min\n",
            "[CV 2/5] END ada__base_estimator__max_depth=3, ada__learning_rate=1e-05, ada__n_estimators=100;, score=0.582 total time= 1.4min\n",
            "[CV 3/5] END ada__base_estimator__max_depth=3, ada__learning_rate=1e-05, ada__n_estimators=100;, score=0.572 total time= 1.1min\n",
            "[CV 4/5] END ada__base_estimator__max_depth=3, ada__learning_rate=1e-05, ada__n_estimators=100;, score=0.579 total time= 1.1min\n",
            "[CV 5/5] END ada__base_estimator__max_depth=3, ada__learning_rate=1e-05, ada__n_estimators=100;, score=0.559 total time=  58.5s\n",
            "[CV 1/5] END ada__base_estimator__max_depth=3, ada__learning_rate=1e-05, ada__n_estimators=50;, score=0.578 total time= 1.2min\n",
            "[CV 2/5] END ada__base_estimator__max_depth=3, ada__learning_rate=1e-05, ada__n_estimators=50;, score=0.582 total time= 1.3min\n",
            "[CV 3/5] END ada__base_estimator__max_depth=3, ada__learning_rate=1e-05, ada__n_estimators=50;, score=0.572 total time= 1.0min\n",
            "[CV 4/5] END ada__base_estimator__max_depth=3, ada__learning_rate=1e-05, ada__n_estimators=50;, score=0.579 total time=  59.1s\n",
            "[CV 5/5] END ada__base_estimator__max_depth=3, ada__learning_rate=1e-05, ada__n_estimators=50;, score=0.559 total time=  44.6s\n",
            "[CV 1/5] END ada__base_estimator__max_depth=3, ada__learning_rate=1e-05, ada__n_estimators=25;, score=0.578 total time= 1.1min\n",
            "[CV 2/5] END ada__base_estimator__max_depth=3, ada__learning_rate=1e-05, ada__n_estimators=25;, score=0.582 total time= 1.2min\n",
            "[CV 3/5] END ada__base_estimator__max_depth=3, ada__learning_rate=1e-05, ada__n_estimators=25;, score=0.572 total time=  42.5s\n",
            "[CV 4/5] END ada__base_estimator__max_depth=3, ada__learning_rate=1e-05, ada__n_estimators=25;, score=0.579 total time=  43.2s\n",
            "[CV 5/5] END ada__base_estimator__max_depth=3, ada__learning_rate=1e-05, ada__n_estimators=25;, score=0.559 total time=  41.5s\n",
            "[CV 1/5] END ada__base_estimator__max_depth=1, ada__learning_rate=0.1, ada__n_estimators=100;, score=0.586 total time=  46.6s\n",
            "[CV 2/5] END ada__base_estimator__max_depth=1, ada__learning_rate=0.1, ada__n_estimators=100;, score=0.582 total time=  37.2s\n",
            "[CV 3/5] END ada__base_estimator__max_depth=1, ada__learning_rate=0.1, ada__n_estimators=100;, score=0.582 total time=  34.3s\n",
            "[CV 4/5] END ada__base_estimator__max_depth=1, ada__learning_rate=0.1, ada__n_estimators=100;, score=0.588 total time=  36.7s\n",
            "[CV 5/5] END ada__base_estimator__max_depth=1, ada__learning_rate=0.1, ada__n_estimators=100;, score=0.575 total time=  57.2s\n",
            "[CV 1/5] END ada__base_estimator__max_depth=1, ada__learning_rate=0.1, ada__n_estimators=50;, score=0.586 total time= 1.3min\n",
            "[CV 2/5] END ada__base_estimator__max_depth=1, ada__learning_rate=0.1, ada__n_estimators=50;, score=0.584 total time=  46.4s\n",
            "[CV 3/5] END ada__base_estimator__max_depth=1, ada__learning_rate=0.1, ada__n_estimators=50;, score=0.582 total time=  31.1s\n",
            "[CV 4/5] END ada__base_estimator__max_depth=1, ada__learning_rate=0.1, ada__n_estimators=50;, score=0.590 total time=  39.1s\n",
            "[CV 5/5] END ada__base_estimator__max_depth=1, ada__learning_rate=0.1, ada__n_estimators=50;, score=0.577 total time=  31.8s\n",
            "[CV 1/5] END ada__base_estimator__max_depth=1, ada__learning_rate=0.1, ada__n_estimators=25;, score=0.586 total time=  33.8s\n",
            "[CV 2/5] END ada__base_estimator__max_depth=1, ada__learning_rate=0.1, ada__n_estimators=25;, score=0.585 total time=  30.9s\n",
            "[CV 3/5] END ada__base_estimator__max_depth=1, ada__learning_rate=0.1, ada__n_estimators=25;, score=0.584 total time=  30.0s\n",
            "[CV 4/5] END ada__base_estimator__max_depth=1, ada__learning_rate=0.1, ada__n_estimators=25;, score=0.589 total time=  31.8s\n",
            "[CV 5/5] END ada__base_estimator__max_depth=1, ada__learning_rate=0.1, ada__n_estimators=25;, score=0.576 total time=  30.4s\n",
            "[CV 1/5] END ada__base_estimator__max_depth=1, ada__learning_rate=0.01, ada__n_estimators=100;, score=0.585 total time=  34.4s\n",
            "[CV 2/5] END ada__base_estimator__max_depth=1, ada__learning_rate=0.01, ada__n_estimators=100;, score=0.583 total time=  35.7s\n",
            "[CV 3/5] END ada__base_estimator__max_depth=1, ada__learning_rate=0.01, ada__n_estimators=100;, score=0.579 total time=  40.9s\n",
            "[CV 4/5] END ada__base_estimator__max_depth=1, ada__learning_rate=0.01, ada__n_estimators=100;, score=0.585 total time=  41.6s\n",
            "[CV 5/5] END ada__base_estimator__max_depth=1, ada__learning_rate=0.01, ada__n_estimators=100;, score=0.574 total time=  32.8s\n",
            "[CV 1/5] END ada__base_estimator__max_depth=1, ada__learning_rate=0.01, ada__n_estimators=50;, score=0.573 total time=  32.0s\n",
            "[CV 2/5] END ada__base_estimator__max_depth=1, ada__learning_rate=0.01, ada__n_estimators=50;, score=0.570 total time=  32.0s\n",
            "[CV 3/5] END ada__base_estimator__max_depth=1, ada__learning_rate=0.01, ada__n_estimators=50;, score=0.579 total time=  29.9s\n",
            "[CV 4/5] END ada__base_estimator__max_depth=1, ada__learning_rate=0.01, ada__n_estimators=50;, score=0.574 total time=  30.2s\n",
            "[CV 5/5] END ada__base_estimator__max_depth=1, ada__learning_rate=0.01, ada__n_estimators=50;, score=0.575 total time=  29.2s\n",
            "[CV 1/5] END ada__base_estimator__max_depth=1, ada__learning_rate=0.01, ada__n_estimators=25;, score=0.574 total time=  31.8s\n",
            "[CV 2/5] END ada__base_estimator__max_depth=1, ada__learning_rate=0.01, ada__n_estimators=25;, score=0.568 total time=  30.7s\n",
            "[CV 3/5] END ada__base_estimator__max_depth=1, ada__learning_rate=0.01, ada__n_estimators=25;, score=0.566 total time=  29.1s\n",
            "[CV 4/5] END ada__base_estimator__max_depth=1, ada__learning_rate=0.01, ada__n_estimators=25;, score=0.574 total time=  28.3s\n",
            "[CV 5/5] END ada__base_estimator__max_depth=1, ada__learning_rate=0.01, ada__n_estimators=25;, score=0.548 total time=  27.8s\n",
            "[CV 1/5] END ada__base_estimator__max_depth=1, ada__learning_rate=0.001, ada__n_estimators=100;, score=0.556 total time=  33.3s\n",
            "[CV 2/5] END ada__base_estimator__max_depth=1, ada__learning_rate=0.001, ada__n_estimators=100;, score=0.568 total time=  33.2s\n",
            "[CV 3/5] END ada__base_estimator__max_depth=1, ada__learning_rate=0.001, ada__n_estimators=100;, score=0.555 total time=  30.9s\n",
            "[CV 4/5] END ada__base_estimator__max_depth=1, ada__learning_rate=0.001, ada__n_estimators=100;, score=0.574 total time=  31.1s\n",
            "[CV 5/5] END ada__base_estimator__max_depth=1, ada__learning_rate=0.001, ada__n_estimators=100;, score=0.548 total time=  31.0s\n",
            "[CV 1/5] END ada__base_estimator__max_depth=1, ada__learning_rate=0.001, ada__n_estimators=50;, score=0.556 total time=  31.5s\n",
            "[CV 2/5] END ada__base_estimator__max_depth=1, ada__learning_rate=0.001, ada__n_estimators=50;, score=0.568 total time=  31.1s\n",
            "[CV 3/5] END ada__base_estimator__max_depth=1, ada__learning_rate=0.001, ada__n_estimators=50;, score=0.555 total time=  28.9s\n",
            "[CV 4/5] END ada__base_estimator__max_depth=1, ada__learning_rate=0.001, ada__n_estimators=50;, score=0.574 total time=  29.0s\n",
            "[CV 5/5] END ada__base_estimator__max_depth=1, ada__learning_rate=0.001, ada__n_estimators=50;, score=0.548 total time=  28.8s\n",
            "[CV 1/5] END ada__base_estimator__max_depth=1, ada__learning_rate=0.001, ada__n_estimators=25;, score=0.556 total time=  29.9s\n",
            "[CV 2/5] END ada__base_estimator__max_depth=1, ada__learning_rate=0.001, ada__n_estimators=25;, score=0.558 total time=  30.0s\n",
            "[CV 3/5] END ada__base_estimator__max_depth=1, ada__learning_rate=0.001, ada__n_estimators=25;, score=0.555 total time=  27.9s\n",
            "[CV 4/5] END ada__base_estimator__max_depth=1, ada__learning_rate=0.001, ada__n_estimators=25;, score=0.557 total time=  27.9s\n",
            "[CV 5/5] END ada__base_estimator__max_depth=1, ada__learning_rate=0.001, ada__n_estimators=25;, score=0.548 total time=  27.3s\n",
            "[CV 1/5] END ada__base_estimator__max_depth=1, ada__learning_rate=0.0001, ada__n_estimators=100;, score=0.556 total time=  33.6s\n",
            "[CV 2/5] END ada__base_estimator__max_depth=1, ada__learning_rate=0.0001, ada__n_estimators=100;, score=0.558 total time=  33.7s\n",
            "[CV 3/5] END ada__base_estimator__max_depth=1, ada__learning_rate=0.0001, ada__n_estimators=100;, score=0.555 total time=  31.2s\n",
            "[CV 4/5] END ada__base_estimator__max_depth=1, ada__learning_rate=0.0001, ada__n_estimators=100;, score=0.557 total time=  30.8s\n",
            "[CV 5/5] END ada__base_estimator__max_depth=1, ada__learning_rate=0.0001, ada__n_estimators=100;, score=0.548 total time=  30.6s\n",
            "[CV 1/5] END ada__base_estimator__max_depth=1, ada__learning_rate=0.0001, ada__n_estimators=50;, score=0.556 total time=  31.5s\n",
            "[CV 2/5] END ada__base_estimator__max_depth=1, ada__learning_rate=0.0001, ada__n_estimators=50;, score=0.558 total time=  30.9s\n",
            "[CV 3/5] END ada__base_estimator__max_depth=1, ada__learning_rate=0.0001, ada__n_estimators=50;, score=0.555 total time=  28.7s\n",
            "[CV 4/5] END ada__base_estimator__max_depth=1, ada__learning_rate=0.0001, ada__n_estimators=50;, score=0.557 total time=  28.7s\n",
            "[CV 5/5] END ada__base_estimator__max_depth=1, ada__learning_rate=0.0001, ada__n_estimators=50;, score=0.548 total time=  28.5s\n",
            "[CV 1/5] END ada__base_estimator__max_depth=1, ada__learning_rate=0.0001, ada__n_estimators=25;, score=0.556 total time=  30.1s\n",
            "[CV 2/5] END ada__base_estimator__max_depth=1, ada__learning_rate=0.0001, ada__n_estimators=25;, score=0.558 total time=  29.7s\n",
            "[CV 3/5] END ada__base_estimator__max_depth=1, ada__learning_rate=0.0001, ada__n_estimators=25;, score=0.555 total time=  27.6s\n",
            "[CV 4/5] END ada__base_estimator__max_depth=1, ada__learning_rate=0.0001, ada__n_estimators=25;, score=0.557 total time=  27.7s\n",
            "[CV 5/5] END ada__base_estimator__max_depth=1, ada__learning_rate=0.0001, ada__n_estimators=25;, score=0.548 total time=  27.6s\n",
            "[CV 1/5] END ada__base_estimator__max_depth=1, ada__learning_rate=1e-05, ada__n_estimators=100;, score=0.556 total time=  32.9s\n",
            "[CV 2/5] END ada__base_estimator__max_depth=1, ada__learning_rate=1e-05, ada__n_estimators=100;, score=0.558 total time=  33.0s\n",
            "[CV 3/5] END ada__base_estimator__max_depth=1, ada__learning_rate=1e-05, ada__n_estimators=100;, score=0.555 total time=  30.7s\n",
            "[CV 4/5] END ada__base_estimator__max_depth=1, ada__learning_rate=1e-05, ada__n_estimators=100;, score=0.557 total time=  30.7s\n",
            "[CV 5/5] END ada__base_estimator__max_depth=1, ada__learning_rate=1e-05, ada__n_estimators=100;, score=0.548 total time=  30.4s\n",
            "[CV 1/5] END ada__base_estimator__max_depth=1, ada__learning_rate=1e-05, ada__n_estimators=50;, score=0.556 total time=  31.0s\n",
            "[CV 2/5] END ada__base_estimator__max_depth=1, ada__learning_rate=1e-05, ada__n_estimators=50;, score=0.558 total time=  31.1s\n",
            "[CV 3/5] END ada__base_estimator__max_depth=1, ada__learning_rate=1e-05, ada__n_estimators=50;, score=0.555 total time=  29.1s\n",
            "[CV 4/5] END ada__base_estimator__max_depth=1, ada__learning_rate=1e-05, ada__n_estimators=50;, score=0.557 total time=  29.4s\n",
            "[CV 5/5] END ada__base_estimator__max_depth=1, ada__learning_rate=1e-05, ada__n_estimators=50;, score=0.548 total time=  30.7s\n",
            "[CV 1/5] END ada__base_estimator__max_depth=1, ada__learning_rate=1e-05, ada__n_estimators=25;, score=0.556 total time=  34.0s\n",
            "[CV 2/5] END ada__base_estimator__max_depth=1, ada__learning_rate=1e-05, ada__n_estimators=25;, score=0.558 total time=  34.4s\n",
            "[CV 3/5] END ada__base_estimator__max_depth=1, ada__learning_rate=1e-05, ada__n_estimators=25;, score=0.555 total time=  29.8s\n",
            "[CV 4/5] END ada__base_estimator__max_depth=1, ada__learning_rate=1e-05, ada__n_estimators=25;, score=0.557 total time=  30.4s\n",
            "[CV 5/5] END ada__base_estimator__max_depth=1, ada__learning_rate=1e-05, ada__n_estimators=25;, score=0.548 total time=  28.9s\n",
            "Best score:  0.5838334418799214\n",
            "Best params:  {'ada__base_estimator__max_depth': 1, 'ada__learning_rate': 0.1, 'ada__n_estimators': 25}\n"
          ]
        }
      ]
    },
    {
      "cell_type": "code",
      "source": [
        "param_grid = {\n",
        "    'ada__learning_rate': [0.4, 0.3, 0.2, 0.1, 0.05],\n",
        "    'ada__n_estimators': [40, 30, 20, 10],\n",
        "    'ada__base_estimator__max_depth': [3, 2, 1]\n",
        "}\n",
        "\n",
        "grid = GridSearchCV(pipe, param_grid, cv=5,\n",
        "                    scoring='roc_auc',\n",
        "                    verbose=3)\n",
        "\n",
        "grid.fit(X_train_dummies, y_train)\n",
        "\n",
        "print('Best score: ', grid.best_score_)\n",
        "print('Best params: ', grid.best_params_)"
      ],
      "metadata": {
        "id": "01RyxnNBDFCO",
        "outputId": "2e980ac4-68ee-4d16-f973-207246b84490",
        "colab": {
          "base_uri": "https://localhost:8080/"
        }
      },
      "execution_count": null,
      "outputs": [
        {
          "output_type": "stream",
          "name": "stdout",
          "text": [
            "Fitting 5 folds for each of 60 candidates, totalling 300 fits\n"
          ]
        }
      ]
    },
    {
      "cell_type": "markdown",
      "source": [
        "# Baseline ExtraTrees model"
      ],
      "metadata": {
        "id": "tL0LijFsSXpg"
      }
    },
    {
      "cell_type": "code",
      "source": [
        "et_baseline = ExtraTreesClassifier(random_state=0)\n",
        "et_baseline.fit(X_train, y_train)\n",
        "\n",
        "print(\"Train set AUC: {}\".format(roc_auc_score(y_train, et_baseline.predict(X_train))))\n",
        "print(\"Test set AUC: {}\".format(roc_auc_score(y_test,  et_baseline.predict(X_test))))"
      ],
      "metadata": {
        "colab": {
          "base_uri": "https://localhost:8080/"
        },
        "id": "xSVgLIxUSKdG",
        "outputId": "d40fa5f1-1949-41e7-ca79-f14f960fe123"
      },
      "execution_count": null,
      "outputs": [
        {
          "output_type": "stream",
          "name": "stdout",
          "text": [
            "Train set AUC: 1.0\n",
            "Test set AUC: 0.499917259942021\n"
          ]
        }
      ]
    },
    {
      "cell_type": "markdown",
      "source": [
        "# Tuning ExtraTrees parameters values"
      ],
      "metadata": {
        "id": "4VcFGbp8TJhO"
      }
    },
    {
      "cell_type": "code",
      "source": [
        "### DELETE THIS CELL ###\n",
        "param_grid = {'n_estimators': [100, 250],\n",
        "              'max_features': [3, 4, 5, 6, 20],\n",
        "              'max_depth': [None, 20, 10, 5],\n",
        "              'min_samples_leaf': [1, 10, 25, 50],\n",
        "              'min_impurity_decrease': [0, 0.05]}"
      ],
      "metadata": {
        "id": "CaRl0XjaVvl_"
      },
      "execution_count": null,
      "outputs": []
    },
    {
      "cell_type": "code",
      "source": [
        "pipe = Pipeline([\n",
        "    ('transformer', ColumnTransformer([\n",
        "        ('scaler', StandardScaler(), [*range(0, 19)])],\n",
        "         remainder='passthrough')),\n",
        "    ('imputer', KNNImputer()),\n",
        "    ('et', ExtraTreesClassifier(random_state=42))\n",
        "])"
      ],
      "metadata": {
        "id": "_XnLpDU8S3ht"
      },
      "execution_count": null,
      "outputs": []
    },
    {
      "cell_type": "code",
      "source": [
        "distr = {\n",
        "    'et__n_estimators': uniform(10, 990),\n",
        "    'et__max_features': uniform(1, 50),\n",
        "    'et__max_depth': uniform(1, 20),\n",
        "    'et__min_samples_leaf': uniform(1, 50),\n",
        "    'et__min_impurity_decrease': uniform(0, 0.1)\n",
        "}\n",
        "\n",
        "clf = RandomizedSearchCV(pipe, distr, n_iter=10, cv=5, scoring='roc_auc',\n",
        "                         random_state=42, n_jobs=-1, verbose=5)\n",
        "\n",
        "clf.fit(X_train_dummies, y_train)\n",
        "\n",
        "print('Best score: ', grid.best_score_)\n",
        "print('Best params: ', grid.best_params_)"
      ],
      "metadata": {
        "id": "fJBHBIU5Toy9"
      },
      "execution_count": null,
      "outputs": []
    },
    {
      "cell_type": "code",
      "source": [
        ""
      ],
      "metadata": {
        "id": "SZHwHfOcWrNQ"
      },
      "execution_count": null,
      "outputs": []
    }
  ],
  "metadata": {
    "colab": {
      "name": "trees.ipynb",
      "provenance": [],
      "toc_visible": true,
      "include_colab_link": true
    },
    "kernelspec": {
      "display_name": "Python 3.8.3 32-bit",
      "language": "python",
      "name": "python3"
    },
    "language_info": {
      "codemirror_mode": {
        "name": "ipython",
        "version": 3
      },
      "file_extension": ".py",
      "mimetype": "text/x-python",
      "name": "python",
      "nbconvert_exporter": "python",
      "pygments_lexer": "ipython3",
      "version": "3.8.3"
    },
    "vscode": {
      "interpreter": {
        "hash": "aee1bbb8a50b50cf17e2b9d98b826b966687056a0cd72bc929ea6f6dbf298303"
      }
    }
  },
  "nbformat": 4,
  "nbformat_minor": 0
}